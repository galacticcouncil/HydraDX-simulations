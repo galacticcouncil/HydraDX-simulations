{
 "cells": [
  {
   "cell_type": "code",
   "id": "initial_id",
   "metadata": {
    "collapsed": true,
    "ExecuteTime": {
     "end_time": "2025-01-16T21:12:10.039524Z",
     "start_time": "2025-01-16T21:12:10.035297Z"
    }
   },
   "source": [
    "import sys\n",
    "sys.path.append('../..')\n",
    "\n",
    "from model.amm.stableswap_amm import StableSwapPoolState\n",
    "from model.amm.agents import Agent\n",
    "import matplotlib.pyplot as plt\n"
   ],
   "outputs": [],
   "execution_count": 204
  },
  {
   "metadata": {
    "ExecuteTime": {
     "end_time": "2025-01-16T21:12:10.086291Z",
     "start_time": "2025-01-16T21:12:10.082490Z"
    }
   },
   "cell_type": "code",
   "source": [
    "# oct 13 price was 1.13\n",
    "# jan 13 price was 1.42\n",
    "# 92 days\n",
    "init_vDOT_price = 1.13\n",
    "final_price = 1.42\n",
    "# final_price = 2.0\n",
    "days = 92\n",
    "repegs_per_day = 24\n",
    "t = days * repegs_per_day\n",
    "fee = 0.0001\n",
    "amp = 10000\n",
    "\n",
    "step_size = (final_price - init_vDOT_price) / t\n",
    "pegs = [init_vDOT_price + i * step_size for i in range(t+1)]"
   ],
   "id": "4b6fc78e59431be4",
   "outputs": [],
   "execution_count": 205
  },
  {
   "metadata": {
    "ExecuteTime": {
     "end_time": "2025-01-16T21:12:10.132760Z",
     "start_time": "2025-01-16T21:12:10.129778Z"
    }
   },
   "cell_type": "code",
   "source": [
    "arb_size = 1\n",
    "agent = Agent(holdings={'DOT': arb_size})  # value of vDOT is going up so agent will buy vDOT before repeg, sell vDOT after repeg"
   ],
   "id": "85872f3472f9cbdd",
   "outputs": [],
   "execution_count": 206
  },
  {
   "metadata": {
    "ExecuteTime": {
     "end_time": "2025-01-16T21:12:10.230371Z",
     "start_time": "2025-01-16T21:12:10.179011Z"
    }
   },
   "cell_type": "code",
   "source": [
    "tokens = {'DOT': init_vDOT_price * 1000000, 'vDOT': 1000000}\n",
    "pool = StableSwapPoolState(tokens, amp, trade_fee=fee, peg=init_vDOT_price)\n",
    "spot_prices = [pool.spot_price(1)]\n",
    "for i in range(t):\n",
    "    pool.swap(agent, 'DOT', 'vDOT', sell_quantity=arb_size)\n",
    "    pool.set_peg(pegs[i+1])\n",
    "    pool.swap(agent, 'vDOT', 'DOT', sell_quantity=agent.holdings['vDOT'])\n",
    "    spot_prices.append(pool.spot_price(1))\n",
    "\n",
    "print(agent.holdings)\n"
   ],
   "id": "dfa440025f29dabc",
   "outputs": [
    {
     "name": "stdout",
     "output_type": "stream",
     "text": [
      "{'DOT': 0.9999162057203707, 'vDOT': 0.0}\n"
     ]
    }
   ],
   "execution_count": 207
  }
 ],
 "metadata": {
  "kernelspec": {
   "display_name": "Python 3",
   "language": "python",
   "name": "python3"
  },
  "language_info": {
   "codemirror_mode": {
    "name": "ipython",
    "version": 2
   },
   "file_extension": ".py",
   "mimetype": "text/x-python",
   "name": "python",
   "nbconvert_exporter": "python",
   "pygments_lexer": "ipython2",
   "version": "2.7.6"
  }
 },
 "nbformat": 4,
 "nbformat_minor": 5
}
