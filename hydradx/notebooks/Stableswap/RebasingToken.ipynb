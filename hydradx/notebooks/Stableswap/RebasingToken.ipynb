{
 "cells": [
  {
   "cell_type": "code",
   "execution_count": 1,
   "id": "905a9383-c5e9-4405-b840-bb1a9d0671e0",
   "metadata": {},
   "outputs": [],
   "source": [
    "from matplotlib import pyplot as plt\n",
    "from datetime import datetime\n",
    "import math\n",
    "import sys\n",
    "from pprint import pprint\n",
    "from datetime import datetime\n",
    "\n",
    "sys.path.append('../..')"
   ]
  },
  {
   "cell_type": "code",
   "execution_count": 29,
   "id": "c98a3bf2-45c0-4a56-9507-59cc80dd3367",
   "metadata": {},
   "outputs": [
    {
     "name": "stdout",
     "output_type": "stream",
     "text": [
      "Generated default config [{'exchanges': {'stableswap': ('S1', 'S2'), 'binance': ('S1', 'S2')}, 'buffer': 0.001}]\n"
     ]
    }
   ],
   "source": [
    "# from model.amm.omnipool_amm import OmnipoolState, DynamicFee\n",
    "from model.amm.agents import Agent\n",
    "from model.amm.trade_strategies import general_arbitrage, invest_all\n",
    "from model.amm.global_state import GlobalState\n",
    "from model.amm.stableswap_amm import StableSwapPoolState\n",
    "from model.amm.exchange import Exchange\n",
    "from model import run\n",
    "import model.plot_utils as pu\n",
    "\n",
    "class CEXDummy(Exchange):\n",
    "    def __init__(self, tokens: dict[str: float], unique_id='dummy exchange'):\n",
    "        self.prices = tokens\n",
    "        self.liquidity = {tkn: 0 for tkn in tokens}\n",
    "        self.asset_list = list(tokens.keys())\n",
    "        self.unique_id = unique_id\n",
    "    \n",
    "    def price(self, tkn):\n",
    "        return self.prices[tkn]\n",
    "    \n",
    "    def buy_spot(self, tkn_buy, tkn_sell, fee=0):\n",
    "        return self.price(tkn_buy) / self.price(tkn_sell)\n",
    "    \n",
    "    def sell_spot(self, tkn_sell, tkn_buy, fee=0):\n",
    "        return self.price(tkn_sell) / self.price(tkn_buy)\n",
    "    \n",
    "    def swap(\n",
    "        self,\n",
    "        agent: Agent, \n",
    "        tkn_buy: str, \n",
    "        tkn_sell: str,\n",
    "        buy_quantity: float=0,\n",
    "        sell_quantity: float=0\n",
    "    ):\n",
    "        if buy_quantity:\n",
    "            sell_quantity = self.calculate_sell_from_buy(tkn_buy, tkn_sell, buy_quantity)\n",
    "        elif sell_quantity:\n",
    "            buy_quantity = self.calculate_buy_from_sell(tkn_buy, tkn_sell, sell_quantity)\n",
    "            \n",
    "        if tkn_buy not in agent.holdings:\n",
    "            agent.holdings[tkn_buy] = 0\n",
    "            \n",
    "        agent.holdings[tkn_sell] -= sell_quantity\n",
    "        agent.holdings[tkn_buy] += buy_quantity\n",
    "        self.liquidity[tkn_sell] += sell_quantity\n",
    "        self.liquidity[tkn_buy] -= buy_quantity\n",
    "        \n",
    "    def calculate_buy_from_sell(self, tkn_buy, tkn_sell, sell_quantity):\n",
    "        return sell_quantity * self.price(tkn_sell) / self.price(tkn_buy)\n",
    "    \n",
    "    def calculate_sell_from_buy(self, tkn_sell, tkn_buy, buy_quantity):\n",
    "        buy_quantity * self.price(tkn_buy) / self.price(tkn_sell)\n",
    "\n",
    "rebase_amount = 1000        \n",
    "def rebase(tkn: str):\n",
    "    def evolve(state: GlobalState):\n",
    "        tkn_holders = {\n",
    "            pool: pool.liquidity[tkn]\n",
    "            for pool in state.pools.values()\n",
    "        }\n",
    "        tkn_holders.update({\n",
    "            agent: agent.holdings[tkn]\n",
    "            for agent in state.agents.values()\n",
    "        })\n",
    "        total_supply = sum(tkn_holders.values())\n",
    "        awards = 0\n",
    "        for holder in tkn_holders:\n",
    "            if isinstance(holder, Agent):\n",
    "                awards += rebase_amount * holder.holdings[tkn] / total_supply\n",
    "                holder.holdings[tkn] += rebase_amount * holder.holdings[tkn] / total_supply\n",
    "            elif isinstance(holder, Exchange):\n",
    "                awards += rebase_amount * holder.liquidity[tkn] / total_supply\n",
    "                holder.liquidity[tkn] += rebase_amount * holder.liquidity[tkn] / total_supply\n",
    "        if (state.time_step % 100 == 0):\n",
    "            print(total_supply)\n",
    "            print(awards)\n",
    "        return state\n",
    "    return evolve\n",
    "\n",
    "binance = CEXDummy({'S1': 1, 'S2': 1}, 'binance')\n",
    "stableswap = StableSwapPoolState(\n",
    "    tokens={'S1': 1000000, 'S2': 1000000},\n",
    "    amplification=100,\n",
    "    trade_fee=0.001,\n",
    "    unique_id='stableswap'\n",
    ")\n",
    "LP = Agent(\n",
    "    holdings={'S1': rebase_amount},\n",
    "    trade_strategy=invest_all('stableswap'),\n",
    "    unique_id='LP'\n",
    ")\n",
    "non_LP = Agent(\n",
    "    holdings={'S1': rebase_amount},\n",
    "    trade_strategy=None,\n",
    "    unique_id='non_LP'\n",
    ")\n",
    "arbitrageur = Agent(\n",
    "    holdings={'S1': 1000000, 'S2': 1000000},\n",
    "    trade_strategy=general_arbitrage([stableswap, binance])\n",
    ")\n",
    "initial_state = GlobalState(\n",
    "    pools={'stableswap': stableswap, 'binance': binance},\n",
    "    agents={'LP': LP, 'non_LP': non_LP, 'arbitrageur': arbitrageur},\n",
    "    external_market={'S1': 1, 'S2': 1},\n",
    "    evolve_function=rebase('S1')\n",
    ")"
   ]
  },
  {
   "cell_type": "code",
   "execution_count": 30,
   "id": "f494e56a-6379-446f-b570-07e80791b65c",
   "metadata": {},
   "outputs": [
    {
     "name": "stdout",
     "output_type": "stream",
     "text": [
      "Starting simulation...\n",
      "2101000.000000004\n",
      "1000.0\n",
      "2200999.999999997\n",
      "1000.0\n",
      "2300999.9999999898\n",
      "1000.0\n",
      "2400999.9999999823\n",
      "1000.0000000000001\n",
      "2500999.999999976\n",
      "1000.0\n",
      "2600999.9999999683\n",
      "1000.0\n",
      "2700999.999999961\n",
      "1000.0\n",
      "2800999.999999954\n",
      "1000.0\n",
      "2900999.999999947\n",
      "1000.0\n",
      "3000999.9999999395\n",
      "1000.0\n",
      "Execution time: 1.033 seconds.\n"
     ]
    }
   ],
   "source": [
    "events = run.run(initial_state, time_steps=1000)"
   ]
  },
  {
   "cell_type": "code",
   "execution_count": 31,
   "id": "fbb48ae7-cc78-4709-90ca-a7921c37fa5d",
   "metadata": {},
   "outputs": [
    {
     "data": {
      "image/png": "[encoded data removed]",
      "text/plain": [
       "<Figure size 1440x360 with 2 Axes>"
      ]
     },
     "metadata": {
      "needs_background": "light"
     },
     "output_type": "display_data"
    },
    {
     "data": {
      "image/png": "[encoded data removed]",
      "text/plain": [
       "<Figure size 1440x360 with 2 Axes>"
      ]
     },
     "metadata": {
      "needs_background": "light"
     },
     "output_type": "display_data"
    }
   ],
   "source": [
    "pu.plot(events, pool='stableswap', prop='liquidity')\n",
    "pu.plot(events, agent='arbitrageur', prop='holdings', key=['S1', 'S2'])"
   ]
  },
  {
   "cell_type": "code",
   "execution_count": 32,
   "id": "1113f935-a9a3-4382-992b-fff4c9010c22",
   "metadata": {},
   "outputs": [
    {
     "ename": "AttributeError",
     "evalue": "'StableSwapPoolState' object has no attribute 'cash_out'",
     "output_type": "error",
     "traceback": [
      "\u001b[1;31m---------------------------------------------------------------------------\u001b[0m",
      "\u001b[1;31mAttributeError\u001b[0m                            Traceback (most recent call last)",
      "Input \u001b[1;32mIn [32]\u001b[0m, in \u001b[0;36m<cell line: 1>\u001b[1;34m()\u001b[0m\n\u001b[1;32m----> 1\u001b[0m impermanent_loss \u001b[38;5;241m=\u001b[39m [\n\u001b[0;32m      2\u001b[0m     (\u001b[38;5;241m1\u001b[39m \u001b[38;5;241m-\u001b[39m event\u001b[38;5;241m.\u001b[39mpools[\u001b[38;5;124m'\u001b[39m\u001b[38;5;124mstableswap\u001b[39m\u001b[38;5;124m'\u001b[39m]\u001b[38;5;241m.\u001b[39mcash_out(event\u001b[38;5;241m.\u001b[39magents[\u001b[38;5;124m'\u001b[39m\u001b[38;5;124mLP\u001b[39m\u001b[38;5;124m'\u001b[39m], event\u001b[38;5;241m.\u001b[39mexternal_market)\n\u001b[0;32m      3\u001b[0m     \u001b[38;5;241m/\u001b[39m \u001b[38;5;28msum\u001b[39m(event\u001b[38;5;241m.\u001b[39magents[\u001b[38;5;124m'\u001b[39m\u001b[38;5;124mnon LP\u001b[39m\u001b[38;5;124m'\u001b[39m]\u001b[38;5;241m.\u001b[39mholdings\u001b[38;5;241m.\u001b[39mvalues())) \u001b[38;5;241m*\u001b[39m \u001b[38;5;241m100\u001b[39m\n\u001b[0;32m      4\u001b[0m     \u001b[38;5;28;01mfor\u001b[39;00m event \u001b[38;5;129;01min\u001b[39;00m events\n\u001b[0;32m      5\u001b[0m ]\n\u001b[0;32m      6\u001b[0m total_supply \u001b[38;5;241m=\u001b[39m [\n\u001b[0;32m      7\u001b[0m     \u001b[38;5;28msum\u001b[39m([\n\u001b[0;32m      8\u001b[0m         event\u001b[38;5;241m.\u001b[39mpools[\u001b[38;5;124m'\u001b[39m\u001b[38;5;124mstableswap\u001b[39m\u001b[38;5;124m'\u001b[39m]\u001b[38;5;241m.\u001b[39mliquidity[\u001b[38;5;124m'\u001b[39m\u001b[38;5;124mS1\u001b[39m\u001b[38;5;124m'\u001b[39m], \n\u001b[1;32m   (...)\u001b[0m\n\u001b[0;32m     12\u001b[0m     ]) \u001b[38;5;28;01mfor\u001b[39;00m event \u001b[38;5;129;01min\u001b[39;00m events\n\u001b[0;32m     13\u001b[0m ]\n",
      "Input \u001b[1;32mIn [32]\u001b[0m, in \u001b[0;36m<listcomp>\u001b[1;34m(.0)\u001b[0m\n\u001b[0;32m      1\u001b[0m impermanent_loss \u001b[38;5;241m=\u001b[39m [\n\u001b[1;32m----> 2\u001b[0m     (\u001b[38;5;241m1\u001b[39m \u001b[38;5;241m-\u001b[39m \u001b[43mevent\u001b[49m\u001b[38;5;241;43m.\u001b[39;49m\u001b[43mpools\u001b[49m\u001b[43m[\u001b[49m\u001b[38;5;124;43m'\u001b[39;49m\u001b[38;5;124;43mstableswap\u001b[39;49m\u001b[38;5;124;43m'\u001b[39;49m\u001b[43m]\u001b[49m\u001b[38;5;241;43m.\u001b[39;49m\u001b[43mcash_out\u001b[49m(event\u001b[38;5;241m.\u001b[39magents[\u001b[38;5;124m'\u001b[39m\u001b[38;5;124mLP\u001b[39m\u001b[38;5;124m'\u001b[39m], event\u001b[38;5;241m.\u001b[39mexternal_market)\n\u001b[0;32m      3\u001b[0m     \u001b[38;5;241m/\u001b[39m \u001b[38;5;28msum\u001b[39m(event\u001b[38;5;241m.\u001b[39magents[\u001b[38;5;124m'\u001b[39m\u001b[38;5;124mnon LP\u001b[39m\u001b[38;5;124m'\u001b[39m]\u001b[38;5;241m.\u001b[39mholdings\u001b[38;5;241m.\u001b[39mvalues())) \u001b[38;5;241m*\u001b[39m \u001b[38;5;241m100\u001b[39m\n\u001b[0;32m      4\u001b[0m     \u001b[38;5;28;01mfor\u001b[39;00m event \u001b[38;5;129;01min\u001b[39;00m events\n\u001b[0;32m      5\u001b[0m ]\n\u001b[0;32m      6\u001b[0m total_supply \u001b[38;5;241m=\u001b[39m [\n\u001b[0;32m      7\u001b[0m     \u001b[38;5;28msum\u001b[39m([\n\u001b[0;32m      8\u001b[0m         event\u001b[38;5;241m.\u001b[39mpools[\u001b[38;5;124m'\u001b[39m\u001b[38;5;124mstableswap\u001b[39m\u001b[38;5;124m'\u001b[39m]\u001b[38;5;241m.\u001b[39mliquidity[\u001b[38;5;124m'\u001b[39m\u001b[38;5;124mS1\u001b[39m\u001b[38;5;124m'\u001b[39m], \n\u001b[1;32m   (...)\u001b[0m\n\u001b[0;32m     12\u001b[0m     ]) \u001b[38;5;28;01mfor\u001b[39;00m event \u001b[38;5;129;01min\u001b[39;00m events\n\u001b[0;32m     13\u001b[0m ]\n",
      "\u001b[1;31mAttributeError\u001b[0m: 'StableSwapPoolState' object has no attribute 'cash_out'"
     ]
    }
   ],
   "source": [
    "impermanent_loss = [\n",
    "    (1 - event.pools['stableswap'].cash_out(event.agents['LP'], event.external_market)\n",
    "    / sum(event.agents['non LP'].holdings.values())) * 100\n",
    "    for event in events\n",
    "]\n",
    "total_supply = [\n",
    "    sum([\n",
    "        event.pools['stableswap'].liquidity['S1'], \n",
    "        event.agents['arbitrageur'].holdings['S1'], \n",
    "        event.agents['LP'].holdings['S1'], \n",
    "        event.agents['non LP'].holdings['S1']\n",
    "    ]) for event in events\n",
    "]\n"
   ]
  },
  {
   "cell_type": "code",
   "execution_count": null,
   "id": "9d37c620-8a15-4f11-9d66-c5168f0eb285",
   "metadata": {},
   "outputs": [],
   "source": [
    "plt.figure(figsize=(20, 5))\n",
    "plt.plot(total_supply, impermanent_loss)\n",
    "plt.title"
   ]
  },
  {
   "cell_type": "code",
   "execution_count": null,
   "id": "1a0d6b25-48ba-427e-9257-8bebb5039e79",
   "metadata": {
    "tags": []
   },
   "outputs": [],
   "source": [
    "events[2].agents['LP'].holdings"
   ]
  },
  {
   "cell_type": "code",
   "execution_count": null,
   "id": "c7525090-9bcb-4818-aa3c-dd1a78616b55",
   "metadata": {
    "tags": []
   },
   "outputs": [],
   "source": [
    "plt.figure(figsize=(20, 5))\n",
    "plt.plot(total_supply, [event.pools['stableswap'].cash_out(event.agents['LP'], event.external_market) for event in events])\n",
    "plt.plot(total_supply, [sum(event.agents['non LP'].holdings.values()) for event in events])"
   ]
  },
  {
   "cell_type": "code",
   "execution_count": null,
   "id": "2c6e95ad-e3e5-4692-854a-12bec56d2c30",
   "metadata": {
    "tags": []
   },
   "outputs": [],
   "source": [
    "(\n",
    "    events[-1].pools['stableswap'].liquidity['S1']\n",
    "    + events[-1].agents['LP'].holdings['S1']\n",
    "    + events[-1].agents['non LP'].holdings['S1']\n",
    "    + events[-1].agents['arbitrageur'].holdings['S1']\n",
    ")"
   ]
  },
  {
   "cell_type": "code",
   "execution_count": null,
   "id": "389a8dd3-ebe3-49c9-9370-a27982b4f901",
   "metadata": {
    "tags": []
   },
   "outputs": [],
   "source": [
    "events[-1].agents['non LP'].holdings['S1']"
   ]
  },
  {
   "cell_type": "code",
   "execution_count": null,
   "id": "daf269aa-d32e-43a1-b689-d332e0f0e598",
   "metadata": {},
   "outputs": [],
   "source": []
  }
 ],
 "metadata": {
  "kernelspec": {
   "display_name": "Python 3 (ipykernel)",
   "language": "python",
   "name": "python3"
  },
  "language_info": {
   "codemirror_mode": {
    "name": "ipython",
    "version": 3
   },
   "file_extension": ".py",
   "mimetype": "text/x-python",
   "name": "python",
   "nbconvert_exporter": "python",
   "pygments_lexer": "ipython3",
   "version": "3.9.7"
  }
 },
 "nbformat": 4,
 "nbformat_minor": 5
}
