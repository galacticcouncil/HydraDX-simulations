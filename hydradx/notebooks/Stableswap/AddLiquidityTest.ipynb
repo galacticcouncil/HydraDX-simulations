{
 "cells": [
  {
   "cell_type": "code",
   "execution_count": 1,
   "metadata": {
    "ExecuteTime": {
     "end_time": "2023-07-06T20:00:31.614450927Z",
     "start_time": "2023-07-06T20:00:30.645499714Z"
    },
    "tags": []
   },
   "outputs": [],
   "source": [
    "import sys\n",
    "import os\n",
    "import glob\n",
    "import random\n",
    "import copy\n",
    "from IPython.display import display, Markdown\n",
    "sys.path.append('../..')\n",
    "\n",
    "from model import processing\n",
    "from matplotlib import pyplot as plt\n",
    "\n",
    "from model import run\n",
    "from model import plot_utils as pu\n",
    "from model.amm.omnipool_amm import OmnipoolState, cash_out_omnipool, value_assets, usd_price, lrna_price\n",
    "from model.amm.stableswap_amm import StableSwapPoolState\n",
    "from model.amm.agents import Agent\n",
    "from model.amm.trade_strategies import omnipool_arbitrage, invest_all, price_sensitive_trading\n",
    "from model.amm.global_state import GlobalState, fluctuate_prices, historical_prices\n",
    "\n",
    "# same seed, same parameters = same simulation result\n",
    "random.seed(42)\n",
    "# price_list = processing.import_binance_prices(['BTC', 'ETH', 'DOT'], start_date='Jan 1 2023', days = 120)\n",
    "\n",
    "assets = {\n",
    "    'USDA': {'usd price': 1, 'weight': 0.25},\n",
    "    'USDB': {'usd price': 1, 'weight': 0.25},\n",
    "    'USDC': {'usd price': 1, 'weight': 0.25},\n",
    "    'USDD': {'usd price': 1, 'weight': 0.25},\n",
    "}\n",
    "\n",
    "assert sum([t['weight'] for t in assets.values()]) == 1\n",
    "\n",
    "initial_tvl = 1000000\n",
    "\n",
    "initial_state = StableSwapPoolState(\n",
    "    tokens={\n",
    "        tkn: initial_tvl * assets[tkn]['weight'] for tkn in assets\n",
    "    },\n",
    "    unique_id='stableswap',\n",
    "    amplification=100,\n",
    "    trade_fee=0.003\n",
    ")\n",
    "\n",
    "initial_agent = Agent(\n",
    "    holdings={'USDA': 5000}\n",
    ")\n"
   ]
  },
  {
   "cell_type": "code",
   "execution_count": 2,
   "metadata": {
    "ExecuteTime": {
     "end_time": "2023-07-06T20:00:31.857764207Z",
     "start_time": "2023-07-06T20:00:31.681435289Z"
    },
    "tags": []
   },
   "outputs": [
    {
     "name": "stdout",
     "output_type": "stream",
     "text": [
      "Agent adds liquidity: 5000 USDA. Trade fee = 0.003\n",
      "Agent receives: 4992.133499316056 stableswap shares. Effective fee = 0.15000007900874968%\n"
     ]
    }
   ],
   "source": [
    "print(f\"Agent adds liquidity: {initial_agent.holdings['USDA']} USDA. Trade fee = {initial_state.trade_fee}\")\n",
    "test_agent = initial_agent.copy()\n",
    "test_pool = initial_state.copy().add_liquidity(\n",
    "    agent=test_agent,\n",
    "    tkn_add='USDA',\n",
    "    quantity=initial_agent.holdings['USDA']\n",
    ")\n",
    "no_fee_agent = initial_agent.copy()\n",
    "no_fee_state = initial_state.copy()\n",
    "no_fee_state.trade_fee = 0\n",
    "no_fee_state.add_liquidity(\n",
    "    agent=no_fee_agent,\n",
    "    tkn_add='USDA',\n",
    "    quantity=initial_agent.holdings['USDA']\n",
    ")\n",
    "print(f\"Agent receives: {test_agent.holdings['stableswap']} stableswap shares. Effective fee = {(1 - test_agent.holdings['stableswap'] / no_fee_agent.holdings['stableswap']) * 100}%\")"
   ]
  },
  {
   "cell_type": "code",
   "execution_count": 3,
   "metadata": {},
   "outputs": [
    {
     "name": "stdout",
     "output_type": "stream",
     "text": [
      "Agent: agent\n",
      "********************************\n",
      "trade strategy: None\n",
      "holdings: (\n",
      "\n",
      "    *USDA*: 0\n",
      "\n",
      "    *stableswap*: 4999.6329526952\n",
      ")\n",
      "\n"
     ]
    }
   ],
   "source": [
    "print(no_fee_agent)"
   ]
  },
  {
   "cell_type": "code",
   "execution_count": 4,
   "metadata": {},
   "outputs": [
    {
     "name": "stdout",
     "output_type": "stream",
     "text": [
      "4999.632952695247\n"
     ]
    }
   ],
   "source": [
    "print (no_fee_agent.holdings['stableswap'])"
   ]
  },
  {
   "cell_type": "code",
   "execution_count": 5,
   "metadata": {},
   "outputs": [
    {
     "data": {
      "text/plain": [
       "400"
      ]
     },
     "execution_count": 5,
     "metadata": {},
     "output_type": "execute_result"
    }
   ],
   "source": [
    "initial_state.ann\n"
   ]
  },
  {
   "cell_type": "code",
   "execution_count": 6,
   "metadata": {},
   "outputs": [
    {
     "data": {
      "text/plain": [
       "1004999.6329526952"
      ]
     },
     "execution_count": 6,
     "metadata": {},
     "output_type": "execute_result"
    }
   ],
   "source": [
    "no_fee_state.shares"
   ]
  },
  {
   "cell_type": "code",
   "execution_count": 7,
   "metadata": {},
   "outputs": [
    {
     "data": {
      "text/plain": [
       "Agent: agent\n",
       "********************************\n",
       "trade strategy: None\n",
       "holdings: (\n",
       "\n",
       "    *USDA*: 0\n",
       "\n",
       "    *stableswap*: 4999.6329526952\n",
       ")"
      ]
     },
     "execution_count": 7,
     "metadata": {},
     "output_type": "execute_result"
    }
   ],
   "source": [
    "no_fee_agent"
   ]
  },
  {
   "cell_type": "code",
   "execution_count": 8,
   "metadata": {},
   "outputs": [
    {
     "data": {
      "text/plain": [
       "Agent: agent\n",
       "********************************\n",
       "trade strategy: None\n",
       "holdings: (\n",
       "\n",
       "    *USDA*: 0\n",
       "\n",
       "    *stableswap*: 4992.1334993161\n",
       ")"
      ]
     },
     "execution_count": 8,
     "metadata": {},
     "output_type": "execute_result"
    }
   ],
   "source": [
    "test_agent"
   ]
  },
  {
   "cell_type": "code",
   "execution_count": 9,
   "metadata": {},
   "outputs": [
    {
     "data": {
      "text/plain": [
       "1004999.6329526952"
      ]
     },
     "execution_count": 9,
     "metadata": {},
     "output_type": "execute_result"
    }
   ],
   "source": [
    "test_pool.d"
   ]
  },
  {
   "cell_type": "code",
   "execution_count": 10,
   "metadata": {},
   "outputs": [
    {
     "data": {
      "text/plain": [
       "{'USDA': 255000.0, 'USDB': 250000.0, 'USDC': 250000.0, 'USDD': 250000.0}"
      ]
     },
     "execution_count": 10,
     "metadata": {},
     "output_type": "execute_result"
    }
   ],
   "source": [
    "test_pool.liquidity"
   ]
  },
  {
   "cell_type": "code",
   "execution_count": 11,
   "metadata": {},
   "outputs": [
    {
     "name": "stdout",
     "output_type": "stream",
     "text": [
      "100499.96329526954\n"
     ]
    }
   ],
   "source": [
    "test_pool = StableSwapPoolState(\n",
    "    tokens={'USDA': 25500, 'USDB': 25000, 'USDC': 25000, 'USDD': 25000},\n",
    "    amplification=100\n",
    ")\n",
    "print(test_pool.d)"
   ]
  },
  {
   "cell_type": "code",
   "execution_count": null,
   "metadata": {},
   "outputs": [],
   "source": []
  }
 ],
 "metadata": {
  "kernelspec": {
   "display_name": "Python 3 (ipykernel)",
   "language": "python",
   "name": "python3"
  },
  "language_info": {
   "codemirror_mode": {
    "name": "ipython",
    "version": 3
   },
   "file_extension": ".py",
   "mimetype": "text/x-python",
   "name": "python",
   "nbconvert_exporter": "python",
   "pygments_lexer": "ipython3",
   "version": "3.9.7"
  }
 },
 "nbformat": 4,
 "nbformat_minor": 4
}
