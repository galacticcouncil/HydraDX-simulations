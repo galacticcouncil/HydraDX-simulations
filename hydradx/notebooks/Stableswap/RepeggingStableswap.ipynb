{
 "cells": [
  {
   "cell_type": "code",
   "id": "initial_id",
   "metadata": {
    "collapsed": true,
    "ExecuteTime": {
     "end_time": "2025-01-16T20:30:29.906641Z",
     "start_time": "2025-01-16T20:30:29.248573Z"
    }
   },
   "source": [
    "import sys\n",
    "sys.path.append('../..')\n",
    "\n",
    "from model.amm.stableswap_amm import StableSwapPoolState\n",
    "import matplotlib.pyplot as plt\n"
   ],
   "outputs": [],
   "execution_count": 1
  },
  {
   "metadata": {
    "ExecuteTime": {
     "end_time": "2025-01-16T20:30:29.917901Z",
     "start_time": "2025-01-16T20:30:29.911900Z"
    }
   },
   "cell_type": "code",
   "source": [
    "# oct 13 price was 1.13\n",
    "# jan 13 price was 1.42\n",
    "# 92 days\n",
    "init_vDOT_price = 1.13\n",
    "final_price = 1.42\n",
    "t = 92\n",
    "fee = 0.0\n",
    "amp = 100\n",
    "tokens = {'DOT': init_vDOT_price * 1000000, 'vDOT': 1000000}\n",
    "pool = StableSwapPoolState(tokens, amp, trade_fee=fee, peg=init_vDOT_price)\n",
    "print(pool.spot_price(1))\n",
    "spot_prices = [pool.spot_price(1)]\n",
    "step_size = (final_price - init_vDOT_price) / t\n",
    "pegs = [init_vDOT_price + i * step_size for i in range(t+1)]\n",
    "for i in range(92):\n",
    "    pool.set_peg(pegs[i+1])\n",
    "    spot_prices.append(pool.spot_price(1))\n",
    "    if i == 0:\n",
    "        print(pool.spot_price(1))\n",
    "\n",
    "# print(pegs[-1])\n",
    "# print(spot_prices[0:10])\n",
    "# print(pegs[0:10])"
   ],
   "id": "dfa440025f29dabc",
   "outputs": [
    {
     "name": "stdout",
     "output_type": "stream",
     "text": [
      "1.13\n",
      "1.1331209211126039\n"
     ]
    }
   ],
   "execution_count": 2
  },
  {
   "metadata": {
    "ExecuteTime": {
     "end_time": "2025-01-16T20:30:30.059892Z",
     "start_time": "2025-01-16T20:30:29.963841Z"
    }
   },
   "cell_type": "code",
   "source": [
    "# Create the plot\n",
    "plt.plot(spot_prices, pegs)\n",
    "\n",
    "# Add labels and a title\n",
    "# plt.xlabel('X-axis Label')\n",
    "plt.ylabel('spot prices')\n",
    "# plt.title('Basic Plot Example')\n",
    "\n",
    "# Show the plot\n",
    "plt.show()"
   ],
   "id": "4456b9bf853fdef8",
   "outputs": [
    {
     "data": {
      "text/plain": [
       "<Figure size 432x288 with 1 Axes>"
      ],
      "image/png": "[encoded data removed]"
     },
     "metadata": {
      "needs_background": "light"
     },
     "output_type": "display_data"
    }
   ],
   "execution_count": 3
  },
  {
   "metadata": {
    "ExecuteTime": {
     "end_time": "2025-01-16T20:30:30.071199Z",
     "start_time": "2025-01-16T20:30:30.069052Z"
    }
   },
   "cell_type": "code",
   "source": "",
   "id": "d7c61bba9a1248dc",
   "outputs": [],
   "execution_count": null
  }
 ],
 "metadata": {
  "kernelspec": {
   "display_name": "Python 3",
   "language": "python",
   "name": "python3"
  },
  "language_info": {
   "codemirror_mode": {
    "name": "ipython",
    "version": 2
   },
   "file_extension": ".py",
   "mimetype": "text/x-python",
   "name": "python",
   "nbconvert_exporter": "python",
   "pygments_lexer": "ipython2",
   "version": "2.7.6"
  }
 },
 "nbformat": 4,
 "nbformat_minor": 5
}
