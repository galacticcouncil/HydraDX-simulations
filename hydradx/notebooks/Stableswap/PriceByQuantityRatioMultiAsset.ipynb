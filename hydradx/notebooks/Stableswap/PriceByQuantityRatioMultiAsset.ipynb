{
 "cells": [
  {
   "cell_type": "code",
   "execution_count": 44,
   "id": "initial_id",
   "metadata": {
    "collapsed": true,
    "ExecuteTime": {
     "end_time": "2023-09-27T19:20:36.394049434Z",
     "start_time": "2023-09-27T19:20:36.371263366Z"
    }
   },
   "outputs": [],
   "source": [
    "import sys\n",
    "import os\n",
    "import glob\n",
    "import random\n",
    "import copy\n",
    "from IPython.display import display, Markdown\n",
    "sys.path.append('../..')\n",
    "\n",
    "from model import processing\n",
    "from matplotlib import pyplot as plt\n",
    "\n",
    "from model import run\n",
    "from model import plot_utils as pu\n",
    "from model.amm.omnipool_amm import OmnipoolState, cash_out_omnipool, value_assets, usd_price, lrna_price\n",
    "from model.amm.stableswap_amm import StableSwapPoolState\n",
    "from model.amm.agents import Agent\n",
    "from model.amm.trade_strategies import omnipool_arbitrage, invest_all, price_sensitive_trading\n",
    "from model.amm.global_state import GlobalState, fluctuate_prices, historical_prices\n",
    "\n",
    "# same seed, same parameters = same simulation result\n",
    "random.seed(42)\n",
    "# price_list = processing.import_binance_prices(['BTC', 'ETH', 'DOT'], start_date='Jan 1 2023', days = 120)\n",
    "\n",
    "assets = {\n",
    "    'USDA': {'usd price': 1, 'weight': 0.25},\n",
    "    'USDB': {'usd price': 1, 'weight': 0.25},\n",
    "    'USDC': {'usd price': 1, 'weight': 0.25},\n",
    "    'USDD': {'usd price': 1, 'weight': 0.25},\n",
    "}\n",
    "\n",
    "assert sum([t['weight'] for t in assets.values()]) == 1\n",
    "\n",
    "initial_tvl = 2000000\n",
    "\n",
    "initial_state = GlobalState(\n",
    "    pools={\n",
    "        'stableswap': StableSwapPoolState(\n",
    "            tokens={\n",
    "                tkn: initial_tvl * assets[tkn]['weight'] for tkn in assets\n",
    "            },\n",
    "            amplification=100,\n",
    "            trade_fee=0\n",
    "        )\n",
    "    },\n",
    "    agents = {\n",
    "        'Trader': Agent(\n",
    "            holdings={tkn: 10000000000000 for tkn in assets}\n",
    "        )\n",
    "    },\n",
    "    # external_market={tkn: assets[tkn]['usd price'] for tkn in assets},\n",
    "    # archive_all=False\n",
    ")"
   ]
  },
  {
   "cell_type": "code",
   "execution_count": 45,
   "outputs": [
    {
     "name": "stdout",
     "output_type": "stream",
     "text": [
      "simulation finished.\n"
     ]
    }
   ],
   "source": [
    "amps = [10, 100,200,300, 1000, 10000]\n",
    "amps = [10, 20, 50, 75, 100, 150, 200]\n",
    "\n",
    "amps2 = [x/64 for x in amps]\n",
    "\n",
    "\n",
    "\n",
    "amps = amps2\n",
    "\n",
    "amps = [5]\n",
    "\n",
    "amps.sort()  # required\n",
    "max_trade = 400000\n",
    "steps = 100\n",
    "max_i = 10000\n",
    "price_band = 0.1\n",
    "amp_events = []\n",
    "amounts = []\n",
    "spot_prices = []\n",
    "spot_prices_2 = []\n",
    "for i, amplification in enumerate(amps):\n",
    "    initial_state.pools['stableswap'].amplification = amplification\n",
    "    trade_size_min, trade_size_max = -max_trade, max_trade\n",
    "    trade_sizes = [trade_size_min + i * (trade_size_max - trade_size_min) / steps for i in range(steps)]\n",
    "    \n",
    "    step_size = 1000\n",
    "    trade_size = 0\n",
    "    spot_price = 1\n",
    "    i = 0\n",
    "    amts = []\n",
    "    prices = []\n",
    "    prices2 = []\n",
    "    # for trade_size in trade_sizes:\n",
    "    while spot_price <= 1 + price_band and i < max_i:\n",
    "        i += 1\n",
    "        # trade to change the price of assets. \n",
    "        # We assume that whatever the resulting price is the new market price, and the trade is an arb trade.\n",
    "        \n",
    "        amm_state = copy.deepcopy(initial_state.pools['stableswap'])\n",
    "        agent = copy.deepcopy(initial_state.agents['Trader'])\n",
    "        \n",
    "        amm_state.swap_one(\n",
    "                agent=agent,\n",
    "                tkn_buy='USDB',\n",
    "                quantity=max(abs(trade_size), 0),\n",
    "            )\n",
    "                \n",
    "        spot_price = amm_state.spot_price(1)\n",
    "        prices2.append(amm_state.spot_price(2))\n",
    "        prices.append(spot_price)\n",
    "        amts.append(amm_state.liquidity['USDB'])\n",
    "        \n",
    "        trade_size += step_size\n",
    "        \n",
    "    trade_size = step_size\n",
    "    i = 0\n",
    "    while spot_price >= 1 - price_band and i < max_i:\n",
    "        i += 1\n",
    "        # trade to change the price of assets. \n",
    "        # We assume that whatever the resulting price is the new market price, and the trade is an arb trade.\n",
    "        \n",
    "        amm_state = copy.deepcopy(initial_state.pools['stableswap'])\n",
    "        agent = copy.deepcopy(initial_state.agents['Trader'])\n",
    "        \n",
    "        amm_state.swap_one(\n",
    "                agent=agent,\n",
    "                tkn_sell='USDB',\n",
    "                quantity=max(abs(trade_size), 0),\n",
    "            )\n",
    "        \n",
    "        spot_price = amm_state.spot_price(1)\n",
    "        prices.append(spot_price)\n",
    "        prices2.append(amm_state.spot_price(2))\n",
    "        amts.append(amm_state.liquidity['USDB'])\n",
    "        \n",
    "        trade_size += step_size\n",
    "    \n",
    "    spot_prices.append(prices)\n",
    "    spot_prices_2.append(prices2)\n",
    "    amounts.append(amts)\n",
    "    \n",
    "print('simulation finished.')"
   ],
   "metadata": {
    "collapsed": false,
    "ExecuteTime": {
     "end_time": "2023-09-27T19:20:36.427961819Z",
     "start_time": "2023-09-27T19:20:36.373613258Z"
    }
   },
   "id": "31b4ea041011d2cf"
  },
  {
   "cell_type": "code",
   "execution_count": 46,
   "outputs": [
    {
     "name": "stdout",
     "output_type": "stream",
     "text": [
      "90th percentile: \n"
     ]
    }
   ],
   "source": [
    "tenth_percentile = []\n",
    "twentieth_percentile = []\n",
    "eightieth_percentile = []\n",
    "ninetieth_percentile = []\n",
    "for i, amp in enumerate(amps):\n",
    "    amt_ls = amounts[i]\n",
    "    price_ls = spot_prices[i]\n",
    "    pairs = [(spot_prices[i][j], amounts[i][j]) for j in range(len(amounts[i]))]\n",
    "    pairs.sort(key=lambda pair: pair[0])\n",
    "    amt_ls = [pair[1] for pair in pairs]\n",
    "    price_ls = [pair[0] for pair in pairs]\n",
    "    tenth = []\n",
    "    twentieth = []\n",
    "    eightieth = []\n",
    "    ninetieth = []\n",
    "    for j in range(len(amt_ls) - 1):\n",
    "        if amt_ls[j] >= 1500000 and amt_ls[j+1] < 1500000:\n",
    "            ninetieth.append((price_ls[j], amt_ls[j]))\n",
    "        if amt_ls[j] >= 1200000 and amt_ls[j+1] < 1200000:\n",
    "            eightieth.append((price_ls[j], amt_ls[j]))\n",
    "        if amt_ls[j] >= 100000 and amt_ls[j+1] < 100000:\n",
    "            twentieth.append((price_ls[j], amt_ls[j]))\n",
    "        if amt_ls[j] >= 50000 and amt_ls[j+1] < 50000:\n",
    "            tenth.append((price_ls[j], amt_ls[j]))\n",
    "            break\n",
    "    tenth_percentile.append(tenth)\n",
    "    twentieth_percentile.append(twentieth)\n",
    "    eightieth_percentile.append(eightieth)\n",
    "    ninetieth_percentile.append(ninetieth)\n",
    "\n",
    "print('90th percentile: ')"
   ],
   "metadata": {
    "collapsed": false,
    "ExecuteTime": {
     "end_time": "2023-09-27T19:20:36.443067543Z",
     "start_time": "2023-09-27T19:20:36.434492381Z"
    }
   },
   "id": "7e10ad790657fd29"
  },
  {
   "cell_type": "code",
   "execution_count": 47,
   "outputs": [
    {
     "name": "stdout",
     "output_type": "stream",
     "text": [
      "amp:  5\n",
      "100k USDB:  1.031901454286454\n",
      "1.6m USDB:  0.9877582423977362\n",
      "1.8m USDB:  0.9359399112122693\n"
     ]
    },
    {
     "data": {
      "text/plain": "<Figure size 1440x720 with 1 Axes>",
      "image/png": "[encoded data removed]"
     },
     "metadata": {
      "needs_background": "light"
     },
     "output_type": "display_data"
    }
   ],
   "source": [
    "\n",
    "    \n",
    "plt.figure(figsize=(20,10))\n",
    "\n",
    "for i in range(len(amounts)):\n",
    "    pairs = [(spot_prices[i][j], amounts[i][j]) for j in range(len(amounts[i]))]\n",
    "    pairs.sort(key=lambda pair: pair[0])\n",
    "    plt.plot([pair[0] for pair in pairs], [pair[1] for pair in pairs], label=f'amp = {amps[i]}')\n",
    "    print(\"amp: \", amps[i])\n",
    "    for pair in tenth_percentile[i]:\n",
    "        plt.annotate(\n",
    "            xy=pair,\n",
    "            xytext=(pair[0], pair[1]),\n",
    "            text=f\"{round(pair[0], 4)}\",\n",
    "            arrowprops={'arrowstyle': '->', 'relpos': (0.5, 0.5)}\n",
    "        )\n",
    "        print(\"50k USDB: \", pair[0])\n",
    "    for pair in twentieth_percentile[i]:\n",
    "        plt.annotate(\n",
    "            xy=pair,\n",
    "            xytext=(pair[0], pair[1]),\n",
    "            text=f\"{round(pair[0], 4)}\",\n",
    "            arrowprops={'arrowstyle': '->', 'relpos': (0.5, 0.5)}\n",
    "        )\n",
    "        print(\"100k USDB: \", pair[0])\n",
    "    for pair in eightieth_percentile[i]:\n",
    "        plt.annotate(\n",
    "            xy=pair,\n",
    "            xytext=(pair[0], pair[1]),\n",
    "            text=f\"{round(pair[0], 4)}\",\n",
    "            arrowprops={'arrowstyle': '->', 'relpos': (0.5, 0.5)}\n",
    "        )\n",
    "        print(\"1.6m USDB: \", pair[0])\n",
    "    for pair in ninetieth_percentile[i]:\n",
    "        plt.annotate(\n",
    "            xy=pair,\n",
    "            xytext=(pair[0], pair[1]),\n",
    "            text=f\"{round(pair[0], 4)}\",\n",
    "            arrowprops={'arrowstyle': '->', 'relpos': (0.5, 0.5)}\n",
    "        )\n",
    "        print(\"1.8m USDB: \", pair[0])\n",
    "    \n",
    "plt.legend()\n",
    "plt.xlabel(\"Price of USDB\")\n",
    "plt.ylabel(\"Amount of USDB in pool\")\n",
    "\n",
    "plt.show()\n",
    "\n"
   ],
   "metadata": {
    "collapsed": false,
    "ExecuteTime": {
     "end_time": "2023-09-27T19:20:36.746610872Z",
     "start_time": "2023-09-27T19:20:36.437138405Z"
    }
   },
   "id": "f7859c176c02ef7e"
  },
  {
   "cell_type": "code",
   "execution_count": 48,
   "outputs": [
    {
     "name": "stdout",
     "output_type": "stream",
     "text": [
      "amp:  5\n",
      "0.9896241434388862 -21783484.01457634\n"
     ]
    },
    {
     "data": {
      "text/plain": "<Figure size 1440x720 with 1 Axes>",
      "image/png": "[encoded data removed]"
     },
     "metadata": {
      "needs_background": "light"
     },
     "output_type": "display_data"
    }
   ],
   "source": [
    "sorted_prices = []\n",
    "sorted_amounts = []\n",
    "for i in range(len(amounts)):\n",
    "    pairs = [(spot_prices[i][j], amounts[i][j]) for j in range(len(amounts[i]))]\n",
    "    pairs.sort(key=lambda pair: pair[0])\n",
    "    sorted_prices.append([pair[0] for pair in pairs])\n",
    "    sorted_amounts.append([pair[1] for pair in pairs])\n",
    "\n",
    "plt.figure(figsize=(20,10))\n",
    "\n",
    "\n",
    "\n",
    "diffs = []\n",
    "for i in range(len(amps)):\n",
    "    diffs.append([sorted_amounts[i][j+1] - sorted_amounts[i][j] for j in range(len(sorted_amounts[i]) - 1)])\n",
    "    prices = sorted_prices[i]\n",
    "    normed_diffs = [diffs[-1][j]/(prices[j+1]-prices[j]) for j in range(len(diffs[-1]))]\n",
    "    prices.pop()\n",
    "    plt.plot(prices, normed_diffs, label=f'amp = {amps[i]}')\n",
    "    k_ls = [130, 520]\n",
    "    print(\"amp: \", amps[i])\n",
    "    for k in k_ls:\n",
    "        if i == len(amps) - 1 and k < len(prices):\n",
    "            print(prices[k],normed_diffs[k])\n",
    "            plt.annotate(\n",
    "                    xy=(prices[k],normed_diffs[k]),\n",
    "                    xytext=(prices[k]-0.005,normed_diffs[k]),\n",
    "                    text=f\"{round(prices[k], 4)}\",\n",
    "                    arrowprops={'arrowstyle': '->', 'relpos': (0.5, 0.5)}\n",
    "                )\n",
    "    \n",
    "plt.legend()\n",
    "# plt.xlabel(\"Price of USDB\")\n",
    "# plt.ylabel(\"Amount of USDB in pool\")\n",
    "\n",
    "plt.show()\n"
   ],
   "metadata": {
    "collapsed": false,
    "ExecuteTime": {
     "end_time": "2023-09-27T19:20:36.771989255Z",
     "start_time": "2023-09-27T19:20:36.651236289Z"
    }
   },
   "id": "22aa7b13fda2dbc0"
  },
  {
   "cell_type": "code",
   "execution_count": 49,
   "outputs": [
    {
     "data": {
      "text/plain": "<Figure size 432x288 with 1 Axes>",
      "image/png": "[encoded data removed]"
     },
     "metadata": {
      "needs_background": "light"
     },
     "output_type": "display_data"
    }
   ],
   "source": [
    "\n",
    "    \n",
    "\n",
    "for i in range(len(amounts)):\n",
    "    plt.plot(spot_prices[i], spot_prices_2[i], label=f'amp = {amps[i]}')\n",
    "\n",
    "    \n",
    "    plt.legend()\n",
    "    plt.xlabel(\"Price of USDB\")\n",
    "    plt.ylabel(\"price of USDC\")\n",
    "    \n",
    "    plt.show()\n",
    "\n"
   ],
   "metadata": {
    "collapsed": false,
    "ExecuteTime": {
     "end_time": "2023-09-27T19:20:36.899269165Z",
     "start_time": "2023-09-27T19:20:36.782439528Z"
    }
   },
   "id": "2b1f4c19442bad1c"
  },
  {
   "cell_type": "code",
   "execution_count": 49,
   "outputs": [],
   "source": [],
   "metadata": {
    "collapsed": false,
    "ExecuteTime": {
     "end_time": "2023-09-27T19:20:36.899572596Z",
     "start_time": "2023-09-27T19:20:36.867252881Z"
    }
   },
   "id": "8939d72587381bf3"
  }
 ],
 "metadata": {
  "kernelspec": {
   "display_name": "Python 3",
   "language": "python",
   "name": "python3"
  },
  "language_info": {
   "codemirror_mode": {
    "name": "ipython",
    "version": 2
   },
   "file_extension": ".py",
   "mimetype": "text/x-python",
   "name": "python",
   "nbconvert_exporter": "python",
   "pygments_lexer": "ipython2",
   "version": "2.7.6"
  }
 },
 "nbformat": 4,
 "nbformat_minor": 5
}
