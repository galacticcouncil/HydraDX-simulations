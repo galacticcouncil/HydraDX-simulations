{
 "cells": [
  {
   "cell_type": "code",
   "execution_count": 1,
   "id": "initial_id",
   "metadata": {
    "ExecuteTime": {
     "end_time": "2023-11-10T20:17:54.313541137Z",
     "start_time": "2023-11-10T20:17:54.163474988Z"
    },
    "tags": []
   },
   "outputs": [],
   "source": [
    "import sys\n",
    "sys.path.append('../../..')\n",
    "from hydradx.model.amm.omnipool_amm import OmnipoolState\n",
    "from hydradx.model.amm.agents import Agent\n",
    "from hydradx.model.processing import get_kraken_orderbook, get_orderbooks_from_file, get_binance_orderbook, get_omnipool, load_omnipool, save_omnipool, load_config\n",
    "from hydradx.model.processing import get_omnipool_data_from_file, get_centralized_market\n",
    "from hydradx.model.amm.centralized_market import CentralizedMarket\n",
    "import hydradx.model.amm.arbitrage_agent_general as arb\n",
    "from hydradx.model.amm.omnipool_router import OmnipoolRouter\n",
    "\n",
    "from pprint import pprint\n",
    "\n",
    "import json"
   ]
  },
  {
   "cell_type": "markdown",
   "id": "fc7e81433023f150",
   "metadata": {},
   "source": [
    "Set `get_live_markets = True` to get live markets from Kraken. Set to `False` to use order books from file."
   ]
  },
  {
   "cell_type": "code",
   "execution_count": 2,
   "id": "18db74c8acc41caf",
   "metadata": {
    "ExecuteTime": {
     "end_time": "2023-11-10T20:17:54.359267578Z",
     "start_time": "2023-11-10T20:17:54.315248140Z"
    },
    "collapsed": false,
    "jupyter": {
     "outputs_hidden": false
    }
   },
   "outputs": [],
   "source": [
    "get_live_markets = True"
   ]
  },
  {
   "cell_type": "code",
   "execution_count": 3,
   "id": "9dc03998f1523a18",
   "metadata": {
    "ExecuteTime": {
     "end_time": "2023-11-10T20:17:54.359521609Z",
     "start_time": "2023-11-10T20:17:54.359125558Z"
    },
    "collapsed": false,
    "jupyter": {
     "outputs_hidden": false
    }
   },
   "outputs": [],
   "source": [
    "# 2: Acala DAI\n",
    "# 3: Acala WBTC\n",
    "# 4: Acala WETH\n",
    "# 5: DOT\n",
    "# 9: ASTR\n",
    "# 10: native USDT\n",
    "# 11: iBTC\n",
    "# 12: ZTG\n",
    "# 13: CFG\n",
    "# 14: BNC\n",
    "# 15: vDOT\n",
    "# 16: GLMR\n",
    "# 17: INTR\n",
    "# 18: Wormhole DAI\n",
    "# 19: Wormhole WBTC\n",
    "# 20: Wormhole WETH\n",
    "# 100: 4-Pool"
   ]
  },
  {
   "cell_type": "code",
   "execution_count": 6,
   "id": "87fa4f41a9babfe6",
   "metadata": {
    "ExecuteTime": {
     "end_time": "2023-11-10T20:17:54.360191796Z",
     "start_time": "2023-11-10T20:17:54.359385083Z"
    },
    "collapsed": false,
    "jupyter": {
     "outputs_hidden": false
    }
   },
   "outputs": [
    {
     "name": "stdout",
     "output_type": "stream",
     "text": [
      "loading omnipool...\n"
     ]
    }
   ],
   "source": [
    "# load Omnipool\n",
    "print('loading omnipool...')\n",
    "\n",
    "if get_live_markets:\n",
    "    omnipool = get_omnipool()\n",
    "else:\n",
    "    omnipool = load_omnipool()\n",
    "\n",
    "fourpool, btcpool, twopool = omnipool.sub_pools.values()\n",
    "router = OmnipoolRouter(\n",
    "    exchanges=[omnipool, twopool, fourpool, btcpool]\n",
    ")"
   ]
  },
  {
   "cell_type": "code",
   "execution_count": 7,
   "id": "30c3ae5c6fb4044d",
   "metadata": {
    "ExecuteTime": {
     "end_time": "2023-11-10T20:17:54.407205490Z",
     "start_time": "2023-11-10T20:17:54.359590277Z"
    },
    "collapsed": false,
    "jupyter": {
     "outputs_hidden": false
    }
   },
   "outputs": [
    {
     "name": "stdout",
     "output_type": "stream",
     "text": [
      "loading centralized markets...\n",
      "done.\n"
     ]
    }
   ],
   "source": [
    "# load centralized markets\n",
    "print('loading centralized markets...')\n",
    "# arb_file = \"arbconfig.txt\"\n",
    "cfg = load_config(\"arbconfig5.txt\", path=\"config\")\n",
    "\n",
    "cex_fees = {\n",
    "    'kraken': 0.0016,\n",
    "    'binance': 0.0010\n",
    "}\n",
    "\n",
    "cex_dict = {}\n",
    "for exchange in ('kraken', 'binance'):\n",
    "    if get_live_markets:\n",
    "        cex_dict[exchange] = get_centralized_market(\n",
    "            config=cfg, \n",
    "            exchange_name=exchange, \n",
    "            trade_fee=cex_fees[exchange],\n",
    "            archive=False\n",
    "        )\n",
    "    else:\n",
    "        cex_dict[exchange] = CentralizedMarket(\n",
    "            order_book=get_orderbooks_from_file(\"archive/\")[exchange],\n",
    "            unique_id=exchange,\n",
    "            trade_fee=cex_fees[exchange]\n",
    "        )\n",
    "print(\"done.\")"
   ]
  },
  {
   "cell_type": "code",
   "execution_count": 10,
   "id": "ef086a726e0e13be",
   "metadata": {
    "ExecuteTime": {
     "end_time": "2023-11-10T20:17:54.667621521Z",
     "start_time": "2023-11-10T20:17:54.407184743Z"
    },
    "collapsed": false,
    "jupyter": {
     "outputs_hidden": false
    }
   },
   "outputs": [
    {
     "name": "stdout",
     "output_type": "stream",
     "text": [
      "calculating arbitrage...\n",
      "{'router': {'trade': 'buy', 'buy_asset': 'DOT', 'sell_asset': 'iBTC', 'amount': 18.48, 'max_sell': 0.0022417830915384086}, 'binance': {'trade': 'sell', 'buy_asset': 'BTC', 'sell_asset': 'DOT', 'amount': 18.48, 'price': 0.0001237381}}\n",
      "{'router': {'trade': 'buy', 'buy_asset': 'DOT', 'sell_asset': 'iBTC', 'amount': 698.59, 'max_sell': 0.08508700926578065}, 'binance': {'trade': 'sell', 'buy_asset': 'BTC', 'sell_asset': 'DOT', 'amount': 698.59, 'price': 0.00012363815}}\n",
      "{'router': {'trade': 'buy', 'buy_asset': 'WETH', 'sell_asset': 'iBTC', 'amount': 2.7423583632812507, 'max_sell': 0.13365613634635115}, 'binance': {'trade': 'sell', 'buy_asset': 'BTC', 'sell_asset': 'ETH', 'amount': 2.7423583632812507, 'price': 0.049085445000000005}}\n",
      "{'router': {'trade': 'buy', 'buy_asset': 'GLMR', 'sell_asset': 'USDT10', 'amount': 574.9, 'max_sell': 239.87555272104862}, 'binance': {'trade': 'sell', 'buy_asset': 'USDT', 'sell_asset': 'GLMR', 'amount': 574.9, 'price': 0.4205896}}\n"
     ]
    }
   ],
   "source": [
    "print('calculating arbitrage...')\n",
    "binance = cex_dict['binance']\n",
    "kraken = cex_dict['kraken']\n",
    "exchanges = {'router': router, 'binance': binance, 'kraken': kraken}\n",
    "all_swaps = arb.get_arb_swaps(exchanges, cfg)\n",
    "for swap in all_swaps:\n",
    "    print(swap)"
   ]
  },
  {
   "cell_type": "code",
   "execution_count": 11,
   "id": "8d4817129c26f839",
   "metadata": {
    "ExecuteTime": {
     "end_time": "2023-11-10T20:17:54.703592628Z",
     "start_time": "2023-11-10T20:17:54.691980873Z"
    },
    "collapsed": false,
    "jupyter": {
     "outputs_hidden": false
    }
   },
   "outputs": [
    {
     "name": "stdout",
     "output_type": "stream",
     "text": [
      "profit in USD as Binance spot prices: 156.25934903734785\n"
     ]
    }
   ],
   "source": [
    "test_ex = {ex_name: ex.copy() for ex_name, ex in exchanges.items()}\n",
    "init_agent = Agent(\n",
    "    holdings={tkn: 10000000 for tkn in [tkn for ex in [omnipool, twopool, fourpool, btcpool, kraken, binance] for tkn in ex.asset_list]}\n",
    ")\n",
    "test_agent = init_agent.copy()\n",
    "arb.execute_arb(test_ex, test_agent, all_swaps)\n",
    "\n",
    "equivalency_map = {\n",
    "    'XETH': 'ETH',\n",
    "    'WETH': 'ETH',\n",
    "    'WBTC': 'BTC',\n",
    "    'iBTC': 'BTC',\n",
    "    'XBT': 'BTC',\n",
    "    'XXBT': 'BTC',\n",
    "    'WBTC': 'BTC',\n",
    "    'ZUSD': 'USD',\n",
    "    'USDT': 'USD',\n",
    "    'USDC': 'USD',\n",
    "    'DAI': 'USD',\n",
    "    'USDT23': 'USD',\n",
    "    'USDT10': 'USD',\n",
    "    'USDC22': 'USD',\n",
    "    'USDC21': 'USD',\n",
    "    'DAI': 'USD',\n",
    "}\n",
    "\n",
    "profit = arb.calculate_profit(init_agent, test_agent, equivalency_map)\n",
    "print(\"profit in USD as Binance spot prices:\", exchanges['binance'].value_assets(profit, equivalency_map))\n",
    "\n",
    "# # try rerouting to see if we can squeeze some more profit out of it\n",
    "# agent3 = init_agent.copy()\n",
    "# state3 = init_state.copy()\n",
    "# cex_dict3 = {exchange: cex_dict[exchange].copy() for exchange in cex_dict}\n",
    "# all_swaps3 = arb.combine_swaps(\n",
    "#     dex=state3,\n",
    "#     cex=cex_dict3,\n",
    "#     agent=agent3,\n",
    "#     all_swaps=all_swaps2,\n",
    "#     asset_map=asset_map\n",
    "# )\n",
    "# arb.execute_arb(state3, cex_dict3, agent3, all_swaps3)\n",
    "# profit3 = arb.calculate_profit(init_agent, agent3, asset_map)\n",
    "\n",
    "# print(\"strategy 3 profit\")\n",
    "# print(profit3)\n",
    "# print(\"strategy 3 profit at Binance spot\")\n",
    "# print(cex_dict3['binance'].value_assets(profit3, asset_map))\n"
   ]
  },
  {
   "cell_type": "code",
   "execution_count": null,
   "id": "65cff3ee-0a13-40ee-901b-4d65f8a21b46",
   "metadata": {},
   "outputs": [],
   "source": []
  },
  {
   "cell_type": "code",
   "execution_count": null,
   "id": "b31588ff-f719-4e7e-8415-75fb9dd170de",
   "metadata": {},
   "outputs": [],
   "source": []
  }
 ],
 "metadata": {
  "kernelspec": {
   "display_name": "Python 3 (ipykernel)",
   "language": "python",
   "name": "python3"
  },
  "language_info": {
   "codemirror_mode": {
    "name": "ipython",
    "version": 3
   },
   "file_extension": ".py",
   "mimetype": "text/x-python",
   "name": "python",
   "nbconvert_exporter": "python",
   "pygments_lexer": "ipython3",
   "version": "3.9.7"
  }
 },
 "nbformat": 4,
 "nbformat_minor": 5
}
