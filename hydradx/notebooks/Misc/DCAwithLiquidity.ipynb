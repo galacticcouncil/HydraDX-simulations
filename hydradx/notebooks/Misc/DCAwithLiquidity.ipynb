{
 "cells": [
  {
   "cell_type": "markdown",
   "source": [
    "In this notebook we test what happens if a user provides liquidity for their own DCA, using the assets that they are trading."
   ],
   "metadata": {
    "collapsed": false
   },
   "id": "6c61ec317178233a"
  },
  {
   "cell_type": "code",
   "source": [
    "import sys\n",
    "sys.path.append('../../..')\n",
    "\n",
    "from hydradx.model.amm.omnipool_amm import OmnipoolState\n",
    "from hydradx.model.amm.agents import Agent\n",
    "from hydradx.model.amm.global_state import GlobalState\n",
    "from hydradx.model.amm.trade_strategies import dca_with_lping, omnipool_arbitrage\n",
    "from hydradx.model.run import run\n",
    "from mpmath import mpf, mp\n",
    "\n",
    "mp.dps = 50\n"
   ],
   "metadata": {
    "collapsed": false,
    "ExecuteTime": {
     "end_time": "2024-04-15T21:10:35.322439Z",
     "start_time": "2024-04-15T21:10:35.138316Z"
    }
   },
   "id": "d6ef9c14674bcc4f",
   "outputs": [],
   "execution_count": 1
  },
  {
   "cell_type": "code",
   "source": [
    "prices = {'DOT': 9, 'HDX': 0.02, 'USDT': 1, 'WETH': 3500, 'iBTC': 70000}\n",
    "\n",
    "assets = {\n",
    "    'DOT': {'usd price': prices['DOT'], 'weight': mpf(0.40)},\n",
    "    'HDX': {'usd price': prices['HDX'], 'weight': mpf(0.10)},\n",
    "    'USDT': {'usd price': prices['USDT'], 'weight': mpf(0.30)},\n",
    "    'WETH': {'usd price': prices['WETH'], 'weight': mpf(0.10)},\n",
    "    'iBTC': {'usd price': prices['iBTC'], 'weight': mpf(0.10)}\n",
    "}\n",
    "\n",
    "lrna_price_usd = 35\n",
    "initial_omnipool_tvl = 20000000\n",
    "liquidity = {}\n",
    "lrna = {}\n",
    "\n",
    "for tkn, info in assets.items():\n",
    "    liquidity[tkn] = initial_omnipool_tvl * info['weight'] / info['usd price']\n",
    "    lrna[tkn] = initial_omnipool_tvl * info['weight'] / lrna_price_usd\n",
    "\n",
    "init_pool = OmnipoolState(\n",
    "    tokens={tkn: {'liquidity': liquidity[tkn], 'LRNA': lrna[tkn]} for tkn in assets},\n",
    "    lrna_fee=0.0005,\n",
    "    asset_fee=0.0025,\n",
    "    withdrawal_fee=True,\n",
    "    preferred_stablecoin='USDT'\n",
    ")\n"
   ],
   "metadata": {
    "collapsed": false,
    "ExecuteTime": {
     "end_time": "2024-04-15T21:10:35.330335Z",
     "start_time": "2024-04-15T21:10:35.324006Z"
    }
   },
   "id": "cea80a57a87403a8",
   "outputs": [],
   "execution_count": 2
  },
  {
   "cell_type": "code",
   "source": [
    "\n",
    "sell_size = 0.1  # total amount sold as percentage of Omnipool liquidity\n",
    "tkn_sell = 'HDX'\n",
    "tkn_buy = 'USDT'\n",
    "trade_ct = 10000  # number of pieces trade is broken up into\n",
    "\n",
    "total_sell_amt = sell_size * init_pool.liquidity[tkn_sell]\n",
    "agent = Agent(holdings = {\"HDX\": mpf(total_sell_amt)})\n",
    "\n",
    "omnipool1 = init_pool.copy()\n",
    "omnipool2 = init_pool.copy()\n",
    "agent1 = agent.copy()\n",
    "agent2 = agent.copy()\n",
    "\n",
    "arb_agent = Agent(\n",
    "    holdings={tkn: mpf(omnipool1.liquidity[tkn])*10 for tkn in omnipool1.liquidity},\n",
    "    unique_id='arb_agent',\n",
    "    trade_strategy=omnipool_arbitrage('omnipool')\n",
    ")\n",
    "\n",
    "\n",
    "# add DOT liquidity\n",
    "omnipool1.add_liquidity(agent1, agent1.holdings[tkn_sell], tkn_sell)\n",
    "\n",
    "shares_amt_per_loop = agent1.holdings[('omnipool', tkn_sell)] / trade_ct\n",
    "\n",
    "agent1.trade_strategy = dca_with_lping('omnipool', tkn_sell, tkn_buy, shares_amt_per_loop)\n",
    "\n",
    "state = GlobalState(\n",
    "    agents={'arb_agent': arb_agent, 'agent': agent1},\n",
    "    pools={'omnipool': omnipool1},\n",
    "    external_market=prices\n",
    ")\n",
    "\n",
    "events = run(state, trade_ct*2)\n",
    "\n",
    "agent1final = events[-1].agents['agent']\n",
    "omnipool1final = events[-1].pools['omnipool']\n",
    "\n",
    "# remove USDT liquidity\n",
    "omnipool1final.remove_liquidity(agent1final, agent1final.holdings[('omnipool', tkn_buy)], tkn_buy)\n",
    "\n",
    "# sell LRNA for USDT\n",
    "omnipool1final.swap(agent1final, tkn_sell='LRNA', tkn_buy=tkn_buy, sell_quantity=agent1final.holdings['LRNA'])\n"
   ],
   "metadata": {
    "collapsed": false,
    "ExecuteTime": {
     "end_time": "2024-04-15T21:11:08.516921Z",
     "start_time": "2024-04-15T21:10:35.331288Z"
    }
   },
   "id": "2724f3c609c31c8f",
   "outputs": [
    {
     "name": "stdout",
     "output_type": "stream",
     "text": [
      "Starting simulation...\n",
      "Execution time: 33.164 seconds.\n"
     ]
    },
    {
     "data": {
      "text/plain": [
       "Omnipool: omnipool\n",
       "********************************\n",
       "tvl cap: inf\n",
       "LRNA imbalance: -181.70245513990755915368158798683578032478461250475\n",
       "lrna fee:\n",
       "\n",
       "    DOT: 0.05%\n",
       "    HDX: 0.05%\n",
       "    USDT: 0.05%\n",
       "    WETH: 0.05%\n",
       "    iBTC: 0.05%\n",
       "\n",
       "asset fee:\n",
       "\n",
       "    DOT: 0.25%\n",
       "    HDX: 0.25%\n",
       "    USDT: 0.25%\n",
       "    WETH: 0.25%\n",
       "    iBTC: 0.25%\n",
       "\n",
       "asset pools: (\n",
       "\n",
       "    *DOT*\n",
       "    asset quantity: 888888.888888889\n",
       "    lrna quantity: 228571.42857142858\n",
       "    USD price: 8.984768886735\n",
       "    weight: 228571.42857142858/571625.3718977205 (0.39986228710003147)\n",
       "    weight cap: 1\n",
       "    total shares: 888888.8888888889382321344277847351299391852484809\n",
       "    protocol shares: 888888.8888888889382321344277847351299391852484809\n",
       "\n",
       "    *HDX*\n",
       "    asset quantity: 100144306.8826822\n",
       "    lrna quantity: 57095.52172418676\n",
       "    USD price: 0.019920866541\n",
       "    weight: 57095.52172418676/571625.3718977205 (0.09988276331163747)\n",
       "    weight cap: 1\n",
       "    total shares: 100011274.11167736800737974687374039284328742472165\n",
       "    protocol shares: 100011274.11167736800737974687374039284328742472165\n",
       "\n",
       "    *USDT*\n",
       "    asset quantity: 5998376.21988068\n",
       "    lrna quantity: 171672.7073163909\n",
       "    USD price: 1.0\n",
       "    weight: 171672.7073163909/571625.3718977205 (0.3003238060383154)\n",
       "    weight cap: 1\n",
       "    total shares: 6003189.5379024383124889733668158381748452690462975\n",
       "    protocol shares: 6003189.5379024383124889733668158381748452690462974\n",
       "\n",
       "    *WETH*\n",
       "    asset quantity: 571.428571428571\n",
       "    lrna quantity: 57142.857142857145\n",
       "    USD price: 3494.07678928587\n",
       "    weight: 57142.857142857145/571625.3718977205 (0.09996557177500787)\n",
       "    weight cap: 1\n",
       "    total shares: 571.42857142857146029208641786161544067519051688058\n",
       "    protocol shares: 571.42857142857146029208641786161544067519051688058\n",
       "\n",
       "    *iBTC*\n",
       "    asset quantity: 28.571428571429\n",
       "    lrna quantity: 57142.857142857145\n",
       "    USD price: 69881.5357857174\n",
       "    weight: 57142.857142857145/571625.3718977205 (0.09996557177500787)\n",
       "    weight cap: 1\n",
       "    total shares: 28.571428571428573014604320893080772033759525844029\n",
       "    protocol shares: 28.571428571428573014604320893080772033759525844029\n",
       "\n",
       ")\n",
       "sub pools: (\n",
       "\n",
       "    \n",
       ")\n",
       "oracles: (\n",
       "    name: price\n",
       "    length: 19\n",
       "\n",
       ")\n",
       "\n",
       "error message: None"
      ]
     },
     "execution_count": 3,
     "metadata": {},
     "output_type": "execute_result"
    }
   ],
   "execution_count": 3
  },
  {
   "cell_type": "code",
   "source": [
    "omnipool2 = init_pool.copy()\n",
    "agent2 = agent.copy()\n",
    "\n",
    "arb_agent2 = Agent(\n",
    "    holdings={tkn: mpf(omnipool1.liquidity[tkn])*10 for tkn in omnipool1.liquidity},\n",
    "    unique_id='arb_agent',\n",
    "    trade_strategy=omnipool_arbitrage('omnipool')\n",
    ")\n",
    "\n",
    "sell_amt_per_loop = agent1.holdings[tkn_sell] / trade_ct\n",
    "\n",
    "for i in range(trade_ct):\n",
    "    omnipool2.swap(agent2, tkn_sell=tkn_sell, tkn_buy=tkn_buy, sell_quantity=sell_amt_per_loop)  # agent2 is only doing the trading\n",
    "    omnipool2.swap(arb_agent2, tkn_sell=tkn_buy, tkn_buy=tkn_sell, buy_quantity=sell_amt_per_loop*(1-0.003))  # arb_agent2 is undoing the swap\n",
    "\n",
    "# agent 2 sells remaining DOT for USDT\n",
    "omnipool2.swap(agent2, tkn_sell=tkn_sell, tkn_buy=tkn_buy, sell_quantity=agent2.holdings[tkn_sell])\n"
   ],
   "metadata": {
    "collapsed": false,
    "ExecuteTime": {
     "end_time": "2024-04-15T21:11:08.614639Z",
     "start_time": "2024-04-15T21:11:08.517982Z"
    }
   },
   "id": "109031c63a082c42",
   "outputs": [
    {
     "data": {
      "text/plain": [
       "Omnipool: omnipool\n",
       "********************************\n",
       "tvl cap: inf\n",
       "LRNA imbalance: 0.0\n",
       "lrna fee:\n",
       "\n",
       "    DOT: 0.05%\n",
       "    HDX: 0.05%\n",
       "    USDT: 0.05%\n",
       "    WETH: 0.05%\n",
       "    iBTC: 0.05%\n",
       "\n",
       "asset fee:\n",
       "\n",
       "    DOT: 0.25%\n",
       "    HDX: 0.25%\n",
       "    USDT: 0.25%\n",
       "    WETH: 0.25%\n",
       "    iBTC: 0.25%\n",
       "\n",
       "asset pools: (\n",
       "\n",
       "    *DOT*\n",
       "    asset quantity: 888888.888888889\n",
       "    lrna quantity: 228571.42857142858\n",
       "    USD price: 8.479265070625\n",
       "    weight: 228571.42857142858/571428.5714285715 (0.39999999999999997)\n",
       "    weight cap: 1\n",
       "    total shares: 888888.8888888889382321344277847351299391852484809\n",
       "    protocol shares: 888888.8888888889382321344277847351299391852484809\n",
       "\n",
       "    *HDX*\n",
       "    asset quantity: 110000000.0\n",
       "    lrna quantity: 51950.64935064935\n",
       "    USD price: 0.015573349924\n",
       "    weight: 51950.64935064935/571428.5714285715 (0.09091363636363635)\n",
       "    weight cap: 1\n",
       "    total shares: 100000000.00000000346944695195361411660147604826247\n",
       "    protocol shares: 100000000.00000000346944695195361411660147604826247\n",
       "\n",
       "    *USDT*\n",
       "    asset quantity: 5824056.01552964\n",
       "    lrna quantity: 176620.77922077922\n",
       "    USD price: 1.0\n",
       "    weight: 176620.77922077922/571428.5714285715 (0.3090863636363636)\n",
       "    weight cap: 1\n",
       "    total shares: 5999999.9999999997779553950749686919152736663818359\n",
       "    protocol shares: 5999999.9999999997779553950749686919152736663818359\n",
       "\n",
       "    *WETH*\n",
       "    asset quantity: 571.428571428571\n",
       "    lrna quantity: 57142.857142857145\n",
       "    USD price: 3297.491971909751\n",
       "    weight: 57142.857142857145/571428.5714285715 (0.09999999999999999)\n",
       "    weight cap: 1\n",
       "    total shares: 571.42857142857146029208641786161544067519051688058\n",
       "    protocol shares: 571.42857142857146029208641786161544067519051688058\n",
       "\n",
       "    *iBTC*\n",
       "    asset quantity: 28.571428571429\n",
       "    lrna quantity: 57142.857142857145\n",
       "    USD price: 65949.83943819502\n",
       "    weight: 57142.857142857145/571428.5714285715 (0.09999999999999999)\n",
       "    weight cap: 1\n",
       "    total shares: 28.571428571428573014604320893080772033759525844029\n",
       "    protocol shares: 28.571428571428573014604320893080772033759525844029\n",
       "\n",
       ")\n",
       "sub pools: (\n",
       "\n",
       "    \n",
       ")\n",
       "oracles: (\n",
       "    name: price\n",
       "    length: 19\n",
       "\n",
       ")\n",
       "\n",
       "error message: sell amount must be greater than zero"
      ]
     },
     "execution_count": 4,
     "metadata": {},
     "output_type": "execute_result"
    }
   ],
   "execution_count": 4
  },
  {
   "cell_type": "code",
   "source": [
    "from pprint import pprint\n",
    "\n",
    "# pprint(omnipool1)\n",
    "# pprint(omnipool2)\n",
    "pprint(agent1final.holdings)\n",
    "pprint(agent2.holdings)"
   ],
   "metadata": {
    "collapsed": false,
    "ExecuteTime": {
     "end_time": "2024-04-15T21:11:08.618979Z",
     "start_time": "2024-04-15T21:11:08.615831Z"
    }
   },
   "id": "4d5fb5aaa894af9",
   "outputs": [
    {
     "name": "stdout",
     "output_type": "stream",
     "text": [
      "{'DOT': 0,\n",
      " 'HDX': mpf('0.0'),\n",
      " 'LRNA': mpf('0.0'),\n",
      " 'USD': 0,\n",
      " 'USDT': mpf('198736.42792629632228757784131711667874584961904403873'),\n",
      " 'WETH': 0,\n",
      " 'iBTC': 0,\n",
      " ('omnipool', 'HDX'): mpf('0.0'),\n",
      " ('omnipool', 'USDT'): mpf('0.0')}\n",
      "{'HDX': mpf('0.0'),\n",
      " 'USDT': mpf('175943.98447035989494774259231601746620818571898243519')}\n"
     ]
    }
   ],
   "execution_count": 5
  },
  {
   "cell_type": "code",
   "source": [
    "lrna_prices = [event.pools['omnipool'].price(event.pools['omnipool'], 'LRNA', 'USDT') for event in events]\n",
    "pprint([lrna_prices[i] for i in range(0, len(lrna_prices), 1000)])"
   ],
   "metadata": {
    "collapsed": false,
    "ExecuteTime": {
     "end_time": "2024-04-15T21:11:08.820050Z",
     "start_time": "2024-04-15T21:11:08.619818Z"
    }
   },
   "id": "cf9c9cb54a98d92e",
   "outputs": [
    {
     "name": "stdout",
     "output_type": "stream",
     "text": [
      "[mpf('34.999767101427057872724108941317573159231474194282939'),\n",
      " mpf('34.992796034641425075876872043256281793600147915671942'),\n",
      " mpf('34.984285627511737173636095265984938870538273842854602'),\n",
      " mpf('34.974689883735910446095423604252570414097167898860359'),\n",
      " mpf('34.963794354282794423939987979366632384358473602896618'),\n",
      " mpf('34.951844707106313051515159083065088650079324934114366'),\n",
      " mpf('34.992138042197358459436830991200976708409242210298726'),\n",
      " mpf('34.97741157808571694776393232266531343480016151157854'),\n",
      " mpf('34.961676632497661347163896288307873005741729666213346'),\n",
      " mpf('34.996387974402178383324684369324145517624236456338492'),\n",
      " mpf('34.977736045337552705140781570401782497749304509347791'),\n",
      " mpf('34.977736045337552705140781570401782497749304509347791'),\n",
      " mpf('34.977736045337552705140781570401782497749304509347791'),\n",
      " mpf('34.977736045337552705140781570401782497749304509347791'),\n",
      " mpf('34.977736045337552705140781570401782497749304509347791'),\n",
      " mpf('34.977736045337552705140781570401782497749304509347791'),\n",
      " mpf('34.977736045337552705140781570401782497749304509347791'),\n",
      " mpf('34.977736045337552705140781570401782497749304509347791'),\n",
      " mpf('34.977736045337552705140781570401782497749304509347791'),\n",
      " mpf('34.977736045337552705140781570401782497749304509347791')]\n"
     ]
    }
   ],
   "execution_count": 6
  },
  {
   "cell_type": "code",
   "source": [],
   "metadata": {
    "collapsed": false,
    "ExecuteTime": {
     "end_time": "2024-04-15T21:11:08.822871Z",
     "start_time": "2024-04-15T21:11:08.821045Z"
    }
   },
   "id": "58aef37c54865787",
   "outputs": [],
   "execution_count": 6
  }
 ],
 "metadata": {
  "kernelspec": {
   "display_name": "Python 3",
   "language": "python",
   "name": "python3"
  },
  "language_info": {
   "codemirror_mode": {
    "name": "ipython",
    "version": 2
   },
   "file_extension": ".py",
   "mimetype": "text/x-python",
   "name": "python",
   "nbconvert_exporter": "python",
   "pygments_lexer": "ipython2",
   "version": "2.7.6"
  }
 },
 "nbformat": 4,
 "nbformat_minor": 5
}
