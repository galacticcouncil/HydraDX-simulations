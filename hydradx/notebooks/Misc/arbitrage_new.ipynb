{
 "cells": [
  {
   "cell_type": "code",
   "execution_count": 1,
   "id": "initial_id",
   "metadata": {
    "collapsed": true,
    "ExecuteTime": {
     "end_time": "2023-11-06T17:32:39.514004727Z",
     "start_time": "2023-11-06T17:32:39.371366655Z"
    }
   },
   "outputs": [],
   "source": [
    "from hydradx.model.amm.omnipool_amm import OmnipoolState\n",
    "from hydradx.model.amm.agents import Agent\n",
    "from hydradx.model.processing import get_kraken_orderbook, get_omnipool_data, get_kraken_orderbooks_from_file\n",
    "from hydradx.model.processing import get_omnipool_data_from_file\n",
    "from hydradx.model.amm.centralized_market import CentralizedMarket\n",
    "import hydradx.model.amm.arbitrage_agent as arb\n",
    "\n",
    "from pprint import pprint\n",
    "\n",
    "import json\n"
   ]
  },
  {
   "cell_type": "markdown",
   "source": [
    "Set `get_live_markets = True` to get live markets from Kraken. Set to `False` to use order books from file."
   ],
   "metadata": {
    "collapsed": false
   },
   "id": "fc7e81433023f150"
  },
  {
   "cell_type": "code",
   "execution_count": 2,
   "outputs": [],
   "source": [
    "get_live_markets = True"
   ],
   "metadata": {
    "collapsed": false,
    "ExecuteTime": {
     "end_time": "2023-11-06T17:32:39.560177960Z",
     "start_time": "2023-11-06T17:32:39.516038693Z"
    }
   },
   "id": "18db74c8acc41caf"
  },
  {
   "cell_type": "code",
   "execution_count": 3,
   "outputs": [],
   "source": [
    "with open('config/arbconfig.txt', 'r') as json_file:\n",
    "    arb_list = json.load(json_file)\n",
    "    \n",
    "for d in arb_list:\n",
    "    d['tkns'] = tuple(d['tkns'])\n",
    "    d['tkn_ids'] = tuple(d['tkn_ids'])\n",
    "    d['order_book'] = tuple(d['order_book'])\n",
    "\n",
    "ob_objs = {}\n",
    "order_book_asset_list = []\n",
    "buffer = {}\n",
    "\n",
    "\n",
    "if get_live_markets:\n",
    "    for arb_cfg in arb_list:\n",
    "        tkn_pair = arb_cfg['order_book']\n",
    "        buffer[arb_cfg['tkn_ids']] = arb_cfg['buffer']\n",
    "        if tkn_pair not in ob_objs:\n",
    "            order_book_url = 'https://api.kraken.com/0/public/Depth?pair=' + tkn_pair[0] + tkn_pair[1]\n",
    "            ob_objs[tkn_pair] = get_kraken_orderbook(tkn_pair, order_book_url)\n",
    "            for tkn in tkn_pair:\n",
    "                if tkn not in order_book_asset_list:\n",
    "                    order_book_asset_list.append(tkn)\n",
    "                    \n",
    "else:\n",
    "    ob_objs = get_kraken_orderbooks_from_file(\"data/input/\")\n",
    "    for arb_cfg in arb_list:\n",
    "        tkn_pair = arb_cfg['order_book']\n",
    "        buffer[arb_cfg['tkn_ids']] = arb_cfg['buffer']\n",
    "        for tkn in tkn_pair:\n",
    "            if tkn not in order_book_asset_list:\n",
    "                order_book_asset_list.append(tkn)    \n",
    "                \n"
   ],
   "metadata": {
    "collapsed": false,
    "ExecuteTime": {
     "end_time": "2023-11-06T17:32:44.644186263Z",
     "start_time": "2023-11-06T17:32:39.560020635Z"
    }
   },
   "id": "30c3ae5c6fb4044d"
  },
  {
   "cell_type": "code",
   "execution_count": 4,
   "outputs": [
    {
     "name": "stdout",
     "output_type": "stream",
     "text": [
      "{'ASTR': {'LRNA': 9824.618173350555, 'liquidity': 4306879.467997363},\n",
      " 'BNC': {'LRNA': 6478.407555998693, 'liquidity': 743710.61189332},\n",
      " 'CFG': {'LRNA': 9644.287327032263, 'liquidity': 578192.5086460515},\n",
      " 'DAI': {'LRNA': 12746.834204410668, 'liquidity': 342229.44890939427},\n",
      " 'DAI001': {'LRNA': 1407.281258338137, 'liquidity': 37585.53464434876},\n",
      " 'DOT': {'LRNA': 74101.67096335412, 'liquidity': 409639.9209860777},\n",
      " 'GLMR': {'LRNA': 5501.226173900758, 'liquidity': 646720.3849887631},\n",
      " 'HDX': {'LRNA': 20730.435281051494, 'liquidity': 110772155.27550475},\n",
      " 'INTR': {'LRNA': 8447.895321616961, 'liquidity': 13531676.459425623},\n",
      " 'USDT': {'LRNA': 84101.29882502937, 'liquidity': 2263795.3901},\n",
      " 'WBTC': {'LRNA': 50.601798806111, 'liquidity': 0.04374934},\n",
      " 'WBTC001': {'LRNA': 41131.3973567739, 'liquidity': 31.59789218},\n",
      " 'WETH': {'LRNA': 21570.158913662108, 'liquidity': 307.1702895389879},\n",
      " 'WETH001': {'LRNA': 71629.38537746701, 'liquidity': 1018.4215907731863},\n",
      " 'ZTG': {'LRNA': 4471.602299974217, 'liquidity': 3183272.944770405},\n",
      " 'iBTC': {'LRNA': 34613.973989660815, 'liquidity': 26.20494826},\n",
      " 'vDOT': {'LRNA': 21969.99408146899, 'liquidity': 100372.1930135641}}\n",
      "{('ASTR', 'DAI'): 0.001,\n",
      " ('ASTR', 'DAI001'): 0.001,\n",
      " ('ASTR', 'USDT'): 0.001,\n",
      " ('BNC', 'DAI'): 0.001,\n",
      " ('BNC', 'DAI001'): 0.001,\n",
      " ('BNC', 'USDT'): 0.001,\n",
      " ('CFG', 'DAI'): 0.001,\n",
      " ('CFG', 'DAI001'): 0.001,\n",
      " ('CFG', 'USDT'): 0.001,\n",
      " ('DOT', 'DAI'): 0.001,\n",
      " ('DOT', 'DAI001'): 0.001,\n",
      " ('DOT', 'USDT'): 0.001,\n",
      " ('DOT', 'WBTC001'): 0.001,\n",
      " ('DOT', 'WETH'): 0.001,\n",
      " ('DOT', 'WETH001'): 0.001,\n",
      " ('DOT', 'iBTC'): 0.001,\n",
      " ('GLMR', 'DAI'): 0.001,\n",
      " ('GLMR', 'DAI001'): 0.001,\n",
      " ('GLMR', 'USDT'): 0.001,\n",
      " ('HDX', 'DAI'): 0.001,\n",
      " ('HDX', 'DAI001'): 0.001,\n",
      " ('HDX', 'USDT'): 0.001,\n",
      " ('WBTC001', 'DAI'): 0.001,\n",
      " ('WBTC001', 'DAI001'): 0.001,\n",
      " ('WBTC001', 'USDT'): 0.001,\n",
      " ('WETH', 'DAI'): 0.001,\n",
      " ('WETH', 'DAI001'): 0.001,\n",
      " ('WETH', 'USDT'): 0.001,\n",
      " ('WETH', 'WBTC001'): 0.001,\n",
      " ('WETH', 'iBTC'): 0.001,\n",
      " ('WETH001', 'DAI'): 0.001,\n",
      " ('WETH001', 'DAI001'): 0.001,\n",
      " ('WETH001', 'USDT'): 0.001,\n",
      " ('WETH001', 'WBTC001'): 0.001,\n",
      " ('WETH001', 'iBTC'): 0.001,\n",
      " ('iBTC', 'DAI'): 0.001,\n",
      " ('iBTC', 'DAI001'): 0.001,\n",
      " ('iBTC', 'USDT'): 0.001}\n"
     ]
    }
   ],
   "source": [
    "RPC=\"wss://hydradx-rpc.dwellir.com\"\n",
    "N = 24\n",
    "            \n",
    "if get_live_markets:\n",
    "    asset_list, asset_map, tokens, fees = get_omnipool_data(RPC, N, archive=True)\n",
    "else:\n",
    "    asset_list, asset_map, tokens, fees = get_omnipool_data_from_file(\"data/input/\")\n",
    "    \n",
    "buffer2 = {(asset_map[k[0]], asset_map[k[1]]): v for k, v in buffer.items()}\n",
    "pprint(tokens)\n",
    "pprint(buffer2)\n"
   ],
   "metadata": {
    "collapsed": false,
    "ExecuteTime": {
     "end_time": "2023-11-06T17:33:41.186060039Z",
     "start_time": "2023-11-06T17:32:44.648681365Z"
    }
   },
   "id": "a026335ac28fa9d4"
  },
  {
   "cell_type": "code",
   "execution_count": 5,
   "outputs": [],
   "source": [
    "\n",
    "\n",
    "cex_fee = 0.0016\n",
    "# buffer = 0.0010\n",
    "\n",
    "lrna_fee={asset: fees[asset]['protocol_fee'] for asset in asset_list}\n",
    "asset_fee={asset: fees[asset]['asset_fee'] for asset in asset_list}\n",
    "\n",
    "# lrna_fee = 0.0\n",
    "# asset_fee = 0.0\n",
    "# cex_fee = 0.0\n",
    "# buffer = 0.0\n",
    "\n",
    "\n",
    "cex = CentralizedMarket(\n",
    "    order_book=ob_objs,\n",
    "    asset_list=order_book_asset_list,\n",
    "    trade_fee=cex_fee\n",
    ")\n",
    "\n",
    "op_state = OmnipoolState(\n",
    "    tokens=tokens,\n",
    "    lrna_fee = lrna_fee,\n",
    "    asset_fee = asset_fee,\n",
    "    preferred_stablecoin='USDT',\n",
    ")\n",
    "\n",
    "init_state = op_state.copy()\n"
   ],
   "metadata": {
    "collapsed": false,
    "ExecuteTime": {
     "end_time": "2023-11-06T17:33:41.192580882Z",
     "start_time": "2023-11-06T17:33:41.191412015Z"
    }
   },
   "id": "68064af1cadd64fc"
  },
  {
   "cell_type": "code",
   "execution_count": 6,
   "outputs": [
    {
     "name": "stdout",
     "output_type": "stream",
     "text": [
      "{('ASTR', 'DAI'): ('ASTR', 'USD'),\n",
      " ('ASTR', 'DAI001'): ('ASTR', 'USD'),\n",
      " ('ASTR', 'USDT'): ('ASTR', 'USD'),\n",
      " ('BNC', 'DAI'): ('BNC', 'USD'),\n",
      " ('BNC', 'DAI001'): ('BNC', 'USD'),\n",
      " ('BNC', 'USDT'): ('BNC', 'USD'),\n",
      " ('CFG', 'DAI'): ('CFG', 'USD'),\n",
      " ('CFG', 'DAI001'): ('CFG', 'USD'),\n",
      " ('CFG', 'USDT'): ('CFG', 'USD'),\n",
      " ('DOT', 'DAI'): ('DOT', 'USD'),\n",
      " ('DOT', 'DAI001'): ('DOT', 'USD'),\n",
      " ('DOT', 'USDT'): ('DOT', 'USD'),\n",
      " ('DOT', 'WBTC001'): ('DOT', 'XBT'),\n",
      " ('DOT', 'WETH'): ('DOT', 'ETH'),\n",
      " ('DOT', 'WETH001'): ('DOT', 'ETH'),\n",
      " ('DOT', 'iBTC'): ('DOT', 'XBT'),\n",
      " ('GLMR', 'DAI'): ('GLMR', 'USD'),\n",
      " ('GLMR', 'DAI001'): ('GLMR', 'USD'),\n",
      " ('GLMR', 'USDT'): ('GLMR', 'USD'),\n",
      " ('HDX', 'DAI'): ('HDX', 'USD'),\n",
      " ('HDX', 'DAI001'): ('HDX', 'USD'),\n",
      " ('HDX', 'USDT'): ('HDX', 'USD'),\n",
      " ('WBTC001', 'DAI'): ('XXBT', 'ZUSD'),\n",
      " ('WBTC001', 'DAI001'): ('XXBT', 'ZUSD'),\n",
      " ('WBTC001', 'USDT'): ('XXBT', 'ZUSD'),\n",
      " ('WETH', 'DAI'): ('XETH', 'ZUSD'),\n",
      " ('WETH', 'DAI001'): ('XETH', 'ZUSD'),\n",
      " ('WETH', 'USDT'): ('XETH', 'ZUSD'),\n",
      " ('WETH', 'WBTC001'): ('XETH', 'XXBT'),\n",
      " ('WETH', 'iBTC'): ('XETH', 'XXBT'),\n",
      " ('WETH001', 'DAI'): ('XETH', 'ZUSD'),\n",
      " ('WETH001', 'DAI001'): ('XETH', 'ZUSD'),\n",
      " ('WETH001', 'USDT'): ('XETH', 'ZUSD'),\n",
      " ('WETH001', 'WBTC001'): ('XETH', 'XXBT'),\n",
      " ('WETH001', 'iBTC'): ('XETH', 'XXBT'),\n",
      " ('iBTC', 'DAI'): ('XXBT', 'ZUSD'),\n",
      " ('iBTC', 'DAI001'): ('XXBT', 'ZUSD'),\n",
      " ('iBTC', 'USDT'): ('XXBT', 'ZUSD')}\n"
     ]
    }
   ],
   "source": [
    "order_book_map = {}\n",
    "for i in range(len(arb_list)):\n",
    "    base_id, quote_id = arb_list[i]['tkn_ids']\n",
    "    orderbook_tkn_pair = arb_list[i]['order_book']\n",
    "    if base_id in asset_map and quote_id in asset_map:\n",
    "        tkn_pair = (asset_map[base_id], asset_map[quote_id])\n",
    "        order_book_map[tkn_pair] = orderbook_tkn_pair \n",
    "    \n",
    "pprint(order_book_map)"
   ],
   "metadata": {
    "collapsed": false,
    "ExecuteTime": {
     "end_time": "2023-11-06T17:33:41.235835386Z",
     "start_time": "2023-11-06T17:33:41.195283385Z"
    }
   },
   "id": "5c34a29fa3c15b8"
  },
  {
   "cell_type": "code",
   "execution_count": 7,
   "outputs": [
    {
     "name": "stdout",
     "output_type": "stream",
     "text": [
      "[{'dex': {'trade': 'buy', 'buy_asset': 'DOT', 'sell_asset': 'DAI001', 'price': 4.8631, 'amount': 3.3563813821392063, 'max_sell': 16.280937680661676}, 'cex': {'trade': 'sell', 'buy_asset': 'USD', 'sell_asset': 'DOT', 'price': 4.86066845, 'amount': 3.3563813821392063}}, {'dex': {'trade': 'buy', 'buy_asset': 'WETH', 'sell_asset': 'DAI001', 'price': 1893.55, 'amount': 0.029126212192535396, 'max_sell': 54.95035664069652}, 'cex': {'trade': 'sell', 'buy_asset': 'ZUSD', 'sell_asset': 'XETH', 'price': 1892.603225, 'amount': 0.029126212192535396}}, {'dex': {'trade': 'sell', 'buy_asset': 'USDT', 'sell_asset': 'iBTC', 'price': 34995.1, 'amount': 0.09479474900054932, 'min_buy': 3341.5944497222904}, 'cex': {'trade': 'buy', 'buy_asset': 'XXBT', 'sell_asset': 'ZUSD', 'price': 35012.59755, 'amount': 0.09479474900054932}}, {'dex': {'trade': 'sell', 'buy_asset': 'DAI', 'sell_asset': 'iBTC', 'price': 34995.1, 'amount': 0.0016773966008223943, 'min_buy': 58.83807632529736}, 'cex': {'trade': 'buy', 'buy_asset': 'XXBT', 'sell_asset': 'ZUSD', 'price': 35012.59755, 'amount': 0.0016773966008223943}}, {'dex': {'trade': 'buy', 'buy_asset': 'DOT', 'sell_asset': 'iBTC', 'price': 0.00013903, 'amount': 1.41, 'max_sell': 0.0001952431797981262}, 'cex': {'trade': 'sell', 'buy_asset': 'XBT', 'sell_asset': 'DOT', 'price': 0.000138960485, 'amount': 1.41}}, {'dex': {'trade': 'buy', 'buy_asset': 'DOT', 'sell_asset': 'iBTC', 'price': 0.00013896, 'amount': 12.0, 'max_sell': 0.001661654233932495}, 'cex': {'trade': 'sell', 'buy_asset': 'XBT', 'sell_asset': 'DOT', 'price': 0.00013889052000000003, 'amount': 12.0}}, {'dex': {'trade': 'buy', 'buy_asset': 'DOT', 'sell_asset': 'iBTC', 'price': 0.00013895, 'amount': 81.78710996606446, 'max_sell': 0.011333288133144378}, 'cex': {'trade': 'sell', 'buy_asset': 'XBT', 'sell_asset': 'DOT', 'price': 0.000138880525, 'amount': 81.78710996606446}}, {'dex': {'trade': 'buy', 'buy_asset': 'WETH', 'sell_asset': 'iBTC', 'price': 0.05411, 'amount': 0.3312017578144074, 'max_sell': 0.017852287352085112}, 'cex': {'trade': 'sell', 'buy_asset': 'XXBT', 'sell_asset': 'XETH', 'price': 0.054082945, 'amount': 0.3312017578144074}}, {'dex': {'trade': 'buy', 'buy_asset': 'WETH001', 'sell_asset': 'iBTC', 'price': 0.05411, 'amount': 0.12579653553749548, 'max_sell': 0.006789978146553039}, 'cex': {'trade': 'sell', 'buy_asset': 'XXBT', 'sell_asset': 'XETH', 'price': 0.054082945, 'amount': 0.12579653553749548}}, {'dex': {'trade': 'buy', 'buy_asset': 'ASTR', 'sell_asset': 'USDT', 'price': 0.0616, 'amount': 1080.3108839029182, 'max_sell': 66.3887081463933}, 'cex': {'trade': 'sell', 'buy_asset': 'USD', 'sell_asset': 'ASTR', 'price': 0.061569200000000004, 'amount': 1080.3108839029182}}, {'dex': {'trade': 'buy', 'buy_asset': 'ASTR', 'sell_asset': 'DAI', 'price': 0.0616, 'amount': 25.689262490039177, 'max_sell': 1.579116581082344}, 'cex': {'trade': 'sell', 'buy_asset': 'USD', 'sell_asset': 'ASTR', 'price': 0.061569200000000004, 'amount': 25.689262490039177}}, {'dex': {'trade': 'buy', 'buy_asset': 'ASTR', 'sell_asset': 'DAI001', 'price': 0.0616, 'amount': 300.2230706385087, 'max_sell': 18.444559028863907}, 'cex': {'trade': 'sell', 'buy_asset': 'USD', 'sell_asset': 'ASTR', 'price': 0.061569200000000004, 'amount': 300.2230706385087}}, {'dex': {'trade': 'sell', 'buy_asset': 'USDT', 'sell_asset': 'BNC', 'price': 0.232, 'amount': 80.303, 'min_buy': 18.706765519142152}, 'cex': {'trade': 'buy', 'buy_asset': 'BNC', 'sell_asset': 'USD', 'price': 0.232116, 'amount': 80.303}}, {'dex': {'trade': 'sell', 'buy_asset': 'USDT', 'sell_asset': 'GLMR', 'price': 0.227, 'amount': 8.085481384372711, 'min_buy': 1.8394542825222016}, 'cex': {'trade': 'buy', 'buy_asset': 'GLMR', 'sell_asset': 'USD', 'price': 0.2271135, 'amount': 8.085481384372711}}, {'dex': {'trade': 'sell', 'buy_asset': 'DAI', 'sell_asset': 'GLMR', 'price': 0.227, 'amount': 22.71735764803477, 'min_buy': 5.167922773063183}, 'cex': {'trade': 'buy', 'buy_asset': 'GLMR', 'sell_asset': 'USD', 'price': 0.2271135, 'amount': 22.71735764803477}}]\n",
      "15\n",
      "strategy 2\n",
      "[{'cex': {'amount': 1.1352904020004275,\n",
      "          'buy_asset': 'XXBT',\n",
      "          'price': 0.054082945,\n",
      "          'sell_asset': 'XETH',\n",
      "          'trade': 'sell'},\n",
      "  'dex': {'amount': 1.1352904020004275,\n",
      "          'buy_asset': 'WETH',\n",
      "          'max_sell': 0.060933285355567926,\n",
      "          'price': 0.05411,\n",
      "          'sell_asset': 'iBTC',\n",
      "          'trade': 'buy'}},\n",
      " {'cex': {'amount': 0.9614788805907883,\n",
      "          'buy_asset': 'XXBT',\n",
      "          'price': 0.054082945,\n",
      "          'sell_asset': 'XETH',\n",
      "          'trade': 'sell'},\n",
      "  'dex': {'amount': 0.9614788805907883,\n",
      "          'buy_asset': 'WETH001',\n",
      "          'max_sell': 0.051765323996543884,\n",
      "          'price': 0.05411,\n",
      "          'sell_asset': 'iBTC',\n",
      "          'trade': 'buy'}},\n",
      " {'cex': {'amount': 1455.7364952824041,\n",
      "          'buy_asset': 'USD',\n",
      "          'price': 0.061569200000000004,\n",
      "          'sell_asset': 'ASTR',\n",
      "          'trade': 'sell'},\n",
      "  'dex': {'amount': 1455.7364952824041,\n",
      "          'buy_asset': 'ASTR',\n",
      "          'max_sell': 89.24288197928666,\n",
      "          'price': 0.0616,\n",
      "          'sell_asset': 'DAI001',\n",
      "          'trade': 'buy'}},\n",
      " {'cex': {'amount': 80.303,\n",
      "          'buy_asset': 'BNC',\n",
      "          'price': 0.232116,\n",
      "          'sell_asset': 'USD',\n",
      "          'trade': 'buy'},\n",
      "  'dex': {'amount': 80.303,\n",
      "          'buy_asset': 'USDT',\n",
      "          'min_buy': 18.761109809577466,\n",
      "          'price': 0.232,\n",
      "          'sell_asset': 'BNC',\n",
      "          'trade': 'sell'}},\n",
      " {'cex': {'amount': 889.2669528543702,\n",
      "          'buy_asset': 'GLMR',\n",
      "          'price': 0.2271135,\n",
      "          'sell_asset': 'USD',\n",
      "          'trade': 'buy'},\n",
      "  'dex': {'amount': 889.2669528543702,\n",
      "          'buy_asset': 'USDT',\n",
      "          'min_buy': 202.6026458514929,\n",
      "          'price': 0.227,\n",
      "          'sell_asset': 'GLMR',\n",
      "          'trade': 'sell'}},\n",
      " {'cex': {'amount': 0.013130777135849,\n",
      "          'buy_asset': 'XXBT',\n",
      "          'price': 35012.59755,\n",
      "          'sell_asset': 'ZUSD',\n",
      "          'trade': 'buy'},\n",
      "  'dex': {'amount': 0.013130777135849,\n",
      "          'buy_asset': 'USDT',\n",
      "          'min_buy': 460.8456638147831,\n",
      "          'price': 34995.1,\n",
      "          'sell_asset': 'iBTC',\n",
      "          'trade': 'sell'}}]\n",
      "6\n"
     ]
    }
   ],
   "source": [
    "cex1 = cex.copy()\n",
    "op_state1 = op_state.copy()\n",
    "all_swaps1 = arb.get_arb_swaps_simple(op_state1, cex1, order_book_map, buffer=buffer2)\n",
    "# tot_swaps = 0\n",
    "# for tkn_pair in all_swaps1:\n",
    "#     if all_swaps1[tkn_pair]:\n",
    "#         print(tkn_pair)\n",
    "#         print(all_swaps1[tkn_pair])\n",
    "#         tot_swaps += len(all_swaps1[tkn_pair])\n",
    "# print(tot_swaps)\n",
    "print(all_swaps1)\n",
    "print(len(all_swaps1))\n",
    "\n",
    "cex2 = cex.copy()\n",
    "op_state2 = op_state.copy()\n",
    "all_swaps2 = arb.get_arb_swaps(op_state2, cex2, order_book_map, buffer=buffer2)\n",
    "print(\"strategy 2\")\n",
    "pprint(all_swaps2)\n",
    "pprint(len(all_swaps2))"
   ],
   "metadata": {
    "collapsed": false,
    "ExecuteTime": {
     "end_time": "2023-11-06T17:33:41.548043653Z",
     "start_time": "2023-11-06T17:33:41.212689165Z"
    }
   },
   "id": "ef086a726e0e13be"
  },
  {
   "cell_type": "code",
   "execution_count": 8,
   "outputs": [
    {
     "name": "stdout",
     "output_type": "stream",
     "text": [
      "strategy 1 profit\n",
      "{'HDX': 0, 'USD': 21.022851586341858, 'BTC': 8.177757263183594e-05, 'ETH': 0.0, 'DOT': 0.0, 'ASTR': 0.0, 'ZTG': 0, 'CFG': 0, 'BNC': 0.0, 'vDOT': 0, 'GLMR': 0.0, 'INTR': 0}\n",
      "strategy 1 profit at Omnipool spot\n",
      "23.561458135405086\n",
      "strategy 2 profit\n",
      "{'HDX': 0, 'USD': 1.7875386476516724, 'BTC': 0.0006322860717773438, 'ETH': 0.0, 'DOT': 0, 'ASTR': 0.0, 'ZTG': 0, 'CFG': 0, 'BNC': 0.0, 'vDOT': 0, 'GLMR': 0.0, 'INTR': 0}\n",
      "strategy 2 profit at Omnipool spot\n",
      "21.460977494608105\n"
     ]
    }
   ],
   "source": [
    "state1 = init_state.copy()\n",
    "state2 = init_state.copy()\n",
    "holdings = {asset: 1000000000 for asset in asset_list + order_book_asset_list}\n",
    "init_agent = Agent(holdings=holdings, unique_id='bot')\n",
    "agent1 = init_agent.copy()\n",
    "agent2 = init_agent.copy()\n",
    "cex1 = cex.copy()\n",
    "cex2 = cex.copy()\n",
    "\n",
    "arb.execute_arb(state1, cex1, agent1, all_swaps1)\n",
    "arb.execute_arb(state2, cex2, agent2, all_swaps2)\n",
    "\n",
    "asset_map = {'WETH': 'ETH',\n",
    "             'XETH': 'ETH',\n",
    "             'XXBT': 'BTC',\n",
    "             'WBTC': 'BTC',\n",
    "             'ZUSD': 'USD',\n",
    "             'USDT': 'USD',\n",
    "             'USDC': 'USD',\n",
    "             'DAI': 'USD',\n",
    "             'USDT001': 'USD',\n",
    "             'DAI001': 'USD',\n",
    "             'WETH001': 'ETH',\n",
    "             'WBTC001': 'BTC',\n",
    "             'iBTC': 'BTC',\n",
    "             'XBT': 'BTC',}\n",
    "\n",
    "profit1 = arb.calculate_profit(init_agent, agent1, asset_map)\n",
    "profit2 = arb.calculate_profit(init_agent, agent2, asset_map)\n",
    "\n",
    "asset_map_omnipool = {\n",
    "    'ETH': 'WETH',\n",
    "    'XETH': 'WETH',\n",
    "    'XXBT': 'WBTC',\n",
    "    'BTC': 'WBTC',\n",
    "    'ZUSD': 'USDT',\n",
    "    'USD': 'USDT',\n",
    "    'USDC': 'USDT',\n",
    "    'DAI': 'USDT',\n",
    "    'USDT001': 'USDT',\n",
    "    'DAI001': 'USDT',\n",
    "    'WETH001': 'WETH',\n",
    "    'WBTC001': 'WBTC',\n",
    "    'iBTC': 'WBTC',\n",
    "    'XBT': 'WBTC',\n",
    "}\n",
    "\n",
    "\n",
    "profit1_omnipool = arb.calculate_profit(init_agent, agent1, asset_map_omnipool)\n",
    "profit2_omnipool = arb.calculate_profit(init_agent, agent2, asset_map_omnipool)\n",
    "\n",
    "print(\"strategy 1 profit\")\n",
    "print(profit1)\n",
    "print(\"strategy 1 profit at Omnipool spot\")\n",
    "print(sum([profit1_omnipool[asset] * state1.price(state1, asset, 'USDT') for asset in profit1_omnipool]))\n",
    "print(\"strategy 2 profit\")\n",
    "print(profit2)\n",
    "print(\"strategy 2 profit at Omnipool spot\")\n",
    "print(sum([profit2_omnipool[asset] * state2.price(state2, asset, 'USDT') for asset in profit2_omnipool]))\n",
    "            "
   ],
   "metadata": {
    "collapsed": false,
    "ExecuteTime": {
     "end_time": "2023-11-06T17:33:41.616184328Z",
     "start_time": "2023-11-06T17:33:41.571637650Z"
    }
   },
   "id": "8d4817129c26f839"
  },
  {
   "cell_type": "code",
   "execution_count": 8,
   "outputs": [],
   "source": [],
   "metadata": {
    "collapsed": false,
    "ExecuteTime": {
     "end_time": "2023-11-06T17:33:41.617007175Z",
     "start_time": "2023-11-06T17:33:41.615829484Z"
    }
   },
   "id": "6859a12bc8fb05f2"
  }
 ],
 "metadata": {
  "kernelspec": {
   "display_name": "Python 3",
   "language": "python",
   "name": "python3"
  },
  "language_info": {
   "codemirror_mode": {
    "name": "ipython",
    "version": 2
   },
   "file_extension": ".py",
   "mimetype": "text/x-python",
   "name": "python",
   "nbconvert_exporter": "python",
   "pygments_lexer": "ipython2",
   "version": "2.7.6"
  }
 },
 "nbformat": 4,
 "nbformat_minor": 5
}
