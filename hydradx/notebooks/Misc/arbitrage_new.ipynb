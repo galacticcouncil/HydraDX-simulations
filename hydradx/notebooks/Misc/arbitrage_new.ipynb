{
 "cells": [
  {
   "cell_type": "code",
   "execution_count": 1,
   "id": "initial_id",
   "metadata": {
    "collapsed": true,
    "ExecuteTime": {
     "end_time": "2023-11-06T22:44:57.216044232Z",
     "start_time": "2023-11-06T22:44:57.058583703Z"
    }
   },
   "outputs": [],
   "source": [
    "from hydradx.model.amm.omnipool_amm import OmnipoolState\n",
    "from hydradx.model.amm.agents import Agent\n",
    "from hydradx.model.processing import get_kraken_orderbook, get_omnipool_data, get_kraken_orderbooks_from_file\n",
    "from hydradx.model.processing import get_omnipool_data_from_file\n",
    "from hydradx.model.amm.centralized_market import CentralizedMarket\n",
    "import hydradx.model.amm.arbitrage_agent as arb\n",
    "\n",
    "from pprint import pprint\n",
    "\n",
    "import json\n"
   ]
  },
  {
   "cell_type": "markdown",
   "source": [
    "Set `get_live_markets = True` to get live markets from Kraken. Set to `False` to use order books from file."
   ],
   "metadata": {
    "collapsed": false
   },
   "id": "fc7e81433023f150"
  },
  {
   "cell_type": "code",
   "execution_count": 2,
   "outputs": [],
   "source": [
    "get_live_markets = False"
   ],
   "metadata": {
    "collapsed": false,
    "ExecuteTime": {
     "end_time": "2023-11-06T22:44:57.263876707Z",
     "start_time": "2023-11-06T22:44:57.217960889Z"
    }
   },
   "id": "18db74c8acc41caf"
  },
  {
   "cell_type": "code",
   "execution_count": 3,
   "outputs": [],
   "source": [
    "# 2: Acala DAI\n",
    "# 3: Acala WBTC\n",
    "# 4: Acala WETH\n",
    "# 5: DOT\n",
    "# 9: ASTR\n",
    "# 10: native USDT\n",
    "# 11: iBTC\n",
    "# 12: ZTG\n",
    "# 13: CFG\n",
    "# 14: BNC\n",
    "# 15: vDOT\n",
    "# 16: GLMR\n",
    "# 17: INTR\n",
    "# 18: Wormhole DAI\n",
    "# 19: Wormhole WBTC\n",
    "# 20: Wormhole WETH\n",
    "# 100: 4-Pool"
   ],
   "metadata": {
    "collapsed": false,
    "ExecuteTime": {
     "end_time": "2023-11-06T22:44:57.264128509Z",
     "start_time": "2023-11-06T22:44:57.263690151Z"
    }
   },
   "id": "9dc03998f1523a18"
  },
  {
   "cell_type": "code",
   "execution_count": 4,
   "outputs": [],
   "source": [
    "arb_file = \"arbconfig.txt\"\n",
    "# arb_file = \"arbconfig2.txt\"\n",
    "with open('config/' + arb_file, 'r') as json_file:\n",
    "    arb_list = json.load(json_file)\n",
    "    \n",
    "for d in arb_list:\n",
    "    d['tkns'] = tuple(d['tkns'])\n",
    "    d['tkn_ids'] = tuple(d['tkn_ids'])\n",
    "    d['order_book'] = tuple(d['order_book'])\n",
    "\n",
    "ob_objs = {}\n",
    "order_book_asset_list = []\n",
    "buffer = {}\n",
    "\n",
    "if get_live_markets:\n",
    "    for arb_cfg in arb_list:\n",
    "        tkn_pair = arb_cfg['order_book']\n",
    "        buffer[(arb_cfg['tkn_ids'],tkn_pair)] = arb_cfg['buffer']\n",
    "        if tkn_pair not in ob_objs:\n",
    "            order_book_url = 'https://api.kraken.com/0/public/Depth?pair=' + tkn_pair[0] + tkn_pair[1]\n",
    "            ob_objs[tkn_pair] = get_kraken_orderbook(tkn_pair, order_book_url, archive=True)\n",
    "            for tkn in tkn_pair:\n",
    "                if tkn not in order_book_asset_list:\n",
    "                    order_book_asset_list.append(tkn)\n",
    "                    \n",
    "else:\n",
    "    ob_objs = get_kraken_orderbooks_from_file(\"data/input/\")\n",
    "    for arb_cfg in arb_list:\n",
    "        tkn_pair = arb_cfg['order_book']\n",
    "        buffer[(arb_cfg['tkn_ids'],tkn_pair)] = arb_cfg['buffer']\n",
    "        for tkn in tkn_pair:\n",
    "            if tkn not in order_book_asset_list:\n",
    "                order_book_asset_list.append(tkn)    \n",
    "                \n"
   ],
   "metadata": {
    "collapsed": false,
    "ExecuteTime": {
     "end_time": "2023-11-06T22:44:57.318140944Z",
     "start_time": "2023-11-06T22:44:57.263835919Z"
    }
   },
   "id": "30c3ae5c6fb4044d"
  },
  {
   "cell_type": "code",
   "execution_count": 5,
   "outputs": [
    {
     "name": "stdout",
     "output_type": "stream",
     "text": [
      "{'ASTR': {'LRNA': 10052.666399219233, 'liquidity': 4209558.806607721},\n",
      " 'BNC': {'LRNA': 6611.170221040792, 'liquidity': 728813.1700280587},\n",
      " 'CFG': {'LRNA': 9583.605283154326, 'liquidity': 581942.6487409393},\n",
      " 'DAI': {'LRNA': 12729.170373814593, 'liquidity': 342704.3489093943},\n",
      " 'DAI001': {'LRNA': 1407.281258338137, 'liquidity': 37585.53464434876},\n",
      " 'DOT': {'LRNA': 74148.64528120212, 'liquidity': 409408.5096801377},\n",
      " 'GLMR': {'LRNA': 5519.295202377258, 'liquidity': 644608.4426455151},\n",
      " 'HDX': {'LRNA': 20832.30379193331, 'liquidity': 110230487.17111325},\n",
      " 'INTR': {'LRNA': 8466.186563507488, 'liquidity': 13502523.860204168},\n",
      " 'USDT': {'LRNA': 83846.63411263155, 'liquidity': 2270681.588047},\n",
      " 'WBTC': {'LRNA': 50.601798806111, 'liquidity': 0.04374934},\n",
      " 'WBTC001': {'LRNA': 41157.56470534763, 'liquidity': 31.57785299},\n",
      " 'WETH': {'LRNA': 21570.158913662108, 'liquidity': 307.1702895389879},\n",
      " 'WETH001': {'LRNA': 71485.9049494652, 'liquidity': 1020.4656799657863},\n",
      " 'ZTG': {'LRNA': 4486.580396445332, 'liquidity': 3172752.412505765},\n",
      " 'iBTC': {'LRNA': 34552.85671492708, 'liquidity': 26.25131347},\n",
      " 'vDOT': {'LRNA': 21985.16434712251, 'liquidity': 100263.6102983358}}\n"
     ]
    }
   ],
   "source": [
    "RPC=\"wss://hydradx-rpc.dwellir.com\"\n",
    "N = 24\n",
    "            \n",
    "if get_live_markets:\n",
    "    asset_list, asset_map, tokens, fees = get_omnipool_data(RPC, N, archive=True)\n",
    "else:\n",
    "    asset_list, asset_map, tokens, fees = get_omnipool_data_from_file(\"data/input/\")\n",
    "    \n",
    "buffer2 = {((asset_map[k[0][0]], asset_map[k[0][1]]),k[1]): v for k, v in buffer.items()}\n",
    "pprint(tokens)\n",
    "\n"
   ],
   "metadata": {
    "collapsed": false,
    "ExecuteTime": {
     "end_time": "2023-11-06T22:44:57.318539462Z",
     "start_time": "2023-11-06T22:44:57.307705426Z"
    }
   },
   "id": "a026335ac28fa9d4"
  },
  {
   "cell_type": "code",
   "execution_count": 6,
   "outputs": [],
   "source": [
    "\n",
    "\n",
    "cex_fee = 0.0016\n",
    "# buffer = 0.0010\n",
    "\n",
    "lrna_fee={asset: fees[asset]['protocol_fee'] for asset in asset_list}\n",
    "asset_fee={asset: fees[asset]['asset_fee'] for asset in asset_list}\n",
    "\n",
    "# lrna_fee = 0.0\n",
    "# asset_fee = 0.0\n",
    "# cex_fee = 0.0\n",
    "# buffer = 0.0\n",
    "\n",
    "\n",
    "cex = CentralizedMarket(\n",
    "    order_book=ob_objs,\n",
    "    asset_list=order_book_asset_list,\n",
    "    trade_fee=cex_fee\n",
    ")\n",
    "\n",
    "op_state = OmnipoolState(\n",
    "    tokens=tokens,\n",
    "    lrna_fee = lrna_fee,\n",
    "    asset_fee = asset_fee,\n",
    "    preferred_stablecoin='USDT',\n",
    ")\n",
    "\n",
    "init_state = op_state.copy()\n"
   ],
   "metadata": {
    "collapsed": false,
    "ExecuteTime": {
     "end_time": "2023-11-06T22:44:57.318657755Z",
     "start_time": "2023-11-06T22:44:57.307889825Z"
    }
   },
   "id": "68064af1cadd64fc"
  },
  {
   "cell_type": "code",
   "execution_count": 8,
   "outputs": [
    {
     "name": "stdout",
     "output_type": "stream",
     "text": [
      "[{'dex': {'trade': 'buy', 'buy_asset': 'DOT', 'sell_asset': 'DAI', 'price': 4.9291, 'amount': 155.91628134031868, 'max_sell': 764.9135395980477}, 'cex': {'trade': 'sell', 'buy_asset': 'USD', 'sell_asset': 'DOT', 'price': 4.92663545, 'amount': 155.91628134031868}}, {'dex': {'trade': 'buy', 'buy_asset': 'DOT', 'sell_asset': 'DAI', 'price': 4.9291, 'amount': 0.0002696942157345657, 'max_sell': 0.001326508641242981}, 'cex': {'trade': 'sell', 'buy_asset': 'USD', 'sell_asset': 'DOT', 'price': 4.92663545, 'amount': 0.0002696942157345657}}, {'dex': {'trade': 'buy', 'buy_asset': 'DOT', 'sell_asset': 'DAI001', 'price': 4.9291, 'amount': 46.95744896546559, 'max_sell': 229.52820872890948}, 'cex': {'trade': 'sell', 'buy_asset': 'USD', 'sell_asset': 'DOT', 'price': 4.92663545, 'amount': 46.95744896546559}}, {'dex': {'trade': 'buy', 'buy_asset': 'DOT', 'sell_asset': 'WETH', 'price': 0.0026, 'amount': 67.20106071261026, 'max_sell': 0.1742282391786575}, 'cex': {'trade': 'sell', 'buy_asset': 'ETH', 'sell_asset': 'DOT', 'price': 0.0025987000000000002, 'amount': 67.20106071261026}}, {'dex': {'trade': 'sell', 'buy_asset': 'USDT', 'sell_asset': 'WBTC001', 'price': 35075.6, 'amount': 0.007324279916763305, 'min_buy': 257.53187163913253}, 'cex': {'trade': 'buy', 'buy_asset': 'XXBT', 'sell_asset': 'ZUSD', 'price': 35093.1378, 'amount': 0.007324279916763305}}, {'dex': {'trade': 'sell', 'buy_asset': 'USDT', 'sell_asset': 'iBTC', 'price': 35075.6, 'amount': 0.09589923107131731, 'min_buy': 3388.162934017897}, 'cex': {'trade': 'buy', 'buy_asset': 'XXBT', 'sell_asset': 'ZUSD', 'price': 35093.1378, 'amount': 0.09589923107131731}}, {'dex': {'trade': 'sell', 'buy_asset': 'DAI', 'sell_asset': 'iBTC', 'price': 35075.6, 'amount': 0.006416850962408639, 'min_buy': 225.75065189212563}, 'cex': {'trade': 'buy', 'buy_asset': 'XXBT', 'sell_asset': 'ZUSD', 'price': 35093.1378, 'amount': 0.006416850962408639}}, {'dex': {'trade': 'sell', 'buy_asset': 'DAI001', 'sell_asset': 'iBTC', 'price': 35075.6, 'amount': 0.0004994576789297918, 'min_buy': 17.564916437387467}, 'cex': {'trade': 'buy', 'buy_asset': 'XXBT', 'sell_asset': 'ZUSD', 'price': 35093.1378, 'amount': 0.0004994576789297918}}, {'dex': {'trade': 'sell', 'buy_asset': 'DAI', 'sell_asset': 'iBTC', 'price': 35061.1, 'amount': 0.0013338737297058107, 'min_buy': 46.874041875302794}, 'cex': {'trade': 'buy', 'buy_asset': 'XBT', 'sell_asset': 'USDT', 'price': 35078.630549999994, 'amount': 0.0013338737297058107}}, {'dex': {'trade': 'sell', 'buy_asset': 'DAI001', 'sell_asset': 'iBTC', 'price': 35061.1, 'amount': 0.0001842776454488412, 'min_buy': 6.4757236551046375}, 'cex': {'trade': 'buy', 'buy_asset': 'XBT', 'sell_asset': 'USDT', 'price': 35078.630549999994, 'amount': 0.0001842776454488412}}, {'dex': {'trade': 'buy', 'buy_asset': 'DOT', 'sell_asset': 'WBTC001', 'price': 0.00014051, 'amount': 12.0, 'max_sell': 0.001676443576812744}, 'cex': {'trade': 'sell', 'buy_asset': 'XBT', 'sell_asset': 'DOT', 'price': 0.000140439745, 'amount': 12.0}}, {'dex': {'trade': 'buy', 'buy_asset': 'DOT', 'sell_asset': 'WBTC001', 'price': 0.0001405, 'amount': 243.457, 'max_sell': 0.03407190281152725}, 'cex': {'trade': 'sell', 'buy_asset': 'XBT', 'sell_asset': 'DOT', 'price': 0.00014042975, 'amount': 243.457}}, {'dex': {'trade': 'buy', 'buy_asset': 'DOT', 'sell_asset': 'WBTC001', 'price': 0.00014049, 'amount': 5.117188372070313, 'max_sell': 0.0007174023985862732}, 'cex': {'trade': 'sell', 'buy_asset': 'XBT', 'sell_asset': 'DOT', 'price': 0.00014041975500000002, 'amount': 5.117188372070313}}, {'dex': {'trade': 'buy', 'buy_asset': 'DOT', 'sell_asset': 'iBTC', 'price': 0.00014049, 'amount': 34.882811627929684, 'max_sell': 0.004868914067745208}, 'cex': {'trade': 'sell', 'buy_asset': 'XBT', 'sell_asset': 'DOT', 'price': 0.00014041975500000002, 'amount': 34.882811627929684}}, {'dex': {'trade': 'buy', 'buy_asset': 'DOT', 'sell_asset': 'iBTC', 'price': 0.00014048, 'amount': 261.16538998870845, 'max_sell': 0.0365374293923378}, 'cex': {'trade': 'sell', 'buy_asset': 'XBT', 'sell_asset': 'DOT', 'price': 0.00014040976000000003, 'amount': 261.16538998870845}}, {'dex': {'trade': 'buy', 'buy_asset': 'CFG', 'sell_asset': 'USDT', 'price': 0.4476, 'amount': 320.5375558232632, 'max_sell': 143.083247151196}, 'cex': {'trade': 'sell', 'buy_asset': 'USD', 'sell_asset': 'CFG', 'price': 0.4473762, 'amount': 320.5375558232632}}, {'dex': {'trade': 'buy', 'buy_asset': 'CFG', 'sell_asset': 'USDT', 'price': 0.4476, 'amount': 0.00024479814753863686, 'max_sell': 0.00010936957597732543}, 'cex': {'trade': 'sell', 'buy_asset': 'USD', 'sell_asset': 'CFG', 'price': 0.4473762, 'amount': 0.00024479814753863686}}, {'dex': {'trade': 'buy', 'buy_asset': 'BNC', 'sell_asset': 'USDT', 'price': 0.247, 'amount': 300.068, 'max_sell': 73.77749116194248}, 'cex': {'trade': 'sell', 'buy_asset': 'USD', 'sell_asset': 'BNC', 'price': 0.2468765, 'amount': 300.068}}]\n",
      "18\n",
      "strategy 2\n",
      "[{'cex': {'amount': 12.0,\n",
      "          'buy_asset': 'XBT',\n",
      "          'price': 0.000140439745,\n",
      "          'sell_asset': 'DOT',\n",
      "          'trade': 'sell'},\n",
      "  'dex': {'amount': 12.0,\n",
      "          'buy_asset': 'DOT',\n",
      "          'max_sell': 0.001657122015953064,\n",
      "          'price': 0.00014051,\n",
      "          'sell_asset': 'iBTC',\n",
      "          'trade': 'buy'}},\n",
      " {'cex': {'amount': 243.457,\n",
      "          'buy_asset': 'XBT',\n",
      "          'price': 0.00014042975,\n",
      "          'sell_asset': 'DOT',\n",
      "          'trade': 'sell'},\n",
      "  'dex': {'amount': 243.457,\n",
      "          'buy_asset': 'DOT',\n",
      "          'max_sell': 0.033686306476593014,\n",
      "          'price': 0.0001405,\n",
      "          'sell_asset': 'iBTC',\n",
      "          'trade': 'buy'}},\n",
      " {'cex': {'amount': 300.068,\n",
      "          'buy_asset': 'USD',\n",
      "          'price': 0.2468765,\n",
      "          'sell_asset': 'BNC',\n",
      "          'trade': 'sell'},\n",
      "  'dex': {'amount': 300.068,\n",
      "          'buy_asset': 'BNC',\n",
      "          'max_sell': 73.12502507060766,\n",
      "          'price': 0.247,\n",
      "          'sell_asset': 'DAI001',\n",
      "          'trade': 'buy'}},\n",
      " {'cex': {'amount': 40.0,\n",
      "          'buy_asset': 'XBT',\n",
      "          'price': 0.00014041975500000002,\n",
      "          'sell_asset': 'DOT',\n",
      "          'trade': 'sell'},\n",
      "  'dex': {'amount': 40.0,\n",
      "          'buy_asset': 'DOT',\n",
      "          'max_sell': 0.005546719193458557,\n",
      "          'price': 0.00014049,\n",
      "          'sell_asset': 'iBTC',\n",
      "          'trade': 'buy'}},\n",
      " {'cex': {'amount': 547.949,\n",
      "          'buy_asset': 'XBT',\n",
      "          'price': 0.00014040976000000003,\n",
      "          'sell_asset': 'DOT',\n",
      "          'trade': 'sell'},\n",
      "  'dex': {'amount': 547.949,\n",
      "          'buy_asset': 'DOT',\n",
      "          'max_sell': 0.07633006471395493,\n",
      "          'price': 0.00014048,\n",
      "          'sell_asset': 'iBTC',\n",
      "          'trade': 'buy'}},\n",
      " {'cex': {'amount': 296.53621381289105,\n",
      "          'buy_asset': 'USD',\n",
      "          'price': 0.4473762,\n",
      "          'sell_asset': 'CFG',\n",
      "          'trade': 'sell'},\n",
      "  'dex': {'amount': 296.53621381289105,\n",
      "          'buy_asset': 'CFG',\n",
      "          'max_sell': 131.92131263834239,\n",
      "          'price': 0.4476,\n",
      "          'sell_asset': 'DAI001',\n",
      "          'trade': 'buy'}},\n",
      " {'cex': {'amount': 151.82178618710896,\n",
      "          'buy_asset': 'USD',\n",
      "          'price': 0.4473762,\n",
      "          'sell_asset': 'CFG',\n",
      "          'trade': 'sell'},\n",
      "  'dex': {'amount': 151.82178618710896,\n",
      "          'buy_asset': 'CFG',\n",
      "          'max_sell': 67.64977156001329,\n",
      "          'price': 0.4476,\n",
      "          'sell_asset': 'DAI',\n",
      "          'trade': 'buy'}},\n",
      " {'cex': {'amount': 0.018916177862167358,\n",
      "          'buy_asset': 'XBT',\n",
      "          'price': 35078.630549999994,\n",
      "          'sell_asset': 'USDT',\n",
      "          'trade': 'buy'},\n",
      "  'dex': {'amount': 0.018916177862167358,\n",
      "          'buy_asset': 'USDT',\n",
      "          'min_buy': 665.2859823035598,\n",
      "          'price': 35061.1,\n",
      "          'sell_asset': 'iBTC',\n",
      "          'trade': 'sell'}},\n",
      " {'cex': {'amount': 211.03371342695232,\n",
      "          'buy_asset': 'USD',\n",
      "          'price': 0.44707635,\n",
      "          'sell_asset': 'CFG',\n",
      "          'trade': 'sell'},\n",
      "  'dex': {'amount': 211.03371342695232,\n",
      "          'buy_asset': 'CFG',\n",
      "          'max_sell': 94.1370017387867,\n",
      "          'price': 0.4473,\n",
      "          'sell_asset': 'DAI',\n",
      "          'trade': 'buy'}},\n",
      " {'cex': {'amount': 79.56787823669436,\n",
      "          'buy_asset': 'XBT',\n",
      "          'price': 0.000140399765,\n",
      "          'sell_asset': 'DOT',\n",
      "          'trade': 'sell'},\n",
      "  'dex': {'amount': 79.56787823669436,\n",
      "          'buy_asset': 'DOT',\n",
      "          'max_sell': 0.011147347927093505,\n",
      "          'price': 0.00014047,\n",
      "          'sell_asset': 'WBTC001',\n",
      "          'trade': 'buy'}},\n",
      " {'cex': {'amount': 12.085982071903882,\n",
      "          'buy_asset': 'XBT',\n",
      "          'price': 0.000140399765,\n",
      "          'sell_asset': 'DOT',\n",
      "          'trade': 'sell'},\n",
      "  'dex': {'amount': 12.085982071903882,\n",
      "          'buy_asset': 'DOT',\n",
      "          'max_sell': 0.0016939761042594908,\n",
      "          'price': 0.00014047,\n",
      "          'sell_asset': 'iBTC',\n",
      "          'trade': 'buy'}}]\n",
      "11\n"
     ]
    }
   ],
   "source": [
    "cex1 = cex.copy()\n",
    "op_state1 = op_state.copy()\n",
    "all_swaps1 = arb.get_arb_swaps_simple(op_state1, cex1, buffer=buffer2)\n",
    "\n",
    "pprint(all_swaps1)\n",
    "pprint(len(all_swaps1))\n",
    "\n",
    "cex2 = cex.copy()\n",
    "op_state2 = op_state.copy()\n",
    "all_swaps2 = arb.get_arb_swaps(op_state2, cex2, buffer=buffer2)\n",
    "print(\"strategy 2\")\n",
    "pprint(all_swaps2)\n",
    "pprint(len(all_swaps2))"
   ],
   "metadata": {
    "collapsed": false,
    "ExecuteTime": {
     "end_time": "2023-11-06T22:44:57.612147400Z",
     "start_time": "2023-11-06T22:44:57.308098865Z"
    }
   },
   "id": "ef086a726e0e13be"
  },
  {
   "cell_type": "code",
   "execution_count": 9,
   "outputs": [
    {
     "name": "stdout",
     "output_type": "stream",
     "text": [
      "strategy 1 profit\n",
      "{'HDX': 0, 'USD': 26.546728491783142, 'BTC': 0.0002416372299194336, 'ETH': 0.0003020763397216797, 'DOT': 0.0, 'ASTR': 0, 'ZTG': 0, 'CFG': 0.0, 'BNC': 0.0, 'vDOT': 0, 'GLMR': 0, 'INTR': 0}\n",
      "strategy 1 profit at Omnipool spot\n",
      "34.66475301407448\n",
      "strategy 2 profit\n",
      "{'HDX': 0, 'USD': 3.292348027229309, 'BTC': 0.001155257225036621, 'ETH': 0, 'DOT': 0.0, 'ASTR': 0, 'ZTG': 0, 'CFG': 0.0, 'BNC': 0.0, 'vDOT': 0, 'GLMR': 0, 'INTR': 0}\n",
      "strategy 2 profit at Omnipool spot\n",
      "39.45737364780654\n"
     ]
    }
   ],
   "source": [
    "state1 = init_state.copy()\n",
    "state2 = init_state.copy()\n",
    "holdings = {asset: 1000000000 for asset in asset_list + order_book_asset_list}\n",
    "init_agent = Agent(holdings=holdings, unique_id='bot')\n",
    "agent1 = init_agent.copy()\n",
    "agent2 = init_agent.copy()\n",
    "cex1 = cex.copy()\n",
    "cex2 = cex.copy()\n",
    "\n",
    "arb.execute_arb(state1, cex1, agent1, all_swaps1)\n",
    "arb.execute_arb(state2, cex2, agent2, all_swaps2)\n",
    "\n",
    "asset_map = {'WETH': 'ETH',\n",
    "             'XETH': 'ETH',\n",
    "             'XXBT': 'BTC',\n",
    "             'WBTC': 'BTC',\n",
    "             'ZUSD': 'USD',\n",
    "             'USDT': 'USD',\n",
    "             'USDC': 'USD',\n",
    "             'DAI': 'USD',\n",
    "             'USDT001': 'USD',\n",
    "             'DAI001': 'USD',\n",
    "             'WETH001': 'ETH',\n",
    "             'WBTC001': 'BTC',\n",
    "             'iBTC': 'BTC',\n",
    "             'XBT': 'BTC',}\n",
    "\n",
    "profit1 = arb.calculate_profit(init_agent, agent1, asset_map)\n",
    "profit2 = arb.calculate_profit(init_agent, agent2, asset_map)\n",
    "\n",
    "asset_map_omnipool = {\n",
    "    'ETH': 'WETH',\n",
    "    'XETH': 'WETH',\n",
    "    'XXBT': 'WBTC',\n",
    "    'BTC': 'WBTC',\n",
    "    'ZUSD': 'USDT',\n",
    "    'USD': 'USDT',\n",
    "    'USDC': 'USDT',\n",
    "    'DAI': 'USDT',\n",
    "    'USDT001': 'USDT',\n",
    "    'DAI001': 'USDT',\n",
    "    'WETH001': 'WETH',\n",
    "    'WBTC001': 'WBTC',\n",
    "    'iBTC': 'WBTC',\n",
    "    'XBT': 'WBTC',\n",
    "}\n",
    "\n",
    "\n",
    "profit1_omnipool = arb.calculate_profit(init_agent, agent1, asset_map_omnipool)\n",
    "profit2_omnipool = arb.calculate_profit(init_agent, agent2, asset_map_omnipool)\n",
    "\n",
    "print(\"strategy 1 profit\")\n",
    "print(profit1)\n",
    "print(\"strategy 1 profit at Omnipool spot\")\n",
    "print(sum([profit1_omnipool[asset] * state1.price(state1, asset, 'USDT') for asset in profit1_omnipool]))\n",
    "print(\"strategy 2 profit\")\n",
    "print(profit2)\n",
    "print(\"strategy 2 profit at Omnipool spot\")\n",
    "print(sum([profit2_omnipool[asset] * state2.price(state2, asset, 'USDT') for asset in profit2_omnipool]))\n",
    "            "
   ],
   "metadata": {
    "collapsed": false,
    "ExecuteTime": {
     "end_time": "2023-11-06T22:44:57.677071117Z",
     "start_time": "2023-11-06T22:44:57.633934902Z"
    }
   },
   "id": "8d4817129c26f839"
  },
  {
   "cell_type": "code",
   "execution_count": 9,
   "outputs": [],
   "source": [],
   "metadata": {
    "collapsed": false,
    "ExecuteTime": {
     "end_time": "2023-11-06T22:44:57.677521367Z",
     "start_time": "2023-11-06T22:44:57.676300476Z"
    }
   },
   "id": "6859a12bc8fb05f2"
  }
 ],
 "metadata": {
  "kernelspec": {
   "display_name": "Python 3",
   "language": "python",
   "name": "python3"
  },
  "language_info": {
   "codemirror_mode": {
    "name": "ipython",
    "version": 2
   },
   "file_extension": ".py",
   "mimetype": "text/x-python",
   "name": "python",
   "nbconvert_exporter": "python",
   "pygments_lexer": "ipython2",
   "version": "2.7.6"
  }
 },
 "nbformat": 4,
 "nbformat_minor": 5
}
