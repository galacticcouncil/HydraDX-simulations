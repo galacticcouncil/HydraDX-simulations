{
 "cells": [
  {
   "cell_type": "code",
   "execution_count": 1,
   "id": "ba295ed3-744c-4d88-a6e6-704899468e90",
   "metadata": {},
   "outputs": [
    {
     "name": "stdout",
     "output_type": "stream",
     "text": [
      "Stable Swap Pool: test_pool\n",
      "********************************\n",
      "trade fee: 0.003\n",
      "shares: 4000000.0\n",
      "amplification constant: 100\n",
      "tokens: (\n",
      "\n",
      "    USDA\n",
      "    quantity: 1100000\n",
      "    weight: 0.27498949581696874\n",
      "\n",
      "    USDB\n",
      "    quantity: 900152.7939530938\n",
      "    weight: 0.22502960269763364\n",
      "\n",
      "    USDC\n",
      "    quantity: 1000000\n",
      "    weight: 0.24999045074269885\n",
      "\n",
      "    USDD\n",
      "    quantity: 1000000\n",
      "    weight: 0.24999045074269885\n",
      "\n",
      ")\n",
      "error message:none\n",
      "Agent: agent\n",
      "********************************\n",
      "trade strategy: None\n",
      "holdings: (\n",
      "\n",
      "    *USDA*: 0\n",
      "\n",
      "    *test_pool*: 0.0\n",
      "    price: 1.0000055506\n",
      "\n",
      "    *USDB*: 99847.2060469062\n",
      ")\n",
      "\n"
     ]
    }
   ],
   "source": [
    "import pandas as pd\n",
    "import random\n",
    "import sys\n",
    "from matplotlib import pyplot as plt\n",
    "sys.path.append('../..')\n",
    "\n",
    "from model.amm import stableswap_amm as stableswap\n",
    "from model.amm.agents import Agent\n",
    "\n",
    "initial_state = stableswap.StableSwapPoolState(\n",
    "    tokens={\n",
    "        'USDA': 1000000,\n",
    "        'USDB': 1000000,\n",
    "        'USDC': 1000000,\n",
    "        'USDD': 1000000,\n",
    "    }, amplification=100, trade_fee=0.003,\n",
    "    unique_id='test_pool'\n",
    ")\n",
    "initial_agent = Agent(\n",
    "    holdings={'USDA': 100000}\n",
    ")\n",
    "\n",
    "test_state, test_agent = initial_state.copy(), initial_agent.copy()\n",
    "test_state.add_liquidity(\n",
    "    agent=test_agent,\n",
    "    quantity=initial_agent.holdings['USDA'],\n",
    "    tkn_add='USDA',\n",
    ")\n",
    "\n",
    "curve_state, curve_agent = test_state.copy(), test_agent.copy()\n",
    "curve_state.remove_liquidity(\n",
    "    agent=curve_agent,\n",
    "    shares_removed=test_agent.holdings['test_pool'],\n",
    "    tkn_remove='USDB'\n",
    ")\n",
    "\n",
    "print(curve_state)\n",
    "print(curve_agent)"
   ]
  },
  {
   "cell_type": "code",
   "execution_count": null,
   "id": "6d63ae02-2434-4f5f-9744-20e22335001f",
   "metadata": {},
   "outputs": [],
   "source": []
  },
  {
   "cell_type": "code",
   "execution_count": null,
   "id": "36af2fcd-41b1-4f11-ad70-e398aa7e745f",
   "metadata": {},
   "outputs": [],
   "source": []
  }
 ],
 "metadata": {
  "kernelspec": {
   "display_name": "Python 3 (ipykernel)",
   "language": "python",
   "name": "python3"
  },
  "language_info": {
   "codemirror_mode": {
    "name": "ipython",
    "version": 3
   },
   "file_extension": ".py",
   "mimetype": "text/x-python",
   "name": "python",
   "nbconvert_exporter": "python",
   "pygments_lexer": "ipython3",
   "version": "3.9.7"
  }
 },
 "nbformat": 4,
 "nbformat_minor": 5
}
