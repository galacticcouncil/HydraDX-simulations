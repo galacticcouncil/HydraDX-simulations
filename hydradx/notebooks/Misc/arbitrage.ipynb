{
 "cells": [
  {
   "cell_type": "code",
   "execution_count": 4,
   "id": "initial_id",
   "metadata": {
    "collapsed": true,
    "ExecuteTime": {
     "end_time": "2023-11-02T20:15:25.293968171Z",
     "start_time": "2023-11-02T20:15:25.213212239Z"
    }
   },
   "outputs": [],
   "source": [
    "from hydradx.model.amm.omnipool_amm import OmnipoolState\n",
    "from hydradx.model.amm.agents import Agent\n",
    "from hydradx.model.processing import get_kraken_orderbook, get_omnipool_data, get_kraken_orderbooks_from_file\n",
    "from hydradx.model.processing import get_omnipool_data_from_file\n",
    "\n",
    "from hydradx.model.amm.arbitrage_agent import get_arb_swaps, calculate_profit, execute_arb\n",
    "from hydradx.model.amm.centralized_market import CentralizedMarket\n",
    "from pprint import pprint\n",
    "\n",
    "import json\n"
   ]
  },
  {
   "cell_type": "code",
   "execution_count": 5,
   "outputs": [],
   "source": [
    "with open('config/arbconfig.txt', 'r') as json_file:\n",
    "    arb_list = json.load(json_file)\n",
    "    \n",
    "for d in arb_list:\n",
    "    d['tkns'] = tuple(d['tkns'])\n",
    "    d['tkn_ids'] = tuple(d['tkn_ids'])\n",
    "    d['order_book'] = tuple(d['order_book'])\n",
    "\n",
    "ob_objs = {}\n",
    "order_book_asset_list = []\n",
    "buffer = {}\n",
    "\n",
    "get_live_markets = True\n",
    "\n",
    "if get_live_markets:\n",
    "\n",
    "    for arb_cfg in arb_list:\n",
    "        tkn_pair = arb_cfg['order_book']\n",
    "        buffer[arb_cfg['tkn_ids']] = arb_cfg['buffer']\n",
    "        if tkn_pair not in ob_objs:\n",
    "            order_book_url = 'https://api.kraken.com/0/public/Depth?pair=' + tkn_pair[0] + tkn_pair[1]\n",
    "            ob_objs[tkn_pair] = get_kraken_orderbook(tkn_pair, order_book_url, archive=True)\n",
    "            for tkn in tkn_pair:\n",
    "                if tkn not in order_book_asset_list:\n",
    "                    order_book_asset_list.append(tkn)\n",
    "                    \n",
    "else:\n",
    "    ob_objs = get_kraken_orderbooks_from_file(\"data/input/\")\n",
    "    for arb_cfg in arb_list:\n",
    "        tkn_pair = arb_cfg['order_book']\n",
    "        buffer[arb_cfg['tkn_ids']] = arb_cfg['buffer']\n",
    "        for tkn in tkn_pair:\n",
    "            if tkn not in order_book_asset_list:\n",
    "                order_book_asset_list.append(tkn)"
   ],
   "metadata": {
    "collapsed": false,
    "ExecuteTime": {
     "end_time": "2023-11-02T20:15:29.332684941Z",
     "start_time": "2023-11-02T20:15:25.221072581Z"
    }
   },
   "id": "30c3ae5c6fb4044d"
  },
  {
   "cell_type": "code",
   "execution_count": 7,
   "outputs": [
    {
     "name": "stdout",
     "output_type": "stream",
     "text": [
      "{'ASTR': {'LRNA': 9426.083139248882, 'liquidity': 4487123.1018498875},\n",
      " 'BNC': {'LRNA': 6603.946708737461, 'liquidity': 729547.862157833},\n",
      " 'CFG': {'LRNA': 9231.929536764723, 'liquidity': 600988.2603155252},\n",
      " 'DAI': {'LRNA': 12896.518469037715, 'liquidity': 338250.81980178953},\n",
      " 'DAI001': {'LRNA': 31189.317908758978, 'liquidity': 816351.8852662736},\n",
      " 'DOT': {'LRNA': 73125.87311942711, 'liquidity': 413407.9998085864},\n",
      " 'GLMR': {'LRNA': 5351.198130481999, 'liquidity': 664616.1758693877},\n",
      " 'HDX': {'LRNA': 20197.434429212783, 'liquidity': 113691495.84240358},\n",
      " 'INTR': {'LRNA': 8316.189716962293, 'liquidity': 12845383.67597828},\n",
      " 'USDT': {'LRNA': 84916.93279494648, 'liquidity': 2233023.664212},\n",
      " 'WBTC': {'LRNA': 50.601798806111, 'liquidity': 0.04374934},\n",
      " 'WBTC001': {'LRNA': 41584.505065373174, 'liquidity': 31.25332448},\n",
      " 'WETH': {'LRNA': 21426.620304704305, 'liquidity': 309.21785254735175},\n",
      " 'WETH001': {'LRNA': 70997.18376287296, 'liquidity': 1027.4506953779776},\n",
      " 'ZTG': {'LRNA': 4579.840226595775, 'liquidity': 3105911.2496678093},\n",
      " 'iBTC': {'LRNA': 34914.166212603865, 'liquidity': 25.97850125},\n",
      " 'vDOT': {'LRNA': 21671.888735110406, 'liquidity': 101876.2295646409}}\n"
     ]
    }
   ],
   "source": [
    "\n",
    "\n",
    "RPC=\"wss://hydradx-rpc.dwellir.com\"\n",
    "N = 24\n",
    "\n",
    "if get_live_markets:\n",
    "    asset_list, asset_map, tokens, fees = get_omnipool_data(RPC, N, archive=True)\n",
    "else:\n",
    "    asset_list, asset_map, tokens, fees = get_omnipool_data_from_file(\"data/input/\")\n",
    "    \n",
    "buffer2 = {(asset_map[k[0]], asset_map[k[1]]): v for k, v in buffer.items()}\n",
    "\n",
    "pprint(tokens)"
   ],
   "metadata": {
    "collapsed": false,
    "ExecuteTime": {
     "end_time": "2023-11-02T20:17:13.330688420Z",
     "start_time": "2023-11-02T20:16:29.150175308Z"
    }
   },
   "id": "a026335ac28fa9d4"
  },
  {
   "cell_type": "code",
   "execution_count": 8,
   "outputs": [
    {
     "name": "stdout",
     "output_type": "stream",
     "text": [
      "['HDX', 'USD', 'DOT', 'XETH', 'ZUSD', 'ETH', 'XXBT', 'XBT', 'ASTR', 'CFG', 'BNC', 'GLMR']\n"
     ]
    }
   ],
   "source": [
    "cex_fee = 0.0016\n",
    "# buffer = 0.0002\n",
    "\n",
    "lrna_fee={asset: fees[asset]['protocol_fee'] for asset in asset_list}\n",
    "asset_fee={asset: fees[asset]['asset_fee'] for asset in asset_list}\n",
    "\n",
    "# lrna_fee = 0.0005\n",
    "# asset_fee = 0.0025\n",
    "\n",
    "\n",
    "cex = CentralizedMarket(\n",
    "    order_book=ob_objs,\n",
    "    asset_list=order_book_asset_list,\n",
    "    trade_fee=cex_fee\n",
    ")\n",
    "\n",
    "op_state = OmnipoolState(\n",
    "    tokens=tokens,\n",
    "    lrna_fee = lrna_fee,\n",
    "    asset_fee = asset_fee,\n",
    "    preferred_stablecoin='USDT',\n",
    ")\n",
    "\n",
    "init_state = op_state.copy()\n",
    "print(order_book_asset_list)\n"
   ],
   "metadata": {
    "collapsed": false,
    "ExecuteTime": {
     "end_time": "2023-11-02T20:17:13.378680693Z",
     "start_time": "2023-11-02T20:17:13.325630479Z"
    }
   },
   "id": "68064af1cadd64fc"
  },
  {
   "cell_type": "code",
   "execution_count": 9,
   "outputs": [
    {
     "name": "stdout",
     "output_type": "stream",
     "text": [
      "{('ASTR', 'DAI'): ('ASTR', 'USD'),\n",
      " ('ASTR', 'DAI001'): ('ASTR', 'USD'),\n",
      " ('ASTR', 'USDT'): ('ASTR', 'USD'),\n",
      " ('BNC', 'DAI'): ('BNC', 'USD'),\n",
      " ('BNC', 'DAI001'): ('BNC', 'USD'),\n",
      " ('BNC', 'USDT'): ('BNC', 'USD'),\n",
      " ('CFG', 'DAI'): ('CFG', 'USD'),\n",
      " ('CFG', 'DAI001'): ('CFG', 'USD'),\n",
      " ('CFG', 'USDT'): ('CFG', 'USD'),\n",
      " ('DOT', 'DAI'): ('DOT', 'USD'),\n",
      " ('DOT', 'DAI001'): ('DOT', 'USD'),\n",
      " ('DOT', 'USDT'): ('DOT', 'USD'),\n",
      " ('DOT', 'WBTC001'): ('DOT', 'XBT'),\n",
      " ('DOT', 'WETH'): ('DOT', 'ETH'),\n",
      " ('DOT', 'WETH001'): ('DOT', 'ETH'),\n",
      " ('DOT', 'iBTC'): ('DOT', 'XBT'),\n",
      " ('GLMR', 'DAI'): ('GLMR', 'USD'),\n",
      " ('GLMR', 'DAI001'): ('GLMR', 'USD'),\n",
      " ('GLMR', 'USDT'): ('GLMR', 'USD'),\n",
      " ('HDX', 'DAI'): ('HDX', 'USD'),\n",
      " ('HDX', 'DAI001'): ('HDX', 'USD'),\n",
      " ('HDX', 'USDT'): ('HDX', 'USD'),\n",
      " ('WBTC001', 'DAI'): ('XXBT', 'ZUSD'),\n",
      " ('WBTC001', 'DAI001'): ('XXBT', 'ZUSD'),\n",
      " ('WBTC001', 'USDT'): ('XXBT', 'ZUSD'),\n",
      " ('WETH', 'DAI'): ('XETH', 'ZUSD'),\n",
      " ('WETH', 'DAI001'): ('XETH', 'ZUSD'),\n",
      " ('WETH', 'USDT'): ('XETH', 'ZUSD'),\n",
      " ('WETH', 'WBTC001'): ('XETH', 'XXBT'),\n",
      " ('WETH', 'iBTC'): ('XETH', 'XXBT'),\n",
      " ('WETH001', 'DAI'): ('XETH', 'ZUSD'),\n",
      " ('WETH001', 'DAI001'): ('XETH', 'ZUSD'),\n",
      " ('WETH001', 'USDT'): ('XETH', 'ZUSD'),\n",
      " ('WETH001', 'WBTC001'): ('XETH', 'XXBT'),\n",
      " ('WETH001', 'iBTC'): ('XETH', 'XXBT'),\n",
      " ('iBTC', 'DAI'): ('XXBT', 'ZUSD'),\n",
      " ('iBTC', 'DAI001'): ('XXBT', 'ZUSD'),\n",
      " ('iBTC', 'USDT'): ('XXBT', 'ZUSD')}\n"
     ]
    }
   ],
   "source": [
    "order_book_map = {}\n",
    "for i in range(len(arb_list)):\n",
    "    base_id, quote_id = arb_list[i]['tkn_ids']\n",
    "    orderbook_tkn_pair = arb_list[i]['order_book']\n",
    "    if base_id in asset_map and quote_id in asset_map:\n",
    "        tkn_pair = (asset_map[base_id], asset_map[quote_id])\n",
    "        order_book_map[tkn_pair] = orderbook_tkn_pair \n",
    "    \n",
    "pprint(order_book_map)"
   ],
   "metadata": {
    "collapsed": false,
    "ExecuteTime": {
     "end_time": "2023-11-02T20:17:13.379307917Z",
     "start_time": "2023-11-02T20:17:13.333877376Z"
    }
   },
   "id": "5c34a29fa3c15b8"
  },
  {
   "cell_type": "code",
   "execution_count": 10,
   "outputs": [
    {
     "name": "stdout",
     "output_type": "stream",
     "text": [
      "[{'dex': {'trade': 'sell', 'buy_asset': 'USDT', 'sell_asset': 'WETH', 'price': 1811.61, 'amount': 0.026001930236816406, 'min_buy': 47.20918503665924}, 'cex': {'trade': 'buy', 'buy_asset': 'XETH', 'sell_asset': 'ZUSD', 'price': 1812.5158049999998, 'amount': 0.026001930236816406}}, {'dex': {'trade': 'buy', 'buy_asset': 'WBTC001', 'sell_asset': 'DAI001', 'price': 35071.9, 'amount': 0.009462417602539065, 'max_sell': 330.93249437999725}, 'cex': {'trade': 'sell', 'buy_asset': 'ZUSD', 'sell_asset': 'XXBT', 'price': 35054.364050000004, 'amount': 0.009462417602539065}}, {'dex': {'trade': 'sell', 'buy_asset': 'USDT', 'sell_asset': 'iBTC', 'price': 35072.0, 'amount': 0.018576366424560547, 'min_buy': 700.7452177078725}, 'cex': {'trade': 'buy', 'buy_asset': 'XXBT', 'sell_asset': 'ZUSD', 'price': 35089.536, 'amount': 0.018576366424560547}}, {'dex': {'trade': 'buy', 'buy_asset': 'DOT', 'sell_asset': 'iBTC', 'price': 0.00013262, 'amount': 38.0859375, 'max_sell': 0.023624544024467467}, 'cex': {'trade': 'sell', 'buy_asset': 'XBT', 'sell_asset': 'DOT', 'price': 0.00013255369, 'amount': 38.0859375}}, {'dex': {'trade': 'sell', 'buy_asset': 'WBTC001', 'sell_asset': 'WETH', 'price': 0.05167, 'amount': 0.15216536521911617, 'min_buy': 0.017342474937438967}, 'cex': {'trade': 'buy', 'buy_asset': 'XETH', 'sell_asset': 'XXBT', 'price': 0.051695834999999996, 'amount': 0.15216536521911617}}, {'dex': {'trade': 'buy', 'buy_asset': 'GLMR', 'sell_asset': 'USDT', 'price': 0.213, 'amount': 315.17662486267096, 'max_sell': -634.4885427807569}, 'cex': {'trade': 'sell', 'buy_asset': 'USD', 'sell_asset': 'GLMR', 'price': 0.2128935, 'amount': 315.17662486267096}}, {'dex': {'trade': 'buy', 'buy_asset': 'GLMR', 'sell_asset': 'DAI', 'price': 0.213, 'amount': 477.5530603184264, 'max_sell': 101.40170324099063}, 'cex': {'trade': 'sell', 'buy_asset': 'USD', 'sell_asset': 'GLMR', 'price': 0.2128935, 'amount': 477.5530603184264}}, {'dex': {'trade': 'buy', 'buy_asset': 'GLMR', 'sell_asset': 'DAI001', 'price': 0.213, 'amount': 521.9442330475629, 'max_sell': 441.7707328503728}, 'cex': {'trade': 'sell', 'buy_asset': 'USD', 'sell_asset': 'GLMR', 'price': 0.2128935, 'amount': 521.9442330475629}}]\n"
     ]
    }
   ],
   "source": [
    "all_swaps = get_arb_swaps(op_state, cex, order_book_map, buffer=buffer2)\n",
    "print(all_swaps)"
   ],
   "metadata": {
    "collapsed": false,
    "ExecuteTime": {
     "end_time": "2023-11-02T20:17:13.487445619Z",
     "start_time": "2023-11-02T20:17:13.376160996Z"
    }
   },
   "id": "ef086a726e0e13be"
  },
  {
   "cell_type": "code",
   "execution_count": 11,
   "outputs": [
    {
     "name": "stdout",
     "output_type": "stream",
     "text": [
      "{'HDX': 0, 'USD': 2.4484899044036865, 'BTC': 2.0265579223632812e-05, 'ETH': 0.0, 'DOT': 0.0, 'ASTR': 0, 'ZTG': 0, 'CFG': 0, 'BNC': 0, 'vDOT': 0, 'GLMR': 0.0, 'INTR': 0}\n"
     ]
    }
   ],
   "source": [
    "state = init_state.copy()\n",
    "holdings = {asset: 1000000000 for asset in asset_list + order_book_asset_list}\n",
    "init_agent = Agent(holdings=holdings, unique_id='bot')\n",
    "agent = init_agent.copy()\n",
    "execute_arb(state, cex, agent, all_swaps)\n",
    "\n",
    "asset_map = {'WETH': 'ETH',\n",
    "             'XETH': 'ETH',\n",
    "             'XXBT': 'BTC',\n",
    "             'WBTC': 'BTC',\n",
    "             'ZUSD': 'USD',\n",
    "             'USDT': 'USD',\n",
    "             'USDC': 'USD',\n",
    "             'DAI': 'USD',\n",
    "             'USDT001': 'USD',\n",
    "             'DAI001': 'USD',\n",
    "             'WETH001': 'ETH',\n",
    "             'WBTC001': 'BTC',\n",
    "             'iBTC': 'BTC',\n",
    "             'XBT': 'BTC',}\n",
    "\n",
    "profit = calculate_profit(init_agent, agent, asset_map)\n",
    "\n",
    "print(profit)\n",
    "            "
   ],
   "metadata": {
    "collapsed": false,
    "ExecuteTime": {
     "end_time": "2023-11-02T20:17:13.488106934Z",
     "start_time": "2023-11-02T20:17:13.482797293Z"
    }
   },
   "id": "8d4817129c26f839"
  },
  {
   "cell_type": "code",
   "execution_count": null,
   "outputs": [],
   "source": [],
   "metadata": {
    "collapsed": false,
    "ExecuteTime": {
     "start_time": "2023-11-02T20:16:14.582429061Z"
    }
   },
   "id": "fc18dce1b93bab0c"
  }
 ],
 "metadata": {
  "kernelspec": {
   "display_name": "Python 3",
   "language": "python",
   "name": "python3"
  },
  "language_info": {
   "codemirror_mode": {
    "name": "ipython",
    "version": 2
   },
   "file_extension": ".py",
   "mimetype": "text/x-python",
   "name": "python",
   "nbconvert_exporter": "python",
   "pygments_lexer": "ipython2",
   "version": "2.7.6"
  }
 },
 "nbformat": 4,
 "nbformat_minor": 5
}
