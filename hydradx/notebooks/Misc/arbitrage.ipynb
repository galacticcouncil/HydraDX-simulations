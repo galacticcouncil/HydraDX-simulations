{
 "cells": [
  {
   "cell_type": "code",
   "execution_count": 1,
   "id": "initial_id",
   "metadata": {
    "collapsed": true,
    "ExecuteTime": {
     "end_time": "2023-11-03T15:46:21.368246356Z",
     "start_time": "2023-11-03T15:46:21.218957820Z"
    }
   },
   "outputs": [],
   "source": [
    "from hydradx.model.amm.omnipool_amm import OmnipoolState\n",
    "from hydradx.model.amm.agents import Agent\n",
    "from hydradx.model.processing import get_kraken_orderbook, get_omnipool_data, get_kraken_orderbooks_from_file\n",
    "from hydradx.model.processing import get_omnipool_data_from_file\n",
    "\n",
    "from hydradx.model.amm.arbitrage_agent import get_arb_swaps_simple, calculate_profit, execute_arb\n",
    "from hydradx.model.amm.centralized_market import CentralizedMarket\n",
    "from pprint import pprint\n",
    "\n",
    "import json\n"
   ]
  },
  {
   "cell_type": "code",
   "execution_count": 2,
   "outputs": [],
   "source": [
    "with open('config/arbconfig.txt', 'r') as json_file:\n",
    "    arb_list = json.load(json_file)\n",
    "    \n",
    "for d in arb_list:\n",
    "    d['tkns'] = tuple(d['tkns'])\n",
    "    d['tkn_ids'] = tuple(d['tkn_ids'])\n",
    "    d['order_book'] = tuple(d['order_book'])\n",
    "\n",
    "ob_objs = {}\n",
    "order_book_asset_list = []\n",
    "buffer = {}\n",
    "\n",
    "get_live_markets = False\n",
    "\n",
    "if get_live_markets:\n",
    "\n",
    "    for arb_cfg in arb_list:\n",
    "        tkn_pair = arb_cfg['order_book']\n",
    "        buffer[arb_cfg['tkn_ids']] = arb_cfg['buffer']\n",
    "        if tkn_pair not in ob_objs:\n",
    "            order_book_url = 'https://api.kraken.com/0/public/Depth?pair=' + tkn_pair[0] + tkn_pair[1]\n",
    "            ob_objs[tkn_pair] = get_kraken_orderbook(tkn_pair, order_book_url, archive=True)\n",
    "            for tkn in tkn_pair:\n",
    "                if tkn not in order_book_asset_list:\n",
    "                    order_book_asset_list.append(tkn)\n",
    "                    \n",
    "else:\n",
    "    ob_objs = get_kraken_orderbooks_from_file(\"data/input/\")\n",
    "    for arb_cfg in arb_list:\n",
    "        tkn_pair = arb_cfg['order_book']\n",
    "        buffer[arb_cfg['tkn_ids']] = arb_cfg['buffer']\n",
    "        for tkn in tkn_pair:\n",
    "            if tkn not in order_book_asset_list:\n",
    "                order_book_asset_list.append(tkn)"
   ],
   "metadata": {
    "collapsed": false,
    "ExecuteTime": {
     "end_time": "2023-11-03T15:46:21.416946411Z",
     "start_time": "2023-11-03T15:46:21.372855882Z"
    }
   },
   "id": "30c3ae5c6fb4044d"
  },
  {
   "cell_type": "code",
   "execution_count": 3,
   "outputs": [
    {
     "name": "stdout",
     "output_type": "stream",
     "text": [
      "{'ASTR': {'LRNA': 9493.01865460789, 'liquidity': 4454901.648347969},\n",
      " 'BNC': {'LRNA': 6570.77820580829, 'liquidity': 733206.6287840898},\n",
      " 'CFG': {'LRNA': 9055.74947148805, 'liquidity': 615212.4674276046},\n",
      " 'DAI': {'LRNA': 12903.802000314236, 'liquidity': 338055.2939474438},\n",
      " 'DAI001': {'LRNA': 31094.02789908123, 'liquidity': 818813.1999696387},\n",
      " 'DOT': {'LRNA': 73166.58146171033, 'liquidity': 409282.6249603317},\n",
      " 'GLMR': {'LRNA': 5292.16456910496, 'liquidity': 671965.6893360685},\n",
      " 'HDX': {'LRNA': 20510.16976255191, 'liquidity': 111968011.89165848},\n",
      " 'INTR': {'LRNA': 8375.72827588616, 'liquidity': 12753466.593879394},\n",
      " 'USDT': {'LRNA': 84547.44835053636, 'liquidity': 2242324.613962},\n",
      " 'WBTC': {'LRNA': 50.601798806111, 'liquidity': 0.04374934},\n",
      " 'WBTC001': {'LRNA': 41455.63313835339, 'liquidity': 31.34997588},\n",
      " 'WETH': {'LRNA': 21496.13808288496, 'liquidity': 308.21785254735175},\n",
      " 'WETH001': {'LRNA': 71242.34401923479, 'liquidity': 1023.9116639347923},\n",
      " 'ZTG': {'LRNA': 4574.889374797759, 'liquidity': 3109248.7387484685},\n",
      " 'iBTC': {'LRNA': 34666.083149049635, 'liquidity': 25.87091446},\n",
      " 'vDOT': {'LRNA': 21715.587634832777, 'liquidity': 101665.7306209335}}\n"
     ]
    }
   ],
   "source": [
    "\n",
    "\n",
    "RPC=\"wss://hydradx-rpc.dwellir.com\"\n",
    "N = 24\n",
    "\n",
    "if get_live_markets:\n",
    "    asset_list, asset_map, tokens, fees = get_omnipool_data(RPC, N, archive=True)\n",
    "else:\n",
    "    asset_list, asset_map, tokens, fees = get_omnipool_data_from_file(\"data/input/\")\n",
    "    \n",
    "buffer2 = {(asset_map[k[0]], asset_map[k[1]]): v for k, v in buffer.items()}\n",
    "\n",
    "pprint(tokens)"
   ],
   "metadata": {
    "collapsed": false,
    "ExecuteTime": {
     "end_time": "2023-11-03T15:46:21.417440680Z",
     "start_time": "2023-11-03T15:46:21.416697727Z"
    }
   },
   "id": "a026335ac28fa9d4"
  },
  {
   "cell_type": "code",
   "execution_count": 4,
   "outputs": [
    {
     "name": "stdout",
     "output_type": "stream",
     "text": [
      "['HDX', 'USD', 'DOT', 'XETH', 'ZUSD', 'ETH', 'XXBT', 'XBT', 'ASTR', 'CFG', 'BNC', 'GLMR']\n"
     ]
    }
   ],
   "source": [
    "cex_fee = 0.0016\n",
    "# buffer = 0.0002\n",
    "\n",
    "lrna_fee={asset: fees[asset]['protocol_fee'] for asset in asset_list}\n",
    "asset_fee={asset: fees[asset]['asset_fee'] for asset in asset_list}\n",
    "\n",
    "# lrna_fee = 0.0005\n",
    "# asset_fee = 0.0025\n",
    "\n",
    "\n",
    "cex = CentralizedMarket(\n",
    "    order_book=ob_objs,\n",
    "    asset_list=order_book_asset_list,\n",
    "    trade_fee=cex_fee\n",
    ")\n",
    "\n",
    "op_state = OmnipoolState(\n",
    "    tokens=tokens,\n",
    "    lrna_fee = lrna_fee,\n",
    "    asset_fee = asset_fee,\n",
    "    preferred_stablecoin='USDT',\n",
    ")\n",
    "\n",
    "init_state = op_state.copy()\n",
    "print(order_book_asset_list)\n"
   ],
   "metadata": {
    "collapsed": false,
    "ExecuteTime": {
     "end_time": "2023-11-03T15:46:21.417716439Z",
     "start_time": "2023-11-03T15:46:21.416908564Z"
    }
   },
   "id": "68064af1cadd64fc"
  },
  {
   "cell_type": "code",
   "execution_count": 5,
   "outputs": [
    {
     "name": "stdout",
     "output_type": "stream",
     "text": [
      "{('ASTR', 'DAI'): ('ASTR', 'USD'),\n",
      " ('ASTR', 'DAI001'): ('ASTR', 'USD'),\n",
      " ('ASTR', 'USDT'): ('ASTR', 'USD'),\n",
      " ('BNC', 'DAI'): ('BNC', 'USD'),\n",
      " ('BNC', 'DAI001'): ('BNC', 'USD'),\n",
      " ('BNC', 'USDT'): ('BNC', 'USD'),\n",
      " ('CFG', 'DAI'): ('CFG', 'USD'),\n",
      " ('CFG', 'DAI001'): ('CFG', 'USD'),\n",
      " ('CFG', 'USDT'): ('CFG', 'USD'),\n",
      " ('DOT', 'DAI'): ('DOT', 'USD'),\n",
      " ('DOT', 'DAI001'): ('DOT', 'USD'),\n",
      " ('DOT', 'USDT'): ('DOT', 'USD'),\n",
      " ('DOT', 'WBTC001'): ('DOT', 'XBT'),\n",
      " ('DOT', 'WETH'): ('DOT', 'ETH'),\n",
      " ('DOT', 'WETH001'): ('DOT', 'ETH'),\n",
      " ('DOT', 'iBTC'): ('DOT', 'XBT'),\n",
      " ('GLMR', 'DAI'): ('GLMR', 'USD'),\n",
      " ('GLMR', 'DAI001'): ('GLMR', 'USD'),\n",
      " ('GLMR', 'USDT'): ('GLMR', 'USD'),\n",
      " ('HDX', 'DAI'): ('HDX', 'USD'),\n",
      " ('HDX', 'DAI001'): ('HDX', 'USD'),\n",
      " ('HDX', 'USDT'): ('HDX', 'USD'),\n",
      " ('WBTC001', 'DAI'): ('XXBT', 'ZUSD'),\n",
      " ('WBTC001', 'DAI001'): ('XXBT', 'ZUSD'),\n",
      " ('WBTC001', 'USDT'): ('XXBT', 'ZUSD'),\n",
      " ('WETH', 'DAI'): ('XETH', 'ZUSD'),\n",
      " ('WETH', 'DAI001'): ('XETH', 'ZUSD'),\n",
      " ('WETH', 'USDT'): ('XETH', 'ZUSD'),\n",
      " ('WETH', 'WBTC001'): ('XETH', 'XXBT'),\n",
      " ('WETH', 'iBTC'): ('XETH', 'XXBT'),\n",
      " ('WETH001', 'DAI'): ('XETH', 'ZUSD'),\n",
      " ('WETH001', 'DAI001'): ('XETH', 'ZUSD'),\n",
      " ('WETH001', 'USDT'): ('XETH', 'ZUSD'),\n",
      " ('WETH001', 'WBTC001'): ('XETH', 'XXBT'),\n",
      " ('WETH001', 'iBTC'): ('XETH', 'XXBT'),\n",
      " ('iBTC', 'DAI'): ('XXBT', 'ZUSD'),\n",
      " ('iBTC', 'DAI001'): ('XXBT', 'ZUSD'),\n",
      " ('iBTC', 'USDT'): ('XXBT', 'ZUSD')}\n"
     ]
    }
   ],
   "source": [
    "order_book_map = {}\n",
    "for i in range(len(arb_list)):\n",
    "    base_id, quote_id = arb_list[i]['tkn_ids']\n",
    "    orderbook_tkn_pair = arb_list[i]['order_book']\n",
    "    if base_id in asset_map and quote_id in asset_map:\n",
    "        tkn_pair = (asset_map[base_id], asset_map[quote_id])\n",
    "        order_book_map[tkn_pair] = orderbook_tkn_pair \n",
    "    \n",
    "pprint(order_book_map)"
   ],
   "metadata": {
    "collapsed": false,
    "ExecuteTime": {
     "end_time": "2023-11-03T15:46:21.418576876Z",
     "start_time": "2023-11-03T15:46:21.417080772Z"
    }
   },
   "id": "5c34a29fa3c15b8"
  },
  {
   "cell_type": "code",
   "execution_count": 6,
   "outputs": [
    {
     "name": "stdout",
     "output_type": "stream",
     "text": [
      "[{'dex': {'trade': 'sell', 'buy_asset': 'USDT', 'sell_asset': 'HDX', 'price': 0.0048, 'amount': 291162.27278636687, 'min_buy': 1404.5731977154612}, 'cex': {'trade': 'buy', 'buy_asset': 'HDX', 'sell_asset': 'USD', 'price': 0.004802399999999999, 'amount': 291162.27278636687}}, {'dex': {'trade': 'sell', 'buy_asset': 'USDT', 'sell_asset': 'HDX', 'price': 0.0048, 'amount': 0.7353574876797354, 'min_buy': 0.003536005198955536}, 'cex': {'trade': 'buy', 'buy_asset': 'HDX', 'sell_asset': 'USD', 'price': 0.004802399999999999, 'amount': 0.7353574876797354}}, {'dex': {'trade': 'sell', 'buy_asset': 'USDT', 'sell_asset': 'DOT', 'price': 4.4323, 'amount': 188.892, 'min_buy': 890.2646849532724}, 'cex': {'trade': 'buy', 'buy_asset': 'DOT', 'sell_asset': 'USD', 'price': 4.434516149999999, 'amount': 188.892}}, {'dex': {'trade': 'sell', 'buy_asset': 'USDT', 'sell_asset': 'DOT', 'price': 4.433, 'amount': 2.0, 'min_buy': 9.417997633695602}, 'cex': {'trade': 'buy', 'buy_asset': 'DOT', 'sell_asset': 'USD', 'price': 4.435216499999999, 'amount': 2.0}}, {'dex': {'trade': 'sell', 'buy_asset': 'USDT', 'sell_asset': 'DOT', 'price': 4.4331, 'amount': 2.615, 'min_buy': 12.313773447752}, 'cex': {'trade': 'buy', 'buy_asset': 'DOT', 'sell_asset': 'USD', 'price': 4.43531655, 'amount': 2.615}}, {'dex': {'trade': 'sell', 'buy_asset': 'USDT', 'sell_asset': 'DOT', 'price': 4.4333, 'amount': 7.005, 'min_buy': 32.98440100991726}, 'cex': {'trade': 'buy', 'buy_asset': 'DOT', 'sell_asset': 'USD', 'price': 4.435516649999999, 'amount': 7.005}}, {'dex': {'trade': 'sell', 'buy_asset': 'USDT', 'sell_asset': 'DOT', 'price': 4.4339, 'amount': 47.0, 'min_buy': 221.25424804526568}, 'cex': {'trade': 'buy', 'buy_asset': 'DOT', 'sell_asset': 'USD', 'price': 4.43611695, 'amount': 47.0}}, {'dex': {'trade': 'sell', 'buy_asset': 'USDT', 'sell_asset': 'DOT', 'price': 4.4341, 'amount': 2.239, 'min_buy': 10.537817249357701}, 'cex': {'trade': 'buy', 'buy_asset': 'DOT', 'sell_asset': 'USD', 'price': 4.4363170499999995, 'amount': 2.239}}, {'dex': {'trade': 'sell', 'buy_asset': 'USDT', 'sell_asset': 'DOT', 'price': 4.4347, 'amount': 955.706, 'min_buy': 4478.496800681114}, 'cex': {'trade': 'buy', 'buy_asset': 'DOT', 'sell_asset': 'USD', 'price': 4.43691735, 'amount': 955.706}}, {'dex': {'trade': 'sell', 'buy_asset': 'USDT', 'sell_asset': 'DOT', 'price': 4.4348, 'amount': 366.128, 'min_buy': 1705.4508825734258}, 'cex': {'trade': 'buy', 'buy_asset': 'DOT', 'sell_asset': 'USD', 'price': 4.4370174, 'amount': 366.128}}, {'dex': {'trade': 'sell', 'buy_asset': 'USDT', 'sell_asset': 'DOT', 'price': 4.4349, 'amount': 12.414, 'min_buy': 57.726442769587045}, 'cex': {'trade': 'buy', 'buy_asset': 'DOT', 'sell_asset': 'USD', 'price': 4.43711745, 'amount': 12.414}}, {'dex': {'trade': 'sell', 'buy_asset': 'USDT', 'sell_asset': 'DOT', 'price': 4.4359, 'amount': 28.0, 'min_buy': 130.1792450582385}, 'cex': {'trade': 'buy', 'buy_asset': 'DOT', 'sell_asset': 'USD', 'price': 4.43811795, 'amount': 28.0}}, {'dex': {'trade': 'sell', 'buy_asset': 'USDT', 'sell_asset': 'DOT', 'price': 4.4361, 'amount': 1140.0, 'min_buy': 5272.308956991196}, 'cex': {'trade': 'buy', 'buy_asset': 'DOT', 'sell_asset': 'USD', 'price': 4.4383180499999995, 'amount': 1140.0}}, {'dex': {'trade': 'sell', 'buy_asset': 'USDT', 'sell_asset': 'DOT', 'price': 4.4367, 'amount': 1140.0, 'min_buy': 5218.54291904068}, 'cex': {'trade': 'buy', 'buy_asset': 'DOT', 'sell_asset': 'USD', 'price': 4.43891835, 'amount': 1140.0}}, {'dex': {'trade': 'sell', 'buy_asset': 'USDT', 'sell_asset': 'DOT', 'price': 4.4368, 'amount': 1149.935, 'min_buy': 5210.382443981588}, 'cex': {'trade': 'buy', 'buy_asset': 'DOT', 'sell_asset': 'USD', 'price': 4.439018399999999, 'amount': 1149.935}}, {'dex': {'trade': 'sell', 'buy_asset': 'USDT', 'sell_asset': 'DOT', 'price': 4.4369, 'amount': 562.25, 'min_buy': 2528.2104128907326}, 'cex': {'trade': 'buy', 'buy_asset': 'DOT', 'sell_asset': 'USD', 'price': 4.43911845, 'amount': 562.25}}, {'dex': {'trade': 'sell', 'buy_asset': 'USDT', 'sell_asset': 'DOT', 'price': 4.4374, 'amount': 29.0, 'min_buy': 130.05924404883385}, 'cex': {'trade': 'buy', 'buy_asset': 'DOT', 'sell_asset': 'USD', 'price': 4.4396187, 'amount': 29.0}}, {'dex': {'trade': 'sell', 'buy_asset': 'USDT', 'sell_asset': 'DOT', 'price': 4.4377, 'amount': 124.431, 'min_buy': 557.6684085205794}, 'cex': {'trade': 'buy', 'buy_asset': 'DOT', 'sell_asset': 'USD', 'price': 4.43991885, 'amount': 124.431}}, {'dex': {'trade': 'sell', 'buy_asset': 'USDT', 'sell_asset': 'DOT', 'price': 4.4379, 'amount': 626.023, 'min_buy': 2796.360233397663}, 'cex': {'trade': 'buy', 'buy_asset': 'DOT', 'sell_asset': 'USD', 'price': 4.44011895, 'amount': 626.023}}, {'dex': {'trade': 'sell', 'buy_asset': 'USDT', 'sell_asset': 'DOT', 'price': 4.438, 'amount': 219.31272882286834, 'min_buy': 975.9817637179494}, 'cex': {'trade': 'buy', 'buy_asset': 'DOT', 'sell_asset': 'USD', 'price': 4.440219, 'amount': 219.31272882286834}}, {'dex': {'trade': 'sell', 'buy_asset': 'DAI', 'sell_asset': 'DOT', 'price': 4.438, 'amount': 514.9883652475389, 'min_buy': 2308.9337056297663}, 'cex': {'trade': 'buy', 'buy_asset': 'DOT', 'sell_asset': 'USD', 'price': 4.440219, 'amount': 514.9883652475389}}, {'dex': {'trade': 'sell', 'buy_asset': 'DAI001', 'sell_asset': 'DOT', 'price': 4.438, 'amount': 1193.8611846128638, 'min_buy': 5359.811132641495}, 'cex': {'trade': 'buy', 'buy_asset': 'DOT', 'sell_asset': 'USD', 'price': 4.440219, 'amount': 1193.8611846128638}}, {'dex': {'trade': 'sell', 'buy_asset': 'DAI001', 'sell_asset': 'DOT', 'price': 4.438, 'amount': 0.0014764554778740778, 'min_buy': 0.006566219985485077}, 'cex': {'trade': 'buy', 'buy_asset': 'DOT', 'sell_asset': 'USD', 'price': 4.440219, 'amount': 0.0014764554778740778}}, {'dex': {'trade': 'buy', 'buy_asset': 'WETH001', 'sell_asset': 'USDT', 'price': 1808.45, 'amount': 0.028, 'max_sell': 50.41391451483965}, 'cex': {'trade': 'sell', 'buy_asset': 'ZUSD', 'sell_asset': 'XETH', 'price': 1807.545775, 'amount': 0.028}}, {'dex': {'trade': 'buy', 'buy_asset': 'WETH001', 'sell_asset': 'USDT', 'price': 1808.11, 'amount': 0.5759715269565582, 'max_sell': 1038.1592246650457}, 'cex': {'trade': 'sell', 'buy_asset': 'ZUSD', 'sell_asset': 'XETH', 'price': 1807.205945, 'amount': 0.5759715269565582}}, {'dex': {'trade': 'buy', 'buy_asset': 'WBTC001', 'sell_asset': 'USDT', 'price': 34547.0, 'amount': 0.06855067634201052, 'max_sell': 2355.5670517437457}, 'cex': {'trade': 'sell', 'buy_asset': 'ZUSD', 'sell_asset': 'XXBT', 'price': 34529.726500000004, 'amount': 0.06855067634201052}}, {'dex': {'trade': 'buy', 'buy_asset': 'WBTC001', 'sell_asset': 'DAI', 'price': 34547.0, 'amount': 0.0035784174103278134, 'max_sell': 123.30443523252009}, 'cex': {'trade': 'sell', 'buy_asset': 'ZUSD', 'sell_asset': 'XXBT', 'price': 34529.726500000004, 'amount': 0.0035784174103278134}}, {'dex': {'trade': 'sell', 'buy_asset': 'DAI001', 'sell_asset': 'iBTC', 'price': 34547.1, 'amount': 0.014758858066558835, 'min_buy': 511.55934384387734}, 'cex': {'trade': 'buy', 'buy_asset': 'XXBT', 'sell_asset': 'ZUSD', 'price': 34564.37355, 'amount': 0.014758858066558835}}, {'dex': {'trade': 'sell', 'buy_asset': 'WBTC001', 'sell_asset': 'DOT', 'price': 0.00012838, 'amount': 23.402, 'min_buy': 0.0030140104293823245}, 'cex': {'trade': 'buy', 'buy_asset': 'DOT', 'sell_asset': 'XBT', 'price': 0.00012844419, 'amount': 23.402}}, {'dex': {'trade': 'sell', 'buy_asset': 'WBTC001', 'sell_asset': 'DOT', 'price': 0.0001284, 'amount': 16.0, 'min_buy': 0.0020600980520248413}, 'cex': {'trade': 'buy', 'buy_asset': 'DOT', 'sell_asset': 'XBT', 'price': 0.0001284642, 'amount': 16.0}}, {'dex': {'trade': 'sell', 'buy_asset': 'WBTC001', 'sell_asset': 'DOT', 'price': 0.00012841, 'amount': 9.213, 'min_buy': 0.0011860159635543824}, 'cex': {'trade': 'buy', 'buy_asset': 'DOT', 'sell_asset': 'XBT', 'price': 0.000128474205, 'amount': 9.213}}, {'dex': {'trade': 'sell', 'buy_asset': 'WBTC001', 'sell_asset': 'DOT', 'price': 0.00012843, 'amount': 18.007787248046874, 'min_buy': 0.002317818820476532}, 'cex': {'trade': 'buy', 'buy_asset': 'DOT', 'sell_asset': 'XBT', 'price': 0.00012849421499999997, 'amount': 18.007787248046874}}, {'dex': {'trade': 'sell', 'buy_asset': 'DAI001', 'sell_asset': 'ASTR', 'price': 0.055, 'amount': 69.34038380768203, 'min_buy': 3.8218027566075325}, 'cex': {'trade': 'buy', 'buy_asset': 'ASTR', 'sell_asset': 'USD', 'price': 0.0550275, 'amount': 69.34038380768203}}, {'dex': {'trade': 'buy', 'buy_asset': 'CFG', 'sell_asset': 'USDT', 'price': 0.387, 'amount': 387.544, 'max_sell': 148.18151387125252}, 'cex': {'trade': 'sell', 'buy_asset': 'USD', 'sell_asset': 'CFG', 'price': 0.38680650000000005, 'amount': 387.544}}, {'dex': {'trade': 'buy', 'buy_asset': 'CFG', 'sell_asset': 'USDT', 'price': 0.3869, 'amount': 450.669, 'max_sell': 172.57846484220028}, 'cex': {'trade': 'sell', 'buy_asset': 'USD', 'sell_asset': 'CFG', 'price': 0.38670655000000004, 'amount': 450.669}}, {'dex': {'trade': 'buy', 'buy_asset': 'CFG', 'sell_asset': 'USDT', 'price': 0.3865, 'amount': 387.42, 'max_sell': 148.5823146048188}, 'cex': {'trade': 'sell', 'buy_asset': 'USD', 'sell_asset': 'CFG', 'price': 0.38630675000000003, 'amount': 387.42}}, {'dex': {'trade': 'buy', 'buy_asset': 'CFG', 'sell_asset': 'USDT', 'price': 0.3864, 'amount': 569.347, 'max_sell': 218.7318834697008}, 'cex': {'trade': 'sell', 'buy_asset': 'USD', 'sell_asset': 'CFG', 'price': 0.3862068, 'amount': 569.347}}, {'dex': {'trade': 'buy', 'buy_asset': 'CFG', 'sell_asset': 'DAI', 'price': 0.3852, 'amount': 66.77676767223166, 'max_sell': 25.663606068134307}, 'cex': {'trade': 'sell', 'buy_asset': 'USD', 'sell_asset': 'CFG', 'price': 0.3850074, 'amount': 66.77676767223166}}, {'dex': {'trade': 'sell', 'buy_asset': 'USDT', 'sell_asset': 'GLMR', 'price': 0.2, 'amount': 4150.427019455792, 'min_buy': 837.008899332583}, 'cex': {'trade': 'buy', 'buy_asset': 'GLMR', 'sell_asset': 'USD', 'price': 0.2001, 'amount': 4150.427019455792}}, {'dex': {'trade': 'sell', 'buy_asset': 'USDT', 'sell_asset': 'GLMR', 'price': 0.2, 'amount': 0.028222809348190703, 'min_buy': 0.005654605746269226}, 'cex': {'trade': 'buy', 'buy_asset': 'GLMR', 'sell_asset': 'USD', 'price': 0.2001, 'amount': 0.028222809348190703}}, {'dex': {'trade': 'sell', 'buy_asset': 'DAI', 'sell_asset': 'GLMR', 'price': 0.2, 'amount': 92.93424191897563, 'min_buy': 18.62945131415129}, 'cex': {'trade': 'buy', 'buy_asset': 'GLMR', 'sell_asset': 'USD', 'price': 0.2001, 'amount': 92.93424191897563}}, {'dex': {'trade': 'sell', 'buy_asset': 'DAI001', 'sell_asset': 'GLMR', 'price': 0.2, 'amount': 1066.7565975968448, 'min_buy': 214.19283434373142}, 'cex': {'trade': 'buy', 'buy_asset': 'GLMR', 'sell_asset': 'USD', 'price': 0.2001, 'amount': 1066.7565975968448}}]\n"
     ]
    }
   ],
   "source": [
    "all_swaps = get_arb_swaps_simple(op_state, cex, order_book_map, buffer=buffer2)\n",
    "print(all_swaps)"
   ],
   "metadata": {
    "collapsed": false,
    "ExecuteTime": {
     "end_time": "2023-11-03T15:46:21.790770949Z",
     "start_time": "2023-11-03T15:46:21.417218909Z"
    }
   },
   "id": "ef086a726e0e13be"
  },
  {
   "cell_type": "code",
   "execution_count": 7,
   "outputs": [
    {
     "name": "stdout",
     "output_type": "stream",
     "text": [
      "{'HDX': 0.0, 'USD': 1021.5998339653015, 'BTC': 1.3947486877441406e-05, 'ETH': 0.0, 'DOT': 0.0, 'ASTR': 0.0, 'ZTG': 0, 'CFG': 0.0, 'BNC': 0, 'vDOT': 0, 'GLMR': 0.0, 'INTR': 0}\n"
     ]
    }
   ],
   "source": [
    "state = init_state.copy()\n",
    "holdings = {asset: 1000000000 for asset in asset_list + order_book_asset_list}\n",
    "init_agent = Agent(holdings=holdings, unique_id='bot')\n",
    "agent = init_agent.copy()\n",
    "execute_arb(state, cex, agent, all_swaps)\n",
    "\n",
    "asset_map = {'WETH': 'ETH',\n",
    "             'XETH': 'ETH',\n",
    "             'XXBT': 'BTC',\n",
    "             'WBTC': 'BTC',\n",
    "             'ZUSD': 'USD',\n",
    "             'USDT': 'USD',\n",
    "             'USDC': 'USD',\n",
    "             'DAI': 'USD',\n",
    "             'USDT001': 'USD',\n",
    "             'DAI001': 'USD',\n",
    "             'WETH001': 'ETH',\n",
    "             'WBTC001': 'BTC',\n",
    "             'iBTC': 'BTC',\n",
    "             'XBT': 'BTC',}\n",
    "\n",
    "profit = calculate_profit(init_agent, agent, asset_map)\n",
    "\n",
    "print(profit)\n",
    "            "
   ],
   "metadata": {
    "collapsed": false,
    "ExecuteTime": {
     "end_time": "2023-11-03T15:46:21.852935811Z",
     "start_time": "2023-11-03T15:46:21.809064334Z"
    }
   },
   "id": "8d4817129c26f839"
  },
  {
   "cell_type": "code",
   "execution_count": 7,
   "outputs": [],
   "source": [],
   "metadata": {
    "collapsed": false,
    "ExecuteTime": {
     "end_time": "2023-11-03T15:46:21.853090787Z",
     "start_time": "2023-11-03T15:46:21.852611023Z"
    }
   },
   "id": "fc18dce1b93bab0c"
  }
 ],
 "metadata": {
  "kernelspec": {
   "display_name": "Python 3",
   "language": "python",
   "name": "python3"
  },
  "language_info": {
   "codemirror_mode": {
    "name": "ipython",
    "version": 2
   },
   "file_extension": ".py",
   "mimetype": "text/x-python",
   "name": "python",
   "nbconvert_exporter": "python",
   "pygments_lexer": "ipython2",
   "version": "2.7.6"
  }
 },
 "nbformat": 4,
 "nbformat_minor": 5
}
