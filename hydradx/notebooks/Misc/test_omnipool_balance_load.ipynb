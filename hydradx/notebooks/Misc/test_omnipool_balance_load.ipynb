{
 "cells": [
  {
   "cell_type": "code",
   "execution_count": 1,
   "id": "7e3246da-b5f4-45e1-9aad-56772bff032b",
   "metadata": {},
   "outputs": [
    {
     "name": "stdout",
     "output_type": "stream",
     "text": [
      "C:\\Users\\jepid\\PycharmProjects\\HydraDX-simulations\\hydradx\\notebooks\\Misc\n",
      "peter@hydradx.io _cVBjSpB7z7SENJ\n"
     ]
    }
   ],
   "source": [
    "from matplotlib import pyplot as plt\n",
    "import sys\n",
    "import requests\n",
    "import base64\n",
    "import json\n",
    "from pprint import pprint\n",
    "from dotenv import load_dotenv\n",
    "import os\n",
    "import time\n",
    "\n",
    "sys.path.append('../../..')\n",
    "from hydradx.model.processing import get_omnipool_balance_history\n",
    "\n",
    "load_dotenv()\n",
    "username = os.getenv('SQLPAD_USERNAME')\n",
    "password = os.getenv('PASSWORD')\n",
    "print(os.getcwd())\n",
    "print(username, password)\n"
   ]
  },
  {
   "cell_type": "code",
   "execution_count": 2,
   "id": "6381335b-bbee-4d41-b576-ec7c5bec47ad",
   "metadata": {},
   "outputs": [
    {
     "name": "stdout",
     "output_type": "stream",
     "text": [
      "C:\\Users\\jepid\\PycharmProjects\\HydraDX-simulations\\hydradx\\notebooks\\Misc\n",
      "peter@hydradx.io _cVBjSpB7z7SENJ\n",
      "loading omnipool_history_01\n",
      "loading omnipool_history_02\n",
      "loading omnipool_history_03\n",
      "Data looks error-free.\n",
      "waiting for query page 263...\n",
      "finished.\n",
      "2621104 2631104\n",
      "waiting for query page 264...\n",
      "finished.\n",
      "2631104 2637700\n",
      "2637700\n"
     ]
    }
   ],
   "source": [
    "history = get_omnipool_balance_history()\n",
    "print(len(history))"
   ]
  },
  {
   "cell_type": "code",
   "execution_count": 3,
   "id": "a9979a96-b994-4ffd-b0ad-b6d1e14b76ed",
   "metadata": {},
   "outputs": [
    {
     "name": "stdout",
     "output_type": "stream",
     "text": [
      "2637700\n"
     ]
    }
   ],
   "source": [
    "print(len(history))"
   ]
  },
  {
   "cell_type": "code",
   "execution_count": null,
   "id": "51ddd174-02cd-4533-9cea-643bd47715e8",
   "metadata": {},
   "outputs": [],
   "source": []
  }
 ],
 "metadata": {
  "kernelspec": {
   "display_name": "Python 3 (ipykernel)",
   "language": "python",
   "name": "python3"
  },
  "language_info": {
   "codemirror_mode": {
    "name": "ipython",
    "version": 3
   },
   "file_extension": ".py",
   "mimetype": "text/x-python",
   "name": "python",
   "nbconvert_exporter": "python",
   "pygments_lexer": "ipython3",
   "version": "3.9.7"
  }
 },
 "nbformat": 4,
 "nbformat_minor": 5
}
