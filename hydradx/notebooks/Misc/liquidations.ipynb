{
 "cells": [
  {
   "cell_type": "code",
   "execution_count": 1,
   "id": "initial_id",
   "metadata": {
    "collapsed": true,
    "ExecuteTime": {
     "end_time": "2024-01-23T21:53:19.515124026Z",
     "start_time": "2024-01-23T21:53:19.505427217Z"
    }
   },
   "outputs": [],
   "source": [
    "from hydradx.model.amm.omnipool_amm import OmnipoolState\n",
    "from hydradx.model.amm.global_state import GlobalState, liquidate_against_omnipool\n",
    "from hydradx.model.amm.agents import Agent\n",
    "from hydradx.model.amm.liquidations import CDP\n",
    "from hydradx.model import run\n",
    "\n"
   ]
  },
  {
   "cell_type": "code",
   "outputs": [
    {
     "name": "stdout",
     "output_type": "stream",
     "text": [
      "Starting simulation...\n",
      "Execution time: 0.012 seconds.\n"
     ]
    }
   ],
   "source": [
    "\n",
    "# same seed, same parameters = same simulation result\n",
    "# random.seed(42)\n",
    "\n",
    "prices = {'DOT': 6, 'HDX': 0.02, 'USDT': 1, 'WETH': 2500, 'iBTC': 45000}\n",
    "\n",
    "assets = {\n",
    "    'DOT': {'usd price': prices['DOT'], 'weight': 0.40},\n",
    "    'HDX': {'usd price': prices['HDX'], 'weight': 0.10},\n",
    "    'USDT': {'usd price': prices['USDT'], 'weight': 0.30},\n",
    "    'WETH': {'usd price': prices['WETH'], 'weight': 0.10},\n",
    "    'iBTC': {'usd price': prices['iBTC'], 'weight': 0.10}\n",
    "}\n",
    "\n",
    "lrna_price_usd = 35\n",
    "initial_omnipool_tvl = 20000000\n",
    "liquidity = {}\n",
    "lrna = {}\n",
    "\n",
    "for tkn, info in assets.items():\n",
    "    liquidity[tkn] = initial_omnipool_tvl * info['weight'] / info['usd price']\n",
    "    lrna[tkn] = initial_omnipool_tvl * info['weight'] / lrna_price_usd\n",
    "    \n",
    "cdps = [\n",
    "    CDP('USDT', 'DOT', 100, 20, True),\n",
    "    CDP('USDT', 'HDX', 100, 10000, False),\n",
    "    CDP('USDT', 'WETH', 25000000, 10200, True),\n",
    "]\n",
    "\n",
    "initial_state = GlobalState(\n",
    "    pools={\n",
    "        'omnipool': OmnipoolState(\n",
    "            tokens={\n",
    "                tkn: {'liquidity': liquidity[tkn], 'LRNA': lrna[tkn]} for tkn in assets\n",
    "            },\n",
    "            preferred_stablecoin='USDT',\n",
    "        )\n",
    "    },\n",
    "    agents = {'Treasury': Agent(holdings={tkn: 0 for tkn in assets})},\n",
    "    cdps=cdps,\n",
    "    archive_all=True,\n",
    "    evolve_function=liquidate_against_omnipool('omnipool', 'Treasury'),\n",
    ")\n",
    "\n",
    "# print(f'Running with {3} time steps')\n",
    "events = run.run(initial_state, time_steps=2)"
   ],
   "metadata": {
    "collapsed": false,
    "ExecuteTime": {
     "end_time": "2024-01-23T21:53:19.533867365Z",
     "start_time": "2024-01-23T21:53:19.514785864Z"
    }
   },
   "id": "de7782562046d65b",
   "execution_count": 2
  },
  {
   "cell_type": "code",
   "outputs": [
    {
     "name": "stdout",
     "output_type": "stream",
     "text": [
      "[CDP(USDT, DOT, 100, 20, True),\n",
      " CDP(USDT, HDX, 100, 10000, False),\n",
      " CDP(USDT, WETH, 25000000, 10200, True)]\n",
      "[CDP(USDT, DOT, 0.0, 3.16617077011394, True),\n",
      " CDP(USDT, HDX, 100, 10000, False),\n",
      " CDP(USDT, WETH, 24985480.308532715, 10194.075928214546, True)]\n",
      "{'DOT': 0, 'HDX': 0, 'USD': 0, 'USDT': 146.19691467285156, 'WETH': 0, 'iBTC': 0}\n",
      "[CDP(USDT, DOT, 0.0, 3.16617077011394, True),\n",
      " CDP(USDT, HDX, 100, 10000, False),\n",
      " CDP(USDT, WETH, 24985480.308532715, 10194.075928214546, True)]\n",
      "{'DOT': 0, 'HDX': 0, 'USD': 0, 'USDT': 146.19691467285156, 'WETH': 0, 'iBTC': 0}\n"
     ]
    }
   ],
   "source": [
    "from pprint import pprint\n",
    "\n",
    "pprint(cdps)\n",
    "for event in events:\n",
    "    pprint(event.cdps)\n",
    "    pprint(event.agents['Treasury'].holdings)"
   ],
   "metadata": {
    "collapsed": false,
    "ExecuteTime": {
     "end_time": "2024-01-23T21:53:19.576823338Z",
     "start_time": "2024-01-23T21:53:19.535573977Z"
    }
   },
   "id": "3d67fb31aa02bbb5",
   "execution_count": 3
  },
  {
   "cell_type": "code",
   "outputs": [],
   "source": [],
   "metadata": {
    "collapsed": false,
    "ExecuteTime": {
     "end_time": "2024-01-23T21:53:19.577176492Z",
     "start_time": "2024-01-23T21:53:19.576514168Z"
    }
   },
   "id": "bbd4023807bf431b",
   "execution_count": 3
  }
 ],
 "metadata": {
  "kernelspec": {
   "display_name": "Python 3",
   "language": "python",
   "name": "python3"
  },
  "language_info": {
   "codemirror_mode": {
    "name": "ipython",
    "version": 2
   },
   "file_extension": ".py",
   "mimetype": "text/x-python",
   "name": "python",
   "nbconvert_exporter": "python",
   "pygments_lexer": "ipython2",
   "version": "2.7.6"
  }
 },
 "nbformat": 4,
 "nbformat_minor": 5
}
