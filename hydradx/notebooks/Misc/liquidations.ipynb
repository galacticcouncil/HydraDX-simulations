{
 "cells": [
  {
   "cell_type": "code",
   "execution_count": 1,
   "id": "initial_id",
   "metadata": {
    "collapsed": true,
    "ExecuteTime": {
     "end_time": "2024-01-24T16:26:43.707382638Z",
     "start_time": "2024-01-24T16:26:43.693975663Z"
    }
   },
   "outputs": [],
   "source": [
    "from hydradx.model.amm.omnipool_amm import OmnipoolState\n",
    "from hydradx.model.amm.global_state import GlobalState, liquidate_against_omnipool\n",
    "from hydradx.model.amm.agents import Agent\n",
    "from hydradx.model.amm.liquidations import CDP\n",
    "from hydradx.model import run\n",
    "\n"
   ]
  },
  {
   "cell_type": "code",
   "outputs": [
    {
     "name": "stdout",
     "output_type": "stream",
     "text": [
      "Starting simulation...\n"
     ]
    },
    {
     "ename": "KeyboardInterrupt",
     "evalue": "",
     "output_type": "error",
     "traceback": [
      "\u001B[0;31m---------------------------------------------------------------------------\u001B[0m",
      "\u001B[0;31mKeyboardInterrupt\u001B[0m                         Traceback (most recent call last)",
      "Input \u001B[0;32mIn [5]\u001B[0m, in \u001B[0;36m<cell line: 53>\u001B[0;34m()\u001B[0m\n\u001B[1;32m     36\u001B[0m initial_state \u001B[38;5;241m=\u001B[39m GlobalState(\n\u001B[1;32m     37\u001B[0m     pools\u001B[38;5;241m=\u001B[39m{\n\u001B[1;32m     38\u001B[0m         \u001B[38;5;124m'\u001B[39m\u001B[38;5;124momnipool\u001B[39m\u001B[38;5;124m'\u001B[39m: OmnipoolState(\n\u001B[0;32m   (...)\u001B[0m\n\u001B[1;32m     49\u001B[0m     evolve_function\u001B[38;5;241m=\u001B[39mliquidate_against_omnipool_and_settle_otc(\u001B[38;5;124m'\u001B[39m\u001B[38;5;124momnipool\u001B[39m\u001B[38;5;124m'\u001B[39m, \u001B[38;5;124m'\u001B[39m\u001B[38;5;124mTreasury\u001B[39m\u001B[38;5;124m'\u001B[39m),\n\u001B[1;32m     50\u001B[0m )\n\u001B[1;32m     52\u001B[0m \u001B[38;5;66;03m# print(f'Running with {3} time steps')\u001B[39;00m\n\u001B[0;32m---> 53\u001B[0m events \u001B[38;5;241m=\u001B[39m \u001B[43mrun\u001B[49m\u001B[38;5;241;43m.\u001B[39;49m\u001B[43mrun\u001B[49m\u001B[43m(\u001B[49m\u001B[43minitial_state\u001B[49m\u001B[43m,\u001B[49m\u001B[43m \u001B[49m\u001B[43mtime_steps\u001B[49m\u001B[38;5;241;43m=\u001B[39;49m\u001B[38;5;241;43m2\u001B[39;49m\u001B[43m)\u001B[49m\n",
      "File \u001B[0;32m~/PycharmProjects/HydraDX-simulations/hydradx/model/run.py:23\u001B[0m, in \u001B[0;36mrun\u001B[0;34m(initial_state, time_steps, silent)\u001B[0m\n\u001B[1;32m     18\u001B[0m     \u001B[38;5;28mprint\u001B[39m(\u001B[38;5;124m'\u001B[39m\u001B[38;5;124mStarting simulation...\u001B[39m\u001B[38;5;124m'\u001B[39m)\n\u001B[1;32m     20\u001B[0m \u001B[38;5;28;01mfor\u001B[39;00m i \u001B[38;5;129;01min\u001B[39;00m \u001B[38;5;28mrange\u001B[39m(time_steps):\n\u001B[1;32m     21\u001B[0m \n\u001B[1;32m     22\u001B[0m     \u001B[38;5;66;03m# market evolutions\u001B[39;00m\n\u001B[0;32m---> 23\u001B[0m     \u001B[43mnew_global_state\u001B[49m\u001B[38;5;241;43m.\u001B[39;49m\u001B[43mevolve\u001B[49m\u001B[43m(\u001B[49m\u001B[43m)\u001B[49m\n\u001B[1;32m     25\u001B[0m     \u001B[38;5;66;03m# agent actions\u001B[39;00m\n\u001B[1;32m     26\u001B[0m     agent_ids \u001B[38;5;241m=\u001B[39m \u001B[38;5;28mlist\u001B[39m(new_global_state\u001B[38;5;241m.\u001B[39magents\u001B[38;5;241m.\u001B[39mkeys())\n",
      "File \u001B[0;32m~/PycharmProjects/HydraDX-simulations/hydradx/model/amm/global_state.py:117\u001B[0m, in \u001B[0;36mGlobalState.evolve\u001B[0;34m(self)\u001B[0m\n\u001B[1;32m    115\u001B[0m     pool\u001B[38;5;241m.\u001B[39mupdate()\n\u001B[1;32m    116\u001B[0m \u001B[38;5;28;01mif\u001B[39;00m \u001B[38;5;28mself\u001B[39m\u001B[38;5;241m.\u001B[39m_evolve_function:\n\u001B[0;32m--> 117\u001B[0m     \u001B[38;5;28;01mreturn\u001B[39;00m \u001B[38;5;28;43mself\u001B[39;49m\u001B[38;5;241;43m.\u001B[39;49m\u001B[43m_evolve_function\u001B[49m\u001B[43m(\u001B[49m\u001B[38;5;28;43mself\u001B[39;49m\u001B[43m)\u001B[49m\n",
      "File \u001B[0;32m~/PycharmProjects/HydraDX-simulations/hydradx/model/amm/global_state.py:503\u001B[0m, in \u001B[0;36mliquidate_against_omnipool_and_settle_otc.<locals>.transform\u001B[0;34m(state)\u001B[0m\n\u001B[1;32m    501\u001B[0m \u001B[38;5;28;01mdef\u001B[39;00m \u001B[38;5;21mtransform\u001B[39m(state: GlobalState) \u001B[38;5;241m-\u001B[39m\u001B[38;5;241m>\u001B[39m GlobalState:\n\u001B[1;32m    502\u001B[0m     transform_liquidate(state)\n\u001B[0;32m--> 503\u001B[0m     \u001B[43mtransform_otc\u001B[49m\u001B[43m(\u001B[49m\u001B[43mstate\u001B[49m\u001B[43m)\u001B[49m\n\u001B[1;32m    504\u001B[0m     \u001B[38;5;28;01mreturn\u001B[39;00m state\n",
      "File \u001B[0;32m~/PycharmProjects/HydraDX-simulations/hydradx/model/amm/global_state.py:443\u001B[0m, in \u001B[0;36msettle_otc_against_omnipool.<locals>.transform\u001B[0;34m(state)\u001B[0m\n\u001B[1;32m    441\u001B[0m agent \u001B[38;5;241m=\u001B[39m state\u001B[38;5;241m.\u001B[39magents[agent_id]\n\u001B[1;32m    442\u001B[0m \u001B[38;5;28;01mfor\u001B[39;00m otc \u001B[38;5;129;01min\u001B[39;00m state\u001B[38;5;241m.\u001B[39motcs:\n\u001B[0;32m--> 443\u001B[0m     sell_to_otc_amt \u001B[38;5;241m=\u001B[39m \u001B[43mfind_partial_otc_amount\u001B[49m\u001B[43m(\u001B[49m\u001B[43momnipool\u001B[49m\u001B[43m,\u001B[49m\u001B[43m \u001B[49m\u001B[43motc\u001B[49m\u001B[43m)\u001B[49m\n\u001B[1;32m    444\u001B[0m     \u001B[38;5;28;01mif\u001B[39;00m sell_to_otc_amt \u001B[38;5;241m>\u001B[39m \u001B[38;5;241m0\u001B[39m:\n\u001B[1;32m    445\u001B[0m         omnipool_settle_otc(state, otc, agent, sell_to_otc_amt)\n",
      "File \u001B[0;32m~/PycharmProjects/HydraDX-simulations/hydradx/model/amm/global_state.py:473\u001B[0m, in \u001B[0;36mfind_partial_otc_amount\u001B[0;34m(omnipool, otc)\u001B[0m\n\u001B[1;32m    469\u001B[0m \u001B[38;5;28;01mfor\u001B[39;00m i \u001B[38;5;129;01min\u001B[39;00m \u001B[38;5;28mrange\u001B[39m(iters):\n\u001B[1;32m    471\u001B[0m     temp_state, temp_agent \u001B[38;5;241m=\u001B[39m simulate_swap(omnipool, agent, tkn_buy\u001B[38;5;241m=\u001B[39mbuy_asset,\n\u001B[1;32m    472\u001B[0m                                            tkn_sell\u001B[38;5;241m=\u001B[39msell_asset, buy_quantity\u001B[38;5;241m=\u001B[39mbuy_amt)\n\u001B[0;32m--> 473\u001B[0m     amt_sold \u001B[38;5;241m=\u001B[39m \u001B[43magent\u001B[49m\u001B[38;5;241m.\u001B[39mholdings[sell_asset] \u001B[38;5;241m-\u001B[39m temp_agent\u001B[38;5;241m.\u001B[39mholdings[sell_asset]\n\u001B[1;32m    474\u001B[0m     execution_price \u001B[38;5;241m=\u001B[39m amt_sold \u001B[38;5;241m/\u001B[39m buy_amt \u001B[38;5;28;01mif\u001B[39;00m buy_amt \u001B[38;5;241m!=\u001B[39m \u001B[38;5;241m0\u001B[39m \u001B[38;5;28;01melse\u001B[39;00m \u001B[38;5;28mfloat\u001B[39m(\u001B[38;5;124m'\u001B[39m\u001B[38;5;124minf\u001B[39m\u001B[38;5;124m'\u001B[39m)\n\u001B[1;32m    476\u001B[0m     \u001B[38;5;28;01mif\u001B[39;00m execution_price \u001B[38;5;241m>\u001B[39m otc\u001B[38;5;241m.\u001B[39mprice \u001B[38;5;129;01mor\u001B[39;00m amt_sold \u001B[38;5;241m==\u001B[39m \u001B[38;5;241m0\u001B[39m:  \u001B[38;5;66;03m# trade amount too high\u001B[39;00m\n",
      "File \u001B[0;32m~/PycharmProjects/HydraDX-simulations/hydradx/model/amm/global_state.py:473\u001B[0m, in \u001B[0;36mfind_partial_otc_amount\u001B[0;34m(omnipool, otc)\u001B[0m\n\u001B[1;32m    469\u001B[0m \u001B[38;5;28;01mfor\u001B[39;00m i \u001B[38;5;129;01min\u001B[39;00m \u001B[38;5;28mrange\u001B[39m(iters):\n\u001B[1;32m    471\u001B[0m     temp_state, temp_agent \u001B[38;5;241m=\u001B[39m simulate_swap(omnipool, agent, tkn_buy\u001B[38;5;241m=\u001B[39mbuy_asset,\n\u001B[1;32m    472\u001B[0m                                            tkn_sell\u001B[38;5;241m=\u001B[39msell_asset, buy_quantity\u001B[38;5;241m=\u001B[39mbuy_amt)\n\u001B[0;32m--> 473\u001B[0m     amt_sold \u001B[38;5;241m=\u001B[39m \u001B[43magent\u001B[49m\u001B[38;5;241m.\u001B[39mholdings[sell_asset] \u001B[38;5;241m-\u001B[39m temp_agent\u001B[38;5;241m.\u001B[39mholdings[sell_asset]\n\u001B[1;32m    474\u001B[0m     execution_price \u001B[38;5;241m=\u001B[39m amt_sold \u001B[38;5;241m/\u001B[39m buy_amt \u001B[38;5;28;01mif\u001B[39;00m buy_amt \u001B[38;5;241m!=\u001B[39m \u001B[38;5;241m0\u001B[39m \u001B[38;5;28;01melse\u001B[39;00m \u001B[38;5;28mfloat\u001B[39m(\u001B[38;5;124m'\u001B[39m\u001B[38;5;124minf\u001B[39m\u001B[38;5;124m'\u001B[39m)\n\u001B[1;32m    476\u001B[0m     \u001B[38;5;28;01mif\u001B[39;00m execution_price \u001B[38;5;241m>\u001B[39m otc\u001B[38;5;241m.\u001B[39mprice \u001B[38;5;129;01mor\u001B[39;00m amt_sold \u001B[38;5;241m==\u001B[39m \u001B[38;5;241m0\u001B[39m:  \u001B[38;5;66;03m# trade amount too high\u001B[39;00m\n",
      "File \u001B[0;32m/snap/pycharm-professional/364/plugins/python/helpers/pydev/_pydevd_bundle/pydevd_frame.py:892\u001B[0m, in \u001B[0;36mPyDBFrame.trace_dispatch\u001B[0;34m(self, frame, event, arg)\u001B[0m\n\u001B[1;32m    890\u001B[0m \u001B[38;5;28;01mif\u001B[39;00m is_line:\n\u001B[1;32m    891\u001B[0m     \u001B[38;5;28mself\u001B[39m\u001B[38;5;241m.\u001B[39mset_suspend(thread, step_cmd)\n\u001B[0;32m--> 892\u001B[0m     \u001B[38;5;28;43mself\u001B[39;49m\u001B[38;5;241;43m.\u001B[39;49m\u001B[43mdo_wait_suspend\u001B[49m\u001B[43m(\u001B[49m\u001B[43mthread\u001B[49m\u001B[43m,\u001B[49m\u001B[43m \u001B[49m\u001B[43mframe\u001B[49m\u001B[43m,\u001B[49m\u001B[43m \u001B[49m\u001B[43mevent\u001B[49m\u001B[43m,\u001B[49m\u001B[43m \u001B[49m\u001B[43marg\u001B[49m\u001B[43m)\u001B[49m\n\u001B[1;32m    893\u001B[0m \u001B[38;5;28;01melse\u001B[39;00m:  \u001B[38;5;66;03m# return event\u001B[39;00m\n\u001B[1;32m    894\u001B[0m     back \u001B[38;5;241m=\u001B[39m frame\u001B[38;5;241m.\u001B[39mf_back\n",
      "File \u001B[0;32m/snap/pycharm-professional/364/plugins/python/helpers/pydev/_pydevd_bundle/pydevd_frame.py:412\u001B[0m, in \u001B[0;36mPyDBFrame.do_wait_suspend\u001B[0;34m(self, *args, **kwargs)\u001B[0m\n\u001B[1;32m    411\u001B[0m \u001B[38;5;28;01mdef\u001B[39;00m \u001B[38;5;21mdo_wait_suspend\u001B[39m(\u001B[38;5;28mself\u001B[39m, \u001B[38;5;241m*\u001B[39margs, \u001B[38;5;241m*\u001B[39m\u001B[38;5;241m*\u001B[39mkwargs):\n\u001B[0;32m--> 412\u001B[0m     \u001B[38;5;28;43mself\u001B[39;49m\u001B[38;5;241;43m.\u001B[39;49m\u001B[43m_args\u001B[49m\u001B[43m[\u001B[49m\u001B[38;5;241;43m0\u001B[39;49m\u001B[43m]\u001B[49m\u001B[38;5;241;43m.\u001B[39;49m\u001B[43mdo_wait_suspend\u001B[49m\u001B[43m(\u001B[49m\u001B[38;5;241;43m*\u001B[39;49m\u001B[43margs\u001B[49m\u001B[43m,\u001B[49m\u001B[43m \u001B[49m\u001B[38;5;241;43m*\u001B[39;49m\u001B[38;5;241;43m*\u001B[39;49m\u001B[43mkwargs\u001B[49m\u001B[43m)\u001B[49m\n",
      "File \u001B[0;32m/snap/pycharm-professional/364/plugins/python/helpers/pydev/pydevd.py:1184\u001B[0m, in \u001B[0;36mPyDB.do_wait_suspend\u001B[0;34m(self, thread, frame, event, arg, send_suspend_message, is_unhandled_exception)\u001B[0m\n\u001B[1;32m   1181\u001B[0m         from_this_thread\u001B[38;5;241m.\u001B[39mappend(frame_id)\n\u001B[1;32m   1183\u001B[0m \u001B[38;5;28;01mwith\u001B[39;00m \u001B[38;5;28mself\u001B[39m\u001B[38;5;241m.\u001B[39m_threads_suspended_single_notification\u001B[38;5;241m.\u001B[39mnotify_thread_suspended(thread_id, stop_reason):\n\u001B[0;32m-> 1184\u001B[0m     \u001B[38;5;28;43mself\u001B[39;49m\u001B[38;5;241;43m.\u001B[39;49m\u001B[43m_do_wait_suspend\u001B[49m\u001B[43m(\u001B[49m\u001B[43mthread\u001B[49m\u001B[43m,\u001B[49m\u001B[43m \u001B[49m\u001B[43mframe\u001B[49m\u001B[43m,\u001B[49m\u001B[43m \u001B[49m\u001B[43mevent\u001B[49m\u001B[43m,\u001B[49m\u001B[43m \u001B[49m\u001B[43marg\u001B[49m\u001B[43m,\u001B[49m\u001B[43m \u001B[49m\u001B[43msuspend_type\u001B[49m\u001B[43m,\u001B[49m\u001B[43m \u001B[49m\u001B[43mfrom_this_thread\u001B[49m\u001B[43m)\u001B[49m\n",
      "File \u001B[0;32m/snap/pycharm-professional/364/plugins/python/helpers/pydev/pydevd.py:1199\u001B[0m, in \u001B[0;36mPyDB._do_wait_suspend\u001B[0;34m(self, thread, frame, event, arg, suspend_type, from_this_thread)\u001B[0m\n\u001B[1;32m   1196\u001B[0m             \u001B[38;5;28mself\u001B[39m\u001B[38;5;241m.\u001B[39m_call_mpl_hook()\n\u001B[1;32m   1198\u001B[0m         \u001B[38;5;28mself\u001B[39m\u001B[38;5;241m.\u001B[39mprocess_internal_commands()\n\u001B[0;32m-> 1199\u001B[0m         \u001B[43mtime\u001B[49m\u001B[38;5;241;43m.\u001B[39;49m\u001B[43msleep\u001B[49m\u001B[43m(\u001B[49m\u001B[38;5;241;43m0.01\u001B[39;49m\u001B[43m)\u001B[49m\n\u001B[1;32m   1201\u001B[0m \u001B[38;5;28mself\u001B[39m\u001B[38;5;241m.\u001B[39mcancel_async_evaluation(get_current_thread_id(thread), \u001B[38;5;28mstr\u001B[39m(\u001B[38;5;28mid\u001B[39m(frame)))\n\u001B[1;32m   1203\u001B[0m \u001B[38;5;66;03m# process any stepping instructions\u001B[39;00m\n",
      "\u001B[0;31mKeyboardInterrupt\u001B[0m: "
     ]
    }
   ],
   "source": [
    "from hydradx.model.amm.global_state import liquidate_against_omnipool_and_settle_otc\n",
    "from hydradx.model.amm.otc import OTC\n",
    "\n",
    "# same seed, same parameters = same simulation result\n",
    "# random.seed(42)\n",
    "\n",
    "prices = {'DOT': 6, 'HDX': 0.02, 'USDT': 1, 'WETH': 2500, 'iBTC': 45000}\n",
    "\n",
    "assets = {\n",
    "    'DOT': {'usd price': prices['DOT'], 'weight': 0.40},\n",
    "    'HDX': {'usd price': prices['HDX'], 'weight': 0.10},\n",
    "    'USDT': {'usd price': prices['USDT'], 'weight': 0.30},\n",
    "    'WETH': {'usd price': prices['WETH'], 'weight': 0.10},\n",
    "    'iBTC': {'usd price': prices['iBTC'], 'weight': 0.10}\n",
    "}\n",
    "\n",
    "lrna_price_usd = 35\n",
    "initial_omnipool_tvl = 20000000\n",
    "liquidity = {}\n",
    "lrna = {}\n",
    "\n",
    "for tkn, info in assets.items():\n",
    "    liquidity[tkn] = initial_omnipool_tvl * info['weight'] / info['usd price']\n",
    "    lrna[tkn] = initial_omnipool_tvl * info['weight'] / lrna_price_usd\n",
    "    \n",
    "cdps = [\n",
    "    CDP('USDT', 'DOT', 100, 20, True),\n",
    "    CDP('USDT', 'HDX', 100, 10000, False),\n",
    "    CDP('USDT', 'WETH', 25000000, 10200, True),\n",
    "]\n",
    "\n",
    "otcs = [\n",
    "    OTC('DOT', 'USDT', 100, 6.001, True)\n",
    "]\n",
    "\n",
    "initial_state = GlobalState(\n",
    "    pools={\n",
    "        'omnipool': OmnipoolState(\n",
    "            tokens={\n",
    "                tkn: {'liquidity': liquidity[tkn], 'LRNA': lrna[tkn]} for tkn in assets\n",
    "            },\n",
    "            preferred_stablecoin='USDT',\n",
    "        )\n",
    "    },\n",
    "    agents = {'Treasury': Agent(holdings={tkn: 0 for tkn in assets})},\n",
    "    # cdps=cdps,\n",
    "    otcs=otcs,\n",
    "    archive_all=True,\n",
    "    evolve_function=liquidate_against_omnipool_and_settle_otc('omnipool', 'Treasury'),\n",
    ")\n",
    "\n",
    "# print(f'Running with {3} time steps')\n",
    "events = run.run(initial_state, time_steps=2)"
   ],
   "metadata": {
    "collapsed": false,
    "ExecuteTime": {
     "end_time": "2024-01-24T16:29:49.888737304Z",
     "start_time": "2024-01-24T16:26:49.669720276Z"
    }
   },
   "id": "de7782562046d65b",
   "execution_count": 5
  },
  {
   "cell_type": "code",
   "outputs": [
    {
     "name": "stdout",
     "output_type": "stream",
     "text": [
      "[CDP(USDT, DOT, 100, 20, True),\n",
      " CDP(USDT, HDX, 100, 10000, False),\n",
      " CDP(USDT, WETH, 25000000, 10200, True)]\n",
      "[OTC(DOT, USDT, 100, 6.001, True)]\n",
      "[]\n",
      "[OTC(DOT, USDT, 4.7779083251953125, 6.001, True)]\n",
      "{'DOT': 2.2194996063262806e-08,\n",
      " 'HDX': 0,\n",
      " 'USD': 0,\n",
      " 'USDT': 0,\n",
      " 'WETH': 0,\n",
      " 'iBTC': 0}\n",
      "[]\n",
      "[OTC(DOT, USDT, 4.7779083251953125, 6.001, True)]\n",
      "{'DOT': 2.2194996063262806e-08,\n",
      " 'HDX': 0,\n",
      " 'USD': 0,\n",
      " 'USDT': 0,\n",
      " 'WETH': 0,\n",
      " 'iBTC': 0}\n"
     ]
    }
   ],
   "source": [
    "from pprint import pprint\n",
    "\n",
    "pprint(cdps)\n",
    "pprint(otcs)\n",
    "for event in events:\n",
    "    pprint(event.cdps)\n",
    "    pprint(event.otcs)\n",
    "    pprint(event.agents['Treasury'].holdings)"
   ],
   "metadata": {
    "collapsed": false,
    "ExecuteTime": {
     "end_time": "2024-01-24T16:26:43.766877347Z",
     "start_time": "2024-01-24T16:26:43.765940456Z"
    }
   },
   "id": "3d67fb31aa02bbb5",
   "execution_count": 3
  },
  {
   "cell_type": "code",
   "outputs": [
    {
     "name": "stdout",
     "output_type": "stream",
     "text": [
      "6.0020001638686935\n"
     ]
    }
   ],
   "source": [
    "omnipool = events[-1].pools['omnipool']\n",
    "pprint(omnipool.price(omnipool, 'DOT', 'USDT'))"
   ],
   "metadata": {
    "collapsed": false,
    "ExecuteTime": {
     "end_time": "2024-01-24T16:26:43.767307171Z",
     "start_time": "2024-01-24T16:26:43.766126709Z"
    }
   },
   "id": "bbd4023807bf431b",
   "execution_count": 4
  },
  {
   "cell_type": "code",
   "outputs": [],
   "source": [],
   "metadata": {
    "collapsed": false,
    "ExecuteTime": {
     "end_time": "2024-01-24T16:26:43.767705308Z",
     "start_time": "2024-01-24T16:26:43.766272431Z"
    }
   },
   "id": "1fbbcbd9814bd19d",
   "execution_count": 4
  }
 ],
 "metadata": {
  "kernelspec": {
   "display_name": "Python 3",
   "language": "python",
   "name": "python3"
  },
  "language_info": {
   "codemirror_mode": {
    "name": "ipython",
    "version": 2
   },
   "file_extension": ".py",
   "mimetype": "text/x-python",
   "name": "python",
   "nbconvert_exporter": "python",
   "pygments_lexer": "ipython2",
   "version": "2.7.6"
  }
 },
 "nbformat": 4,
 "nbformat_minor": 5
}
