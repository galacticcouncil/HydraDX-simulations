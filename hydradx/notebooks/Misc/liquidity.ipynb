{
 "cells": [
  {
   "cell_type": "code",
   "id": "initial_id",
   "metadata": {
    "collapsed": true,
    "ExecuteTime": {
     "end_time": "2025-02-27T22:43:49.723015Z",
     "start_time": "2025-02-27T22:43:49.719310Z"
    }
   },
   "source": [
    "from matplotlib import pyplot as plt\n",
    "from datetime import datetime\n",
    "import math\n",
    "import sys\n",
    "from pprint import pprint\n",
    "\n",
    "from hydradx.model.amm.omnipool_amm import DynamicFee\n",
    "\n",
    "sys.path.append('../..')\n",
    "from model.amm.omnipool_router import OmnipoolRouter\n",
    "from model.amm.stableswap_amm import StableSwapPoolState\n",
    "from model.amm.omnipool_amm import OmnipoolState\n",
    "from model.amm.agents import Agent\n",
    "\n"
   ],
   "outputs": [],
   "execution_count": 7
  },
  {
   "metadata": {
    "ExecuteTime": {
     "end_time": "2025-02-27T22:43:49.773899Z",
     "start_time": "2025-02-27T22:43:49.766838Z"
    }
   },
   "cell_type": "code",
   "source": [
    "lrna_price = 25  # price of LRNA in USDT\n",
    "omnipool_liquidity = {'HDX': 85_500_000, '2-Pool': 15_000_000,\n",
    "                      'DOT': 2_717_000, 'vDOT': 905_800,\n",
    "                      'WETH': 905.5, 'ASTR': 50_080_000,\n",
    "                      'GLMR': 14_080_000, '4-Pool': 1_265_000,\n",
    "                      'BNC': 5_972_000, 'tBTC': 10.79,\n",
    "                      'CFG': 5_476_000, 'iBTC': 10.42,\n",
    "                      'WBTC': 10.29, 'PHA': 5_105_000,\n",
    "                      'KSM': 32_790, 'INTR': 67_330_000,\n",
    "                      'vASTR': 7_165_000, 'KILT': 4_490_000,\n",
    "                      'AAVE': 965.4, 'SOL': 754.4,\n",
    "                      'ZTG': 8_229_000, 'CRU': 442_600,\n",
    "                      '2-Pool-Btc': 0.6296, 'RING': 32_760_000}\n",
    "\n",
    "usd_values = {'HDX': 1_000_000, '2-Pool': 15_000_000, 'DOT': 13_250_000,\n",
    "              'vDOT': 6_475_000, 'WETH': 2_050_000, 'ASTR': 1_900_000,\n",
    "              'GLMR': 1_660_000, '4-Pool': 1_290_000, 'BNC': 1_085_000,\n",
    "              'tBTC': 900_000, 'CFG': 870_000, 'iBTC': 870_000,\n",
    "              'WBTC': 860_000, 'PHA': 760_000, 'KSM': 640_000,\n",
    "              'INTR': 370_000, 'vASTR': 320_000, 'KILT': 250_000,\n",
    "              'AAVE': 190_000, 'SOL': 100_000, 'ZTG': 94_000,\n",
    "              'CRU': 71_000, '2-Pool-Btc': 55_000, 'RING': 47_000}\n",
    "\n",
    "lrna_amounts = {key: value / lrna_price for key, value in usd_values.items()}\n",
    "\n",
    "tokens = {\n",
    "    tkn: {'liquidity': omnipool_liquidity[tkn], 'LRNA': lrna_amounts[tkn]}\n",
    "    for tkn in omnipool_liquidity\n",
    "}\n",
    "\n",
    "lrna_fee = DynamicFee(\n",
    "    minimum=0.0005, maximum=0.0010, amplification=1,\n",
    "    decay=0.000001\n",
    ")\n",
    "asset_fee = DynamicFee(\n",
    "    minimum=0.0025, maximum=0.01, amplification=2,\n",
    "    decay=0.00001\n",
    ")\n",
    "\n",
    "omnipool = OmnipoolState(\n",
    "    tokens=tokens, lrna_fee=lrna_fee, asset_fee=asset_fee\n",
    ")"
   ],
   "id": "f7e496a0087e0e1c",
   "outputs": [],
   "execution_count": 8
  },
  {
   "metadata": {
    "ExecuteTime": {
     "end_time": "2025-02-27T22:43:49.821790Z",
     "start_time": "2025-02-27T22:43:49.817842Z"
    }
   },
   "cell_type": "code",
   "source": [
    "tokens_2_pool = {'USDT': 9_000_000, 'USDC': 8_000_000}\n",
    "ss_2_pool = StableSwapPoolState(\n",
    "    tokens=tokens_2_pool, amplification=100, trade_fee=0.0002, unique_id='2-Pool'\n",
    ")\n",
    "tokens_4_pool = {\n",
    "    'USDT': 362000, 'USDC2': 262000,\n",
    "    'DAI': 368000, 'USDT2': 323000\n",
    "}\n",
    "ss_4_pool = StableSwapPoolState(\n",
    "    tokens=tokens_4_pool, amplification=320, trade_fee=0.0002, unique_id='4-Pool'\n",
    ")"
   ],
   "id": "25dded10712b7fc1",
   "outputs": [],
   "execution_count": 9
  },
  {
   "metadata": {
    "ExecuteTime": {
     "end_time": "2025-02-27T22:43:49.871677Z",
     "start_time": "2025-02-27T22:43:49.868606Z"
    }
   },
   "cell_type": "code",
   "source": [
    "exchanges = {'omnipool': omnipool, '2-Pool': ss_2_pool, '4-Pool': ss_4_pool}\n",
    "router = OmnipoolRouter(exchanges=exchanges)"
   ],
   "id": "719ce11e2d8a7bc1",
   "outputs": [],
   "execution_count": 10
  },
  {
   "metadata": {
    "ExecuteTime": {
     "end_time": "2025-02-27T22:43:49.926505Z",
     "start_time": "2025-02-27T22:43:49.922503Z"
    }
   },
   "cell_type": "code",
   "source": [
    "print(omnipool.liquidity)\n",
    "print(ss_2_pool.liquidity)\n",
    "print(ss_4_pool.liquidity)"
   ],
   "id": "eb8260157799bd80",
   "outputs": [
    {
     "name": "stdout",
     "output_type": "stream",
     "text": [
      "{'HDX': 85500000, '2-Pool': 15000000, 'DOT': 2717000, 'vDOT': 905800, 'WETH': 905.5, 'ASTR': 50080000, 'GLMR': 14080000, '4-Pool': 1265000, 'BNC': 5972000, 'tBTC': 10.79, 'CFG': 5476000, 'iBTC': 10.42, 'WBTC': 10.29, 'PHA': 5105000, 'KSM': 32790, 'INTR': 67330000, 'vASTR': 7165000, 'KILT': 4490000, 'AAVE': 965.4, 'SOL': 754.4, 'ZTG': 8229000, 'CRU': 442600, '2-Pool-Btc': 0.6296, 'RING': 32760000}\n",
      "{'USDT': 9000000, 'USDC': 8000000}\n",
      "{'USDT': 362000, 'USDC2': 262000, 'DAI': 368000, 'USDT2': 323000}\n"
     ]
    }
   ],
   "execution_count": 11
  },
  {
   "metadata": {
    "ExecuteTime": {
     "end_time": "2025-02-27T22:43:50.510894Z",
     "start_time": "2025-02-27T22:43:50.035472Z"
    }
   },
   "cell_type": "code",
   "source": [
    "agent = Agent()\n",
    "router.swap(agent, tkn_buy='USDT', tkn_sell='USDC', buy_quantity=1000, enforce_holdings=False)\n",
    "print(ss_2_pool.liquidity)\n"
   ],
   "id": "34d48f2ea1f05359",
   "outputs": [
    {
     "ename": "TypeError",
     "evalue": "swap() got an unexpected keyword argument 'enforce_holdings'",
     "output_type": "error",
     "traceback": [
      "\u001B[0;31m---------------------------------------------------------------------------\u001B[0m",
      "\u001B[0;31mTypeError\u001B[0m                                 Traceback (most recent call last)",
      "Input \u001B[0;32mIn [12]\u001B[0m, in \u001B[0;36m<cell line: 2>\u001B[0;34m()\u001B[0m\n\u001B[1;32m      1\u001B[0m agent \u001B[38;5;241m=\u001B[39m Agent()\n\u001B[0;32m----> 2\u001B[0m \u001B[43mrouter\u001B[49m\u001B[38;5;241;43m.\u001B[39;49m\u001B[43mswap\u001B[49m\u001B[43m(\u001B[49m\u001B[43magent\u001B[49m\u001B[43m,\u001B[49m\u001B[43m \u001B[49m\u001B[43mtkn_buy\u001B[49m\u001B[38;5;241;43m=\u001B[39;49m\u001B[38;5;124;43m'\u001B[39;49m\u001B[38;5;124;43mUSDT\u001B[39;49m\u001B[38;5;124;43m'\u001B[39;49m\u001B[43m,\u001B[49m\u001B[43m \u001B[49m\u001B[43mtkn_sell\u001B[49m\u001B[38;5;241;43m=\u001B[39;49m\u001B[38;5;124;43m'\u001B[39;49m\u001B[38;5;124;43mUSDC\u001B[39;49m\u001B[38;5;124;43m'\u001B[39;49m\u001B[43m,\u001B[49m\u001B[43m \u001B[49m\u001B[43mbuy_quantity\u001B[49m\u001B[38;5;241;43m=\u001B[39;49m\u001B[38;5;241;43m1000\u001B[39;49m\u001B[43m,\u001B[49m\u001B[43m \u001B[49m\u001B[43menforce_holdings\u001B[49m\u001B[38;5;241;43m=\u001B[39;49m\u001B[38;5;28;43;01mFalse\u001B[39;49;00m\u001B[43m)\u001B[49m\n\u001B[1;32m      3\u001B[0m \u001B[38;5;28mprint\u001B[39m(ss_2_pool\u001B[38;5;241m.\u001B[39mliquidity)\n",
      "\u001B[0;31mTypeError\u001B[0m: swap() got an unexpected keyword argument 'enforce_holdings'"
     ]
    }
   ],
   "execution_count": 12
  }
 ],
 "metadata": {
  "kernelspec": {
   "display_name": "Python 3",
   "language": "python",
   "name": "python3"
  },
  "language_info": {
   "codemirror_mode": {
    "name": "ipython",
    "version": 2
   },
   "file_extension": ".py",
   "mimetype": "text/x-python",
   "name": "python",
   "nbconvert_exporter": "python",
   "pygments_lexer": "ipython2",
   "version": "2.7.6"
  }
 },
 "nbformat": 4,
 "nbformat_minor": 5
}
