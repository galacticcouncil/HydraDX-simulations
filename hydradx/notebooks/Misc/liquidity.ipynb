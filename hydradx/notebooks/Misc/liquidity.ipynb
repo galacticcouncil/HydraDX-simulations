{
 "cells": [
  {
   "cell_type": "code",
   "execution_count": 9,
   "id": "initial_id",
   "metadata": {
    "ExecuteTime": {
     "end_time": "2025-02-28T22:03:08.909044Z",
     "start_time": "2025-02-28T22:03:08.905381Z"
    },
    "collapsed": true
   },
   "outputs": [],
   "source": [
    "from matplotlib import pyplot as plt\n",
    "import sys\n",
    "\n",
    "sys.path.append('../..')\n",
    "from model.amm.omnipool_router import OmnipoolRouter\n",
    "from model.amm.stableswap_amm import StableSwapPoolState\n",
    "from model.amm.stableswap_amm import simulate_swap as simulate_stableswap_swap\n",
    "from model.amm.omnipool_amm import OmnipoolState, DynamicFee\n",
    "from model.amm.agents import Agent\n",
    "\n",
    "# try again... add silly test comment\n"
   ]
  },
  {
   "cell_type": "code",
   "execution_count": 2,
   "id": "f7e496a0087e0e1c",
   "metadata": {
    "ExecuteTime": {
     "end_time": "2025-02-28T22:03:04.063924Z",
     "start_time": "2025-02-28T22:03:04.056112Z"
    }
   },
   "outputs": [],
   "source": [
    "lrna_price = 25  # price of LRNA in USDT\n",
    "current_omnipool_liquidity = {'HDX': 85_500_000, '2-Pool': 15_000_000,\n",
    "                      'DOT': 2_717_000, 'vDOT': 905_800,\n",
    "                      'WETH': 905.5, 'ASTR': 50_080_000,\n",
    "                      'GLMR': 14_080_000, '4-Pool': 1_265_000,\n",
    "                      'BNC': 5_972_000, 'tBTC': 10.79,\n",
    "                      'CFG': 5_476_000, 'iBTC': 10.42,\n",
    "                      'WBTC': 10.29, 'PHA': 5_105_000,\n",
    "                      'KSM': 32_790, 'INTR': 67_330_000,\n",
    "                      'vASTR': 7_165_000, 'KILT': 4_490_000,\n",
    "                      'AAVE': 965.4, 'SOL': 754.4,\n",
    "                      'ZTG': 8_229_000, 'CRU': 442_600,\n",
    "                      '2-Pool-Btc': 0.6296, 'RING': 32_760_000}\n",
    "\n",
    "usd_values = {'HDX': 1_000_000, '2-Pool': 15_000_000, 'DOT': 13_250_000,\n",
    "              'vDOT': 6_475_000, 'WETH': 2_050_000, 'ASTR': 1_900_000,\n",
    "              'GLMR': 1_660_000, '4-Pool': 1_290_000, 'BNC': 1_085_000,\n",
    "              'tBTC': 900_000, 'CFG': 870_000, 'iBTC': 870_000,\n",
    "              'WBTC': 860_000, 'PHA': 760_000, 'KSM': 640_000,\n",
    "              'INTR': 370_000, 'vASTR': 320_000, 'KILT': 250_000,\n",
    "              'AAVE': 190_000, 'SOL': 100_000, 'ZTG': 94_000,\n",
    "              'CRU': 71_000, '2-Pool-Btc': 55_000, 'RING': 47_000}\n",
    "\n",
    "lrna_amounts = {key: value / lrna_price for key, value in usd_values.items()}\n",
    "\n",
    "tokens = {\n",
    "    tkn: {'liquidity': current_omnipool_liquidity[tkn], 'LRNA': lrna_amounts[tkn]}\n",
    "    for tkn in current_omnipool_liquidity\n",
    "}\n",
    "\n",
    "lrna_fee = DynamicFee(\n",
    "    minimum=0.0005, maximum=0.0010, amplification=1,\n",
    "    decay=0.000001\n",
    ")\n",
    "asset_fee = DynamicFee(\n",
    "    minimum=0.0025, maximum=0.01, amplification=2,\n",
    "    decay=0.00001\n",
    ")\n",
    "\n",
    "omnipool = OmnipoolState(\n",
    "    tokens=tokens, lrna_fee=lrna_fee, asset_fee=asset_fee\n",
    ")"
   ]
  },
  {
   "cell_type": "code",
   "execution_count": 3,
   "id": "25dded10712b7fc1",
   "metadata": {
    "ExecuteTime": {
     "end_time": "2025-02-28T22:03:04.118115Z",
     "start_time": "2025-02-28T22:03:04.113748Z"
    }
   },
   "outputs": [],
   "source": [
    "tokens_2_pool = {'USDT': 9_000_000, 'USDC': 8_000_000}\n",
    "ss_2_pool = StableSwapPoolState(\n",
    "    tokens=tokens_2_pool, amplification=100, trade_fee=0.0002, unique_id='2-Pool'\n",
    ")\n",
    "tokens_4_pool = {\n",
    "    'USDT': 362000, 'USDC2': 262000,\n",
    "    'DAI': 368000, 'USDT2': 323000\n",
    "}\n",
    "ss_4_pool = StableSwapPoolState(\n",
    "    tokens=tokens_4_pool, amplification=320, trade_fee=0.0002, unique_id='4-Pool'\n",
    ")"
   ]
  },
  {
   "cell_type": "code",
   "execution_count": 4,
   "id": "719ce11e2d8a7bc1",
   "metadata": {
    "ExecuteTime": {
     "end_time": "2025-02-28T22:03:04.161926Z",
     "start_time": "2025-02-28T22:03:04.158529Z"
    }
   },
   "outputs": [],
   "source": [
    "exchanges = {'omnipool': omnipool, '2-Pool': ss_2_pool, '4-Pool': ss_4_pool}\n",
    "router = OmnipoolRouter(exchanges=exchanges)"
   ]
  },
  {
   "cell_type": "code",
   "execution_count": 5,
   "id": "eb8260157799bd80",
   "metadata": {
    "ExecuteTime": {
     "end_time": "2025-02-28T22:03:04.211914Z",
     "start_time": "2025-02-28T22:03:04.208344Z"
    }
   },
   "outputs": [
    {
     "name": "stdout",
     "output_type": "stream",
     "text": [
      "{'HDX': 85500000, '2-Pool': 15000000, 'DOT': 2717000, 'vDOT': 905800, 'WETH': 905.5, 'ASTR': 50080000, 'GLMR': 14080000, '4-Pool': 1265000, 'BNC': 5972000, 'tBTC': 10.79, 'CFG': 5476000, 'iBTC': 10.42, 'WBTC': 10.29, 'PHA': 5105000, 'KSM': 32790, 'INTR': 67330000, 'vASTR': 7165000, 'KILT': 4490000, 'AAVE': 965.4, 'SOL': 754.4, 'ZTG': 8229000, 'CRU': 442600, '2-Pool-Btc': 0.6296, 'RING': 32760000}\n",
      "{'USDT': 9000000, 'USDC': 8000000}\n",
      "{'USDT': 362000, 'USDC2': 262000, 'DAI': 368000, 'USDT2': 323000}\n"
     ]
    }
   ],
   "source": [
    "print(omnipool.liquidity)\n",
    "print(ss_2_pool.liquidity)\n",
    "print(ss_4_pool.liquidity)"
   ]
  },
  {
   "cell_type": "code",
   "execution_count": 6,
   "id": "34d48f2ea1f05359",
   "metadata": {
    "ExecuteTime": {
     "end_time": "2025-02-28T22:03:04.384435Z",
     "start_time": "2025-02-28T22:03:04.257971Z"
    }
   },
   "outputs": [
    {
     "data": {
      "text/plain": [
       "[<matplotlib.lines.Line2D at 0x7d2e5492ed00>]"
      ]
     },
     "execution_count": 6,
     "metadata": {},
     "output_type": "execute_result"
    },
    {
     "data": {
      "image/png": "[encoded data removed]",
      "text/plain": [
       "<Figure size 432x288 with 1 Axes>"
      ]
     },
     "metadata": {
      "needs_background": "light"
     },
     "output_type": "display_data"
    }
   ],
   "source": [
    "agent = Agent(enforce_holdings=False)\n",
    "buy_sizes = [1, 10, 100, 1000, 10000]\n",
    "buy_sizes.sort()\n",
    "sell_amts = []\n",
    "for buy_size in buy_sizes:\n",
    "    new_state, new_agent = router.simulate_swap(\n",
    "        agent, tkn_buy='DOT', tkn_sell='vDOT', buy_quantity=buy_size\n",
    "    )\n",
    "    sell_amts.append(-new_agent.get_holdings('vDOT'))\n",
    "prices = [sell_amts[i] / buy_sizes[i] for i in range(len(buy_sizes))]\n",
    "lowest_price = prices[0]\n",
    "slippage = [(prices[i]  - lowest_price) / lowest_price for i in range(len(buy_sizes))]\n",
    "\n",
    "plt.plot(buy_sizes, slippage)"
   ]
  },
  {
   "cell_type": "code",
   "execution_count": 7,
   "id": "5e26e46aa4cc7fd7",
   "metadata": {
    "ExecuteTime": {
     "end_time": "2025-02-28T22:03:04.402147Z",
     "start_time": "2025-02-28T22:03:04.395332Z"
    }
   },
   "outputs": [],
   "source": [
    "usd_value_vdot = usd_values['vDOT']\n",
    "usd_value_dot = usd_values['DOT']\n",
    "tokens_gigadot_pool = {\n",
    "    'vDOT': current_omnipool_liquidity['vDOT'] * 2/3,\n",
    "    'DOT': current_omnipool_liquidity['DOT'] * usd_value_vdot / usd_value_dot * 2/3,\n",
    "    'aDOT': current_omnipool_liquidity['DOT'] * usd_value_vdot / usd_value_dot * 2/3,\n",
    "}\n",
    "gigadot_pool = StableSwapPoolState(\n",
    "    tokens=tokens_gigadot_pool, amplification=100, trade_fee=0.0002, unique_id='gigaDOT'\n",
    ")\n",
    "\n",
    "omnipool_gigadot_tokens = {tkn: value for tkn, value in current_omnipool_liquidity.items()}\n",
    "omnipool_gigadot_tokens['DOT'] -= current_omnipool_liquidity['DOT'] * usd_value_vdot / usd_value_dot\n",
    "del omnipool_gigadot_tokens['vDOT']\n",
    "\n",
    "tokens = {\n",
    "    tkn: {'liquidity': omnipool_gigadot_tokens[tkn], 'LRNA': lrna_amounts[tkn]}\n",
    "    for tkn in omnipool_gigadot_tokens\n",
    "}\n",
    "\n",
    "lrna_fee = DynamicFee(\n",
    "    minimum=0.0005, maximum=0.0010, amplification=1,\n",
    "    decay=0.000001\n",
    ")\n",
    "asset_fee = DynamicFee(\n",
    "    minimum=0.0025, maximum=0.01, amplification=2,\n",
    "    decay=0.00001\n",
    ")\n",
    "\n",
    "omnipool_gigadot = OmnipoolState(\n",
    "    tokens=tokens, lrna_fee=lrna_fee, asset_fee=asset_fee\n",
    ")\n",
    "\n",
    "exchanges = {'omnipool': omnipool_gigadot, '2-Pool': ss_2_pool, '4-Pool': ss_4_pool, 'gigaDOT': gigadot_pool}\n",
    "router_gigadot = OmnipoolRouter(exchanges=exchanges)"
   ]
  },
  {
   "cell_type": "code",
   "execution_count": 8,
   "id": "d42c95b98dae1d82",
   "metadata": {
    "ExecuteTime": {
     "end_time": "2025-02-28T22:03:04.537630Z",
     "start_time": "2025-02-28T22:03:04.440475Z"
    }
   },
   "outputs": [
    {
     "data": {
      "text/plain": [
       "[<matplotlib.lines.Line2D at 0x7d2e54288940>]"
      ]
     },
     "execution_count": 8,
     "metadata": {},
     "output_type": "execute_result"
    },
    {
     "data": {
      "image/png": "[encoded data removed]",
      "text/plain": [
       "<Figure size 432x288 with 1 Axes>"
      ]
     },
     "metadata": {
      "needs_background": "light"
     },
     "output_type": "display_data"
    }
   ],
   "source": [
    "agent = Agent(enforce_holdings=False)\n",
    "sell_amts = []\n",
    "for buy_size in buy_sizes:\n",
    "    new_state, new_agent = simulate_stableswap_swap(\n",
    "        gigadot_pool, agent, tkn_buy='DOT', tkn_sell='vDOT', buy_quantity=buy_size\n",
    "    )\n",
    "    sell_amts.append(-new_agent.get_holdings('vDOT'))\n",
    "prices = [sell_amts[i] / buy_sizes[i] for i in range(len(buy_sizes))]\n",
    "lowest_price = prices[0]\n",
    "slippage = [(prices[i]  - lowest_price) / lowest_price for i in range(len(buy_sizes))]\n",
    "\n",
    "plt.plot(buy_sizes, slippage)"
   ]
  }
 ],
 "metadata": {
  "jupytext": {
   "formats": "ipynb,py"
  },
  "kernelspec": {
   "display_name": "Python 3",
   "language": "python",
   "name": "python3"
  },
  "language_info": {
   "codemirror_mode": {
    "name": "ipython",
    "version": 2
   },
   "file_extension": ".py",
   "mimetype": "text/x-python",
   "name": "python",
   "nbconvert_exporter": "python",
   "pygments_lexer": "ipython2",
   "version": "2.7.6"
  }
 },
 "nbformat": 4,
 "nbformat_minor": 5
}
