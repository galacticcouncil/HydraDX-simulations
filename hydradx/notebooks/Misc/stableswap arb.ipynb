{
 "cells": [
  {
   "cell_type": "code",
   "execution_count": 1,
   "id": "initial_id",
   "metadata": {
    "ExecuteTime": {
     "end_time": "2023-11-10T20:17:54.313541137Z",
     "start_time": "2023-11-10T20:17:54.163474988Z"
    },
    "tags": []
   },
   "outputs": [],
   "source": [
    "import sys\n",
    "sys.path.append('../../..')\n",
    "from hydradx.model.amm.omnipool_amm import OmnipoolState\n",
    "from hydradx.model.amm.agents import Agent\n",
    "from hydradx.model.processing import get_kraken_orderbook, get_omnipool_data, get_stableswap_data, get_orderbooks_from_file, get_binance_orderbook\n",
    "from hydradx.model.processing import get_omnipool, get_centralized_market\n",
    "from hydradx.model.amm.stableswap_amm import StableSwapPoolState \n",
    "from hydradx.model.amm.centralized_market import CentralizedMarket\n",
    "import hydradx.model.amm.arbitrage_agent_general as arb\n",
    "\n",
    "from pprint import pprint\n",
    "\n",
    "import json"
   ]
  },
  {
   "cell_type": "markdown",
   "id": "fc7e81433023f150",
   "metadata": {},
   "source": [
    "Set `get_live_markets = True` to get live markets from Kraken and Binance. Set to `False` to use order books from file."
   ]
  },
  {
   "cell_type": "code",
   "execution_count": 2,
   "id": "18db74c8acc41caf",
   "metadata": {
    "ExecuteTime": {
     "end_time": "2023-11-10T20:17:54.359267578Z",
     "start_time": "2023-11-10T20:17:54.315248140Z"
    },
    "collapsed": false,
    "jupyter": {
     "outputs_hidden": false
    }
   },
   "outputs": [],
   "source": [
    "get_live_markets = True\n",
    "archive_data = False"
   ]
  },
  {
   "cell_type": "code",
   "execution_count": 3,
   "id": "9dc03998f1523a18",
   "metadata": {
    "ExecuteTime": {
     "end_time": "2023-11-10T20:17:54.359521609Z",
     "start_time": "2023-11-10T20:17:54.359125558Z"
    },
    "collapsed": false,
    "jupyter": {
     "outputs_hidden": false
    }
   },
   "outputs": [],
   "source": [
    "# 2: Acala DAI\n",
    "# 3: Acala WBTC\n",
    "# 4: Acala WETH\n",
    "# 5: DOT\n",
    "# 9: ASTR\n",
    "# 10: native USDT\n",
    "# 11: iBTC\n",
    "# 12: ZTG\n",
    "# 13: CFG\n",
    "# 14: BNC\n",
    "# 15: vDOT\n",
    "# 16: GLMR\n",
    "# 17: INTR\n",
    "# 18: Wormhole DAI\n",
    "# 19: Wormhole WBTC\n",
    "# 20: Wormhole WETH\n",
    "# 100: 4-Pool"
   ]
  },
  {
   "cell_type": "code",
   "execution_count": 4,
   "id": "c2780d4c-c243-4d94-9a5f-ac33711d147b",
   "metadata": {
    "ExecuteTime": {
     "end_time": "2023-11-10T20:17:54.360191796Z",
     "start_time": "2023-11-10T20:17:54.359385083Z"
    },
    "collapsed": false,
    "jupyter": {
     "outputs_hidden": false
    }
   },
   "outputs": [
    {
     "name": "stdout",
     "output_type": "stream",
     "text": [
      "loading omnipool...\n"
     ]
    }
   ],
   "source": [
    "exchanges = {}\n",
    "# load Omnipool (with stableswap subpools)\n",
    "print('loading omnipool...')\n",
    "RPC=\"wss://rpc.hydradx.cloud\"\n",
    "            \n",
    "if get_live_markets:\n",
    "    omnipool = get_omnipool()\n",
    "else:\n",
    "    omnipool = load_omnipool()\n",
    "\n",
    "exchanges['omnipool'] = omnipool\n",
    "exchanges['4-Pool'] = omnipool.sub_pools['4-Pool']\n",
    "exchanges['2-Pool'] = omnipool.sub_pools['2-Pool']"
   ]
  },
  {
   "cell_type": "code",
   "execution_count": 5,
   "id": "30c3ae5c6fb4044d",
   "metadata": {
    "ExecuteTime": {
     "end_time": "2023-11-10T20:17:54.407205490Z",
     "start_time": "2023-11-10T20:17:54.359590277Z"
    },
    "collapsed": false,
    "jupyter": {
     "outputs_hidden": false
    }
   },
   "outputs": [
    {
     "name": "stdout",
     "output_type": "stream",
     "text": [
      "loading centralized markets...\n"
     ]
    }
   ],
   "source": [
    "# load centralized markets\n",
    "print('loading centralized markets...')\n",
    "# arb_file = \"arbconfig.txt\"\n",
    "arb_files = [\"arbconfig4.txt\"]\n",
    "\n",
    "cfg = []\n",
    "for arb_file in arb_files:\n",
    "    with open('config/' + arb_file, 'r') as json_file:\n",
    "        cfg += json.load(json_file)\n",
    "\n",
    "for d in cfg:\n",
    "    for ex in d['exchanges']:\n",
    "        d['exchanges'][ex] = tuple(d['exchanges'][ex])\n",
    "\n",
    "# pprint(cfg)\n",
    "    \n",
    "for exchange, trade_fee in {'kraken': 0.0016, 'binance': 0.0010}.items():\n",
    "    if get_live_markets:\n",
    "        exchanges[exchange] = get_centralized_market(\n",
    "            config=cfg, \n",
    "            exchange_name=exchange, \n",
    "            trade_fee=trade_fee,\n",
    "            archive=archive_data\n",
    "        )\n",
    "    else:\n",
    "        exchanges[exchange] = CentralizedMarket(\n",
    "            order_book=get_orderbooks_from_file(\"archive/\")[exchange],\n",
    "            unique_id=exchange,\n",
    "            trade_fee=trade_fee\n",
    "        )"
   ]
  },
  {
   "cell_type": "code",
   "execution_count": 6,
   "id": "ef086a726e0e13be",
   "metadata": {
    "ExecuteTime": {
     "end_time": "2023-11-10T20:17:54.667621521Z",
     "start_time": "2023-11-10T20:17:54.407184743Z"
    },
    "collapsed": false,
    "jupyter": {
     "outputs_hidden": false
    }
   },
   "outputs": [
    {
     "name": "stdout",
     "output_type": "stream",
     "text": [
      "calculating arbitrage...\n"
     ]
    }
   ],
   "source": [
    "print('calculating arbitrage...')\n",
    "all_swaps = arb.get_arb_swaps(exchanges, cfg)"
   ]
  },
  {
   "cell_type": "code",
   "execution_count": 7,
   "id": "8d4817129c26f839",
   "metadata": {
    "ExecuteTime": {
     "end_time": "2023-11-10T20:17:54.703592628Z",
     "start_time": "2023-11-10T20:17:54.691980873Z"
    },
    "collapsed": false,
    "jupyter": {
     "outputs_hidden": false
    }
   },
   "outputs": [
    {
     "name": "stdout",
     "output_type": "stream",
     "text": [
      "per-token profit\n",
      "{'4-Pool': 0, 'HDX': 0.0, 'USD': 4.404955327510834, 'ETH': 0, '2-Pool': 0, 'GLMR': 0, 'BNC': 0.0, 'vDOT': 0, 'CFG': 0.0, 'DOT': 0, 'PHA': 0, 'ZTG': 0, 'INTR': 0, 'ASTR': 0, 'BTC': 0}\n",
      "total profit at Binance spot\n",
      "4.404955327510834\n"
     ]
    }
   ],
   "source": [
    "test_exchanges = {ex_name: ex.copy() for ex_name, ex in exchanges.items()}\n",
    "init_agent = Agent(\n",
    "    holdings={tkn: 100000000 for tkn in [tkn for ex in exchanges.values() for tkn in ex.asset_list]}\n",
    ")\n",
    "test_agent = init_agent.copy()\n",
    "arb.execute_arb(exchanges, test_agent, all_swaps)\n",
    "\n",
    "equivalency_map = {\n",
    "    'WETH': 'ETH',\n",
    "    'XETH': 'ETH',\n",
    "    'XXBT': 'BTC',\n",
    "    'WBTC': 'BTC',\n",
    "    'ZUSD': 'USD',\n",
    "    'USDT': 'USD',\n",
    "    'USDT10': 'USD',\n",
    "    'USDT23': 'USD',\n",
    "    'USDC': 'USD',\n",
    "    'DAI': 'USD',\n",
    "    'iBTC': 'BTC',\n",
    "    'XBT': 'BTC',\n",
    "}\n",
    "\n",
    "profit = arb.calculate_profit(init_agent, test_agent, equivalency_map)\n",
    "\n",
    "print(\"per-token profit\")\n",
    "print(profit)\n",
    "print(\"total profit at Binance spot\")\n",
    "print(exchanges['binance'].value_assets(profit, equivalency_map))"
   ]
  },
  {
   "cell_type": "code",
   "execution_count": null,
   "id": "41b6674d-a9a8-482d-aed4-337961f75b02",
   "metadata": {},
   "outputs": [],
   "source": []
  }
 ],
 "metadata": {
  "kernelspec": {
   "display_name": "Python 3 (ipykernel)",
   "language": "python",
   "name": "python3"
  },
  "language_info": {
   "codemirror_mode": {
    "name": "ipython",
    "version": 3
   },
   "file_extension": ".py",
   "mimetype": "text/x-python",
   "name": "python",
   "nbconvert_exporter": "python",
   "pygments_lexer": "ipython3",
   "version": "3.9.7"
  }
 },
 "nbformat": 4,
 "nbformat_minor": 5
}
