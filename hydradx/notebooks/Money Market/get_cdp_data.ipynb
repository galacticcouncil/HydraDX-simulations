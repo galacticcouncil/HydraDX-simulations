{
 "cells": [
  {
   "cell_type": "code",
   "id": "bb9d57a9-6a24-402b-8e4e-7328490d94b9",
   "metadata": {
    "tags": []
   },
   "source": [
    "import sys\n",
    "sys.path.append('../..')\n",
    "from model import processing"
   ],
   "outputs": [],
   "execution_count": null
  },
  {
   "cell_type": "code",
   "id": "2cdd6a11-dd1a-4b48-bef0-8e820b1278df",
   "metadata": {
    "tags": []
   },
   "source": [
    "mm = processing.get_current_money_market()"
   ],
   "outputs": [],
   "execution_count": null
  },
  {
   "cell_type": "code",
   "id": "0bb28823-22cc-4839-a760-a9d034a7eb1a",
   "metadata": {},
   "source": [
    "probs = 0\n",
    "for i, cdp in enumerate(mm.cdps):\n",
    "    calculated_health_factor = mm.get_health_factor(cdp)\n",
    "    discrepancy = cdp.health_factor - calculated_health_factor\n",
    "    cdp.discrepancy = discrepancy\n",
    "    if abs(discrepancy) > 0.0002:\n",
    "        print(f\"!!! Discrepancy in cdp({i}): calculated ({calculated_health_factor}) vs recorded({cdp.health_factor}) = {discrepancy}\")\n",
    "        probs += 1\n",
    "    else:\n",
    "        print(f\"CDP {i} looks good (discrepancy = {discrepancy}).\")\n",
    "    print(f\"debt: {[f'{tkn}: {cdp.debt[tkn]}' for tkn in cdp.debt]}\")\n",
    "    print(f\"collateral: {[f'{tkn}: {cdp.collateral[tkn]}' for tkn in cdp.collateral]}\")\n",
    "    print(f\"eMode: {cdp.e_mode}\")\n",
    "    print(f\"\")\n",
    "print()\n",
    "print(f\"total problems: {probs / len(mm.cdps)} ({round(probs / len(mm.cdps) * 100, 1)}%)\")"
   ],
   "outputs": [],
   "execution_count": null
  },
  {
   "cell_type": "code",
   "id": "c2f80c07-a994-49b8-8eae-f42db3ff49ba",
   "metadata": {},
   "source": [
    "print(f\"worst-case discrepancy: {max([round(abs(cdp.discrepancy), 5) for cdp in mm.cdps]) * 100}%\")"
   ],
   "outputs": [],
   "execution_count": null
  },
  {
   "cell_type": "code",
   "id": "6ef8284c-622a-4949-a323-554ecec6d0fb",
   "metadata": {},
   "source": [],
   "outputs": [],
   "execution_count": null
  }
 ],
 "metadata": {
  "kernelspec": {
   "display_name": "Python 3 (ipykernel)",
   "language": "python",
   "name": "python3"
  },
  "language_info": {
   "codemirror_mode": {
    "name": "ipython",
    "version": 3
   },
   "file_extension": ".py",
   "mimetype": "text/x-python",
   "name": "python",
   "nbconvert_exporter": "python",
   "pygments_lexer": "ipython3",
   "version": "3.12.1"
  }
 },
 "nbformat": 4,
 "nbformat_minor": 5
}
