{
 "cells": [
  {
   "cell_type": "code",
   "execution_count": 1,
   "id": "2f23f2da-5a71-43fa-9132-28a0883bc9b6",
   "metadata": {},
   "outputs": [
    {
     "name": "stdout",
     "output_type": "stream",
     "text": [
      "Pool Address: 0x1b02E051683b5cfaC5929C25E84adb26ECf87B38\n",
      "money_market(    liquidity: {'USDC': 414143203276, 'USDT': 425304813463, 'WBTC': 1052527936, 'DOT': 6466381714487391, 'vDOT': 3308011167762176}\n",
      "    liquidation threshold: {('USDC', 'USDT'): 0.93, ('USDC', 'WBTC'): 0.9, ('USDC', 'DOT'): 0.9, ('USDC', 'vDOT'): 0.9, ('USDT', 'USDC'): 0.93, ('USDT', 'WBTC'): 0.9, ('USDT', 'DOT'): 0.9, ('USDT', 'vDOT'): 0.9, ('WBTC', 'USDC'): 0.7, ('WBTC', 'USDT'): 0.7, ('WBTC', 'DOT'): 0.7, ('WBTC', 'vDOT'): 0.7, ('DOT', 'USDC'): 0.8, ('DOT', 'USDT'): 0.8, ('DOT', 'WBTC'): 0.8, ('DOT', 'vDOT'): 0.9, ('vDOT', 'USDC'): 0.7, ('vDOT', 'USDT'): 0.7, ('vDOT', 'WBTC'): 0.7, ('vDOT', 'DOT'): 0.9}\n",
      "    liquidation bonus: {('USDC', 'USDT'): 0.014999999999999902, ('USDC', 'WBTC'): 0.030000000000000027, ('USDC', 'DOT'): 0.030000000000000027, ('USDC', 'vDOT'): 0.030000000000000027, ('USDT', 'USDC'): 0.014999999999999902, ('USDT', 'WBTC'): 0.030000000000000027, ('USDT', 'DOT'): 0.030000000000000027, ('USDT', 'vDOT'): 0.030000000000000027, ('WBTC', 'USDC'): 0.050000000000000044, ('WBTC', 'USDT'): 0.050000000000000044, ('WBTC', 'DOT'): 0.050000000000000044, ('WBTC', 'vDOT'): 0.050000000000000044, ('DOT', 'USDC'): 0.07000000000000006, ('DOT', 'USDT'): 0.07000000000000006, ('DOT', 'WBTC'): 0.07000000000000006, ('DOT', 'vDOT'): 0.04499999999999993, ('vDOT', 'USDC'): 0.08000000000000007, ('vDOT', 'USDT'): 0.08000000000000007, ('vDOT', 'WBTC'): 0.08000000000000007, ('vDOT', 'DOT'): 0.04499999999999993})\n",
      "    total borrowed: {'USDC': 1289118.4282872055, 'USDT': 930433.1377717205, 'WBTC': 0.9451303090305934, 'DOT': 219352.41879550816, 'vDOT': 4720.365167012563}\n",
      "    total collateral: {'USDC': 217399.77817887365, 'USDT': 81517.95071267876, 'WBTC': 5.981529371958866, 'DOT': 729228.3240914523, 'vDOT': 324612.37631969946}\n",
      "\n"
     ]
    }
   ],
   "source": [
    "import sys\n",
    "sys.path.append('../..')\n",
    "from model import processing\n",
    "from model.amm.money_market import MoneyMarket, MoneyMarketAsset, CDP\n",
    "from model.amm.trade_strategies import liquidate_cdps\n",
    "mm = processing.get_current_money_market()\n",
    "original_cdps = mm.cdps\n",
    "print(mm)"
   ]
  },
  {
   "cell_type": "code",
   "execution_count": 2,
   "id": "5c10d001-07fa-4893-b512-77318d281b65",
   "metadata": {},
   "outputs": [
    {
     "name": "stdout",
     "output_type": "stream",
     "text": [
      "Got Omnipool data...\n"
     ]
    }
   ],
   "source": [
    "omnipool_router = processing.get_omnipool_router()\n",
    "# print(omnipool_router)\n",
    "print('Got Omnipool data...')"
   ]
  },
  {
   "cell_type": "code",
   "execution_count": 3,
   "id": "5364be5f-22a0-4efb-8332-f658ed2b42a3",
   "metadata": {},
   "outputs": [
    {
     "name": "stdout",
     "output_type": "stream",
     "text": [
      "Average price of assets in 4-Pool is 0.9998434666666668.\n",
      "Average price of assets in 2-Pool101 is 83942.40276536.\n",
      "Average price of assets in 2-Pool102 is 0.99985106.\n"
     ]
    }
   ],
   "source": [
    "from model.amm.omnipool_amm import OmnipoolState\n",
    "from model.amm.stableswap_amm import StableSwapPoolState\n",
    "\n",
    "omnipool = omnipool_router.exchanges['omnipool']\n",
    "lrna_price_1 = mm.get_oracle_price('DOT') / omnipool.lrna_price('DOT')\n",
    "lrna_price_2 = mm.get_oracle_price('vDOT') / omnipool.lrna_price('vDOT')\n",
    "# print(lrna_price_1, lrna_price_2)\n",
    "lrna_price = (lrna_price_1 + lrna_price_2) / 2\n",
    "\n",
    "for exchange in [exchange for exchange in omnipool_router.exchanges.values() if isinstance(exchange, StableSwapPoolState)]:\n",
    "    priced_assets = [tkn[:-2] for tkn in exchange.asset_list if tkn[:-2] in mm.prices]\n",
    "    pool_price = sum(mm.get_oracle_price(tkn) for tkn in priced_assets) / len(priced_assets)\n",
    "    print(f\"Average price of assets in {exchange.unique_id} is {pool_price}.\")\n",
    "    # print(exchange, '\\n')\n",
    "    for tkn in exchange.asset_list:\n",
    "        tkn_name = tkn[:-2]\n",
    "        tkn_price = pool_price\n",
    "        new_liquidity = exchange.liquidity[tkn]\n",
    "        new_lrna = new_liquidity * tkn_price / lrna_price\n",
    "        new_shares = new_liquidity\n",
    "        if tkn_name not in omnipool.asset_list:\n",
    "            omnipool.add_token(\n",
    "                tkn=tkn_name,\n",
    "                liquidity=new_liquidity,\n",
    "                lrna=new_lrna,\n",
    "                shares=new_shares,\n",
    "                protocol_shares=new_shares\n",
    "            )\n",
    "        else:\n",
    "            omnipool.liquidity[tkn_name] += new_liquidity\n",
    "            omnipool.lrna[tkn_name] += new_lrna\n",
    "            omnipool.shares[tkn_name] += new_shares\n",
    "            omnipool.protocol_shares[tkn_name] += new_shares\n",
    "\n",
    "# print(omnipool)\n",
    "# print(omnipool.sub_pools)"
   ]
  },
  {
   "cell_type": "code",
   "execution_count": 12,
   "id": "add14f81-fb72-435f-b975-63fcdbe9f319",
   "metadata": {},
   "outputs": [
    {
     "name": "stdout",
     "output_type": "stream",
     "text": [
      "multiplying DOT positions by 0.1856432801060998\n",
      "removed one toxic position\n"
     ]
    }
   ],
   "source": [
    "# replace DOT collateral with HDX\n",
    "hdx = MoneyMarketAsset(\n",
    "    name='HDX',\n",
    "    price=omnipool.usd_price('HDX', 'USDT'),\n",
    "    liquidity=100000000,\n",
    "    liquidation_bonus=0.10,\n",
    "    liquidation_threshold=0.7,\n",
    "    ltv=0.6\n",
    ")\n",
    "mm.add_new_asset(hdx)\n",
    "mm.prices = {tkn: omnipool.usd_price(tkn, 'USDT') for tkn in mm.prices}\n",
    "# distribution = processing.distribute_value(\n",
    "#     num_positions=50,\n",
    "#     total_value=1000000,\n",
    "#     concentration=0.8\n",
    "# )\n",
    "price_ratio = mm.get_oracle_price('DOT') / mm.get_oracle_price('HDX')\n",
    "hdx_cdps = []\n",
    "for cdp in original_cdps:\n",
    "    if 'DOT' in cdp.collateral:\n",
    "        hdx_collateral = cdp.collateral['DOT'] * price_ratio * 8 / 7\n",
    "        other_collateral = {tkn: cdp.collateral[tkn] for tkn in cdp.collateral if tkn != 'DOT'}\n",
    "        debt_value = sum([cdp.debt[tkn] * mm.prices[tkn] for tkn in cdp.debt])\n",
    "        new_cdp = CDP(\n",
    "            collateral={'HDX': hdx_collateral, **other_collateral},\n",
    "            debt={'USDT': debt_value / mm.prices['USDT']}\n",
    "        )\n",
    "        precision = 20\n",
    "        new_cdp.health_factor = mm.get_health_factor(new_cdp)\n",
    "        if abs(cdp.health_factor - new_cdp.health_factor) / cdp.health_factor > 2 ** -precision:\n",
    "            for i in range(precision):\n",
    "                # print(f\"target: {cdp.health_factor}, value: {new_cdp.health_factor}\")\n",
    "                if mm.get_health_factor(new_cdp) < cdp.health_factor:\n",
    "                    new_cdp.collateral['HDX'] += hdx_collateral * 2 ** -i\n",
    "                else:\n",
    "                    new_cdp.collateral['HDX'] -= hdx_collateral * 2 ** -i\n",
    "                new_cdp.health_factor = mm.get_health_factor(new_cdp)\n",
    "        \n",
    "        hdx_cdps.append(new_cdp)\n",
    "hdx_cdps = hdx_cdps[:50]\n",
    "\n",
    "# scale\n",
    "hdx_target = 10000000\n",
    "hdx_total = sum([position.collateral['HDX'] for position in hdx_cdps])\n",
    "scale_ratio = hdx_target / hdx_total\n",
    "print('multiplying DOT positions by', scale_ratio)\n",
    "for cdp in hdx_cdps:\n",
    "    health_factor = cdp.health_factor\n",
    "    cdp.debt['USDT'] *= scale_ratio\n",
    "    for tkn in cdp.collateral:\n",
    "        cdp.collateral[tkn] *= scale_ratio\n",
    "    if abs(mm.get_health_factor(cdp) - health_factor) > 0.0000001:\n",
    "        print('inaccurate health factor')\n",
    "\n",
    "mm.cdps = list(filter(lambda cdp: not mm.is_toxic(cdp), hdx_cdps))\n",
    "positions_removed = len(hdx_cdps) - len(mm.cdps)\n",
    "if positions_removed > 1:\n",
    "    print(f\"removed {positions_removed} toxic positions\")\n",
    "elif positions_removed == 1:\n",
    "    print(f\"removed one toxic position\")"
   ]
  },
  {
   "cell_type": "code",
   "execution_count": 13,
   "id": "9656e477-5ae9-43be-b7c9-885a427b6239",
   "metadata": {
    "tags": []
   },
   "outputs": [
    {
     "name": "stdout",
     "output_type": "stream",
     "text": [
      "Starting simulation...\n",
      "Execution time: 0.057 seconds.\n",
      "Starting simulation...\n",
      "Execution time: 0.105 seconds.\n",
      "Starting simulation...\n",
      "Execution time: 0.17 seconds.\n",
      "Starting simulation...\n",
      "Execution time: 0.177 seconds.\n",
      "Starting simulation...\n",
      "Execution time: 0.283 seconds.\n",
      "Starting simulation...\n",
      "Execution time: 0.481 seconds.\n",
      "Starting simulation...\n",
      "Execution time: 0.476 seconds.\n",
      "Starting simulation...\n",
      "Execution time: 0.555 seconds.\n",
      "Starting simulation...\n",
      "Execution time: 1.049 seconds.\n",
      "Starting simulation...\n",
      "Execution time: 0.454 seconds.\n"
     ]
    }
   ],
   "source": [
    "from model.amm.trade_strategies import liquidate_cdps, omnipool_arbitrage, general_arbitrage, constant_swaps\n",
    "from model.amm.global_state import GlobalState, money_market_update\n",
    "from model.amm.infinite_liquidity import CEXDummy\n",
    "from model.amm.agents import Agent\n",
    "from matplotlib import pyplot as plt\n",
    "import model.run as run\n",
    "import math\n",
    "\n",
    "# time_steps = 100\n",
    "initial_price = {'HDX': hdx.price}\n",
    "final_price = {'HDX': hdx.price / 4}\n",
    "# prices = [{\n",
    "#     tkn: initial_price[tkn] + (final_price[tkn] - initial_price[tkn]) * (i / time_steps)\n",
    "#     for tkn in initial_price\n",
    "# } for i in range(time_steps + 1)]\n",
    "binance = CEXDummy(mm.prices, unique_id='binance')\n",
    "\n",
    "def update_prices(state):\n",
    "    prices = {tkn: state.pools['omnipool'].usd_price(tkn, 'USDT') for tkn in state.money_market.prices}\n",
    "    state.external_market.update(prices)\n",
    "    state.pools['binance'].prices.update(prices)\n",
    "    state.money_market.prices.update(prices)\n",
    "\n",
    "def trade_to_price(onmnipool, tkn_sell, target_price):\n",
    "    # this is the target price in USD - convert to LRNA\n",
    "    target_price_lrna = target_price / omnipool.usd_price(tkn_sell, 'USDT') * omnipool.lrna_price(tkn_sell)\n",
    "    # print(omnipool.lrna_price(tkn_sell) / target_price_lrna)\n",
    "    # print(target_price_lrna)\n",
    "    k = omnipool.lrna[tkn_sell] * omnipool.liquidity[tkn_sell]\n",
    "    target_x = math.sqrt(k / target_price_lrna)\n",
    "    dx = target_x - omnipool.liquidity[tkn_sell]\n",
    "    return dx\n",
    "\n",
    "def calculate_toxic_debt(state: GlobalState):\n",
    "    toxic_debt = 0\n",
    "    omnipool = state.pools['omnipool']\n",
    "    for cdp in state.money_market.cdps:\n",
    "        debt = omnipool.value_assets(cdp.debt, numeraire='USDT')\n",
    "        collateral = omnipool.value_assets(cdp.collateral, numeraire='USDT')\n",
    "        if debt > collateral:\n",
    "            toxic_debt += debt\n",
    "    return toxic_debt\n",
    "\n",
    "toxic_debt = []\n",
    "hdx_sell_total = trade_to_price(omnipool, 'HDX', final_price['HDX'])\n",
    "runs = []\n",
    "run_lengths = [i for i in range(10, 110, 10)]\n",
    "for time_steps in run_lengths:\n",
    "    initial_state = GlobalState(\n",
    "        money_market=mm,\n",
    "        pools={\n",
    "            'omnipool': omnipool,\n",
    "            'binance': binance\n",
    "        },\n",
    "        agents={\n",
    "            'liquidator': Agent(\n",
    "                enforce_holdings=False,\n",
    "                trade_strategy=liquidate_cdps('omnipool')\n",
    "            ),\n",
    "            'panic seller': Agent(\n",
    "                trade_strategy=constant_swaps(\n",
    "                    'omnipool',\n",
    "                    sell_asset='HDX',\n",
    "                    buy_asset='LRNA',\n",
    "                    sell_quantity=hdx_sell_total / time_steps\n",
    "                )\n",
    "            )\n",
    "            # 'arbitrageur': Agent(\n",
    "            #     enforce_holdings=False,\n",
    "            #     trade_strategy=general_arbitrage(\n",
    "            #         exchanges=[omnipool, binance]\n",
    "            #     )\n",
    "            # )\n",
    "        },\n",
    "        evolve_function = update_prices,\n",
    "        external_market = mm.prices.copy()\n",
    "    )\n",
    "    events = run.run(initial_state, time_steps)\n",
    "    runs.append(events)\n",
    "    toxic_debt.append(calculate_toxic_debt(events[-1]))"
   ]
  },
  {
   "cell_type": "code",
   "execution_count": 24,
   "id": "466986d9-b9f7-4bde-8eeb-24cfe8197e18",
   "metadata": {},
   "outputs": [
    {
     "name": "stdout",
     "output_type": "stream",
     "text": [
      "prices: \n",
      "start: USDC: 1.0000002705424624\n",
      "    USDT: 1.0\n",
      "    WBTC: 83954.95330218764\n",
      "    DOT: 4.3987958025388005\n",
      "    vDOT: 6.437922042745915\n",
      "    HDX: 0.011520912064986984\n",
      "end:\n",
      "    USDC: 0.9838253775593837\n",
      "    USDT: 1.0\n",
      "    WBTC: 82553.96782241768\n",
      "    DOT: 4.327889300730326\n",
      "    vDOT: 6.333982776642238\n",
      "    HDX: 0.002553385582636802\n"
     ]
    }
   ],
   "source": [
    "print(\"omnipool prices:\")\n",
    "print('start:', '\\n    '.join(f\"{tkn}: {price}\" for tkn, price in runs[-1][0].money_market.prices.items()))\n",
    "print('end:\\n   ', '\\n    '.join(f\"{tkn}: {price}\" for tkn, price in runs[-1][-1].money_market.prices.items()))"
   ]
  },
  {
   "cell_type": "code",
   "execution_count": 16,
   "id": "d1a2e640-6f43-46ce-9d52-f4fa25268a51",
   "metadata": {},
   "outputs": [
    {
     "data": {
      "text/plain": [
       "Text(0.5, 1.0, 'Toxic debt in dollars, as a function of price crash length in blocks')"
      ]
     },
     "execution_count": 16,
     "metadata": {},
     "output_type": "execute_result"
    },
    {
     "data": {
      "image/png": "[encoded data removed]",
      "text/plain": [
       "<Figure size 2000x500 with 1 Axes>"
      ]
     },
     "metadata": {},
     "output_type": "display_data"
    }
   ],
   "source": [
    "plt.figure(figsize=(20, 5))\n",
    "plt.plot(run_lengths, toxic_debt)\n",
    "for i in range(len(run_lengths)):\n",
    "    plt.annotate(f\"{run_lengths[i]} blocks,\\n ${round(toxic_debt[i])}\", (run_lengths[i], toxic_debt[i]))\n",
    "plt.title(\"Toxic debt in dollars, as a function of price crash length in blocks\")"
   ]
  },
  {
   "cell_type": "code",
   "execution_count": null,
   "id": "c38673e8-02a7-4826-839f-3c96b1315d5a",
   "metadata": {},
   "outputs": [],
   "source": [
    "plt.figure(figsize=(20, 5))\n",
    "plt.plot([event.pools['omnipool'].usd_price('HDX', 'USDT') for event in runs[9]])"
   ]
  },
  {
   "cell_type": "code",
   "execution_count": null,
   "id": "12b85ee8-fa5d-4239-9d6c-a3a3c0f4ad40",
   "metadata": {},
   "outputs": [],
   "source": [
    "from model import plot_utils as pu\n",
    "plt.figure(figsize=(20, 5))\n",
    "colors = pu.color_gradient(len(run_lengths), (255, 0, 0), (0, 0, 255))\n",
    "for i in range(len(run_lengths)):\n",
    "    events = runs[i]\n",
    "    color = colors[i]\n",
    "    plt.plot([event.agents['liquidator'].holdings['USDT'] for event in events], color)\n",
    "    plt.scatter(len(events) - 1, events[-1].agents['liquidator'].holdings['USDT'], color=color, s=100)\n",
    "plt.legend(run_lengths, title='crash length in blocks')\n",
    "plt.title('Liquidator holdings in USDT')\n",
    "plt.show()"
   ]
  },
  {
   "cell_type": "code",
   "execution_count": null,
   "id": "c11cdd53-7697-49ab-ba79-04aeed65ecbb",
   "metadata": {
    "scrolled": true
   },
   "outputs": [],
   "source": [
    "plt.figure(figsize=(20, 5))\n",
    "plt.plot(run_lengths, [events[-1].pools['omnipool'].usd_price('HDX', 'USDT') for events in runs])\n",
    "plt.title('Final HDX price in USD')\n",
    "plt.show()"
   ]
  },
  {
   "cell_type": "code",
   "execution_count": null,
   "id": "f2d597fe-4009-4cd2-9629-36c1fdbbcc09",
   "metadata": {},
   "outputs": [],
   "source": [
    "plt.figure(figsize=(20, 5))\n",
    "plt.plot([sum([event.money_market.get_health_factor(cdp) for cdp in event.money_market.cdps]) / len(event.money_market.cdps) for event in events])\n",
    "plt.title('Average health factor of CDPs in money market')\n",
    "plt.show()"
   ]
  },
  {
   "cell_type": "code",
   "execution_count": null,
   "id": "1274f13a-64d8-4406-b320-8acc5ab19f8c",
   "metadata": {},
   "outputs": [],
   "source": [
    "plt.figure(figsize=(20, 5))\n",
    "liquidated_cdps = [sum([sum(cdp.debt.values()) for cdp in event.money_market.cdps]) for event in events]\n",
    "plt.plot(liquidated_cdps)\n",
    "plt.title('Total USDT debt in CDPs')\n",
    "plt.show()"
   ]
  },
  {
   "cell_type": "code",
   "execution_count": null,
   "id": "06b6b4a2-9eb8-4d8e-9e8c-fb4360285b22",
   "metadata": {},
   "outputs": [],
   "source": [
    "plt.figure(figsize=(20, 5))\n",
    "liquidated_cdps = [sum([sum([cdp.collateral[c] * event.external_market[c] for c in cdp.collateral]) for cdp in event.money_market.cdps]) for event in events]\n",
    "plt.plot(liquidated_cdps)\n",
    "plt.title('Total collateral in CDPs')\n",
    "plt.show()"
   ]
  },
  {
   "cell_type": "code",
   "execution_count": null,
   "id": "21204f3e-4308-457e-bb72-16e3666800c9",
   "metadata": {},
   "outputs": [],
   "source": [
    "print([events[-1].pools['omnipool'].lrna_price('HDX') for events in runs])\n",
    "print([events[0].pools['omnipool'].lrna_price('HDX') for events in runs])\n",
    "print(hdx_sell_total)\n",
    "print(omnipool.liquidity['HDX'])\n",
    "print(runs[0][-1].pools['omnipool'].lrna_price('HDX') / runs[0][0].pools['omnipool'].lrna_price('HDX'))"
   ]
  },
  {
   "cell_type": "code",
   "execution_count": 17,
   "id": "7ba08973-6f04-4222-90e5-bb1f01ed4e2a",
   "metadata": {},
   "outputs": [],
   "source": [
    "toxic_debt = []\n",
    "\n",
    "for i, event in enumerate(runs[-1]):\n",
    "    toxic_debt.append([])\n",
    "    for j, cdp in enumerate(event.money_market.cdps):\n",
    "        if event.pools['omnipool'].value_assets(cdp.debt, numeraire='USDT') > event.pools['omnipool'].value_assets(cdp.collateral, numeraire='USDT'):\n",
    "            # bad debt\n",
    "            toxic_debt[i].append({\n",
    "                'debt': {\n",
    "                    'assets': cdp.debt,\n",
    "                    'value': event.pools['omnipool'].value_assets(cdp.debt, numeraire='USDT')\n",
    "                },\n",
    "                'collateral': {\n",
    "                    'assets': cdp.collateral,\n",
    "                    'value': event.pools['omnipool'].value_assets(cdp.collateral, numeraire='USDT')\n",
    "                },\n",
    "                'index': j\n",
    "            })"
   ]
  },
  {
   "cell_type": "code",
   "execution_count": null,
   "id": "92b2b80e-1908-416d-b750-40f1834c8b92",
   "metadata": {},
   "outputs": [],
   "source": [
    "plt.figure(figsize=(20, 5))\n",
    "plt.plot([len(step) for step in toxic_debt])"
   ]
  },
  {
   "cell_type": "code",
   "execution_count": 22,
   "id": "7a78b08e-57f0-482d-9131-4ab90b1e4678",
   "metadata": {},
   "outputs": [
    {
     "name": "stdout",
     "output_type": "stream",
     "text": [
      "  index: 8\n",
      "    debt: {'assets': {'USDT': 43.634957805752876}, 'value': 43.634957805752876}\n",
      "    collateral: {'assets': {'HDX': 0.0, 'USDC': 30.056757437861542}, 'value': 29.57060073451495}\n",
      "  index: 14\n",
      "    debt: {'assets': {'USDT': 616.5918112284613}, 'value': 616.5918112284613}\n",
      "    collateral: {'assets': {'HDX': 15145.598264226086, 'USDC': 416.2512870970278, 'WBTC': 0.0015499801224150372}, 'value': 575.783644803005}\n",
      "  index: 46\n",
      "    debt: {'assets': {'USDT': 7.028444565162799}, 'value': 7.028444565162799}\n",
      "    collateral: {'assets': {'HDX': 30.53143822830293, 'WBTC': 5.7206776205176666e-05}, 'value': 4.799870121993566}\n"
     ]
    }
   ],
   "source": [
    "for cdp in toxic_debt[99]:\n",
    "    print(f\"  index: {cdp['index']}\")\n",
    "    print(f\"    debt: {cdp['debt']}\")\n",
    "    print(f\"    collateral: {cdp['collateral']}\")"
   ]
  },
  {
   "cell_type": "code",
   "execution_count": 23,
   "id": "b40988c1-feee-4d1a-8f7a-da9876639cad",
   "metadata": {},
   "outputs": [
    {
     "data": {
      "text/plain": [
       "CDP:\n",
       "    debt:\n",
       "        USDT: 4.69971346921473\n",
       "    collateral:\n",
       "        HDX: 691.7302957688422"
      ]
     },
     "execution_count": 23,
     "metadata": {},
     "output_type": "execute_result"
    }
   ],
   "source": [
    "print(hdx_cdps[14])\n",
    "print(mm.value_assets[hdx_cdps[14]])"
   ]
  },
  {
   "cell_type": "code",
   "execution_count": null,
   "id": "e04bdee2-ca6f-4eaf-a223-1cacc618723c",
   "metadata": {},
   "outputs": [],
   "source": [
    "sum([sum(cdp.debt.values()) for cdp in events[-1].money_market.cdps])"
   ]
  },
  {
   "cell_type": "code",
   "execution_count": null,
   "id": "d2ff0219-3899-4777-890a-d8bf5ab4ff9b",
   "metadata": {},
   "outputs": [],
   "source": [
    "plt.figure(figsize=(20, 5))\n",
    "plt.plot([event.agents['arbitrageur'].holdings['HDX'] for event in events])"
   ]
  },
  {
   "cell_type": "code",
   "execution_count": null,
   "id": "6cda51e6-3a49-408d-85b6-62398924286a",
   "metadata": {},
   "outputs": [],
   "source": [
    "import model.plot_utils as pu\n",
    "pu.plot(events, agent='arbitrageur', prop='holdings')"
   ]
  },
  {
   "cell_type": "code",
   "execution_count": null,
   "id": "0c8e5ca2-6e5b-4233-bdbe-e12776b3941c",
   "metadata": {},
   "outputs": [],
   "source": [
    "events[-1]"
   ]
  },
  {
   "cell_type": "code",
   "execution_count": null,
   "id": "36e66fa2-c27b-4274-ba9b-f1c63572a1f0",
   "metadata": {},
   "outputs": [],
   "source": [
    "events[-1]"
   ]
  },
  {
   "cell_type": "code",
   "execution_count": null,
   "id": "91d2916d-82b8-420e-8f52-16abe710d449",
   "metadata": {},
   "outputs": [],
   "source": [
    "events[-1].pools['binance'].prices"
   ]
  },
  {
   "cell_type": "code",
   "execution_count": null,
   "id": "ae8c661c-cd6b-4072-8081-a420d3eebd8b",
   "metadata": {},
   "outputs": [],
   "source": [
    "sorted([(tkn, events[-1].pools['omnipool'].usd_price(tkn, 'USDT')) for tkn in omnipool.asset_list])"
   ]
  },
  {
   "cell_type": "code",
   "execution_count": null,
   "id": "8d4826f5-aea2-441b-9ad8-69f6456c1a1e",
   "metadata": {},
   "outputs": [],
   "source": [
    "final_state = events[-1]\n",
    "final_state.evolve()\n",
    "omnipool = final_state.pools['omnipool']\n",
    "print(\"{\")\n",
    "for tkn in omnipool.asset_list:\n",
    "    print(f\"    '{tkn}': {{'liquidity': {omnipool.liquidity[tkn]}, 'LRNA': {omnipool.lrna[tkn]}}},\")\n",
    "print(\"}\")\n",
    "# print(f\"    'DOT': {{'liquidity': {omnipool.liquidity['DOT']}, 'LRNA': {omnipool.lrna['DOT']}}}\\n}}\")"
   ]
  },
  {
   "cell_type": "code",
   "execution_count": null,
   "id": "c9e751ce-bed2-4c44-aaf0-e932ea0caea7",
   "metadata": {},
   "outputs": [],
   "source": [
    "binance = final_state.pools['binance']\n",
    "print(\"{\")\n",
    "for tkn in binance.asset_list:\n",
    "    print(f\"    ''{tkn}'': {binance.prices[tkn]},\")\n",
    "print(\"}\")"
   ]
  },
  {
   "cell_type": "code",
   "execution_count": null,
   "id": "a2c8ea2f-1fb2-4972-b4f0-2ba54be6d60c",
   "metadata": {},
   "outputs": [],
   "source": [
    "binance = final_state.pools['binance']\n",
    "print(\"{\")\n",
    "for tkn in binance.asset_list:\n",
    "    print(f\"    ''{tkn}'': {binance.prices[tkn]},\")\n",
    "print(\"}\")"
   ]
  },
  {
   "cell_type": "code",
   "execution_count": null,
   "id": "20608e3a-1262-4ab6-ba69-3849510b8414",
   "metadata": {},
   "outputs": [],
   "source": [
    "len(events)"
   ]
  },
  {
   "cell_type": "code",
   "execution_count": null,
   "id": "254e2266-c61f-422d-a241-37648b68826a",
   "metadata": {},
   "outputs": [],
   "source": []
  }
 ],
 "metadata": {
  "kernelspec": {
   "display_name": "Python 3 (ipykernel)",
   "language": "python",
   "name": "python3"
  },
  "language_info": {
   "codemirror_mode": {
    "name": "ipython",
    "version": 3
   },
   "file_extension": ".py",
   "mimetype": "text/x-python",
   "name": "python",
   "nbconvert_exporter": "python",
   "pygments_lexer": "ipython3",
   "version": "3.12.1"
  }
 },
 "nbformat": 4,
 "nbformat_minor": 5
}
