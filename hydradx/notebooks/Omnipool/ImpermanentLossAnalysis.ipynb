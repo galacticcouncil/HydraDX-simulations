{
 "cells": [
  {
   "cell_type": "markdown",
   "metadata": {},
   "source": [
    "# Testing IL\n",
    "In this notebook we will compare the IL of the implemented AMM to theory.\n"
   ]
  },
  {
   "cell_type": "markdown",
   "metadata": {},
   "source": [
    "## Simulation Setup"
   ]
  },
  {
   "cell_type": "code",
   "execution_count": 69,
   "metadata": {},
   "outputs": [],
   "source": [
    "import sys\n",
    "import os\n",
    "import glob\n",
    "import random\n",
    "sys.path.append('../..')\n",
    "\n",
    "from model import processing\n",
    "from matplotlib import pyplot as plt\n",
    "\n",
    "from model import run\n",
    "from model import plot_utils as pu\n",
    "from model.amm.omnipool_amm import OmnipoolState, cash_out_omnipool, value_assets, usd_price, lrna_price\n",
    "from model.amm.agents import Agent\n",
    "from model.amm.trade_strategies import omnipool_arbitrage, invest_all, price_sensitive_trading\n",
    "from model.amm.global_state import GlobalState, fluctuate_prices, historical_prices\n",
    "\n",
    "# same seed, same parameters = same simulation result\n",
    "random.seed(42)\n",
    "# price_list = processing.import_binance_prices(['BTC', 'ETH', 'DOT'], start_date='Jan 1 2023', days = 120)\n",
    "\n",
    "assets = {\n",
    "    'HDX': {'usd price': 0.05, 'weight': 0.7999},\n",
    "    'USD': {'usd price': 1, 'weight': 0.20},\n",
    "    'TKN': {'usd price': 1, 'weight': 0.0001}\n",
    "}\n",
    "\n",
    "lrna_price_usd = 0.07\n",
    "initial_omnipool_tvl = 10000000\n",
    "liquidity = {}\n",
    "lrna = {}\n",
    "\n",
    "for tkn, info in assets.items():\n",
    "    liquidity[tkn] = initial_omnipool_tvl * info['weight'] / info['usd price']\n",
    "    lrna[tkn] = initial_omnipool_tvl * info['weight'] / lrna_price_usd\n",
    "\n",
    "initial_state = GlobalState(\n",
    "    pools={\n",
    "        'omnipool': OmnipoolState(\n",
    "            tokens={\n",
    "                tkn: {'liquidity': liquidity[tkn], 'LRNA': lrna[tkn]} for tkn in assets\n",
    "            },\n",
    "            asset_fee=0,\n",
    "            lrna_fee=0,\n",
    "            # withdrawal_fee=False\n",
    "        )\n",
    "    },\n",
    "    agents = {\n",
    "        'LP': Agent(\n",
    "            holdings={'TKN': 10000},\n",
    "            trade_strategy=invest_all('omnipool')\n",
    "        ),\n",
    "        'Arbitrageur': Agent(\n",
    "            holdings={tkn: 10000000 for tkn in assets},\n",
    "            trade_strategy=omnipool_arbitrage(\n",
    "                pool_id='omnipool'\n",
    "            )\n",
    "        ),\n",
    "    },\n",
    "    external_market={tkn: assets[tkn]['usd price'] for tkn in assets},\n",
    "    archive_all=False\n",
    ")"
   ]
  },
  {
   "cell_type": "code",
   "execution_count": 70,
   "metadata": {},
   "outputs": [],
   "source": [
    "steps = 100\n",
    "price_min = 0.2\n",
    "price_max = 5\n",
    "step_factor = (price_max / price_min) ** (1 / (steps - 1))\n",
    "price_move_range = [price_min * step_factor ** i for i in range(steps)]\n",
    "price_events = []\n",
    "# print(price_move_range)\n",
    "\n",
    "for price in price_move_range:\n",
    "    price_list = [{'TKN': initial_state.external_market['TKN']}, {'TKN': price}]\n",
    "    # print(price_list)\n",
    "    initial_state._evolve_function = historical_prices(price_list)\n",
    "    # events = run.run(initial_state, 1, silent=True)\n",
    "    # print(events[-1].external_market)\n",
    "    price_events.append(run.run(initial_state, 1, silent=True)[-1])\n",
    "    # price_events[-1].pools['omnipool'].lrna['TKN'] *= price\n",
    "    # print(price_events[-1].external_market)"
   ]
  },
  {
   "cell_type": "markdown",
   "metadata": {},
   "source": [
    "<H1>Relationship between IL and price change</H1>\n",
    "Here we show the impermanent loss incurred as a function of price shift. This graph is somewhat idealized in that TKN is a very small proportion of the pool TVL (0.01%). Because IL is related to the change in TKN/LRNA price, and because the price of LRNA is also responsive to the price of all assets in the pool, a higher proportion of TKN in the pool means a lower rate of IL, especially in a bull-market scenario (because this will tend to increase the proportional weight of TKN)."
   ]
  },
  {
   "cell_type": "code",
   "execution_count": 94,
   "metadata": {},
   "outputs": [
    {
     "data": {
      "text/plain": [
       "[<matplotlib.lines.Line2D at 0x2038ec6ca60>]"
      ]
     },
     "execution_count": 94,
     "metadata": {},
     "output_type": "execute_result"
    },
    {
     "data": {
      "image/png": "[encoded data removed]",
      "text/plain": [
       "<Figure size 1440x360 with 1 Axes>"
      ]
     },
     "metadata": {
      "needs_background": "light"
     },
     "output_type": "display_data"
    }
   ],
   "source": [
    "plt.figure(figsize=(20, 5))\n",
    "plt.title('Impermanent loss as a function of price change')\n",
    "\n",
    "# plt.yscale('log')\n",
    "plt.xscale('log')\n",
    "graph_length = len(price_events)\n",
    "plt.xticks(\n",
    "    [price_min, price_move_range[int(graph_length / 2)], price_move_range[graph_length-1]],\n",
    "    ['-80%', '0%', '+500%']\n",
    ")\n",
    "plt.yticks(\n",
    "    [.75, .80, .85, .90, .95, 1],\n",
    "    ['-25%', '-20%', '-15%', '-10%', '-5%', '0%']\n",
    ")\n",
    "plt.plot(\n",
    "    price_move_range, \n",
    "    [\n",
    "        cash_out_omnipool(event.pools['omnipool'], event.agents['LP'], event.external_market)\n",
    "        / value_assets(initial_state.agents['LP'].holdings, {'TKN': usd_price(event.pools['omnipool'], 'TKN')})\n",
    "        for event in price_events\n",
    "    ]\n",
    ")"
   ]
  },
  {
   "cell_type": "code",
   "execution_count": null,
   "metadata": {},
   "outputs": [],
   "source": []
  }
 ],
 "metadata": {
  "kernelspec": {
   "display_name": "Python 3 (ipykernel)",
   "language": "python",
   "name": "python3"
  },
  "language_info": {
   "codemirror_mode": {
    "name": "ipython",
    "version": 3
   },
   "file_extension": ".py",
   "mimetype": "text/x-python",
   "name": "python",
   "nbconvert_exporter": "python",
   "pygments_lexer": "ipython3",
   "version": "3.9.7"
  }
 },
 "nbformat": 4,
 "nbformat_minor": 4
}
