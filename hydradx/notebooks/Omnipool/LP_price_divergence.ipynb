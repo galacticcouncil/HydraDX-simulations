{
 "cells": [
  {
   "cell_type": "code",
   "execution_count": 1,
   "id": "7e3246da-b5f4-45e1-9aad-56772bff032b",
   "metadata": {},
   "outputs": [],
   "source": [
    "from matplotlib import pyplot as plt\n",
    "from datetime import datetime\n",
    "import math\n",
    "import sys\n",
    "from pprint import pprint\n",
    "\n",
    "sys.path.append('../..')"
   ]
  },
  {
   "cell_type": "code",
   "execution_count": 109,
   "id": "0c67f3e9-ea9a-4a9a-9508-9be5f2d0b67d",
   "metadata": {
    "tags": []
   },
   "outputs": [],
   "source": [
    "from model.amm.omnipool_amm import OmnipoolState, dynamicadd_asset_fee, dynamicadd_lrna_fee, usd_price, cash_out_omnipool\n",
    "from model.amm.agents import Agent\n",
    "from model.amm.trade_strategies import omnipool_arbitrage\n",
    "from model.amm.global_state import GlobalState, fluctuate_prices, historical_prices\n",
    "from datetime import datetime\n",
    "import math\n",
    "import random\n",
    "\n",
    "initial_omnipool_tvl = 10000000\n",
    "lrna_price_usd = 22.22\n",
    "\n",
    "omnipool = OmnipoolState(\n",
    "    tokens={\n",
    "        'DOT': {'liquidity': 1000000, 'LRNA': 1000000},\n",
    "        'HDX': {'liquidity': 100000000, 'LRNA': 1000000},\n",
    "        'USD': {'liquidity': 10000000, 'LRNA': 10000000}\n",
    "    },\n",
    "    lrna_fee=0,\n",
    "    asset_fee=0,\n",
    "    preferred_stablecoin = 'USD',\n",
    ")\n",
    "\n",
    "agent1 = Agent(\n",
    "    holdings={'DOT': 1}\n",
    ")\n",
    "agent2 = Agent(\n",
    "    holdings={'DOT': 2}\n",
    ")\n",
    "agent3 = Agent(\n",
    "    holdings={'DOT': 3000003, 'HDX': 100000000}\n",
    ")\n",
    "initial_state = GlobalState(\n",
    "    pools={\n",
    "        'omnipool': omnipool\n",
    "    },\n",
    "    agents={\n",
    "        'LP1': agent1,\n",
    "        'LP2': agent2\n",
    "    }\n",
    ")"
   ]
  },
  {
   "cell_type": "code",
   "execution_count": 110,
   "id": "8c927c4a-4e83-4678-86cd-f66580a97570",
   "metadata": {},
   "outputs": [
    {
     "name": "stdout",
     "output_type": "stream",
     "text": [
      "1.0\n",
      "{'DOT': 0, 'HDX': 0, 'USD': 0, ('omnipool', 'DOT'): 1.0}\n",
      "{'DOT': 0, 'HDX': 0, 'USD': 0, ('omnipool', 'DOT'): 1.0}\n"
     ]
    }
   ],
   "source": [
    "print(omnipool.usd_price(omnipool, 'DOT'))\n",
    "omnipool.add_liquidity(\n",
    "    agent=agent1,\n",
    "    quantity=1,\n",
    "    tkn_add='DOT'\n",
    ")\n",
    "print(agent1.holdings)\n",
    "omnipool.swap(\n",
    "    agent=agent3,\n",
    "    tkn_sell='DOT',\n",
    "    tkn_buy='HDX',\n",
    "    sell_quantity = 1000001\n",
    ")\n",
    "print(agent1.holdings)\n"
   ]
  },
  {
   "cell_type": "code",
   "execution_count": 111,
   "id": "f30677c7-af4e-42a2-bf63-d4e6b94d551d",
   "metadata": {
    "tags": []
   },
   "outputs": [
    {
     "name": "stdout",
     "output_type": "stream",
     "text": [
      "0.25\n",
      "{'DOT': 0, 'HDX': 0, 'USD': 0, ('omnipool', 'DOT'): 1.0}\n"
     ]
    }
   ],
   "source": [
    "print(omnipool.usd_price(omnipool, 'DOT'))\n",
    "omnipool.add_liquidity(\n",
    "    agent=agent2,\n",
    "        quantity=2,\n",
    "    tkn_add='DOT'\n",
    ")\n",
    "print(agent2.holdings)"
   ]
  },
  {
   "cell_type": "code",
   "execution_count": 112,
   "id": "9b179350-0295-46b9-bae8-f458cc288217",
   "metadata": {
    "tags": []
   },
   "outputs": [
    {
     "name": "stdout",
     "output_type": "stream",
     "text": [
      "Agent: LP1\n",
      "********************************\n",
      "trade strategy: None\n",
      "holdings: (\n",
      "\n",
      "    *DOT*: 0\n",
      "\n",
      "    *HDX*: 0\n",
      "\n",
      "    *USD*: 0\n",
      "\n",
      "    *('omnipool', 'DOT')*: 1.0\n",
      "    price: 1.0\n",
      ")\n",
      " Agent: LP2\n",
      "********************************\n",
      "trade strategy: None\n",
      "holdings: (\n",
      "\n",
      "    *DOT*: 0\n",
      "\n",
      "    *HDX*: 0\n",
      "\n",
      "    *USD*: 0\n",
      "\n",
      "    *('omnipool', 'DOT')*: 1.0\n",
      "    price: 0.25\n",
      ")\n",
      "\n"
     ]
    }
   ],
   "source": [
    "print(agent1, agent2)\n"
   ]
  },
  {
   "cell_type": "code",
   "execution_count": 148,
   "id": "0773c085-7599-47fc-b055-9497c4deb1de",
   "metadata": {
    "tags": []
   },
   "outputs": [],
   "source": [
    "price_scenarios = []\n",
    "for n in range(99, 0, -1):\n",
    "    tkn_sell = 'HDX'\n",
    "    tkn_buy = 'DOT'\n",
    "    sell_quantity = agent3.holdings['HDX'] / 100 * n\n",
    "    price_scenarios.append(\n",
    "        omnipool.copy().swap(\n",
    "            agent=agent3.copy(),\n",
    "            tkn_sell=tkn_sell,\n",
    "            tkn_buy=tkn_buy,\n",
    "            sell_quantity=sell_quantity\n",
    "        )\n",
    "    )\n",
    "price_scenarios.append(omnipool.copy())\n",
    "for n in range(0, 99):\n",
    "    tkn_sell = 'DOT'\n",
    "    tkn_buy = 'HDX'\n",
    "    sell_quantity = agent3.holdings['DOT'] / 100 * n\n",
    "    price_scenarios.append(\n",
    "        omnipool.copy().swap(\n",
    "            agent=agent3.copy(),\n",
    "            tkn_sell=tkn_sell,\n",
    "            tkn_buy=tkn_buy,\n",
    "            sell_quantity=sell_quantity\n",
    "        )\n",
    "    )"
   ]
  },
  {
   "cell_type": "code",
   "execution_count": 149,
   "id": "faad8d8e-e9aa-478e-97fa-6a08ccb8dc10",
   "metadata": {
    "tags": []
   },
   "outputs": [],
   "source": [
    "agent1_value = [\n",
    "    cash_out_omnipool(omnipool=pool, agent=agent1, prices={tkn: usd_price(pool, tkn) for tkn in pool.asset_list})\n",
    "    for pool in price_scenarios\n",
    "]\n",
    "agent2_value = [\n",
    "    cash_out_omnipool(omnipool=pool, agent=agent2, prices={tkn: usd_price(pool, tkn) for tkn in pool.asset_list})\n",
    "    for pool in price_scenarios\n",
    "]"
   ]
  },
  {
   "cell_type": "code",
   "execution_count": 150,
   "id": "6f182fd8-d5da-4c97-843a-2d277c8aea6b",
   "metadata": {
    "tags": []
   },
   "outputs": [
    {
     "data": {
      "text/plain": [
       "[<matplotlib.lines.Line2D at 0x16fb22f9be0>]"
      ]
     },
     "execution_count": 150,
     "metadata": {},
     "output_type": "execute_result"
    },
    {
     "data": {
      "image/png": "[encoded data removed]",
      "text/plain": [
       "<Figure size 1440x360 with 1 Axes>"
      ]
     },
     "metadata": {
      "needs_background": "light"
     },
     "output_type": "display_data"
    }
   ],
   "source": [
    "plt.figure(figsize=(20, 5))\n",
    "prices = [usd_price(pool, 'DOT') for pool in price_scenarios]\n",
    "plt.plot(prices, agent1_value)\n",
    "plt.plot(prices, agent2_value)\n",
    "plt.xl"
   ]
  },
  {
   "cell_type": "code",
   "execution_count": 151,
   "id": "cf57c470-2612-49ed-b99f-ad52d76c6aeb",
   "metadata": {
    "tags": []
   },
   "outputs": [
    {
     "data": {
      "text/plain": [
       "[<matplotlib.lines.Line2D at 0x16fb255f8b0>]"
      ]
     },
     "execution_count": 151,
     "metadata": {},
     "output_type": "execute_result"
    },
    {
     "data": {
      "image/png": "[encoded data removed]",
      "text/plain": [
       "<Figure size 432x288 with 1 Axes>"
      ]
     },
     "metadata": {
      "needs_background": "light"
     },
     "output_type": "display_data"
    }
   ],
   "source": [
    "prices = [usd_price(pool, 'DOT') for pool in price_scenarios]\n",
    "plt.plot(prices)"
   ]
  },
  {
   "cell_type": "code",
   "execution_count": null,
   "id": "f2ffd426-14e3-445c-8d93-3a64a5e727d5",
   "metadata": {},
   "outputs": [],
   "source": []
  }
 ],
 "metadata": {
  "kernelspec": {
   "display_name": "Python 3 (ipykernel)",
   "language": "python",
   "name": "python3"
  },
  "language_info": {
   "codemirror_mode": {
    "name": "ipython",
    "version": 3
   },
   "file_extension": ".py",
   "mimetype": "text/x-python",
   "name": "python",
   "nbconvert_exporter": "python",
   "pygments_lexer": "ipython3",
   "version": "3.9.7"
  }
 },
 "nbformat": 4,
 "nbformat_minor": 5
}
