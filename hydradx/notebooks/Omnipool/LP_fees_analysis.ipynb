{
 "cells": [
  {
   "cell_type": "markdown",
   "id": "a8c17e29-b019-4664-846e-3e6c337b9312",
   "metadata": {
    "tags": []
   },
   "source": [
    "<H1>10,000 USD worth of TKN invested in the Omnipool for one year</H1>"
   ]
  },
  {
   "cell_type": "markdown",
   "id": "724e184d-3157-482c-8a3f-12d0b77a8cc9",
   "metadata": {
    "ExecuteTime": {
     "end_time": "2023-05-24T15:14:34.207704241Z",
     "start_time": "2023-05-24T15:01:10.779629649Z"
    },
    "tags": []
   },
   "source": [
    "<H3>Effects of trade volume.</H3>\n",
    "Trade volume generates fees, which are the primary way of offsetting IL. We'll assume prices do no change, so there is no impermanent loss. Trade volume goes from 0% to 5% of TVL per day. (So far we have observed ~1-5% on average.) We also assume 0.3% total fees. We fully simulate one month and then extrapolate the results to one year. This should still be fairly accurate, because of the linear nature of the correlation between time and profit."
   ]
  },
  {
   "cell_type": "code",
   "execution_count": 1,
   "id": "deb2bd1c-f250-40ea-a5da-1c0e8d54ab7d",
   "metadata": {
    "ExecuteTime": {
     "end_time": "2023-05-24T15:01:05.284668003Z",
     "start_time": "2023-05-24T15:00:51.325657113Z"
    },
    "tags": []
   },
   "outputs": [],
   "source": [
    "import random\n",
    "import sys\n",
    "sys.path.append('../..')\n",
    "\n",
    "from model import processing\n",
    "from matplotlib import pyplot as plt\n",
    "\n",
    "from model import run, plot_utils as pu\n",
    "from model.amm.omnipool_amm import OmnipoolState, cash_out_omnipool, usd_price, lrna_price, value_assets, execute_remove_liquidity\n",
    "from model.amm.agents import Agent\n",
    "from model.amm.trade_strategies import omnipool_arbitrage, invest_all, price_sensitive_trading, back_and_forth\n",
    "from model.amm.global_state import GlobalState, fluctuate_prices, historical_prices, ArchiveState\n",
    "\n",
    "# same seed, same parameters = same simulation result\n",
    "random.seed(42)\n",
    "price_list = processing.import_binance_prices(['BTC', 'ETH', 'DOT'], start_date='Jan 1 2023', days = 30)\n",
    "\n",
    "assets = {\n",
    "    'HDX': {'usd price': 0.05, 'weight': 0.05},\n",
    "    'USD': {'usd price': 1, 'weight': 0.20},\n",
    "    'BTC': {'usd price': price_list[0]['BTC'], 'weight': 0.10},\n",
    "    'ETH': {'usd price': price_list[0]['ETH'], 'weight': 0.50},\n",
    "    'DOT': {'usd price': 1, 'weight': 0.17},\n",
    "    'TKN': {'usd price': 1, 'weight': 0.03}\n",
    "}\n",
    "\n",
    "lrna_price_usd = 1\n",
    "initial_omnipool_tvl = 10000000\n",
    "liquidity = {}\n",
    "lrna = {}\n",
    "asset_fee = 0.0025\n",
    "lrna_fee = 0.0005\n",
    "\n",
    "for tkn, info in assets.items():\n",
    "    liquidity[tkn] = initial_omnipool_tvl * info['weight'] / info['usd price']\n",
    "    lrna[tkn] = initial_omnipool_tvl * info['weight'] / lrna_price_usd\n",
    "\n",
    "initial_state = GlobalState(\n",
    "    pools={\n",
    "        'omnipool': OmnipoolState(\n",
    "            tokens={\n",
    "                tkn: {'liquidity': liquidity[tkn], 'LRNA': lrna[tkn]} for tkn in assets\n",
    "            },\n",
    "            asset_fee=0.0025,\n",
    "            lrna_fee=0.0005,\n",
    "            withdrawal_fee=False\n",
    "        )\n",
    "    },\n",
    "    agents = {\n",
    "        'Trader': Agent(\n",
    "            holdings={tkn: 10000000 for tkn in list(assets.keys()) + ['LRNA']}\n",
    "        ),\n",
    "        'LP': Agent(\n",
    "            holdings={'TKN': 10000},\n",
    "            trade_strategy=invest_all('omnipool')\n",
    "        ),\n",
    "        # 'LP2': Agent(\n",
    "        #     holdings={'DOT': 10000},\n",
    "        #     trade_strategy=invest_all('omnipool')\n",
    "        # )\n",
    "    },\n",
    "    external_market={tkn: assets[tkn]['usd price'] for tkn in assets},\n",
    "    archive_all=False\n",
    ")\n",
    "\n",
    "# copy DOT prices for TKN\n",
    "# for j, step in enumerate(price_list):     \n",
    "#     step['TKN'] = step['DOT'] / price_list[0]['DOT']"
   ]
  },
  {
   "cell_type": "code",
   "execution_count": 3,
   "id": "b3f08712-922b-465f-b04b-5f3057a78ab5",
   "metadata": {
    "ExecuteTime": {
     "end_time": "2023-05-24T15:14:34.207704241Z",
     "start_time": "2023-05-24T15:01:10.779629649Z"
    },
    "tags": []
   },
   "outputs": [
    {
     "name": "stdout",
     "output_type": "stream",
     "text": [
      "Trade volume per day as a fraction of TVL: {'HDX': 0.0, 'USD': 0.0, 'BTC': 0.0, 'ETH': 0.0, 'DOT': 0.0, 'TKN': 0.0}\n",
      "Starting simulation...\n"
     ]
    },
    {
     "ename": "KeyError",
     "evalue": "'LRNA'",
     "output_type": "error",
     "traceback": [
      "\u001b[1;31m---------------------------------------------------------------------------\u001b[0m",
      "\u001b[1;31mKeyError\u001b[0m                                  Traceback (most recent call last)",
      "Input \u001b[1;32mIn [3]\u001b[0m, in \u001b[0;36m<cell line: 8>\u001b[1;34m()\u001b[0m\n\u001b[0;32m      8\u001b[0m \u001b[38;5;28;01mfor\u001b[39;00m i \u001b[38;5;129;01min\u001b[39;00m \u001b[38;5;28mrange\u001b[39m(\u001b[38;5;241m6\u001b[39m):\n\u001b[0;32m      9\u001b[0m     initial_state\u001b[38;5;241m.\u001b[39magents[\u001b[38;5;124m'\u001b[39m\u001b[38;5;124mTrader\u001b[39m\u001b[38;5;124m'\u001b[39m]\u001b[38;5;241m.\u001b[39mtrade_strategy\u001b[38;5;241m=\u001b[39mback_and_forth(\n\u001b[0;32m     10\u001b[0m         pool_id\u001b[38;5;241m=\u001b[39m\u001b[38;5;124m'\u001b[39m\u001b[38;5;124momnipool\u001b[39m\u001b[38;5;124m'\u001b[39m,\n\u001b[0;32m     11\u001b[0m         percentage\u001b[38;5;241m=\u001b[39mi \u001b[38;5;241m/\u001b[39m \u001b[38;5;241m360000\u001b[39m \u001b[38;5;241m/\u001b[39m (\u001b[38;5;241m1\u001b[39m \u001b[38;5;241m-\u001b[39m asset_fee \u001b[38;5;241m-\u001b[39m lrna_fee)\n\u001b[0;32m     12\u001b[0m     ) \u001b[38;5;28;01mif\u001b[39;00m i \u001b[38;5;241m>\u001b[39m \u001b[38;5;241m0\u001b[39m \u001b[38;5;28;01melse\u001b[39;00m \u001b[38;5;28;01mNone\u001b[39;00m\n\u001b[1;32m---> 13\u001b[0m     events \u001b[38;5;241m=\u001b[39m \u001b[43mrun\u001b[49m\u001b[38;5;241;43m.\u001b[39;49m\u001b[43mrun\u001b[49m\u001b[43m(\u001b[49m\u001b[43minitial_state\u001b[49m\u001b[43m,\u001b[49m\u001b[43m \u001b[49m\u001b[43mtime_steps\u001b[49m\u001b[43m)\u001b[49m \u001b[38;5;28;01mif\u001b[39;00m i \u001b[38;5;241m>\u001b[39m \u001b[38;5;241m0\u001b[39m \u001b[38;5;28;01melse\u001b[39;00m [initial_state\u001b[38;5;241m.\u001b[39marchive()] \u001b[38;5;241m*\u001b[39m time_steps\n\u001b[0;32m     15\u001b[0m     trade_volume\u001b[38;5;241m.\u001b[39mappend({tkn: (\u001b[38;5;28msum\u001b[39m([event\u001b[38;5;241m.\u001b[39mpools[\u001b[38;5;124m'\u001b[39m\u001b[38;5;124momnipool\u001b[39m\u001b[38;5;124m'\u001b[39m]\u001b[38;5;241m.\u001b[39mvolume_out[tkn] \n\u001b[0;32m     16\u001b[0m                                     \u001b[38;5;241m/\u001b[39m event\u001b[38;5;241m.\u001b[39mpools[\u001b[38;5;124m'\u001b[39m\u001b[38;5;124momnipool\u001b[39m\u001b[38;5;124m'\u001b[39m]\u001b[38;5;241m.\u001b[39mliquidity[tkn] \u001b[38;5;28;01mfor\u001b[39;00m event \u001b[38;5;129;01min\u001b[39;00m events])\n\u001b[0;32m     17\u001b[0m         \u001b[38;5;241m/\u001b[39m time_steps \u001b[38;5;241m*\u001b[39m \u001b[38;5;241m7200\u001b[39m) \u001b[38;5;28;01mfor\u001b[39;00m tkn \u001b[38;5;129;01min\u001b[39;00m assets}\n\u001b[0;32m     18\u001b[0m     )\n\u001b[0;32m     19\u001b[0m     \u001b[38;5;28mprint\u001b[39m(\u001b[38;5;124m'\u001b[39m\u001b[38;5;124mTrade volume per day as a fraction of TVL:\u001b[39m\u001b[38;5;124m'\u001b[39m, trade_volume[i])\n",
      "File \u001b[1;32m~\\PycharmProjects\\HydraDX-simulations\\hydradx\\notebooks\\Omnipool\\../..\\model\\run.py:28\u001b[0m, in \u001b[0;36mrun\u001b[1;34m(initial_state, time_steps, silent)\u001b[0m\n\u001b[0;32m     26\u001b[0m     \u001b[38;5;28;01mfor\u001b[39;00m agent_id, agent \u001b[38;5;129;01min\u001b[39;00m agents\u001b[38;5;241m.\u001b[39mitems():\n\u001b[0;32m     27\u001b[0m         \u001b[38;5;28;01mif\u001b[39;00m agent\u001b[38;5;241m.\u001b[39mtrade_strategy:\n\u001b[1;32m---> 28\u001b[0m             new_global_state \u001b[38;5;241m=\u001b[39m \u001b[43magent\u001b[49m\u001b[38;5;241;43m.\u001b[39;49m\u001b[43mtrade_strategy\u001b[49m\u001b[38;5;241;43m.\u001b[39;49m\u001b[43mexecute\u001b[49m\u001b[43m(\u001b[49m\u001b[43mnew_global_state\u001b[49m\u001b[43m,\u001b[49m\u001b[43m \u001b[49m\u001b[43magent\u001b[49m\u001b[38;5;241;43m.\u001b[39;49m\u001b[43munique_id\u001b[49m\u001b[43m)\u001b[49m\n\u001b[0;32m     30\u001b[0m     events\u001b[38;5;241m.\u001b[39mappend(new_global_state\u001b[38;5;241m.\u001b[39marchive())\n\u001b[0;32m     32\u001b[0m \u001b[38;5;28;01mif\u001b[39;00m \u001b[38;5;129;01mnot\u001b[39;00m silent:\n",
      "File \u001b[1;32m~\\PycharmProjects\\HydraDX-simulations\\hydradx\\notebooks\\Omnipool\\../..\\model\\amm\\trade_strategies.py:28\u001b[0m, in \u001b[0;36mTradeStrategy.execute\u001b[1;34m(self, state, agent_id)\u001b[0m\n\u001b[0;32m     26\u001b[0m \u001b[38;5;28;01melif\u001b[39;00m \u001b[38;5;28mself\u001b[39m\u001b[38;5;241m.\u001b[39mrun_once:\n\u001b[0;32m     27\u001b[0m     \u001b[38;5;28mself\u001b[39m\u001b[38;5;241m.\u001b[39mdone \u001b[38;5;241m=\u001b[39m \u001b[38;5;28;01mTrue\u001b[39;00m\n\u001b[1;32m---> 28\u001b[0m \u001b[38;5;28;01mreturn\u001b[39;00m \u001b[38;5;28;43mself\u001b[39;49m\u001b[38;5;241;43m.\u001b[39;49m\u001b[43mfunction\u001b[49m\u001b[43m(\u001b[49m\u001b[43mstate\u001b[49m\u001b[43m,\u001b[49m\u001b[43m \u001b[49m\u001b[43magent_id\u001b[49m\u001b[43m)\u001b[49m\n",
      "File \u001b[1;32m~\\PycharmProjects\\HydraDX-simulations\\hydradx\\notebooks\\Omnipool\\../..\\model\\amm\\trade_strategies.py:135\u001b[0m, in \u001b[0;36mback_and_forth.<locals>.strategy\u001b[1;34m(state, agent_id)\u001b[0m\n\u001b[0;32m    132\u001b[0m assets \u001b[38;5;241m=\u001b[39m \u001b[38;5;28mlist\u001b[39m(\u001b[38;5;28mdict\u001b[39m\u001b[38;5;241m.\u001b[39mfromkeys(agent\u001b[38;5;241m.\u001b[39masset_list \u001b[38;5;241m+\u001b[39m omnipool\u001b[38;5;241m.\u001b[39masset_list))\n\u001b[0;32m    133\u001b[0m \u001b[38;5;28;01mfor\u001b[39;00m asset \u001b[38;5;129;01min\u001b[39;00m assets:\n\u001b[0;32m    134\u001b[0m     \u001b[38;5;66;03m# asset = agent.asset_list[i]\u001b[39;00m\n\u001b[1;32m--> 135\u001b[0m     dr \u001b[38;5;241m=\u001b[39m percentage \u001b[38;5;241m/\u001b[39m \u001b[38;5;241m2\u001b[39m \u001b[38;5;241m*\u001b[39m \u001b[43momnipool\u001b[49m\u001b[38;5;241;43m.\u001b[39;49m\u001b[43mliquidity\u001b[49m\u001b[43m[\u001b[49m\u001b[43masset\u001b[49m\u001b[43m]\u001b[49m\n\u001b[0;32m    136\u001b[0m     lrna_init \u001b[38;5;241m=\u001b[39m state\u001b[38;5;241m.\u001b[39magents[agent_id]\u001b[38;5;241m.\u001b[39mholdings[\u001b[38;5;124m'\u001b[39m\u001b[38;5;124mLRNA\u001b[39m\u001b[38;5;124m'\u001b[39m]\n\u001b[0;32m    137\u001b[0m     oamm\u001b[38;5;241m.\u001b[39mexecute_swap(omnipool, agent, tkn_sell\u001b[38;5;241m=\u001b[39masset, tkn_buy\u001b[38;5;241m=\u001b[39m\u001b[38;5;124m'\u001b[39m\u001b[38;5;124mLRNA\u001b[39m\u001b[38;5;124m'\u001b[39m, sell_quantity\u001b[38;5;241m=\u001b[39mdr, modify_imbalance\u001b[38;5;241m=\u001b[39m\u001b[38;5;28;01mFalse\u001b[39;00m)\n",
      "\u001b[1;31mKeyError\u001b[0m: 'LRNA'"
     ]
    }
   ],
   "source": [
    "time_steps = 219000  # int(7200 * 365 / 12)\n",
    "volume_events = []\n",
    "trade_volume = []\n",
    "semi_final_state = []\n",
    "final_state = []\n",
    "graph_step = 200\n",
    "# initial_state._evolve_function = historical_prices(price_list)\n",
    "for i in range(6):\n",
    "    initial_state.agents['Trader'].trade_strategy=back_and_forth(\n",
    "        pool_id='omnipool',\n",
    "        percentage=i / 360000 / (1 - asset_fee - lrna_fee)\n",
    "    ) if i > 0 else None\n",
    "    events = run.run(initial_state, time_steps) if i > 0 else [initial_state.archive()] * time_steps\n",
    "    \n",
    "    trade_volume.append({tkn: (sum([event.pools['omnipool'].volume_out[tkn] \n",
    "                                    / event.pools['omnipool'].liquidity[tkn] for event in events])\n",
    "        / time_steps * 7200) for tkn in assets}\n",
    "    )\n",
    "    print('Trade volume per day as a fraction of TVL:', trade_volume[i])\n",
    "\n",
    "    volume_events.append(events[::graph_step])\n",
    "    volume_events[-1].append(events[-1])\n",
    "    \n",
    "    del events"
   ]
  },
  {
   "cell_type": "code",
   "execution_count": null,
   "id": "b5d6dadf-f4e3-4498-b99c-93b726fca2c1",
   "metadata": {
    "ExecuteTime": {
     "end_time": "2023-05-24T15:14:34.207704241Z",
     "start_time": "2023-05-24T15:01:10.779629649Z"
    },
    "tags": []
   },
   "outputs": [],
   "source": [
    "plt.figure(figsize=(20, 5))\n",
    "plt.title('LP fees earned after one month:')\n",
    "graph_length = len(volume_events[1])\n",
    "plt.xticks(\n",
    "    [0, graph_length / 3, graph_length / 1.5, graph_length],\n",
    "    ['start', '10 days', '20 days', '30 days']\n",
    ")\n",
    "colors = pu.color_gradient(length=5, color1=(255, 0, 0), color2=(0, 255, 0))\n",
    "baseline =[value_assets(initial_state.external_market, initial_state.agents['LP'].holdings)] * time_steps\n",
    "# [0] * len(volume_events[0])\n",
    "# [cash_out_omnipool(event.pools['omnipool'], event.agents['LP'], event.external_market) for event in volume_events[0]]\n",
    "volume_returns = [\n",
    "    [\n",
    "        (cash_out_omnipool(event.pools['omnipool'], event.agents['LP'], event.external_market)\n",
    "        - baseline[i])  # extend to one year\n",
    "        for i, event in enumerate(events)\n",
    "    ]\n",
    "    for events in volume_events\n",
    "]\n",
    "\n",
    "for i, scenario in enumerate(volume_returns[1:]):\n",
    "    plt.plot(range(len(scenario)), scenario, color=colors[i])\n",
    "    plt.annotate(\n",
    "        f'${round(scenario[-1], 2)} ({round(scenario[-1] / 100, 2)}%)', \n",
    "        xy=(len(scenario), scenario[-1]), xytext=(-40, 10), textcoords='offset points'\n",
    "    )\n",
    "\n",
    "plt.legend([\n",
    "    f'{round(volume[\"TKN\"] * 100, 1)}% {(\"trade volume per day\") if volume[\"TKN\"] == 0 else \"\"}' \n",
    "    for volume in trade_volume[1:]\n",
    "])\n"
   ]
  },
  {
   "cell_type": "code",
   "execution_count": null,
   "id": "40b300ed-24b1-410e-be52-d64477ab2e2d",
   "metadata": {
    "tags": []
   },
   "outputs": [],
   "source": [
    "plt.figure(figsize=(20, 5))\n",
    "plt.title('extrapolated results for one year')\n",
    "plt.xticks(\n",
    "    [volume[\"TKN\"] for volume in trade_volume],\n",
    "    [f'{round(volume[\"TKN\"] * 100, 2)} %'  for volume in trade_volume]\n",
    ")\n",
    "points = [(trade_volume[i]['TKN'], volume_returns[i][-1] * 12) for i in range(len(trade_volume))]\n",
    "for i, coors in enumerate(points[1:]):\n",
    "    plt.annotate(\n",
    "        text=f'${round(coors[1], 2)} ({round(coors[1] / 100, 2)}%)',\n",
    "        xy=coors,\n",
    "        xytext=(-50, 50) if i < len(points) / 2 else (-50, -50),\n",
    "        textcoords='offset points',\n",
    "        arrowprops={\n",
    "            'arrowstyle': '->'\n",
    "        }\n",
    "    )\n",
    "plt.xlabel('trade volume')\n",
    "plt.ylabel('fee revenue')\n",
    "plt.grid()\n",
    "plt.plot([volume[\"TKN\"] for volume in trade_volume], [scenario[-1] * 12 for scenario in volume_returns])"
   ]
  },
  {
   "cell_type": "code",
   "execution_count": null,
   "id": "799fda6c-4ada-4536-9d6d-3fe0f7eafd37",
   "metadata": {},
   "outputs": [],
   "source": []
  }
 ],
 "metadata": {
  "kernelspec": {
   "display_name": "Python 3 (ipykernel)",
   "language": "python",
   "name": "python3"
  },
  "language_info": {
   "codemirror_mode": {
    "name": "ipython",
    "version": 3
   },
   "file_extension": ".py",
   "mimetype": "text/x-python",
   "name": "python",
   "nbconvert_exporter": "python",
   "pygments_lexer": "ipython3",
   "version": "3.9.7"
  }
 },
 "nbformat": 4,
 "nbformat_minor": 5
}
