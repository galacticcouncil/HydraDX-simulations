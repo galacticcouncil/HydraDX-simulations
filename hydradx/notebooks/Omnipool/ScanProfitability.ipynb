{
 "cells": [
  {
   "cell_type": "code",
   "execution_count": 1,
   "metadata": {
    "collapsed": true,
    "ExecuteTime": {
     "start_time": "2023-04-12T13:44:17.204242Z",
     "end_time": "2023-04-12T13:44:17.622349Z"
    }
   },
   "outputs": [],
   "source": [
    "# from scipy.optimize import curve_fit\n",
    "# import pandas as pd\n",
    "# import random\n",
    "import sys, copy\n",
    "# from IPython.display import clear_output\n",
    "from matplotlib import pyplot as plt\n",
    "from math import sqrt\n",
    "from pprint import pprint\n",
    "\n",
    "\n",
    "sys.path.append('../..')\n",
    "\n",
    "# from model import run\n",
    "# from model import plot_utils as pu\n",
    "# from model import processing\n",
    "from model.amm.omnipool_amm import OmnipoolState, execute_swap, execute_add_liquidity, usd_price, cash_out_omnipool, execute_remove_liquidity, lrna_price\n",
    "from model.amm.agents import Agent\n",
    "from model.amm.trade_strategies import price_manipulation, omnipool_arbitrage, price_manipulation_multiple_blocks\n",
    "from model.amm.global_state import GlobalState, value_assets\n",
    "# import model.amm.omnipool_amm as oamm\n",
    "\n",
    "\n"
   ]
  },
  {
   "cell_type": "markdown",
   "source": [],
   "metadata": {
    "collapsed": false
   }
  },
  {
   "cell_type": "code",
   "execution_count": 2,
   "outputs": [],
   "source": [
    "oracle_mult_list = [1]\n",
    "# lp_multiplier_list = [0.01, 0.02, 0.05, 0.08, 0.1]\n",
    "max_lp_mult = 0.5\n",
    "max_lp_mult = 0.04\n",
    "lp_steps = 10\n",
    "lp_multiplier_list = [max_lp_mult / lp_steps * n for n in range(1, lp_steps+1)]\n",
    "# trade_mult_list = [0.001, 0.002, 0.005, 0.01, 0.02]\n",
    "# max_trade_mult = 0.02\n",
    "# trade_steps = 20\n",
    "# trade_mult_list = [max_trade_mult / trade_steps * n for n in range(1, trade_steps+1)]\n",
    "max_price_move = 0.02\n",
    "price_steps = 10\n",
    "price_move_list = [max_price_move / price_steps * n for n in range(1, price_steps+1)]\n",
    "\n",
    "max_lp_price_move_up = 20\n",
    "lp_price_steps_up = 20\n",
    "lp_price_move_list = [max_lp_price_move_up / lp_price_steps_up * n for n in range(1, lp_price_steps_up+1)]\n",
    "max_inv_lp_price_move_down = 50\n",
    "lp_price_steps_down = 5\n",
    "lp_price_move_list_inv = [lp_price_steps_down * n / max_inv_lp_price_move_down for n in range(1, lp_price_steps_down+1)]\n",
    "lp_price_move_list.extend(lp_price_move_list_inv)\n",
    "lp_price_move_list.sort()"
   ],
   "metadata": {
    "collapsed": false,
    "ExecuteTime": {
     "start_time": "2023-04-12T13:44:17.626497Z",
     "end_time": "2023-04-12T13:44:17.627818Z"
    }
   }
  },
  {
   "cell_type": "code",
   "execution_count": 3,
   "outputs": [],
   "source": [
    "tokens = {\n",
    "    'HDX': {'liquidity': 44000000, 'LRNA': 275143},\n",
    "    # 'WETH': {'liquidity': 1400, 'LRNA': 2276599},\n",
    "    'WETH': {'liquidity': 1400, 'LRNA': 546461},\n",
    "    'DAI': {'liquidity': 2268262, 'LRNA': 2268262},\n",
    "    # 'DOT': {'liquidity': 88000, 'LRNA': 546461},\n",
    "    'DOT': {'liquidity': 88000, 'LRNA': 2276599},\n",
    "    'WBTC': {'liquidity': 47, 'LRNA': 1145210},\n",
    "}\n",
    "\n",
    "prices = {tkn: tokens[tkn]['LRNA']/tokens[tkn]['liquidity'] for tkn in tokens}"
   ],
   "metadata": {
    "collapsed": false,
    "ExecuteTime": {
     "start_time": "2023-04-12T13:44:17.630144Z",
     "end_time": "2023-04-12T13:44:17.641411Z"
    }
   }
  },
  {
   "cell_type": "markdown",
   "source": [
    "# Profitability of add liquidity attack where asset is sold to the pool at manipulated price"
   ],
   "metadata": {
    "collapsed": false
   }
  },
  {
   "cell_type": "code",
   "execution_count": 4,
   "outputs": [],
   "source": [
    "\n",
    "profits = []\n",
    "# price_moves = []\n",
    "for i in range(len(oracle_mult_list)):\n",
    "    oracle_mult = oracle_mult_list[i]\n",
    "    profits.append([])\n",
    "    # price_moves.append([])\n",
    "    for j in range(len(lp_multiplier_list)):\n",
    "        lp_multiplier = lp_multiplier_list[j]\n",
    "        profits[i].append([])\n",
    "        # price_moves[i].append([])\n",
    "        for k in range(len(price_move_list)):\n",
    "            price_move = price_move_list[k]\n",
    "\n",
    "            trade_mult = 1/sqrt(1 - price_move) - 1\n",
    "\n",
    "            trade_size = tokens['DOT']['liquidity'] * trade_mult\n",
    "\n",
    "            init_oracle = {\n",
    "                'liquidity': {tkn: tokens[tkn]['liquidity'] for tkn in tokens},\n",
    "                'volume_in': {tkn: 0 for tkn in tokens},\n",
    "                'volume_out': {tkn: 0 for tkn in tokens},\n",
    "                'price': {tkn: oracle_mult * prices[tkn] for tkn in tokens},\n",
    "            }\n",
    "\n",
    "            omnipool: OmnipoolState = OmnipoolState(\n",
    "                tokens=tokens,\n",
    "                preferred_stablecoin='DAI',\n",
    "                oracles={'price': 19, 'volatility': 19},\n",
    "                last_oracle_values={\n",
    "                    'price': copy.deepcopy(init_oracle),\n",
    "                    'volatility': copy.deepcopy(init_oracle),\n",
    "                },\n",
    "                asset_fee = 0.0,\n",
    "                lrna_fee = 0.0,\n",
    "                withdrawal_fee = True,\n",
    "                min_withdrawal_fee = 0.0001,\n",
    "            )\n",
    "\n",
    "            market_prices = {tkn: usd_price(omnipool, tkn) for tkn in omnipool.asset_list}\n",
    "\n",
    "            holdings = {tkn: 1000000000 for tkn in omnipool.asset_list}\n",
    "            agent = Agent(holdings=holdings)\n",
    "\n",
    "            swap_state, swap_agent = execute_swap(\n",
    "                state=omnipool.copy(),\n",
    "                agent=agent.copy(),\n",
    "                tkn_sell='DOT',\n",
    "                tkn_buy='DAI',\n",
    "                sell_quantity=trade_size\n",
    "            )\n",
    "\n",
    "            # manipulated_price = swap_state.lrna['DOT'] / swap_state.liquidity['DOT']\n",
    "            # init_spot_price = omnipool.lrna['DOT'] / omnipool.liquidity['DOT']\n",
    "            # price_moves[i][j].append((init_spot_price - manipulated_price) / init_spot_price)\n",
    "\n",
    "            add_state, add_agent = execute_add_liquidity(\n",
    "                state=swap_state.copy(),\n",
    "                agent=swap_agent.copy(),\n",
    "                tkn_add='DOT',\n",
    "                quantity=swap_state.liquidity['DOT'] * lp_multiplier\n",
    "            )\n",
    "\n",
    "            add_state2, add_agent2 = execute_add_liquidity(\n",
    "                state=add_state.copy(),\n",
    "                agent=add_agent.copy(),\n",
    "                tkn_add='DAI',\n",
    "                quantity=swap_state.liquidity['DAI'] * lp_multiplier\n",
    "            )\n",
    "\n",
    "            global_state = GlobalState(\n",
    "                pools={'omnipool': add_state2},\n",
    "                agents={'attacker': add_agent2},\n",
    "                external_market=market_prices\n",
    "            )\n",
    "\n",
    "            arb_state = omnipool_arbitrage('omnipool', 20).execute(\n",
    "                state=global_state.copy(),\n",
    "                agent_id='attacker'\n",
    "            )\n",
    "\n",
    "            arbed_pool = arb_state.pools['omnipool']\n",
    "            arbed_agent = arb_state.agents['attacker']\n",
    "\n",
    "            remove_state, remove_agent = execute_remove_liquidity(\n",
    "                state=arbed_pool.copy(),\n",
    "                agent=arbed_agent.copy(),\n",
    "                tkn_remove='DOT',\n",
    "                quantity=arbed_agent.holdings[('omnipool', 'DOT')]\n",
    "            )\n",
    "\n",
    "            remove_state2, remove_agent2 = execute_remove_liquidity(\n",
    "                state=remove_state.copy(),\n",
    "                agent=remove_agent.copy(),\n",
    "                tkn_remove='DAI',\n",
    "                quantity=remove_agent.holdings[('omnipool', 'DAI')]\n",
    "            )\n",
    "\n",
    "            initial_value = cash_out_omnipool(omnipool, agent, market_prices)\n",
    "            final_value = cash_out_omnipool(remove_state2, remove_agent2, market_prices)\n",
    "            # profit_dict[(oracle_mult, lp_multiplier, trade_mult)] = final_value - initial_value\n",
    "            profits[i][j].append(final_value - initial_value)\n",
    "\n",
    "        # price_moves[i][j] = max(price_moves[i][j])\n"
   ],
   "metadata": {
    "collapsed": false,
    "ExecuteTime": {
     "start_time": "2023-04-12T13:44:17.641583Z",
     "end_time": "2023-04-12T13:44:17.895730Z"
    }
   }
  },
  {
   "cell_type": "code",
   "execution_count": 5,
   "outputs": [
    {
     "name": "stdout",
     "output_type": "stream",
     "text": [
      "-0.8984375\n",
      "-0.8984375\n"
     ]
    }
   ],
   "source": [
    "max_profit = profits[0][0][0]\n",
    "max_index = (0, 0, 0)\n",
    "for i in range(len(oracle_mult_list)):\n",
    "    for j in range(len(lp_multiplier_list)):\n",
    "        for k in range(len(price_move_list)):\n",
    "            if profits[i][j][k] > max_profit:\n",
    "                max_profit = profits[i][j][k]\n",
    "                max_index = (i, j, k)\n",
    "\n",
    "print(max_profit)\n",
    "print(profits[max_index[0]][max_index[1]][max_index[2]])"
   ],
   "metadata": {
    "collapsed": false,
    "ExecuteTime": {
     "start_time": "2023-04-12T13:44:17.899258Z",
     "end_time": "2023-04-12T13:44:17.901868Z"
    }
   }
  },
  {
   "cell_type": "code",
   "execution_count": 5,
   "outputs": [],
   "source": [],
   "metadata": {
    "collapsed": false,
    "ExecuteTime": {
     "start_time": "2023-04-12T13:44:17.902257Z",
     "end_time": "2023-04-12T13:44:17.948204Z"
    }
   }
  },
  {
   "cell_type": "code",
   "execution_count": 6,
   "outputs": [],
   "source": [
    "# oracle_dataset = [profits[i][max_index[1]][max_index[2]] for i in range(len(oracle_mult_list))]\n",
    "# lp_dataset = [profits[max_index[0]][i][max_index[2]] for i in range(len(lp_multiplier_list))]\n",
    "# price_dataset = [profits[max_index[0]][max_index[1]][i] for i in range(len(price_move_list))]\n",
    "# print(oracle_dataset)\n",
    "# print(lp_dataset)\n",
    "# print(trade_dataset)"
   ],
   "metadata": {
    "collapsed": false,
    "ExecuteTime": {
     "start_time": "2023-04-12T13:44:17.945083Z",
     "end_time": "2023-04-12T13:44:17.948673Z"
    }
   }
  },
  {
   "cell_type": "code",
   "execution_count": 7,
   "outputs": [
    {
     "data": {
      "text/plain": "<Figure size 640x480 with 1 Axes>",
      "image/png": "[encoded data removed]"
     },
     "metadata": {},
     "output_type": "display_data"
    },
    {
     "data": {
      "text/plain": "<Figure size 640x480 with 1 Axes>",
      "image/png": "[encoded data removed]"
     },
     "metadata": {},
     "output_type": "display_data"
    }
   ],
   "source": [
    "oracle_dataset = [profits[i][max_index[1]][max_index[2]] for i in range(len(oracle_mult_list))]\n",
    "lp_dataset = [profits[max_index[0]][i][max_index[2]] for i in range(len(lp_multiplier_list))]\n",
    "price_dataset = [profits[max_index[0]][max_index[1]][i] for i in range(len(price_move_list))]\n",
    "\n",
    "# plt.plot(oracle_mult_list, oracle_dataset)\n",
    "# plt.show()\n",
    "plt.plot(lp_multiplier_list, lp_dataset)\n",
    "plt.show()\n",
    "plt.plot(price_move_list, price_dataset)\n",
    "plt.show()"
   ],
   "metadata": {
    "collapsed": false,
    "ExecuteTime": {
     "start_time": "2023-04-12T13:44:17.945317Z",
     "end_time": "2023-04-12T13:44:18.254952Z"
    }
   }
  },
  {
   "cell_type": "code",
   "execution_count": 8,
   "outputs": [
    {
     "name": "stdout",
     "output_type": "stream",
     "text": [
      "lp multiplier profits are monotonic\n"
     ]
    }
   ],
   "source": [
    "\n",
    "# Test monotonicity of lp multiplier\n",
    "non_monotonic = {}\n",
    "dir_sign = -1  # we expect profit to decrease with lp multiplier\n",
    "for i in range(len(oracle_mult_list)):\n",
    "    for j in range(len(price_move_list)):\n",
    "        data = [profits[i][k][j] for k in range(len(lp_multiplier_list))]\n",
    "        for k in range(len(data) - 1):\n",
    "            if data[k] * dir_sign >= data[k+1] * dir_sign:\n",
    "                non_monotonic[(i,j)] = data\n",
    "                break\n",
    "if len(non_monotonic) == 0:\n",
    "    print('lp multiplier profits are monotonic')\n",
    "else:\n",
    "    print('Non-monotonic data found')\n",
    "    pprint(non_monotonic)\n"
   ],
   "metadata": {
    "collapsed": false,
    "ExecuteTime": {
     "start_time": "2023-04-12T13:44:18.241427Z",
     "end_time": "2023-04-12T13:44:18.255326Z"
    }
   }
  },
  {
   "cell_type": "code",
   "execution_count": 9,
   "outputs": [
    {
     "name": "stdout",
     "output_type": "stream",
     "text": [
      "price move profits are monotonic\n",
      "[0.002, 0.004, 0.006, 0.008, 0.01, 0.012, 0.014, 0.016, 0.018000000000000002, 0.02]\n"
     ]
    }
   ],
   "source": [
    "\n",
    "# Test monotonicity of price move\n",
    "non_monotonic = {}\n",
    "dir_sign = 1  # we expect profit to increase with price move\n",
    "for i in range(len(oracle_mult_list)):\n",
    "    for j in range(len(lp_multiplier_list)):\n",
    "        data = profits[i][j]\n",
    "        # print(data)\n",
    "        for k in range(len(data) - 1):\n",
    "            if data[k] * dir_sign >= data[k+1] * dir_sign:\n",
    "                non_monotonic[(i,j)] = copy.deepcopy(data)\n",
    "                break\n",
    "\n",
    "if len(non_monotonic) == 0:\n",
    "    print('price move profits are monotonic')\n",
    "else:\n",
    "    print('Non-monotonic data found')\n",
    "    pprint(non_monotonic)\n",
    "\n",
    "print(price_move_list)\n",
    "\n",
    "\n"
   ],
   "metadata": {
    "collapsed": false,
    "ExecuteTime": {
     "start_time": "2023-04-12T13:44:18.241633Z",
     "end_time": "2023-04-12T13:44:18.255586Z"
    }
   }
  },
  {
   "cell_type": "code",
   "execution_count": 10,
   "outputs": [
    {
     "name": "stdout",
     "output_type": "stream",
     "text": [
      "(0, 0, 9)\n"
     ]
    }
   ],
   "source": [
    "print(max_index)"
   ],
   "metadata": {
    "collapsed": false,
    "ExecuteTime": {
     "start_time": "2023-04-12T13:44:18.241824Z",
     "end_time": "2023-04-12T13:44:18.255795Z"
    }
   }
  },
  {
   "cell_type": "code",
   "execution_count": 11,
   "outputs": [
    {
     "name": "stdout",
     "output_type": "stream",
     "text": [
      "(0.004, 0.02)\n"
     ]
    }
   ],
   "source": [
    "print((lp_multiplier_list[max_index[1]], price_move_list[max_index[2]]))"
   ],
   "metadata": {
    "collapsed": false,
    "ExecuteTime": {
     "start_time": "2023-04-12T13:44:18.241997Z",
     "end_time": "2023-04-12T13:44:18.255998Z"
    }
   }
  },
  {
   "cell_type": "code",
   "execution_count": 12,
   "outputs": [
    {
     "name": "stdout",
     "output_type": "stream",
     "text": [
      "-0.8984375\n"
     ]
    }
   ],
   "source": [
    "print(max_profit)"
   ],
   "metadata": {
    "collapsed": false,
    "ExecuteTime": {
     "start_time": "2023-04-12T13:44:18.242167Z",
     "end_time": "2023-04-12T13:44:18.256203Z"
    }
   }
  },
  {
   "cell_type": "markdown",
   "source": [
    "# Profitability of add liquidity attack where asset is bought at manipulated price"
   ],
   "metadata": {
    "collapsed": false
   }
  },
  {
   "cell_type": "code",
   "execution_count": 13,
   "outputs": [],
   "source": [
    "buy_profits = []\n",
    "# price_moves = []\n",
    "for i in range(len(oracle_mult_list)):\n",
    "    oracle_mult = oracle_mult_list[i]\n",
    "    buy_profits.append([])\n",
    "    # price_moves.append([])\n",
    "    for j in range(len(lp_multiplier_list)):\n",
    "        lp_multiplier = lp_multiplier_list[j]\n",
    "        buy_profits[i].append([])\n",
    "        # price_moves[i].append([])\n",
    "        for k in range(len(price_move_list)):\n",
    "            price_move = price_move_list[k]\n",
    "\n",
    "            trade_mult = 1 - 1/sqrt(1 + price_move)\n",
    "\n",
    "\n",
    "            trade_size = tokens['DOT']['liquidity'] * trade_mult\n",
    "\n",
    "            init_oracle = {\n",
    "                'liquidity': {tkn: tokens[tkn]['liquidity'] for tkn in tokens},\n",
    "                'volume_in': {tkn: 0 for tkn in tokens},\n",
    "                'volume_out': {tkn: 0 for tkn in tokens},\n",
    "                'price': {tkn: oracle_mult * prices[tkn] for tkn in tokens},\n",
    "            }\n",
    "\n",
    "            omnipool: OmnipoolState = OmnipoolState(\n",
    "                tokens=tokens,\n",
    "                preferred_stablecoin='DAI',\n",
    "                oracles={'price': 19, 'volatility': 19},\n",
    "                last_oracle_values={\n",
    "                    'price': copy.deepcopy(init_oracle),\n",
    "                    'volatility': copy.deepcopy(init_oracle),\n",
    "                },\n",
    "                asset_fee = 0.0,\n",
    "                lrna_fee = 0.0,\n",
    "                withdrawal_fee = True,\n",
    "                min_withdrawal_fee = 0.0001,\n",
    "            )\n",
    "\n",
    "            market_prices = {tkn: usd_price(omnipool, tkn) for tkn in omnipool.asset_list}\n",
    "\n",
    "            holdings = {tkn: 1000000000 for tkn in omnipool.asset_list}\n",
    "            agent = Agent(holdings=holdings)\n",
    "\n",
    "            swap_state, swap_agent = execute_swap(\n",
    "                state=omnipool.copy(),\n",
    "                agent=agent.copy(),\n",
    "                tkn_buy='DOT',\n",
    "                tkn_sell='DAI',\n",
    "                buy_quantity=trade_size\n",
    "            )\n",
    "\n",
    "            # manipulated_price = swap_state.lrna['DOT'] / swap_state.liquidity['DOT']\n",
    "            # init_spot_price = omnipool.lrna['DOT'] / omnipool.liquidity['DOT']\n",
    "            # price_moves[i][j].append((init_spot_price - manipulated_price) / init_spot_price)\n",
    "\n",
    "            add_state, add_agent = execute_add_liquidity(\n",
    "                state=swap_state.copy(),\n",
    "                agent=swap_agent.copy(),\n",
    "                tkn_add='DOT',\n",
    "                quantity=swap_state.liquidity['DOT'] * lp_multiplier\n",
    "            )\n",
    "\n",
    "            add_state2, add_agent2 = execute_add_liquidity(\n",
    "                state=add_state.copy(),\n",
    "                agent=add_agent.copy(),\n",
    "                tkn_add='DAI',\n",
    "                quantity=swap_state.liquidity['DAI'] * lp_multiplier\n",
    "            )\n",
    "\n",
    "            global_state = GlobalState(\n",
    "                pools={'omnipool': add_state2},\n",
    "                agents={'attacker': add_agent2},\n",
    "                external_market=market_prices\n",
    "            )\n",
    "\n",
    "            arb_state = omnipool_arbitrage('omnipool', 20).execute(\n",
    "                state=global_state.copy(),\n",
    "                agent_id='attacker'\n",
    "            )\n",
    "\n",
    "            arbed_pool = arb_state.pools['omnipool']\n",
    "            arbed_agent = arb_state.agents['attacker']\n",
    "\n",
    "            remove_state, remove_agent = execute_remove_liquidity(\n",
    "                state=arbed_pool.copy(),\n",
    "                agent=arbed_agent.copy(),\n",
    "                tkn_remove='DOT',\n",
    "                quantity=arbed_agent.holdings[('omnipool', 'DOT')]\n",
    "            )\n",
    "\n",
    "            remove_state2, remove_agent2 = execute_remove_liquidity(\n",
    "                state=remove_state.copy(),\n",
    "                agent=remove_agent.copy(),\n",
    "                tkn_remove='DAI',\n",
    "                quantity=remove_agent.holdings[('omnipool', 'DAI')]\n",
    "            )\n",
    "\n",
    "            initial_value = cash_out_omnipool(omnipool, agent, market_prices)\n",
    "            final_value = cash_out_omnipool(remove_state2, remove_agent2, market_prices)\n",
    "            # profit_dict[(oracle_mult, lp_multiplier, trade_mult)] = final_value - initial_value\n",
    "            buy_profits[i][j].append(final_value - initial_value)"
   ],
   "metadata": {
    "collapsed": false,
    "ExecuteTime": {
     "start_time": "2023-04-12T13:44:18.242510Z",
     "end_time": "2023-04-12T13:44:18.450438Z"
    }
   }
  },
  {
   "cell_type": "code",
   "execution_count": 14,
   "outputs": [],
   "source": [
    "buy_max_profit = buy_profits[0][0][0]\n",
    "buy_max_index = (0, 0, 0)\n",
    "for i in range(len(oracle_mult_list)):\n",
    "    for j in range(len(lp_multiplier_list)):\n",
    "        for k in range(len(price_move_list)):\n",
    "            if buy_profits[i][j][k] > buy_max_profit:\n",
    "                buy_max_profit = buy_profits[i][j][k]\n",
    "                buy_max_index = (i, j, k)"
   ],
   "metadata": {
    "collapsed": false,
    "ExecuteTime": {
     "start_time": "2023-04-12T13:44:18.452660Z",
     "end_time": "2023-04-12T13:44:18.508642Z"
    }
   }
  },
  {
   "cell_type": "code",
   "execution_count": 15,
   "outputs": [
    {
     "data": {
      "text/plain": "<Figure size 640x480 with 1 Axes>",
      "image/png": "[encoded data removed]"
     },
     "metadata": {},
     "output_type": "display_data"
    },
    {
     "data": {
      "text/plain": "<Figure size 640x480 with 1 Axes>",
      "image/png": "[encoded data removed]"
     },
     "metadata": {},
     "output_type": "display_data"
    }
   ],
   "source": [
    "buy_oracle_dataset = [buy_profits[i][buy_max_index[1]][buy_max_index[2]] for i in range(len(oracle_mult_list))]\n",
    "buy_lp_dataset = [buy_profits[buy_max_index[0]][i][buy_max_index[2]] for i in range(len(lp_multiplier_list))]\n",
    "buy_price_dataset = [buy_profits[buy_max_index[0]][buy_max_index[1]][i] for i in range(len(price_move_list))]\n",
    "\n",
    "# plt.plot(oracle_mult_list, oracle_dataset)\n",
    "# plt.show()\n",
    "plt.plot(lp_multiplier_list, buy_lp_dataset)\n",
    "plt.show()\n",
    "plt.plot(price_move_list, buy_price_dataset)\n",
    "plt.show()"
   ],
   "metadata": {
    "collapsed": false,
    "ExecuteTime": {
     "start_time": "2023-04-12T13:44:18.493039Z",
     "end_time": "2023-04-12T13:44:18.792624Z"
    }
   }
  },
  {
   "cell_type": "code",
   "execution_count": 16,
   "outputs": [
    {
     "name": "stdout",
     "output_type": "stream",
     "text": [
      "lp multiplier profits are monotonic\n"
     ]
    }
   ],
   "source": [
    "\n",
    "# Test monotonicity of lp multiplier\n",
    "non_monotonic = {}\n",
    "dir_sign = -1  # we expect profit to decrease with lp multiplier\n",
    "for i in range(len(oracle_mult_list)):\n",
    "    for j in range(len(price_move_list)):\n",
    "        data = [buy_profits[i][k][j] for k in range(len(lp_multiplier_list))]\n",
    "        for k in range(len(data) - 1):\n",
    "            if data[k] * dir_sign >= data[k+1] * dir_sign:\n",
    "                non_monotonic[(i,j)] = data\n",
    "                break\n",
    "if len(non_monotonic) == 0:\n",
    "    print('lp multiplier profits are monotonic')\n",
    "else:\n",
    "    print('Non-monotonic data found')\n",
    "    pprint(non_monotonic)"
   ],
   "metadata": {
    "collapsed": false,
    "ExecuteTime": {
     "start_time": "2023-04-12T13:44:18.773247Z",
     "end_time": "2023-04-12T13:44:18.793156Z"
    }
   }
  },
  {
   "cell_type": "code",
   "execution_count": 17,
   "outputs": [
    {
     "name": "stdout",
     "output_type": "stream",
     "text": [
      "price move profits are monotonic\n",
      "[0.002, 0.004, 0.006, 0.008, 0.01, 0.012, 0.014, 0.016, 0.018000000000000002, 0.02]\n"
     ]
    }
   ],
   "source": [
    "# Test monotonicity of price move\n",
    "non_monotonic = {}\n",
    "dir_sign = 1  # we expect profit to increase with price move\n",
    "for i in range(len(oracle_mult_list)):\n",
    "    for j in range(len(lp_multiplier_list)):\n",
    "        data = buy_profits[i][j]\n",
    "        # print(data)\n",
    "        for k in range(len(data) - 1):\n",
    "            if data[k] * dir_sign >= data[k+1] * dir_sign:\n",
    "                non_monotonic[(i,j)] = copy.deepcopy(data)\n",
    "                break\n",
    "\n",
    "if len(non_monotonic) == 0:\n",
    "    print('price move profits are monotonic')\n",
    "else:\n",
    "    print('Non-monotonic data found')\n",
    "    # pprint(non_monotonic)\n",
    "\n",
    "print(price_move_list)\n"
   ],
   "metadata": {
    "collapsed": false,
    "ExecuteTime": {
     "start_time": "2023-04-12T13:44:18.773397Z",
     "end_time": "2023-04-12T13:44:18.793601Z"
    }
   }
  },
  {
   "cell_type": "code",
   "execution_count": 18,
   "outputs": [],
   "source": [
    "# print(profits[-1][20][-1])"
   ],
   "metadata": {
    "collapsed": false,
    "ExecuteTime": {
     "start_time": "2023-04-12T13:44:18.773541Z",
     "end_time": "2023-04-12T13:44:18.793829Z"
    }
   }
  },
  {
   "cell_type": "code",
   "execution_count": 19,
   "outputs": [],
   "source": [
    "# print(buy_profits[-1][20][-1])"
   ],
   "metadata": {
    "collapsed": false,
    "ExecuteTime": {
     "start_time": "2023-04-12T13:44:18.773638Z",
     "end_time": "2023-04-12T13:44:18.794032Z"
    }
   }
  },
  {
   "cell_type": "markdown",
   "source": [
    "# profitability of remove liquidity attack where asset is sold to manipulate price"
   ],
   "metadata": {
    "collapsed": false
   }
  },
  {
   "cell_type": "code",
   "execution_count": 20,
   "outputs": [],
   "source": [
    "lp_price_move = 1\n",
    "profits = []\n",
    "# price_moves = []\n",
    "for i in range(len(oracle_mult_list)):\n",
    "    oracle_mult = oracle_mult_list[i]\n",
    "    profits.append([])\n",
    "    # price_moves.append([])\n",
    "    for j in range(len(lp_multiplier_list)):\n",
    "        lp_multiplier = lp_multiplier_list[j]\n",
    "        profits[i].append([])\n",
    "        # price_moves[i].append([])\n",
    "        for k in range(len(price_move_list)):\n",
    "            price_move = price_move_list[k]\n",
    "            profits[i][j].append([])\n",
    "            for l in range(len(lp_price_move_list)):\n",
    "\n",
    "                lp_price_move = lp_price_move_list[l]\n",
    "\n",
    "                trade_mult = 1/sqrt(1 - price_move) - 1\n",
    "\n",
    "                trade_size = tokens['DOT']['liquidity'] * trade_mult\n",
    "\n",
    "                init_oracle = {\n",
    "                    'liquidity': {tkn: tokens[tkn]['liquidity'] for tkn in tokens},\n",
    "                    'volume_in': {tkn: 0 for tkn in tokens},\n",
    "                    'volume_out': {tkn: 0 for tkn in tokens},\n",
    "                    'price': {tkn: oracle_mult * prices[tkn] for tkn in tokens},\n",
    "                }\n",
    "\n",
    "                omnipool: OmnipoolState = OmnipoolState(\n",
    "                    tokens=tokens,\n",
    "                    preferred_stablecoin='DAI',\n",
    "                    oracles={'price': 19, 'volatility': 19},\n",
    "                    last_oracle_values={\n",
    "                        'price': copy.deepcopy(init_oracle),\n",
    "                        'volatility': copy.deepcopy(init_oracle),\n",
    "                    },\n",
    "                    asset_fee = 0.0,\n",
    "                    lrna_fee = 0.0,\n",
    "                    withdrawal_fee = True,\n",
    "                    min_withdrawal_fee = 0.0001,\n",
    "                )\n",
    "\n",
    "                market_prices = {tkn: usd_price(omnipool, tkn) for tkn in omnipool.asset_list}\n",
    "\n",
    "                holdings = {tkn: 1000000000 for tkn in omnipool.asset_list}\n",
    "                holdings[('omnipool', 'DOT')] = tokens['DOT']['liquidity'] * lp_multiplier\n",
    "                share_prices = {('omnipool', 'DOT'): lrna_price(omnipool, 'DOT') * lp_price_move}\n",
    "                agent = Agent(holdings=holdings, share_prices=share_prices)\n",
    "\n",
    "                swap_state, swap_agent = execute_swap(\n",
    "                    state=omnipool.copy(),\n",
    "                    agent=agent.copy(),\n",
    "                    tkn_sell='DOT',\n",
    "                    tkn_buy='DAI',\n",
    "                    sell_quantity=trade_size\n",
    "                )\n",
    "\n",
    "                # manipulated_price = swap_state.lrna['DOT'] / swap_state.liquidity['DOT']\n",
    "                # init_spot_price = omnipool.lrna['DOT'] / omnipool.liquidity['DOT']\n",
    "                # price_moves[i][j].append((init_spot_price - manipulated_price) / init_spot_price)\n",
    "\n",
    "                remove_state, remove_agent = execute_remove_liquidity(\n",
    "                    state=swap_state.copy(),\n",
    "                    agent=swap_agent.copy(),\n",
    "                    tkn_remove='DOT',\n",
    "                    quantity=agent.holdings[('omnipool', 'DOT')]\n",
    "                )\n",
    "\n",
    "                global_state = GlobalState(\n",
    "                    pools={'omnipool': remove_state},\n",
    "                    agents={'attacker': remove_agent},\n",
    "                    external_market=market_prices\n",
    "                )\n",
    "\n",
    "                arb_state = omnipool_arbitrage('omnipool', 20).execute(\n",
    "                    state=global_state.copy(),\n",
    "                    agent_id='attacker'\n",
    "                )\n",
    "\n",
    "                arbed_pool = arb_state.pools['omnipool']\n",
    "                arbed_agent = arb_state.agents['attacker']\n",
    "\n",
    "                initial_value = cash_out_omnipool(omnipool, agent, market_prices)\n",
    "                final_value = cash_out_omnipool(arbed_pool, arbed_agent, market_prices)\n",
    "                # profit_dict[(oracle_mult, lp_multiplier, trade_mult)] = final_value - initial_value\n",
    "                profits[i][j][k].append(final_value - initial_value)\n",
    "\n",
    "        # price_moves[i][j] = max(price_moves[i][j])\n"
   ],
   "metadata": {
    "collapsed": false,
    "ExecuteTime": {
     "start_time": "2023-04-12T13:44:18.773758Z",
     "end_time": "2023-04-12T13:44:21.364032Z"
    }
   }
  },
  {
   "cell_type": "code",
   "execution_count": 21,
   "outputs": [
    {
     "name": "stdout",
     "output_type": "stream",
     "text": [
      "-2.4375\n",
      "-2.4375\n"
     ]
    }
   ],
   "source": [
    "max_profit = profits[0][0][0][0]\n",
    "max_index = (0, 0, 0, 0)\n",
    "for i in range(len(oracle_mult_list)):\n",
    "    for j in range(len(lp_multiplier_list)):\n",
    "        for k in range(len(price_move_list)):\n",
    "            for l in range(len(lp_price_move_list)):\n",
    "                if profits[i][j][k][l] > max_profit:\n",
    "                    max_profit = profits[i][j][k][l]\n",
    "                    max_index = (i, j, k, l)\n",
    "\n",
    "print(max_profit)\n",
    "print(profits[max_index[0]][max_index[1]][max_index[2]][max_index[3]])"
   ],
   "metadata": {
    "collapsed": false,
    "ExecuteTime": {
     "start_time": "2023-04-12T13:44:21.367203Z",
     "end_time": "2023-04-12T13:44:21.413599Z"
    }
   }
  },
  {
   "cell_type": "code",
   "execution_count": 22,
   "outputs": [
    {
     "data": {
      "text/plain": "<Figure size 640x480 with 1 Axes>",
      "image/png": "[encoded data removed]"
     },
     "metadata": {},
     "output_type": "display_data"
    },
    {
     "data": {
      "text/plain": "<Figure size 640x480 with 1 Axes>",
      "image/png": "[encoded data removed]"
     },
     "metadata": {},
     "output_type": "display_data"
    },
    {
     "data": {
      "text/plain": "<Figure size 640x480 with 1 Axes>",
      "image/png": "[encoded data removed]"
     },
     "metadata": {},
     "output_type": "display_data"
    }
   ],
   "source": [
    "oracle_dataset = [profits[i][max_index[1]][max_index[2]][max_index[3]] for i in range(len(oracle_mult_list))]\n",
    "lp_dataset = [profits[max_index[0]][i][max_index[2]][max_index[3]] for i in range(len(lp_multiplier_list))]\n",
    "price_dataset = [profits[max_index[0]][max_index[1]][i][max_index[3]] for i in range(len(price_move_list))]\n",
    "lp_price_dataset = [profits[max_index[0]][max_index[1]][max_index[2]][i] for i in range(len(lp_price_move_list))]\n",
    "\n",
    "# plt.plot(oracle_mult_list, oracle_dataset)\n",
    "# plt.show()\n",
    "plt.plot(lp_multiplier_list, lp_dataset)\n",
    "plt.show()\n",
    "plt.plot(price_move_list, price_dataset)\n",
    "plt.show()\n",
    "plt.plot(lp_price_move_list, lp_price_dataset)\n",
    "plt.show()"
   ],
   "metadata": {
    "collapsed": false,
    "ExecuteTime": {
     "start_time": "2023-04-12T13:44:21.409081Z",
     "end_time": "2023-04-12T13:44:21.808269Z"
    }
   }
  },
  {
   "cell_type": "code",
   "execution_count": 23,
   "outputs": [
    {
     "name": "stdout",
     "output_type": "stream",
     "text": [
      "lp multiplier profits are monotonic\n"
     ]
    }
   ],
   "source": [
    "\n",
    "# Test monotonicity of lp multiplier\n",
    "non_monotonic = {}\n",
    "dir_sign = -1  # we expect profit to decrease with lp multiplier\n",
    "for i in range(len(oracle_mult_list)):\n",
    "    for j in range(len(price_move_list)):\n",
    "        for k in range(len(lp_price_move_list)):\n",
    "            data = [profits[i][l][j][k] for l in range(len(lp_multiplier_list))]\n",
    "            for l in range(len(data) - 1):\n",
    "                if data[l] * dir_sign >= data[l+1] * dir_sign:\n",
    "                    non_monotonic[(i,j,k)] = data\n",
    "                    break\n",
    "if len(non_monotonic) == 0:\n",
    "    print('lp multiplier profits are monotonic')\n",
    "else:\n",
    "    print('Non-monotonic data found')\n",
    "    pprint(non_monotonic)"
   ],
   "metadata": {
    "collapsed": false,
    "ExecuteTime": {
     "start_time": "2023-04-12T13:44:21.811977Z",
     "end_time": "2023-04-12T13:44:21.862616Z"
    }
   }
  },
  {
   "cell_type": "code",
   "execution_count": 24,
   "outputs": [
    {
     "name": "stdout",
     "output_type": "stream",
     "text": [
      "price move profits are monotonic\n"
     ]
    }
   ],
   "source": [
    "\n",
    "# Test monotonicity of price move\n",
    "non_monotonic = {}\n",
    "dir_sign = -1  # we expect profit to decrease with price move\n",
    "for i in range(len(oracle_mult_list)):\n",
    "    for j in range(len(lp_multiplier_list)):\n",
    "        for k in range(len(lp_price_move_list)):\n",
    "            data = [profits[i][j][l][k] for l in range(len(price_move_list))]\n",
    "            # print(data)\n",
    "            for l in range(len(data) - 1):\n",
    "                if data[l] * dir_sign >= data[l+1] * dir_sign:\n",
    "                    non_monotonic[(i,j,k)] = data\n",
    "                    break\n",
    "\n",
    "if len(non_monotonic) == 0:\n",
    "    print('price move profits are monotonic')\n",
    "else:\n",
    "    print('Non-monotonic data found')\n",
    "    pprint(non_monotonic)"
   ],
   "metadata": {
    "collapsed": false,
    "ExecuteTime": {
     "start_time": "2023-04-12T13:44:21.853040Z",
     "end_time": "2023-04-12T13:44:21.862904Z"
    }
   }
  },
  {
   "cell_type": "code",
   "execution_count": 25,
   "outputs": [
    {
     "name": "stdout",
     "output_type": "stream",
     "text": [
      "lp price move profits are monotonic\n"
     ]
    }
   ],
   "source": [
    "\n",
    "# Test monotonicity of price move\n",
    "non_monotonic = {}\n",
    "dir_sign = 1  # we expect profit to increase with lp price move\n",
    "for i in range(len(oracle_mult_list)):\n",
    "    for j in range(len(lp_multiplier_list)):\n",
    "        for k in range(len(price_move_list)):\n",
    "            data = profits[i][j][k]\n",
    "            # print(data)\n",
    "            for l in range(len(data) - 1):\n",
    "                if data[l] * dir_sign >= data[l+1] * dir_sign:\n",
    "                    non_monotonic[(i,j,k)] = data\n",
    "                    break\n",
    "\n",
    "if len(non_monotonic) == 0:\n",
    "    print('lp price move profits are monotonic')\n",
    "else:\n",
    "    print('Non-monotonic data found')\n",
    "    pprint(non_monotonic)"
   ],
   "metadata": {
    "collapsed": false,
    "ExecuteTime": {
     "start_time": "2023-04-12T13:44:21.853155Z",
     "end_time": "2023-04-12T13:44:21.863126Z"
    }
   }
  },
  {
   "cell_type": "code",
   "execution_count": 26,
   "outputs": [],
   "source": [
    "lp_price_move = 1\n",
    "profits = []\n",
    "# price_moves = []\n",
    "for i in range(len(oracle_mult_list)):\n",
    "    oracle_mult = oracle_mult_list[i]\n",
    "    profits.append([])\n",
    "    # price_moves.append([])\n",
    "    for j in range(len(lp_multiplier_list)):\n",
    "        lp_multiplier = lp_multiplier_list[j]\n",
    "        profits[i].append([])\n",
    "        # price_moves[i].append([])\n",
    "        for k in range(len(price_move_list)):\n",
    "            price_move = price_move_list[k]\n",
    "            profits[i][j].append([])\n",
    "            for l in range(len(lp_price_move_list)):\n",
    "\n",
    "                lp_price_move = lp_price_move_list[l]\n",
    "\n",
    "                trade_mult = 1 - 1/sqrt(1 + price_move)\n",
    "\n",
    "                trade_size = tokens['DOT']['liquidity'] * trade_mult\n",
    "\n",
    "                init_oracle = {\n",
    "                    'liquidity': {tkn: tokens[tkn]['liquidity'] for tkn in tokens},\n",
    "                    'volume_in': {tkn: 0 for tkn in tokens},\n",
    "                    'volume_out': {tkn: 0 for tkn in tokens},\n",
    "                    'price': {tkn: oracle_mult * prices[tkn] for tkn in tokens},\n",
    "                }\n",
    "\n",
    "                omnipool: OmnipoolState = OmnipoolState(\n",
    "                    tokens=tokens,\n",
    "                    preferred_stablecoin='DAI',\n",
    "                    oracles={'price': 19, 'volatility': 19},\n",
    "                    last_oracle_values={\n",
    "                        'price': copy.deepcopy(init_oracle),\n",
    "                        'volatility': copy.deepcopy(init_oracle),\n",
    "                    },\n",
    "                    asset_fee = 0.0,\n",
    "                    lrna_fee = 0.0,\n",
    "                    withdrawal_fee = True,\n",
    "                    min_withdrawal_fee = 0.0001,\n",
    "                )\n",
    "\n",
    "                market_prices = {tkn: usd_price(omnipool, tkn) for tkn in omnipool.asset_list}\n",
    "\n",
    "                holdings = {tkn: 1000000000 for tkn in omnipool.asset_list}\n",
    "                holdings[('omnipool', 'DOT')] = tokens['DOT']['liquidity'] * lp_multiplier\n",
    "                share_prices = {('omnipool', 'DOT'): lrna_price(omnipool, 'DOT') * lp_price_move}\n",
    "                agent = Agent(holdings=holdings, share_prices=share_prices)\n",
    "\n",
    "                swap_state, swap_agent = execute_swap(\n",
    "                    state=omnipool.copy(),\n",
    "                    agent=agent.copy(),\n",
    "                    tkn_buy='DOT',\n",
    "                    tkn_sell='DAI',\n",
    "                    buy_quantity=trade_size\n",
    "                )\n",
    "\n",
    "                # manipulated_price = swap_state.lrna['DOT'] / swap_state.liquidity['DOT']\n",
    "                # init_spot_price = omnipool.lrna['DOT'] / omnipool.liquidity['DOT']\n",
    "                # price_moves[i][j].append((init_spot_price - manipulated_price) / init_spot_price)\n",
    "\n",
    "                remove_state, remove_agent = execute_remove_liquidity(\n",
    "                    state=swap_state.copy(),\n",
    "                    agent=swap_agent.copy(),\n",
    "                    tkn_remove='DOT',\n",
    "                    quantity=agent.holdings[('omnipool', 'DOT')]\n",
    "                )\n",
    "\n",
    "                global_state = GlobalState(\n",
    "                    pools={'omnipool': remove_state},\n",
    "                    agents={'attacker': remove_agent},\n",
    "                    external_market=market_prices\n",
    "                )\n",
    "\n",
    "                arb_state = omnipool_arbitrage('omnipool', 20).execute(\n",
    "                    state=global_state.copy(),\n",
    "                    agent_id='attacker'\n",
    "                )\n",
    "\n",
    "                arbed_pool = arb_state.pools['omnipool']\n",
    "                arbed_agent = arb_state.agents['attacker']\n",
    "\n",
    "                initial_value = cash_out_omnipool(omnipool, agent, market_prices)\n",
    "                final_value = cash_out_omnipool(arbed_pool, arbed_agent, market_prices)\n",
    "                # profit_dict[(oracle_mult, lp_multiplier, trade_mult)] = final_value - initial_value\n",
    "                profits[i][j][k].append(final_value - initial_value)"
   ],
   "metadata": {
    "collapsed": false,
    "ExecuteTime": {
     "start_time": "2023-04-12T13:44:21.853264Z",
     "end_time": "2023-04-12T13:44:24.453927Z"
    }
   }
  },
  {
   "cell_type": "code",
   "execution_count": 27,
   "outputs": [
    {
     "name": "stdout",
     "output_type": "stream",
     "text": [
      "-0.8671875\n",
      "-0.8671875\n"
     ]
    }
   ],
   "source": [
    "max_profit = profits[0][0][0][0]\n",
    "max_index = (0, 0, 0, 0)\n",
    "for i in range(len(oracle_mult_list)):\n",
    "    for j in range(len(lp_multiplier_list)):\n",
    "        for k in range(len(price_move_list)):\n",
    "            for l in range(len(lp_price_move_list)):\n",
    "                if profits[i][j][k][l] > max_profit:\n",
    "                    max_profit = profits[i][j][k][l]\n",
    "                    max_index = (i, j, k, l)\n",
    "\n",
    "print(max_profit)\n",
    "print(profits[max_index[0]][max_index[1]][max_index[2]][max_index[3]])"
   ],
   "metadata": {
    "collapsed": false,
    "ExecuteTime": {
     "start_time": "2023-04-12T13:44:24.457348Z",
     "end_time": "2023-04-12T13:44:24.462322Z"
    }
   }
  },
  {
   "cell_type": "code",
   "execution_count": 28,
   "outputs": [
    {
     "data": {
      "text/plain": "<Figure size 640x480 with 1 Axes>",
      "image/png": "[encoded data removed]"
     },
     "metadata": {},
     "output_type": "display_data"
    },
    {
     "data": {
      "text/plain": "<Figure size 640x480 with 1 Axes>",
      "image/png": "[encoded data removed]"
     },
     "metadata": {},
     "output_type": "display_data"
    },
    {
     "data": {
      "text/plain": "<Figure size 640x480 with 1 Axes>",
      "image/png": "[encoded data removed]"
     },
     "metadata": {},
     "output_type": "display_data"
    }
   ],
   "source": [
    "oracle_dataset = [profits[i][max_index[1]][max_index[2]][max_index[3]] for i in range(len(oracle_mult_list))]\n",
    "lp_dataset = [profits[max_index[0]][i][max_index[2]][max_index[3]] for i in range(len(lp_multiplier_list))]\n",
    "price_dataset = [profits[max_index[0]][max_index[1]][i][max_index[3]] for i in range(len(price_move_list))]\n",
    "lp_price_dataset = [profits[max_index[0]][max_index[1]][max_index[2]][i] for i in range(len(lp_price_move_list))]\n",
    "\n",
    "# plt.plot(oracle_mult_list, oracle_dataset)\n",
    "# plt.show()\n",
    "plt.plot(lp_multiplier_list, lp_dataset)\n",
    "plt.show()\n",
    "plt.plot(price_move_list, price_dataset)\n",
    "plt.show()\n",
    "plt.plot(lp_price_move_list, lp_price_dataset)\n",
    "plt.show()"
   ],
   "metadata": {
    "collapsed": false,
    "ExecuteTime": {
     "start_time": "2023-04-12T13:44:24.459860Z",
     "end_time": "2023-04-12T13:44:25.045847Z"
    }
   }
  },
  {
   "cell_type": "code",
   "execution_count": 29,
   "outputs": [
    {
     "name": "stdout",
     "output_type": "stream",
     "text": [
      "lp multiplier profits are monotonic\n"
     ]
    }
   ],
   "source": [
    "\n",
    "# Test monotonicity of lp multiplier\n",
    "non_monotonic = {}\n",
    "dir_sign = -1  # we expect profit to decrease with lp multiplier\n",
    "for i in range(len(oracle_mult_list)):\n",
    "    for j in range(len(price_move_list)):\n",
    "        for k in range(len(lp_price_move_list)):\n",
    "            data = [profits[i][l][j][k] for l in range(len(lp_multiplier_list))]\n",
    "            for l in range(len(data) - 1):\n",
    "                if data[l] * dir_sign >= data[l+1] * dir_sign:\n",
    "                    non_monotonic[(i,j,k)] = data\n",
    "                    break\n",
    "if len(non_monotonic) == 0:\n",
    "    print('lp multiplier profits are monotonic')\n",
    "else:\n",
    "    print('Non-monotonic data found')\n",
    "    pprint(non_monotonic)"
   ],
   "metadata": {
    "collapsed": false,
    "ExecuteTime": {
     "start_time": "2023-04-12T13:44:25.013728Z",
     "end_time": "2023-04-12T13:44:25.063625Z"
    }
   }
  },
  {
   "cell_type": "code",
   "execution_count": 30,
   "outputs": [
    {
     "name": "stdout",
     "output_type": "stream",
     "text": [
      "price move profits are monotonic\n"
     ]
    }
   ],
   "source": [
    "# Test monotonicity of price move\n",
    "non_monotonic = {}\n",
    "dir_sign = -1  # we expect profit to decrease with price move\n",
    "for i in range(len(oracle_mult_list)):\n",
    "    for j in range(len(lp_multiplier_list)):\n",
    "        for k in range(len(lp_price_move_list)):\n",
    "            data = [profits[i][j][l][k] for l in range(len(price_move_list))]\n",
    "            # print(data)\n",
    "            for l in range(len(data) - 1):\n",
    "                if data[l] * dir_sign >= data[l+1] * dir_sign:\n",
    "                    non_monotonic[(i,j,k)] = data\n",
    "                    break\n",
    "\n",
    "if len(non_monotonic) == 0:\n",
    "    print('price move profits are monotonic')\n",
    "else:\n",
    "    print('Non-monotonic data found')\n",
    "    pprint(non_monotonic)"
   ],
   "metadata": {
    "collapsed": false,
    "ExecuteTime": {
     "start_time": "2023-04-12T13:44:25.057464Z",
     "end_time": "2023-04-12T13:44:25.064251Z"
    }
   }
  },
  {
   "cell_type": "code",
   "execution_count": 31,
   "outputs": [
    {
     "name": "stdout",
     "output_type": "stream",
     "text": [
      "lp price move profits are monotonic\n"
     ]
    }
   ],
   "source": [
    "# Test monotonicity of price move\n",
    "non_monotonic = {}\n",
    "dir_sign = 1  # we expect profit to increase with lp price move\n",
    "for i in range(len(oracle_mult_list)):\n",
    "    for j in range(len(lp_multiplier_list)):\n",
    "        for k in range(len(price_move_list)):\n",
    "            data = profits[i][j][k]\n",
    "            # print(data)\n",
    "            for l in range(len(data) - 1):\n",
    "                if data[l] * dir_sign >= data[l+1] * dir_sign:\n",
    "                    non_monotonic[(i,j,k)] = data\n",
    "                    break\n",
    "\n",
    "if len(non_monotonic) == 0:\n",
    "    print('lp price move profits are monotonic')\n",
    "else:\n",
    "    print('Non-monotonic data found')\n",
    "    pprint(non_monotonic)"
   ],
   "metadata": {
    "collapsed": false,
    "ExecuteTime": {
     "start_time": "2023-04-12T13:44:25.057787Z",
     "end_time": "2023-04-12T13:44:25.207980Z"
    }
   }
  }
 ],
 "metadata": {
  "kernelspec": {
   "display_name": "Python 3",
   "language": "python",
   "name": "python3"
  },
  "language_info": {
   "codemirror_mode": {
    "name": "ipython",
    "version": 2
   },
   "file_extension": ".py",
   "mimetype": "text/x-python",
   "name": "python",
   "nbconvert_exporter": "python",
   "pygments_lexer": "ipython2",
   "version": "2.7.6"
  }
 },
 "nbformat": 4,
 "nbformat_minor": 0
}
