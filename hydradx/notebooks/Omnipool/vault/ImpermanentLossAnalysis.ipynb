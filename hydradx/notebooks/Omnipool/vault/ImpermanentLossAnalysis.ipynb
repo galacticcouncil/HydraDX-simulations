{
 "cells": [
  {
   "cell_type": "code",
   "execution_count": 1,
   "metadata": {
    "tags": []
   },
   "outputs": [],
   "source": [
    "import sys\n",
    "import os\n",
    "import glob\n",
    "import random\n",
    "sys.path.append('../../..')\n",
    "\n",
    "from model import processing\n",
    "from matplotlib import pyplot as plt\n",
    "\n",
    "from model import run\n",
    "from model import plot_utils as pu\n",
    "from model.amm.omnipool_amm import OmnipoolState, cash_out_omnipool, value_assets, usd_price, lrna_price\n",
    "from model.amm.agents import Agent\n",
    "from model.amm.trade_strategies import omnipool_arbitrage, invest_all, price_sensitive_trading\n",
    "from model.amm.global_state import GlobalState, fluctuate_prices, historical_prices\n",
    "\n",
    "# same seed, same parameters = same simulation result\n",
    "random.seed(42)\n",
    "# price_list = processing.import_binance_prices(['BTC', 'ETH', 'DOT'], start_date='Jan 1 2023', days = 120)\n",
    "\n",
    "assets = {\n",
    "    'HDX': {'usd price': 0.05, 'weight': 0.7999},\n",
    "    'USD': {'usd price': 1, 'weight': 0.20},\n",
    "    'TKN': {'usd price': 1, 'weight': 0.0001}\n",
    "}\n",
    "\n",
    "lrna_price_usd = 0.07\n",
    "initial_omnipool_tvl = 10000000\n",
    "liquidity = {}\n",
    "lrna = {}\n",
    "\n",
    "for tkn, info in assets.items():\n",
    "    liquidity[tkn] = initial_omnipool_tvl * info['weight'] / info['usd price']\n",
    "    lrna[tkn] = initial_omnipool_tvl * info['weight'] / lrna_price_usd\n",
    "\n",
    "initial_state = GlobalState(\n",
    "    pools={\n",
    "        'omnipool': OmnipoolState(\n",
    "            tokens={\n",
    "                tkn: {'liquidity': liquidity[tkn], 'LRNA': lrna[tkn]} for tkn in assets\n",
    "            },\n",
    "            asset_fee=0,\n",
    "            lrna_fee=0,\n",
    "            # withdrawal_fee=False\n",
    "        )\n",
    "    },\n",
    "    agents = {\n",
    "        'LP': Agent(\n",
    "            holdings={'TKN': 10000},\n",
    "            trade_strategy=invest_all('omnipool')\n",
    "        ),\n",
    "        'Arbitrageur': Agent(\n",
    "            holdings={tkn: 10000000 for tkn in assets},\n",
    "            trade_strategy=omnipool_arbitrage(\n",
    "                pool_id='omnipool',\n",
    "                arb_precision=20\n",
    "            )\n",
    "        ),\n",
    "    },\n",
    "    external_market={tkn: assets[tkn]['usd price'] for tkn in assets},\n",
    "    archive_all=False\n",
    ")"
   ]
  },
  {
   "cell_type": "markdown",
   "metadata": {},
   "source": [
    "<H1>Relationship between IL and price change</H1>\n",
    "Here we show the impermanent loss incurred as a function of price shift. We assume that the price of TKN changes while the other assets in the pool do not. Because the price of LRNA is also responsive to the price of all assets in the Omnipool, a higher proportion of TKN leads to a stronger positive correlation between the prices of TKN and LRNA. Because IL is related to the change in TKN/LRNA price, this means that a higher weight of TKN in the pool results in a lower rate of IL. The different colors on this graph reprsent the IL resulting from different initial weights of TKN."
   ]
  },
  {
   "cell_type": "code",
   "execution_count": 2,
   "metadata": {
    "tags": []
   },
   "outputs": [
    {
     "ename": "NameError",
     "evalue": "name 'xpoints' is not defined",
     "output_type": "error",
     "traceback": [
      "\u001b[1;31m---------------------------------------------------------------------------\u001b[0m",
      "\u001b[1;31mNameError\u001b[0m                                 Traceback (most recent call last)",
      "Input \u001b[1;32mIn [2]\u001b[0m, in \u001b[0;36m<cell line: 4>\u001b[1;34m()\u001b[0m\n\u001b[0;32m     55\u001b[0m graph_length \u001b[38;5;241m=\u001b[39m \u001b[38;5;28mlen\u001b[39m(events[\u001b[38;5;241m0\u001b[39m])\n\u001b[0;32m     56\u001b[0m x_points \u001b[38;5;241m=\u001b[39m \u001b[38;5;241m11\u001b[39m\n\u001b[1;32m---> 57\u001b[0m x_step \u001b[38;5;241m=\u001b[39m (graph_length \u001b[38;5;241m-\u001b[39m \u001b[38;5;241m1\u001b[39m) \u001b[38;5;241m/\u001b[39m (\u001b[43mxpoints\u001b[49m \u001b[38;5;241m-\u001b[39m \u001b[38;5;241m1\u001b[39m)\n\u001b[0;32m     58\u001b[0m x_ticks \u001b[38;5;241m=\u001b[39m [price_move_range[\u001b[38;5;28mint\u001b[39m(x_step \u001b[38;5;241m*\u001b[39m i)] \u001b[38;5;28;01mfor\u001b[39;00m i \u001b[38;5;129;01min\u001b[39;00m \u001b[38;5;28mrange\u001b[39m(x_points)]\n\u001b[0;32m     59\u001b[0m x_labels \u001b[38;5;241m=\u001b[39m []\n",
      "\u001b[1;31mNameError\u001b[0m: name 'xpoints' is not defined"
     ]
    },
    {
     "data": {
      "image/png": "[encoded data removed]",
      "text/plain": [
       "<Figure size 1440x360 with 1 Axes>"
      ]
     },
     "metadata": {
      "needs_background": "light"
     },
     "output_type": "display_data"
    }
   ],
   "source": [
    "steps = 101\n",
    "# price_min = 0.2\n",
    "# price_max = 5\n",
    "for price_min, price_max in [(0.2, 5), (0.5, 2)]:\n",
    "    step_factor = (price_max / price_min) ** (1 / (steps - 1))\n",
    "    price_move_range = [price_min * step_factor ** i for i in range(steps)]\n",
    "    events = []\n",
    "    # print(price_move_range)\n",
    "    weight_factors = [0.0001, 0.01, 0.02, 0.035, 0.05]\n",
    "\n",
    "\n",
    "    for w, weight in enumerate(weight_factors):\n",
    "        assets = {\n",
    "            'HDX': {'usd price': 0.05, 'weight': 0.8 - weight},\n",
    "            'USD': {'usd price': 1, 'weight': 0.20},\n",
    "            'TKN': {'usd price': 1, 'weight': weight}\n",
    "        }\n",
    "\n",
    "        for tkn, info in assets.items():\n",
    "            liquidity[tkn] = initial_omnipool_tvl * info['weight'] / info['usd price']\n",
    "            lrna[tkn] = initial_omnipool_tvl * info['weight'] / lrna_price_usd\n",
    "\n",
    "        initial_state.pools={\n",
    "            'omnipool': OmnipoolState(\n",
    "                tokens={\n",
    "                    tkn: {'liquidity': liquidity[tkn], 'LRNA': lrna[tkn]} for tkn in assets\n",
    "                },\n",
    "                asset_fee=0,\n",
    "                lrna_fee=0,\n",
    "                # withdrawal_fee=False\n",
    "            )\n",
    "        }\n",
    "\n",
    "        events.append([])\n",
    "        for price in price_move_range:\n",
    "            price_list = [{'TKN': initial_state.external_market['TKN']}, {'TKN': price}]\n",
    "            # print(price_list)\n",
    "            initial_state._evolve_function = historical_prices(price_list)\n",
    "            # events = run.run(initial_state, 1, silent=True)\n",
    "            # print(events[-1].external_market)\n",
    "            events[w].append(run.run(initial_state, 1, silent=True)[-1])\n",
    "            # price_events[-1].pools['omnipool'].lrna['TKN'] *= price\n",
    "            # print(price_events[-1].external_market)\n",
    "\n",
    "    impermanent_loss = [[\n",
    "        cash_out_omnipool(event.pools['omnipool'], event.agents['LP'], event.external_market)\n",
    "        / value_assets(initial_state.agents['LP'].holdings, {'TKN': usd_price(event.pools['omnipool'], 'TKN')})\n",
    "        for event in price_events\n",
    "    ] for price_events in events]\n",
    "    \n",
    "    plt.figure(figsize=(20, 5))\n",
    "\n",
    "    # plt.yscale('log')\n",
    "    plt.xscale('log')\n",
    "    graph_length = len(events[0])\n",
    "    x_points = 11\n",
    "    x_step = (graph_length - 1) / (x_points - 1)\n",
    "    x_ticks = [price_move_range[int(x_step * i)] for i in range(x_points)]\n",
    "    x_labels = []\n",
    "    for t in x_ticks:\n",
    "        if t < 1:\n",
    "            x_labels.append(f'-{int((1 - t) * 100)}%')\n",
    "        else:\n",
    "            x_labels.append(f'+{int(t * 100)}%')\n",
    "    plt.xticks(x_ticks, x_labels)\n",
    "    y_min = round(impermanent_loss[0][-1] * 20) / 20\n",
    "    y_points = 6\n",
    "    y_step = (1 - y_min) / (y_points - 1)\n",
    "    y_ticks = [y_min + y_step * i for i in range(y_points)]\n",
    "    y_labels = [f'-{round((1 - y) * 100)}%' for y in y_ticks]\n",
    "    plt.yticks(y_ticks, y_labels)\n",
    "    #     [.75, .80, .85, .90, .95, 1],\n",
    "    #     ['-25%', '-20%', '-15%', '-10%', '-5%', '0%']\n",
    "    # )\n",
    "    plt.grid()\n",
    "    plt.title(f'Impermanent loss as a function of price change and pool weight (range {x_labels[0]} - {x_labels[-1]})')\n",
    "\n",
    "    colors = pu.color_gradient(len(events), color1=(255, 128, 0), color2=(0, 0, 255))\n",
    "    for i in range(len(events)):\n",
    "        plt.plot(price_move_range, impermanent_loss[i], color=colors[i])\n",
    "                \n",
    "    plt.legend([f'{round(weight * 100, 1)}%' for weight in weight_factors])"
   ]
  },
  {
   "cell_type": "code",
   "execution_count": null,
   "metadata": {},
   "outputs": [],
   "source": []
  }
 ],
 "metadata": {
  "kernelspec": {
   "display_name": "Python 3 (ipykernel)",
   "language": "python",
   "name": "python3"
  },
  "language_info": {
   "codemirror_mode": {
    "name": "ipython",
    "version": 3
   },
   "file_extension": ".py",
   "mimetype": "text/x-python",
   "name": "python",
   "nbconvert_exporter": "python",
   "pygments_lexer": "ipython3",
   "version": "3.9.7"
  }
 },
 "nbformat": 4,
 "nbformat_minor": 4
}
