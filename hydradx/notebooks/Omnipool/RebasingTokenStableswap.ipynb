{
 "cells": [
  {
   "cell_type": "code",
   "execution_count": null,
   "id": "905a9383-c5e9-4405-b840-bb1a9d0671e0",
   "metadata": {},
   "outputs": [],
   "source": [
    "from matplotlib import pyplot as plt\n",
    "from datetime import datetime\n",
    "import math\n",
    "import sys\n",
    "from pprint import pprint\n",
    "from datetime import datetime\n",
    "\n",
    "sys.path.append('../..')"
   ]
  },
  {
   "cell_type": "code",
   "execution_count": 2,
   "id": "c98a3bf2-45c0-4a56-9507-59cc80dd3367",
   "metadata": {},
   "outputs": [
    {
     "ename": "ImportError",
     "evalue": "cannot import name 'general_arbitrage' from 'model.amm.trade_strategies' (C:\\Users\\jepid\\PycharmProjects\\HydraDX-simulations\\hydradx\\notebooks\\Omnipool\\../..\\model\\amm\\trade_strategies.py)",
     "output_type": "error",
     "traceback": [
      "\u001b[1;31m---------------------------------------------------------------------------\u001b[0m",
      "\u001b[1;31mImportError\u001b[0m                               Traceback (most recent call last)",
      "Input \u001b[1;32mIn [2]\u001b[0m, in \u001b[0;36m<cell line: 3>\u001b[1;34m()\u001b[0m\n\u001b[0;32m      1\u001b[0m \u001b[38;5;66;03m# from model.amm.omnipool_amm import OmnipoolState, DynamicFee\u001b[39;00m\n\u001b[0;32m      2\u001b[0m \u001b[38;5;28;01mfrom\u001b[39;00m \u001b[38;5;21;01mmodel\u001b[39;00m\u001b[38;5;21;01m.\u001b[39;00m\u001b[38;5;21;01mamm\u001b[39;00m\u001b[38;5;21;01m.\u001b[39;00m\u001b[38;5;21;01magents\u001b[39;00m \u001b[38;5;28;01mimport\u001b[39;00m Agent\n\u001b[1;32m----> 3\u001b[0m \u001b[38;5;28;01mfrom\u001b[39;00m \u001b[38;5;21;01mmodel\u001b[39;00m\u001b[38;5;21;01m.\u001b[39;00m\u001b[38;5;21;01mamm\u001b[39;00m\u001b[38;5;21;01m.\u001b[39;00m\u001b[38;5;21;01mtrade_strategies\u001b[39;00m \u001b[38;5;28;01mimport\u001b[39;00m general_arbitrage, invest_all\n\u001b[0;32m      4\u001b[0m \u001b[38;5;28;01mfrom\u001b[39;00m \u001b[38;5;21;01mmodel\u001b[39;00m\u001b[38;5;21;01m.\u001b[39;00m\u001b[38;5;21;01mamm\u001b[39;00m\u001b[38;5;21;01m.\u001b[39;00m\u001b[38;5;21;01mglobal_state\u001b[39;00m \u001b[38;5;28;01mimport\u001b[39;00m GlobalState\n\u001b[0;32m      5\u001b[0m \u001b[38;5;28;01mfrom\u001b[39;00m \u001b[38;5;21;01mmodel\u001b[39;00m\u001b[38;5;21;01m.\u001b[39;00m\u001b[38;5;21;01mamm\u001b[39;00m\u001b[38;5;21;01m.\u001b[39;00m\u001b[38;5;21;01mstableswap_amm\u001b[39;00m \u001b[38;5;28;01mimport\u001b[39;00m StableSwapPoolState\n",
      "\u001b[1;31mImportError\u001b[0m: cannot import name 'general_arbitrage' from 'model.amm.trade_strategies' (C:\\Users\\jepid\\PycharmProjects\\HydraDX-simulations\\hydradx\\notebooks\\Omnipool\\../..\\model\\amm\\trade_strategies.py)"
     ]
    }
   ],
   "source": [
    "# from model.amm.omnipool_amm import OmnipoolState, DynamicFee\n",
    "from model.amm.agents import Agent\n",
    "from model.amm.trade_strategies import general_arbitrage, invest_all\n",
    "from model.amm.global_state import GlobalState\n",
    "from model.amm.stableswap_amm import StableSwapPoolState\n",
    "from model.amm.exchange import Exchange\n",
    "\n",
    "class CEXDummy(Exchange):\n",
    "    def __init__(tokens: dict[str: float]):\n",
    "        self.prices = tokens\n",
    "        self.liquidity = {tkn: 0 for tkn in tokens}\n",
    "    \n",
    "    def price(tkn):\n",
    "        return self.prices[tkn]\n",
    "    \n",
    "    def buy_spot(tkn_buy, tkn_sell):\n",
    "        return self.price(tkn_buy) / self.price(tkn_sell)\n",
    "    \n",
    "    def sell_spot(tkn_sell, tkn_buy):\n",
    "        return self.price(tkn_sell) / self.price(tkn_buy)\n",
    "    \n",
    "    def swap(\n",
    "        agent: Agent, \n",
    "        tkn_buy: str, \n",
    "        tkn_sell: str,\n",
    "        buy_quantity: float,\n",
    "        sell_quantity: float\n",
    "    ):\n",
    "        if buy_quantity:\n",
    "            sell_quantity = self.calculate_sell_from_buy(tkn_buy, tkn_sell, buy_quantity)\n",
    "        elif sell_quantity:\n",
    "            buy_quantity = self.calculate_buy_from_sell(tkn_buy, tkn_sell, sell_quantity)\n",
    "            \n",
    "        if tkn_buy not in agent.holdings:\n",
    "            agent.holdings[tkn_buy] = 0\n",
    "            \n",
    "        agent.holdings[tkn_sell] -= sell_quantity\n",
    "        agent.holdings[tkn_buy] += buy_quantity\n",
    "        self.liquidity[tkn_sell] += sell_quantity\n",
    "        self.liquidity[tkn_buy] -= buy_quantity\n",
    "        \n",
    "    def calculate_buy_from_sell(tkn_buy, tkn_sell, sell_quantity):\n",
    "        return sell_quantity * self.price(tkn_sell) / self.price(tkn_buy)\n",
    "    \n",
    "    def calculate_sell_from_buy(tkn_sell, tkn_buy, buy_quantity):\n",
    "        buy_quantity * self.price(tkn_buy) / self.price(tkn_sell)\n",
    "\n",
    "rebase_amount = 1000        \n",
    "def rebase(tkn: str):\n",
    "    def evolve(state: GlobalState):\n",
    "        tkn_holders = {\n",
    "            pool_id: pool.liquidity[tkn]\n",
    "            for pool_id, pool in state.pools.items()\n",
    "        }\n",
    "        tkn_holders.update({\n",
    "            agent_id: agent.holdings[tkn]\n",
    "            for agent_id, agent in state.agents.items()\n",
    "        })\n",
    "        total_liquidity = sum(tkn_holders.values())\n",
    "        awards = 0\n",
    "        for holder in tkn_holders:\n",
    "            if isinstance(holder, Agent):\n",
    "                awards += rebase_amount * holder.holdings[tkn] / total_liquidity\n",
    "                holder.holdings[tkn] += rebase_amount * holder.holdings[tkn] / total_liquidity\n",
    "            elif isinstance(holder, Exchange):\n",
    "                awards += rebase_amount * holder.liquidity[tkn] / total_liquidity\n",
    "                holder.liquidity[tkn] += rebase_amount * holder.liquidity[tkn] / total_liquidity\n",
    "        if (state.time_step % 100 == 0):\n",
    "            print(awards)\n",
    "        return state\n",
    "    return evolve\n",
    "\n",
    "binance = CEXDummy({'S1': 1, 'S2': 1})\n",
    "stableSwap = StableSwapPoolState(\n",
    "    tokens={'S1': 1000000, 'S2': 1000000},\n",
    "    amplification=100,\n",
    "    trade_fee=0.001,\n",
    "    unique_id='stableswap'\n",
    ")\n",
    "LP = Agent(\n",
    "    holdings={'S1': rebase_amount},\n",
    "    trade_strategy=invest_all('stableswap'),\n",
    "    unique_id='LP'\n",
    ")\n",
    "non_LP = Agent(\n",
    "    holdings={'S1': rebase_amount},\n",
    "    trade_strategy=None,\n",
    "    unique_id='non_LP'\n",
    ")\n",
    "        \n",
    "initial_state = GlobalState(\n",
    "    pools=[stableswap, binance],\n",
    "    agents=[LP, non_LP, arbitrageur],\n",
    "    external_market={'S1': 1, 'S2': 1},\n",
    "    evolve_function=rebase('S1')\n",
    ")"
   ]
  },
  {
   "cell_type": "code",
   "execution_count": null,
   "id": "f494e56a-6379-446f-b570-07e80791b65c",
   "metadata": {},
   "outputs": [],
   "source": [
    "events = run.run(initial_state, time_steps=1000)\n",
    "events = processing.postprocessing(events)"
   ]
  },
  {
   "cell_type": "code",
   "execution_count": null,
   "id": "fbb48ae7-cc78-4709-90ca-a7921c37fa5d",
   "metadata": {},
   "outputs": [],
   "source": [
    "pu.plot(events, pool='stableswap', prop='liquidity')\n",
    "pu.plot(events, agent='Arbitrageur', prop='holdings', key=['S1', 'S2'])"
   ]
  },
  {
   "cell_type": "code",
   "execution_count": null,
   "id": "1113f935-a9a3-4382-992b-fff4c9010c22",
   "metadata": {},
   "outputs": [],
   "source": [
    "impermanent_loss = [\n",
    "    (1 - event.pools['stableswap'].cash_out(event.agents['LP'], event.external_market)\n",
    "    / sum(event.agents['non LP'].holdings.values())) * 100\n",
    "    for event in events\n",
    "]\n",
    "total_supply = [\n",
    "    sum([\n",
    "        event.pools['stableswap'].liquidity['S1'], \n",
    "        event.agents['Arbitrageur'].holdings['S1'], \n",
    "        event.agents['LP'].holdings['S1'], \n",
    "        event.agents['non LP'].holdings['S1']\n",
    "    ]) for event in events\n",
    "]\n"
   ]
  },
  {
   "cell_type": "code",
   "execution_count": null,
   "id": "9d37c620-8a15-4f11-9d66-c5168f0eb285",
   "metadata": {},
   "outputs": [],
   "source": [
    "plt.figure(figsize=(20, 5))\n",
    "plt.plot(total_supply, impermanent_loss)\n",
    "plt.title"
   ]
  },
  {
   "cell_type": "code",
   "execution_count": null,
   "id": "1a0d6b25-48ba-427e-9257-8bebb5039e79",
   "metadata": {
    "tags": []
   },
   "outputs": [],
   "source": [
    "events[2].agents['LP'].holdings"
   ]
  },
  {
   "cell_type": "code",
   "execution_count": null,
   "id": "c7525090-9bcb-4818-aa3c-dd1a78616b55",
   "metadata": {
    "tags": []
   },
   "outputs": [],
   "source": [
    "plt.figure(figsize=(20, 5))\n",
    "plt.plot(total_supply, [event.pools['stableswap'].cash_out(event.agents['LP'], event.external_market) for event in events])\n",
    "plt.plot(total_supply, [sum(event.agents['non LP'].holdings.values()) for event in events])"
   ]
  },
  {
   "cell_type": "code",
   "execution_count": null,
   "id": "2c6e95ad-e3e5-4692-854a-12bec56d2c30",
   "metadata": {
    "tags": []
   },
   "outputs": [],
   "source": [
    "(\n",
    "    events[-1].pools['stableswap'].liquidity['S1']\n",
    "    + events[-1].agents['LP'].holdings['S1']\n",
    "    + events[-1].agents['non LP'].holdings['S1']\n",
    "    + events[-1].agents['Arbitrageur'].holdings['S1']\n",
    ")"
   ]
  },
  {
   "cell_type": "code",
   "execution_count": null,
   "id": "389a8dd3-ebe3-49c9-9370-a27982b4f901",
   "metadata": {
    "tags": []
   },
   "outputs": [],
   "source": [
    "events[-1].agents['non LP'].holdings['S1']"
   ]
  },
  {
   "cell_type": "code",
   "execution_count": null,
   "id": "daf269aa-d32e-43a1-b689-d332e0f0e598",
   "metadata": {},
   "outputs": [],
   "source": []
  }
 ],
 "metadata": {
  "kernelspec": {
   "display_name": "Python 3 (ipykernel)",
   "language": "python",
   "name": "python3"
  },
  "language_info": {
   "codemirror_mode": {
    "name": "ipython",
    "version": 3
   },
   "file_extension": ".py",
   "mimetype": "text/x-python",
   "name": "python",
   "nbconvert_exporter": "python",
   "pygments_lexer": "ipython3",
   "version": "3.9.7"
  }
 },
 "nbformat": 4,
 "nbformat_minor": 5
}
