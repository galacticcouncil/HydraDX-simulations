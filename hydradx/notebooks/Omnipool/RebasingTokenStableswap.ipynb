{
 "cells": [
  {
   "cell_type": "code",
   "execution_count": null,
   "id": "6695e3bd-d2a7-4023-a92c-99b6523d29d7",
   "metadata": {},
   "outputs": [],
   "source": [
    "events = run.run(initial_state, time_steps=1000)\n",
    "events = processing.postprocessing(events)"
   ]
  },
  {
   "cell_type": "code",
   "execution_count": null,
   "id": "fbb48ae7-cc78-4709-90ca-a7921c37fa5d",
   "metadata": {},
   "outputs": [],
   "source": [
    "pu.plot(events, pool='stableswap', prop='liquidity')\n",
    "pu.plot(events, agent='Arbitrageur', prop='holdings', key=['S1', 'S2'])"
   ]
  },
  {
   "cell_type": "code",
   "execution_count": null,
   "id": "1113f935-a9a3-4382-992b-fff4c9010c22",
   "metadata": {},
   "outputs": [],
   "source": [
    "impermanent_loss = [\n",
    "    (1 - event.pools['stableswap'].cash_out(event.agents['LP'], event.external_market)\n",
    "    / sum(event.agents['non LP'].holdings.values())) * 100\n",
    "    for event in events\n",
    "]\n",
    "total_supply = [\n",
    "    sum([\n",
    "        event.pools['stableswap'].liquidity['S1'], \n",
    "        event.agents['Arbitrageur'].holdings['S1'], \n",
    "        event.agents['LP'].holdings['S1'], \n",
    "        event.agents['non LP'].holdings['S1']\n",
    "    ]) for event in events\n",
    "]\n"
   ]
  },
  {
   "cell_type": "code",
   "execution_count": null,
   "id": "9d37c620-8a15-4f11-9d66-c5168f0eb285",
   "metadata": {},
   "outputs": [],
   "source": [
    "plt.figure(figsize=(20, 5))\n",
    "plt.plot(total_supply, impermanent_loss)\n",
    "plt.title"
   ]
  },
  {
   "cell_type": "code",
   "execution_count": null,
   "id": "1a0d6b25-48ba-427e-9257-8bebb5039e79",
   "metadata": {
    "tags": []
   },
   "outputs": [],
   "source": [
    "events[2].agents['LP'].holdings"
   ]
  },
  {
   "cell_type": "code",
   "execution_count": null,
   "id": "c7525090-9bcb-4818-aa3c-dd1a78616b55",
   "metadata": {
    "tags": []
   },
   "outputs": [],
   "source": [
    "plt.figure(figsize=(20, 5))\n",
    "plt.plot(total_supply, [event.pools['stableswap'].cash_out(event.agents['LP'], event.external_market) for event in events])\n",
    "plt.plot(total_supply, [sum(event.agents['non LP'].holdings.values()) for event in events])"
   ]
  },
  {
   "cell_type": "code",
   "execution_count": null,
   "id": "2c6e95ad-e3e5-4692-854a-12bec56d2c30",
   "metadata": {
    "tags": []
   },
   "outputs": [],
   "source": [
    "(\n",
    "    events[-1].pools['stableswap'].liquidity['S1']\n",
    "    + events[-1].agents['LP'].holdings['S1']\n",
    "    + events[-1].agents['non LP'].holdings['S1']\n",
    "    + events[-1].agents['Arbitrageur'].holdings['S1']\n",
    ")"
   ]
  },
  {
   "cell_type": "code",
   "execution_count": null,
   "id": "389a8dd3-ebe3-49c9-9370-a27982b4f901",
   "metadata": {
    "tags": []
   },
   "outputs": [],
   "source": [
    "events[-1].agents['non LP'].holdings['S1']"
   ]
  },
  {
   "cell_type": "code",
   "execution_count": null,
   "id": "daf269aa-d32e-43a1-b689-d332e0f0e598",
   "metadata": {},
   "outputs": [],
   "source": []
  }
 ],
 "metadata": {
  "kernelspec": {
   "display_name": "Python 3 (ipykernel)",
   "language": "python",
   "name": "python3"
  },
  "language_info": {
   "codemirror_mode": {
    "name": "ipython",
    "version": 3
   },
   "file_extension": ".py",
   "mimetype": "text/x-python",
   "name": "python",
   "nbconvert_exporter": "python",
   "pygments_lexer": "ipython3",
   "version": "3.9.7"
  }
 },
 "nbformat": 4,
 "nbformat_minor": 5
}
