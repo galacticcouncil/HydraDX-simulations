{
 "cells": [
  {
   "cell_type": "code",
   "execution_count": 54,
   "id": "6b8e2d21-c455-4b2b-a1c4-0c2cce0fb286",
   "metadata": {},
   "outputs": [
    {
     "name": "stdout",
     "output_type": "stream",
     "text": [
      "Starting simulation...\n",
      "Execution time: 0.005 seconds.\n"
     ]
    }
   ],
   "source": [
    "import random\n",
    "import sys\n",
    "sys.path.append('../..')\n",
    "\n",
    "from model import run\n",
    "from model import plot_utils as pu\n",
    "from model import processing\n",
    "from model.amm.omnipool_amm import OmnipoolState, DynamicFee\n",
    "from model.amm.agents import Agent\n",
    "from model.amm.trade_strategies import random_swaps, omnipool_arbitrage, constant_swaps, invest_all\n",
    "from model.amm.global_state import GlobalState\n",
    "\n",
    "# same seed, same parameters = same simulation result\n",
    "random.seed(42)\n",
    "\n",
    "initial_state = GlobalState(\n",
    "    pools={\n",
    "        'omnipool': OmnipoolState(\n",
    "            tokens={\n",
    "                'HDX': {'liquidity': 1000000, 'LRNA': 1000},\n",
    "                'USD': {'liquidity': 10000, 'LRNA': 1000}\n",
    "            },\n",
    "            lrna_fee=DynamicFee(\n",
    "                amplification=1,\n",
    "                decay=0.00001,\n",
    "                minimum=0.0005,\n",
    "                maximum=0.1,\n",
    "                current={'HDX': 0.01, 'USD': 0.01}\n",
    "            ),\n",
    "            asset_fee=0,\n",
    "            lp_lrna_share=0,\n",
    "            withdrawal_fee=False\n",
    "        )\n",
    "    },\n",
    "    agents = {\n",
    "        'LP': Agent(\n",
    "            holdings={'HDX': 10000},\n",
    "            trade_strategy=invest_all('omnipool')\n",
    "        ),\n",
    "        'Trader': Agent(\n",
    "            holdings={'LRNA': float('inf')},\n",
    "            trade_strategy=constant_swaps(\n",
    "                pool_id='omnipool',\n",
    "                sell_quantity=10000,\n",
    "                sell_asset='LRNA',\n",
    "                buy_asset='USD'\n",
    "            )\n",
    "        ),\n",
    "        'Arbitrageur': Agent(\n",
    "            holdings={'HDX': 100000000, 'USD': 1000000, 'LRNA': 100000},\n",
    "            trade_strategy=omnipool_arbitrage(\n",
    "                pool_id='omnipool',\n",
    "            )\n",
    "        )\n",
    "    },\n",
    "    external_market={'USD': 1, 'HDX': 0.01}\n",
    ")\n",
    "\n",
    "events = run.run(initial_state, time_steps=1)"
   ]
  },
  {
   "cell_type": "code",
   "execution_count": 55,
   "id": "fbb48ae7-cc78-4709-90ca-a7921c37fa5d",
   "metadata": {},
   "outputs": [
    {
     "name": "stdout",
     "output_type": "stream",
     "text": [
      "100.0\n",
      "{'HDX': 0, 'LRNA': 0, 'USD': 0, ('omnipool', 'HDX'): 10000.0}\n"
     ]
    }
   ],
   "source": [
    "print(initial_state.cash_out('LP'))\n",
    "print(events[-1].agents['LP'].holdings)"
   ]
  },
  {
   "cell_type": "code",
   "execution_count": 56,
   "id": "1113f935-a9a3-4382-992b-fff4c9010c22",
   "metadata": {},
   "outputs": [
    {
     "name": "stdout",
     "output_type": "stream",
     "text": [
      "LRNA: {'HDX': 6034.875621890544, 'USD': mpf('5924.9258706467663')}\n",
      "Liquidity: {'HDX': 169034.13821815164, 'USD': mpf('1687.78482943423')}\n"
     ]
    }
   ],
   "source": [
    "print('LRNA:', events[-1].pools['omnipool'].lrna)\n",
    "print('Liquidity:', events[-1].pools['omnipool'].liquidity)\n"
   ]
  },
  {
   "cell_type": "code",
   "execution_count": 53,
   "id": "8487f6d9-db0f-465e-a8fc-da095e1c4833",
   "metadata": {},
   "outputs": [
    {
     "name": "stdout",
     "output_type": "stream",
     "text": [
      "LRNA: {'HDX': 6034.875621890544, 'USD': mpf('5472.6870646766165')}\n",
      "Liquidity: {'HDX': 169034.13821815164, 'USD': mpf('1827.255949740827')}\n"
     ]
    }
   ],
   "source": [
    "print('LRNA:', events[-1].pools['omnipool'].lrna)\n",
    "print('Liquidity:', events[-1].pools['omnipool'].liquidity)\n"
   ]
  },
  {
   "cell_type": "code",
   "execution_count": 49,
   "id": "203938bb-ccb0-4648-aa7d-b8a22f1a5df3",
   "metadata": {
    "tags": []
   },
   "outputs": [
    {
     "name": "stdout",
     "output_type": "stream",
     "text": [
      "0.0101701663790628\n"
     ]
    }
   ],
   "source": [
    "omnipool = events[-1].pools['omnipool']\n",
    "print(omnipool.usd_price('HDX'))"
   ]
  },
  {
   "cell_type": "code",
   "execution_count": 19,
   "id": "2ef40e2a-ec68-42a6-a440-fd4e78c918e3",
   "metadata": {
    "tags": []
   },
   "outputs": [
    {
     "data": {
      "text/plain": [
       "mpf('0.099980000000000013')"
      ]
     },
     "execution_count": 19,
     "metadata": {},
     "output_type": "execute_result"
    }
   ],
   "source": [
    "omnipool.lrna_fee('USD')"
   ]
  },
  {
   "cell_type": "code",
   "execution_count": null,
   "id": "b0406453-1f17-4533-8fd8-7e97406dae42",
   "metadata": {},
   "outputs": [],
   "source": []
  },
  {
   "cell_type": "code",
   "execution_count": null,
   "id": "11baba25-d54e-43bc-b247-fc200ab9ec00",
   "metadata": {},
   "outputs": [],
   "source": []
  }
 ],
 "metadata": {
  "kernelspec": {
   "display_name": "Python 3 (ipykernel)",
   "language": "python",
   "name": "python3"
  },
  "language_info": {
   "codemirror_mode": {
    "name": "ipython",
    "version": 3
   },
   "file_extension": ".py",
   "mimetype": "text/x-python",
   "name": "python",
   "nbconvert_exporter": "python",
   "pygments_lexer": "ipython3",
   "version": "3.9.7"
  }
 },
 "nbformat": 4,
 "nbformat_minor": 5
}
