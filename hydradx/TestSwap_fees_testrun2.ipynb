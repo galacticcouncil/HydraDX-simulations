{
 "cells": [
  {
   "cell_type": "code",
   "execution_count": 1,
   "id": "unlimited-friendship",
   "metadata": {},
   "outputs": [
    {
     "data": {
      "text/plain": [
       "{'cfmm_type': '',\n",
       " 'initial_values': {'token_list': ['R1', 'R2'],\n",
       "  'R': [1000, 1500000],\n",
       "  'P': [2, 0.6666666666666666],\n",
       "  'fee_assets': 0.01,\n",
       "  'fee_HDX': 0.02},\n",
       " 'agent_d': {'Trader': {'HDX': 1000000, 'R1': 1000000, 'R2': 1000000},\n",
       "  'LP1': {'omniR1': 10}},\n",
       " 'action_ls': [('trade', 1000)],\n",
       " 'prob_dict': {'trade': {'sell_r2_for_r1': 0.5, 'sell_r1_for_r2': 0.5}},\n",
       " 'action_dict': {'sell_r2_for_r1': {'token_buy': 'R1',\n",
       "   'token_sell': 'R2',\n",
       "   'amount_sell': 10,\n",
       "   'action_id': 'Trade',\n",
       "   'agent_id': 'Trader'},\n",
       "  'sell_r1_for_r2': {'token_sell': 'R1',\n",
       "   'token_buy': 'R2',\n",
       "   'amount_sell': 10,\n",
       "   'action_id': 'Trade',\n",
       "   'agent_id': 'Trader'}}}"
      ]
     },
     "execution_count": 1,
     "metadata": {},
     "output_type": "execute_result"
    }
   ],
   "source": [
    "from model.model_initialization import * \n",
    "initialize_model(1000, 10, 0.01, 0.02)"
   ]
  },
  {
   "cell_type": "code",
   "execution_count": 2,
   "id": "6b8e2d21-c455-4b2b-a1c4-0c2cce0fb286",
   "metadata": {},
   "outputs": [
    {
     "name": "stdout",
     "output_type": "stream",
     "text": [
      "\n",
      "                  ___________    ____\n",
      "  ________ __ ___/ / ____/   |  / __ \\\n",
      " / ___/ __` / __  / /   / /| | / / / /\n",
      "/ /__/ /_/ / /_/ / /___/ ___ |/ /_/ /\n",
      "\\___/\\__,_/\\__,_/\\____/_/  |_/_____/\n",
      "by cadCAD\n",
      "\n",
      "Execution Mode: local_proc\n",
      "Configuration Count: 1\n",
      "Dimensions of the first simulation: (Timesteps, Params, Runs, Vars) = (1000, 3, 1, 3)\n",
      "Execution Method: local_simulations\n",
      "SimIDs   : [0]\n",
      "SubsetIDs: [0]\n",
      "Ns       : [0]\n",
      "ExpIDs   : [0]\n",
      "Execution Mode: single_threaded\n",
      "Total execution time: 0.35s\n",
      "0\n",
      "\n",
      "                  ___________    ____\n",
      "  ________ __ ___/ / ____/   |  / __ \\\n",
      " / ___/ __` / __  / /   / /| | / / / /\n",
      "/ /__/ /_/ / /_/ / /___/ ___ |/ /_/ /\n",
      "\\___/\\__,_/\\__,_/\\____/_/  |_/_____/\n",
      "by cadCAD\n",
      "\n",
      "Execution Mode: local_proc\n",
      "Configuration Count: 2\n",
      "Dimensions of the first simulation: (Timesteps, Params, Runs, Vars) = (1000, 3, 1, 3)\n",
      "Execution Method: local_simulations\n",
      "SimIDs   : [0, 1]\n",
      "SubsetIDs: [0, 0]\n",
      "Ns       : [0, 0]\n",
      "ExpIDs   : [0, 0]\n",
      "Execution Mode: parallelized\n",
      "Total execution time: 0.82s\n",
      "1\n",
      "\n",
      "                  ___________    ____\n",
      "  ________ __ ___/ / ____/   |  / __ \\\n",
      " / ___/ __` / __  / /   / /| | / / / /\n",
      "/ /__/ /_/ / /_/ / /___/ ___ |/ /_/ /\n",
      "\\___/\\__,_/\\__,_/\\____/_/  |_/_____/\n",
      "by cadCAD\n",
      "\n",
      "Execution Mode: local_proc\n",
      "Configuration Count: 3\n",
      "Dimensions of the first simulation: (Timesteps, Params, Runs, Vars) = (1000, 3, 1, 3)\n",
      "Execution Method: local_simulations\n",
      "SimIDs   : [0, 1, 2]\n",
      "SubsetIDs: [0, 0, 0]\n",
      "Ns       : [0, 0, 0]\n",
      "ExpIDs   : [0, 0, 0]\n",
      "Execution Mode: parallelized\n",
      "Total execution time: 1.17s\n",
      "2\n",
      "\n",
      "                  ___________    ____\n",
      "  ________ __ ___/ / ____/   |  / __ \\\n",
      " / ___/ __` / __  / /   / /| | / / / /\n",
      "/ /__/ /_/ / /_/ / /___/ ___ |/ /_/ /\n",
      "\\___/\\__,_/\\__,_/\\____/_/  |_/_____/\n",
      "by cadCAD\n",
      "\n",
      "Execution Mode: local_proc\n",
      "Configuration Count: 4\n",
      "Dimensions of the first simulation: (Timesteps, Params, Runs, Vars) = (1000, 3, 1, 3)\n",
      "Execution Method: local_simulations\n",
      "SimIDs   : [0, 1, 2, 3]\n",
      "SubsetIDs: [0, 0, 0, 0]\n",
      "Ns       : [0, 0, 0, 0]\n",
      "ExpIDs   : [0, 0, 0, 0]\n",
      "Execution Mode: parallelized\n",
      "Total execution time: 1.77s\n",
      "3\n"
     ]
    }
   ],
   "source": [
    "import pandas as pd\n",
    "\n",
    "from IPython.core.debugger import Pdb\n",
    "ipdb = Pdb()\n",
    "\n",
    "from model import init_utils\n",
    "from model import processing\n",
    "# Experiments\n",
    "from model import run\n",
    "from model.plot_utils import *\n",
    "from model.model_initialization import * \n",
    "\n",
    "import numpy as np\n",
    "import seaborn as sns\n",
    "import matplotlib.pylab as plt\n",
    "\n",
    "# set variables & parameters\n",
    "\n",
    "fee_level_assets = 0.04\n",
    "fee_level_hdx = 0.07\n",
    "# uniform_data = np.random.rand(10, 12)\n",
    "#trade_volume = {'10': 0.5, '20': 0.6}\n",
    "#liquidity = {'1000': 0.5, '2000': 0.6}\n",
    "#trade_volume = (50, 100, 200, 500, 1000, 2000, 5000, 10000, 20000)\n",
    "#liquidity = (100000, 200000, 300000, 400000, 500000, 600000, 700000, 800000)\n",
    "trade_volume = (50, 100)\n",
    "liquidity = (100000, 200000)\n",
    "\n",
    "#create matrix for comparison\n",
    "m=len(trade_volume)\n",
    "n=len(liquidity)\n",
    "matrix = np.ndarray(shape = (m,n), dtype = int)\n",
    "\n",
    "# index matrix\n",
    "#better_index = [\"X1\", \"X2\", \"Y1\", \"Y2\", \"Y3\"]\n",
    "#matrix.index = better_index\n",
    "\n",
    "\n",
    "for i in range(len(liquidity)):\n",
    "    for j in range(len(trade_volume)):\n",
    "        # initialize model with starting conditions\n",
    "        config_params = initialize_model(liquidity[i], trade_volume[j], fee_level_assets, fee_level_hdx)\n",
    "        \n",
    "        #run model\n",
    "        config_dict, state = init_utils.get_configuration(config_params)\n",
    "\n",
    "        pd.options.mode.chained_assignment = None  # default='warn'\n",
    "        pd.options.display.float_format = '{:.2f}'.format\n",
    "        \n",
    "        run.config(config_dict, state)\n",
    "        events = run.run()\n",
    "        \n",
    "        rdf, agent_df = processing.postprocessing(events)\n",
    "        \n",
    "        # calculate profitability metric; change in pool values\n",
    "        \n",
    "        if (i == 0) & (j == 0):\n",
    "            sim_nr = 0\n",
    "        elif (i == 0) & (j == 1):\n",
    "            sim_nr = 1\n",
    "        elif (i == 1) & (j == 0):\n",
    "            sim_nr = 2\n",
    "        elif (i == 1) & (j == 1):\n",
    "            sim_nr = 3\n",
    "            \n",
    "        print(sim_nr)\n",
    "        \n",
    "        #for first asset: R-0\n",
    "        rdf1 = rdf[rdf[\"simulation\"] == sim_nr]\n",
    "        rdf2 = rdf1[rdf1[\"timestep\"] == 1000]\n",
    "        r0_1 = rdf2['R-0'].iloc[0]\n",
    "        \n",
    "        rdf1 = rdf[rdf[\"simulation\"] == sim_nr]\n",
    "        rdf2 = rdf1[rdf1[\"timestep\"] == 1]\n",
    "        r0_0 = rdf2['R-0'].iloc[0]\n",
    "        \n",
    "        profit_sim0_r0 = r0_1 - r0_0\n",
    "        \n",
    "        #for second asset: R-1\n",
    "        rdf1 = rdf[rdf[\"simulation\"] == sim_nr]\n",
    "        rdf2 = rdf1[rdf1[\"timestep\"] == 1000]\n",
    "        r1_1 = rdf2['R-1'].iloc[0]\n",
    "        \n",
    "        rdf1 = rdf[rdf[\"simulation\"] == sim_nr]\n",
    "        rdf2 = rdf1[rdf1[\"timestep\"] == 1]\n",
    "        r1_0 = rdf2['R-1'].iloc[0]\n",
    "        \n",
    "        profit_sim0_r1 = r1_1 - r1_0\n",
    "        \n",
    "        #total profit\n",
    "        \n",
    "        profit_sim0 = profit_sim0_r1 + profit_sim0_r0\n",
    "        \n",
    "        \n",
    "        # fill in matrix with calculation results at specific place\n",
    "        #matrix[j][i] = np.random.randint(1, 100 + 1)\n",
    "        #matrix[j][i] = trade_volume[i]*liquidity[j]\n",
    "        matrix[j][i] = profit_sim0\n",
    "\n",
    "\n",
    "\n",
    "\n",
    "\n",
    "#print(agent_df.tail(20))\n",
    "\n"
   ]
  },
  {
   "cell_type": "code",
   "execution_count": 3,
   "id": "renewable-logan",
   "metadata": {},
   "outputs": [
    {
     "data": {
      "image/png": "[encoded data removed]",
      "text/plain": [
       "<Figure size 432x288 with 2 Axes>"
      ]
     },
     "metadata": {
      "needs_background": "light"
     },
     "output_type": "display_data"
    }
   ],
   "source": [
    "import numpy as np\n",
    "import seaborn as sns\n",
    "import matplotlib.pylab as plt\n",
    "\n",
    "#ax = sns.heatmap(uniform_data, linewidth=0.5)\n",
    "ax = sns.heatmap(matrix, linewidth=0.5, annot=True, fmt=\"d\")\n",
    "ax.set_title(\"LP Profits\")\n",
    "#ax.set_title(\"LP Profits for fee level:\" % fee_level)\n",
    "ax.set_xlabel('Liquidity')\n",
    "ax.set_ylabel('Trade Volume')\n",
    "plt.show()"
   ]
  },
  {
   "cell_type": "markdown",
   "id": "prerequisite-chocolate",
   "metadata": {},
   "source": [
    "\n",
    "var_list = ['R', 'Q', 'A', 'D']\n",
    "plot_vars(rdf, var_list)\n",
    "\n",
    "## Fee Analysis"
   ]
  },
  {
   "cell_type": "code",
   "execution_count": 4,
   "id": "b7829a3e-d082-4092-9414-efd05f4b87c6",
   "metadata": {
    "scrolled": true
   },
   "outputs": [
    {
     "data": {
      "text/html": [
       "<div>\n",
       "<style scoped>\n",
       "    .dataframe tbody tr th:only-of-type {\n",
       "        vertical-align: middle;\n",
       "    }\n",
       "\n",
       "    .dataframe tbody tr th {\n",
       "        vertical-align: top;\n",
       "    }\n",
       "\n",
       "    .dataframe thead th {\n",
       "        text-align: right;\n",
       "    }\n",
       "</style>\n",
       "<table border=\"1\" class=\"dataframe\">\n",
       "  <thead>\n",
       "    <tr style=\"text-align: right;\">\n",
       "      <th></th>\n",
       "      <th>R-0</th>\n",
       "      <th>R-1</th>\n",
       "      <th>Q-0</th>\n",
       "      <th>Q-1</th>\n",
       "      <th>S-0</th>\n",
       "      <th>S-1</th>\n",
       "      <th>A-0</th>\n",
       "      <th>A-1</th>\n",
       "      <th>B-0</th>\n",
       "      <th>B-1</th>\n",
       "      <th>...</th>\n",
       "      <th>token_list-0</th>\n",
       "      <th>token_list-1</th>\n",
       "      <th>fee_assets</th>\n",
       "      <th>fee_HDX</th>\n",
       "      <th>n</th>\n",
       "      <th>simulation</th>\n",
       "      <th>subset</th>\n",
       "      <th>run</th>\n",
       "      <th>substep</th>\n",
       "      <th>timestep</th>\n",
       "    </tr>\n",
       "  </thead>\n",
       "  <tbody>\n",
       "    <tr>\n",
       "      <th>3</th>\n",
       "      <td>100050.00</td>\n",
       "      <td>1499866.16</td>\n",
       "      <td>199900.05</td>\n",
       "      <td>1000096.67</td>\n",
       "      <td>100000</td>\n",
       "      <td>1500000</td>\n",
       "      <td>0</td>\n",
       "      <td>0</td>\n",
       "      <td>99950</td>\n",
       "      <td>1500000</td>\n",
       "      <td>...</td>\n",
       "      <td>R1</td>\n",
       "      <td>R2</td>\n",
       "      <td>0.04</td>\n",
       "      <td>0.07</td>\n",
       "      <td>2</td>\n",
       "      <td>0</td>\n",
       "      <td>0</td>\n",
       "      <td>1</td>\n",
       "      <td>3</td>\n",
       "      <td>1</td>\n",
       "    </tr>\n",
       "    <tr>\n",
       "      <th>6</th>\n",
       "      <td>100035.11</td>\n",
       "      <td>1499916.16</td>\n",
       "      <td>199932.30</td>\n",
       "      <td>1000063.33</td>\n",
       "      <td>100000</td>\n",
       "      <td>1500000</td>\n",
       "      <td>0</td>\n",
       "      <td>0</td>\n",
       "      <td>99950</td>\n",
       "      <td>1500000</td>\n",
       "      <td>...</td>\n",
       "      <td>R1</td>\n",
       "      <td>R2</td>\n",
       "      <td>0.04</td>\n",
       "      <td>0.07</td>\n",
       "      <td>2</td>\n",
       "      <td>0</td>\n",
       "      <td>0</td>\n",
       "      <td>1</td>\n",
       "      <td>3</td>\n",
       "      <td>2</td>\n",
       "    </tr>\n",
       "    <tr>\n",
       "      <th>9</th>\n",
       "      <td>100020.22</td>\n",
       "      <td>1499966.16</td>\n",
       "      <td>199964.54</td>\n",
       "      <td>1000030.00</td>\n",
       "      <td>100000</td>\n",
       "      <td>1500000</td>\n",
       "      <td>0</td>\n",
       "      <td>0</td>\n",
       "      <td>99950</td>\n",
       "      <td>1500000</td>\n",
       "      <td>...</td>\n",
       "      <td>R1</td>\n",
       "      <td>R2</td>\n",
       "      <td>0.04</td>\n",
       "      <td>0.07</td>\n",
       "      <td>2</td>\n",
       "      <td>0</td>\n",
       "      <td>0</td>\n",
       "      <td>1</td>\n",
       "      <td>3</td>\n",
       "      <td>3</td>\n",
       "    </tr>\n",
       "    <tr>\n",
       "      <th>12</th>\n",
       "      <td>100005.33</td>\n",
       "      <td>1500016.16</td>\n",
       "      <td>199996.78</td>\n",
       "      <td>999996.66</td>\n",
       "      <td>100000</td>\n",
       "      <td>1500000</td>\n",
       "      <td>0</td>\n",
       "      <td>0</td>\n",
       "      <td>99950</td>\n",
       "      <td>1500000</td>\n",
       "      <td>...</td>\n",
       "      <td>R1</td>\n",
       "      <td>R2</td>\n",
       "      <td>0.04</td>\n",
       "      <td>0.07</td>\n",
       "      <td>2</td>\n",
       "      <td>0</td>\n",
       "      <td>0</td>\n",
       "      <td>1</td>\n",
       "      <td>3</td>\n",
       "      <td>4</td>\n",
       "    </tr>\n",
       "    <tr>\n",
       "      <th>15</th>\n",
       "      <td>100055.33</td>\n",
       "      <td>1499882.33</td>\n",
       "      <td>199896.84</td>\n",
       "      <td>1000093.33</td>\n",
       "      <td>100000</td>\n",
       "      <td>1500000</td>\n",
       "      <td>0</td>\n",
       "      <td>0</td>\n",
       "      <td>99950</td>\n",
       "      <td>1500000</td>\n",
       "      <td>...</td>\n",
       "      <td>R1</td>\n",
       "      <td>R2</td>\n",
       "      <td>0.04</td>\n",
       "      <td>0.07</td>\n",
       "      <td>2</td>\n",
       "      <td>0</td>\n",
       "      <td>0</td>\n",
       "      <td>1</td>\n",
       "      <td>3</td>\n",
       "      <td>5</td>\n",
       "    </tr>\n",
       "    <tr>\n",
       "      <th>...</th>\n",
       "      <td>...</td>\n",
       "      <td>...</td>\n",
       "      <td>...</td>\n",
       "      <td>...</td>\n",
       "      <td>...</td>\n",
       "      <td>...</td>\n",
       "      <td>...</td>\n",
       "      <td>...</td>\n",
       "      <td>...</td>\n",
       "      <td>...</td>\n",
       "      <td>...</td>\n",
       "      <td>...</td>\n",
       "      <td>...</td>\n",
       "      <td>...</td>\n",
       "      <td>...</td>\n",
       "      <td>...</td>\n",
       "      <td>...</td>\n",
       "      <td>...</td>\n",
       "      <td>...</td>\n",
       "      <td>...</td>\n",
       "      <td>...</td>\n",
       "    </tr>\n",
       "    <tr>\n",
       "      <th>11991</th>\n",
       "      <td>234267.45</td>\n",
       "      <td>1434768.09</td>\n",
       "      <td>343795.21</td>\n",
       "      <td>1052201.69</td>\n",
       "      <td>200000</td>\n",
       "      <td>1500000</td>\n",
       "      <td>0</td>\n",
       "      <td>0</td>\n",
       "      <td>199900</td>\n",
       "      <td>1500000</td>\n",
       "      <td>...</td>\n",
       "      <td>R1</td>\n",
       "      <td>R2</td>\n",
       "      <td>0.04</td>\n",
       "      <td>0.07</td>\n",
       "      <td>2</td>\n",
       "      <td>3</td>\n",
       "      <td>0</td>\n",
       "      <td>1</td>\n",
       "      <td>3</td>\n",
       "      <td>996</td>\n",
       "    </tr>\n",
       "    <tr>\n",
       "      <th>11994</th>\n",
       "      <td>234222.84</td>\n",
       "      <td>1434868.09</td>\n",
       "      <td>343866.14</td>\n",
       "      <td>1052128.36</td>\n",
       "      <td>200000</td>\n",
       "      <td>1500000</td>\n",
       "      <td>0</td>\n",
       "      <td>0</td>\n",
       "      <td>199900</td>\n",
       "      <td>1500000</td>\n",
       "      <td>...</td>\n",
       "      <td>R1</td>\n",
       "      <td>R2</td>\n",
       "      <td>0.04</td>\n",
       "      <td>0.07</td>\n",
       "      <td>2</td>\n",
       "      <td>3</td>\n",
       "      <td>0</td>\n",
       "      <td>1</td>\n",
       "      <td>3</td>\n",
       "      <td>997</td>\n",
       "    </tr>\n",
       "    <tr>\n",
       "      <th>11997</th>\n",
       "      <td>234178.26</td>\n",
       "      <td>1434968.09</td>\n",
       "      <td>343937.05</td>\n",
       "      <td>1052055.04</td>\n",
       "      <td>200000</td>\n",
       "      <td>1500000</td>\n",
       "      <td>0</td>\n",
       "      <td>0</td>\n",
       "      <td>199900</td>\n",
       "      <td>1500000</td>\n",
       "      <td>...</td>\n",
       "      <td>R1</td>\n",
       "      <td>R2</td>\n",
       "      <td>0.04</td>\n",
       "      <td>0.07</td>\n",
       "      <td>2</td>\n",
       "      <td>3</td>\n",
       "      <td>0</td>\n",
       "      <td>1</td>\n",
       "      <td>3</td>\n",
       "      <td>998</td>\n",
       "    </tr>\n",
       "    <tr>\n",
       "      <th>12000</th>\n",
       "      <td>234278.26</td>\n",
       "      <td>1434789.33</td>\n",
       "      <td>343790.25</td>\n",
       "      <td>1052197.03</td>\n",
       "      <td>200000</td>\n",
       "      <td>1500000</td>\n",
       "      <td>0</td>\n",
       "      <td>0</td>\n",
       "      <td>199900</td>\n",
       "      <td>1500000</td>\n",
       "      <td>...</td>\n",
       "      <td>R1</td>\n",
       "      <td>R2</td>\n",
       "      <td>0.04</td>\n",
       "      <td>0.07</td>\n",
       "      <td>2</td>\n",
       "      <td>3</td>\n",
       "      <td>0</td>\n",
       "      <td>1</td>\n",
       "      <td>3</td>\n",
       "      <td>999</td>\n",
       "    </tr>\n",
       "    <tr>\n",
       "      <th>12003</th>\n",
       "      <td>234378.26</td>\n",
       "      <td>1434610.78</td>\n",
       "      <td>343643.56</td>\n",
       "      <td>1052338.90</td>\n",
       "      <td>200000</td>\n",
       "      <td>1500000</td>\n",
       "      <td>0</td>\n",
       "      <td>0</td>\n",
       "      <td>199900</td>\n",
       "      <td>1500000</td>\n",
       "      <td>...</td>\n",
       "      <td>R1</td>\n",
       "      <td>R2</td>\n",
       "      <td>0.04</td>\n",
       "      <td>0.07</td>\n",
       "      <td>2</td>\n",
       "      <td>3</td>\n",
       "      <td>0</td>\n",
       "      <td>1</td>\n",
       "      <td>3</td>\n",
       "      <td>1000</td>\n",
       "    </tr>\n",
       "  </tbody>\n",
       "</table>\n",
       "<p>4000 rows × 23 columns</p>\n",
       "</div>"
      ],
      "text/plain": [
       "            R-0        R-1       Q-0        Q-1     S-0      S-1  A-0  A-1  \\\n",
       "3     100050.00 1499866.16 199900.05 1000096.67  100000  1500000    0    0   \n",
       "6     100035.11 1499916.16 199932.30 1000063.33  100000  1500000    0    0   \n",
       "9     100020.22 1499966.16 199964.54 1000030.00  100000  1500000    0    0   \n",
       "12    100005.33 1500016.16 199996.78  999996.66  100000  1500000    0    0   \n",
       "15    100055.33 1499882.33 199896.84 1000093.33  100000  1500000    0    0   \n",
       "...         ...        ...       ...        ...     ...      ...  ...  ...   \n",
       "11991 234267.45 1434768.09 343795.21 1052201.69  200000  1500000    0    0   \n",
       "11994 234222.84 1434868.09 343866.14 1052128.36  200000  1500000    0    0   \n",
       "11997 234178.26 1434968.09 343937.05 1052055.04  200000  1500000    0    0   \n",
       "12000 234278.26 1434789.33 343790.25 1052197.03  200000  1500000    0    0   \n",
       "12003 234378.26 1434610.78 343643.56 1052338.90  200000  1500000    0    0   \n",
       "\n",
       "          B-0      B-1  ...  token_list-0 token_list-1 fee_assets fee_HDX  n  \\\n",
       "3       99950  1500000  ...            R1           R2       0.04    0.07  2   \n",
       "6       99950  1500000  ...            R1           R2       0.04    0.07  2   \n",
       "9       99950  1500000  ...            R1           R2       0.04    0.07  2   \n",
       "12      99950  1500000  ...            R1           R2       0.04    0.07  2   \n",
       "15      99950  1500000  ...            R1           R2       0.04    0.07  2   \n",
       "...       ...      ...  ...           ...          ...        ...     ... ..   \n",
       "11991  199900  1500000  ...            R1           R2       0.04    0.07  2   \n",
       "11994  199900  1500000  ...            R1           R2       0.04    0.07  2   \n",
       "11997  199900  1500000  ...            R1           R2       0.04    0.07  2   \n",
       "12000  199900  1500000  ...            R1           R2       0.04    0.07  2   \n",
       "12003  199900  1500000  ...            R1           R2       0.04    0.07  2   \n",
       "\n",
       "       simulation  subset  run  substep  timestep  \n",
       "3               0       0    1        3         1  \n",
       "6               0       0    1        3         2  \n",
       "9               0       0    1        3         3  \n",
       "12              0       0    1        3         4  \n",
       "15              0       0    1        3         5  \n",
       "...           ...     ...  ...      ...       ...  \n",
       "11991           3       0    1        3       996  \n",
       "11994           3       0    1        3       997  \n",
       "11997           3       0    1        3       998  \n",
       "12000           3       0    1        3       999  \n",
       "12003           3       0    1        3      1000  \n",
       "\n",
       "[4000 rows x 23 columns]"
      ]
     },
     "execution_count": 4,
     "metadata": {},
     "output_type": "execute_result"
    }
   ],
   "source": [
    "rdf"
   ]
  },
  {
   "cell_type": "code",
   "execution_count": 5,
   "id": "resistant-point",
   "metadata": {},
   "outputs": [
    {
     "name": "stdout",
     "output_type": "stream",
     "text": [
      "Index(['R-0', 'R-1', 'Q-0', 'Q-1', 'S-0', 'S-1', 'A-0', 'A-1', 'B-0', 'B-1',\n",
      "       'D', 'T', 'H', 'token_list-0', 'token_list-1', 'fee_assets', 'fee_HDX',\n",
      "       'n', 'simulation', 'subset', 'run', 'substep', 'timestep'],\n",
      "      dtype='object')\n"
     ]
    }
   ],
   "source": [
    "print(rdf.columns)"
   ]
  },
  {
   "cell_type": "code",
   "execution_count": 6,
   "id": "reverse-visiting",
   "metadata": {
    "scrolled": false
   },
   "outputs": [
    {
     "name": "stdout",
     "output_type": "stream",
     "text": [
      "<bound method NDFrame.keys of             R-0        R-1       Q-0        Q-1     S-0      S-1  A-0  A-1  \\\n",
      "3     100050.00 1499866.16 199900.05 1000096.67  100000  1500000    0    0   \n",
      "6     100035.11 1499916.16 199932.30 1000063.33  100000  1500000    0    0   \n",
      "9     100020.22 1499966.16 199964.54 1000030.00  100000  1500000    0    0   \n",
      "12    100005.33 1500016.16 199996.78  999996.66  100000  1500000    0    0   \n",
      "15    100055.33 1499882.33 199896.84 1000093.33  100000  1500000    0    0   \n",
      "...         ...        ...       ...        ...     ...      ...  ...  ...   \n",
      "11991 234267.45 1434768.09 343795.21 1052201.69  200000  1500000    0    0   \n",
      "11994 234222.84 1434868.09 343866.14 1052128.36  200000  1500000    0    0   \n",
      "11997 234178.26 1434968.09 343937.05 1052055.04  200000  1500000    0    0   \n",
      "12000 234278.26 1434789.33 343790.25 1052197.03  200000  1500000    0    0   \n",
      "12003 234378.26 1434610.78 343643.56 1052338.90  200000  1500000    0    0   \n",
      "\n",
      "          B-0      B-1  ...  token_list-0 token_list-1 fee_assets fee_HDX  n  \\\n",
      "3       99950  1500000  ...            R1           R2       0.04    0.07  2   \n",
      "6       99950  1500000  ...            R1           R2       0.04    0.07  2   \n",
      "9       99950  1500000  ...            R1           R2       0.04    0.07  2   \n",
      "12      99950  1500000  ...            R1           R2       0.04    0.07  2   \n",
      "15      99950  1500000  ...            R1           R2       0.04    0.07  2   \n",
      "...       ...      ...  ...           ...          ...        ...     ... ..   \n",
      "11991  199900  1500000  ...            R1           R2       0.04    0.07  2   \n",
      "11994  199900  1500000  ...            R1           R2       0.04    0.07  2   \n",
      "11997  199900  1500000  ...            R1           R2       0.04    0.07  2   \n",
      "12000  199900  1500000  ...            R1           R2       0.04    0.07  2   \n",
      "12003  199900  1500000  ...            R1           R2       0.04    0.07  2   \n",
      "\n",
      "       simulation  subset  run  substep  timestep  \n",
      "3               0       0    1        3         1  \n",
      "6               0       0    1        3         2  \n",
      "9               0       0    1        3         3  \n",
      "12              0       0    1        3         4  \n",
      "15              0       0    1        3         5  \n",
      "...           ...     ...  ...      ...       ...  \n",
      "11991           3       0    1        3       996  \n",
      "11994           3       0    1        3       997  \n",
      "11997           3       0    1        3       998  \n",
      "12000           3       0    1        3       999  \n",
      "12003           3       0    1        3      1000  \n",
      "\n",
      "[4000 rows x 23 columns]>\n"
     ]
    }
   ],
   "source": [
    "print(rdf.keys)"
   ]
  },
  {
   "cell_type": "code",
   "execution_count": 7,
   "id": "tender-paraguay",
   "metadata": {},
   "outputs": [
    {
     "data": {
      "text/html": [
       "<div>\n",
       "<style scoped>\n",
       "    .dataframe tbody tr th:only-of-type {\n",
       "        vertical-align: middle;\n",
       "    }\n",
       "\n",
       "    .dataframe tbody tr th {\n",
       "        vertical-align: top;\n",
       "    }\n",
       "\n",
       "    .dataframe thead th {\n",
       "        text-align: right;\n",
       "    }\n",
       "</style>\n",
       "<table border=\"1\" class=\"dataframe\">\n",
       "  <thead>\n",
       "    <tr style=\"text-align: right;\">\n",
       "      <th></th>\n",
       "      <th>simulation</th>\n",
       "      <th>subset</th>\n",
       "      <th>run</th>\n",
       "      <th>substep</th>\n",
       "      <th>timestep</th>\n",
       "      <th>agent_label</th>\n",
       "      <th>q</th>\n",
       "      <th>s-0</th>\n",
       "      <th>s-1</th>\n",
       "      <th>r-0</th>\n",
       "      <th>r-1</th>\n",
       "      <th>p-0</th>\n",
       "      <th>p-1</th>\n",
       "    </tr>\n",
       "  </thead>\n",
       "  <tbody>\n",
       "    <tr>\n",
       "      <th>6</th>\n",
       "      <td>0</td>\n",
       "      <td>0</td>\n",
       "      <td>1</td>\n",
       "      <td>3</td>\n",
       "      <td>1</td>\n",
       "      <td>Trader</td>\n",
       "      <td>1000000.00</td>\n",
       "      <td>0</td>\n",
       "      <td>0</td>\n",
       "      <td>999950.00</td>\n",
       "      <td>1000133.84</td>\n",
       "      <td>0.00</td>\n",
       "      <td>0</td>\n",
       "    </tr>\n",
       "    <tr>\n",
       "      <th>7</th>\n",
       "      <td>0</td>\n",
       "      <td>0</td>\n",
       "      <td>1</td>\n",
       "      <td>3</td>\n",
       "      <td>1</td>\n",
       "      <td>LP1</td>\n",
       "      <td>0.00</td>\n",
       "      <td>50</td>\n",
       "      <td>0</td>\n",
       "      <td>0.00</td>\n",
       "      <td>0.00</td>\n",
       "      <td>2.00</td>\n",
       "      <td>0</td>\n",
       "    </tr>\n",
       "    <tr>\n",
       "      <th>12</th>\n",
       "      <td>0</td>\n",
       "      <td>0</td>\n",
       "      <td>1</td>\n",
       "      <td>3</td>\n",
       "      <td>2</td>\n",
       "      <td>Trader</td>\n",
       "      <td>1000000.00</td>\n",
       "      <td>0</td>\n",
       "      <td>0</td>\n",
       "      <td>999964.89</td>\n",
       "      <td>1000083.84</td>\n",
       "      <td>0.00</td>\n",
       "      <td>0</td>\n",
       "    </tr>\n",
       "    <tr>\n",
       "      <th>13</th>\n",
       "      <td>0</td>\n",
       "      <td>0</td>\n",
       "      <td>1</td>\n",
       "      <td>3</td>\n",
       "      <td>2</td>\n",
       "      <td>LP1</td>\n",
       "      <td>0.00</td>\n",
       "      <td>50</td>\n",
       "      <td>0</td>\n",
       "      <td>0.00</td>\n",
       "      <td>0.00</td>\n",
       "      <td>2.00</td>\n",
       "      <td>0</td>\n",
       "    </tr>\n",
       "    <tr>\n",
       "      <th>18</th>\n",
       "      <td>0</td>\n",
       "      <td>0</td>\n",
       "      <td>1</td>\n",
       "      <td>3</td>\n",
       "      <td>3</td>\n",
       "      <td>Trader</td>\n",
       "      <td>1000000.00</td>\n",
       "      <td>0</td>\n",
       "      <td>0</td>\n",
       "      <td>999979.78</td>\n",
       "      <td>1000033.84</td>\n",
       "      <td>0.00</td>\n",
       "      <td>0</td>\n",
       "    </tr>\n",
       "    <tr>\n",
       "      <th>...</th>\n",
       "      <td>...</td>\n",
       "      <td>...</td>\n",
       "      <td>...</td>\n",
       "      <td>...</td>\n",
       "      <td>...</td>\n",
       "      <td>...</td>\n",
       "      <td>...</td>\n",
       "      <td>...</td>\n",
       "      <td>...</td>\n",
       "      <td>...</td>\n",
       "      <td>...</td>\n",
       "      <td>...</td>\n",
       "      <td>...</td>\n",
       "    </tr>\n",
       "    <tr>\n",
       "      <th>23995</th>\n",
       "      <td>3</td>\n",
       "      <td>0</td>\n",
       "      <td>1</td>\n",
       "      <td>3</td>\n",
       "      <td>998</td>\n",
       "      <td>LP1</td>\n",
       "      <td>0.00</td>\n",
       "      <td>100</td>\n",
       "      <td>0</td>\n",
       "      <td>0.00</td>\n",
       "      <td>0.00</td>\n",
       "      <td>2.00</td>\n",
       "      <td>0</td>\n",
       "    </tr>\n",
       "    <tr>\n",
       "      <th>24000</th>\n",
       "      <td>3</td>\n",
       "      <td>0</td>\n",
       "      <td>1</td>\n",
       "      <td>3</td>\n",
       "      <td>999</td>\n",
       "      <td>Trader</td>\n",
       "      <td>1000000.00</td>\n",
       "      <td>0</td>\n",
       "      <td>0</td>\n",
       "      <td>965721.74</td>\n",
       "      <td>1065210.67</td>\n",
       "      <td>0.00</td>\n",
       "      <td>0</td>\n",
       "    </tr>\n",
       "    <tr>\n",
       "      <th>24001</th>\n",
       "      <td>3</td>\n",
       "      <td>0</td>\n",
       "      <td>1</td>\n",
       "      <td>3</td>\n",
       "      <td>999</td>\n",
       "      <td>LP1</td>\n",
       "      <td>0.00</td>\n",
       "      <td>100</td>\n",
       "      <td>0</td>\n",
       "      <td>0.00</td>\n",
       "      <td>0.00</td>\n",
       "      <td>2.00</td>\n",
       "      <td>0</td>\n",
       "    </tr>\n",
       "    <tr>\n",
       "      <th>24006</th>\n",
       "      <td>3</td>\n",
       "      <td>0</td>\n",
       "      <td>1</td>\n",
       "      <td>3</td>\n",
       "      <td>1000</td>\n",
       "      <td>Trader</td>\n",
       "      <td>1000000.00</td>\n",
       "      <td>0</td>\n",
       "      <td>0</td>\n",
       "      <td>965621.74</td>\n",
       "      <td>1065389.22</td>\n",
       "      <td>0.00</td>\n",
       "      <td>0</td>\n",
       "    </tr>\n",
       "    <tr>\n",
       "      <th>24007</th>\n",
       "      <td>3</td>\n",
       "      <td>0</td>\n",
       "      <td>1</td>\n",
       "      <td>3</td>\n",
       "      <td>1000</td>\n",
       "      <td>LP1</td>\n",
       "      <td>0.00</td>\n",
       "      <td>100</td>\n",
       "      <td>0</td>\n",
       "      <td>0.00</td>\n",
       "      <td>0.00</td>\n",
       "      <td>2.00</td>\n",
       "      <td>0</td>\n",
       "    </tr>\n",
       "  </tbody>\n",
       "</table>\n",
       "<p>8000 rows × 13 columns</p>\n",
       "</div>"
      ],
      "text/plain": [
       "       simulation  subset  run  substep  timestep agent_label          q  s-0  \\\n",
       "6               0       0    1        3         1      Trader 1000000.00    0   \n",
       "7               0       0    1        3         1         LP1       0.00   50   \n",
       "12              0       0    1        3         2      Trader 1000000.00    0   \n",
       "13              0       0    1        3         2         LP1       0.00   50   \n",
       "18              0       0    1        3         3      Trader 1000000.00    0   \n",
       "...           ...     ...  ...      ...       ...         ...        ...  ...   \n",
       "23995           3       0    1        3       998         LP1       0.00  100   \n",
       "24000           3       0    1        3       999      Trader 1000000.00    0   \n",
       "24001           3       0    1        3       999         LP1       0.00  100   \n",
       "24006           3       0    1        3      1000      Trader 1000000.00    0   \n",
       "24007           3       0    1        3      1000         LP1       0.00  100   \n",
       "\n",
       "       s-1       r-0        r-1  p-0  p-1  \n",
       "6        0 999950.00 1000133.84 0.00    0  \n",
       "7        0      0.00       0.00 2.00    0  \n",
       "12       0 999964.89 1000083.84 0.00    0  \n",
       "13       0      0.00       0.00 2.00    0  \n",
       "18       0 999979.78 1000033.84 0.00    0  \n",
       "...    ...       ...        ...  ...  ...  \n",
       "23995    0      0.00       0.00 2.00    0  \n",
       "24000    0 965721.74 1065210.67 0.00    0  \n",
       "24001    0      0.00       0.00 2.00    0  \n",
       "24006    0 965621.74 1065389.22 0.00    0  \n",
       "24007    0      0.00       0.00 2.00    0  \n",
       "\n",
       "[8000 rows x 13 columns]"
      ]
     },
     "execution_count": 7,
     "metadata": {},
     "output_type": "execute_result"
    }
   ],
   "source": [
    "agent_df"
   ]
  },
  {
   "cell_type": "code",
   "execution_count": 8,
   "id": "affected-portrait",
   "metadata": {},
   "outputs": [
    {
     "data": {
      "text/html": [
       "<div>\n",
       "<style scoped>\n",
       "    .dataframe tbody tr th:only-of-type {\n",
       "        vertical-align: middle;\n",
       "    }\n",
       "\n",
       "    .dataframe tbody tr th {\n",
       "        vertical-align: top;\n",
       "    }\n",
       "\n",
       "    .dataframe thead th {\n",
       "        text-align: right;\n",
       "    }\n",
       "</style>\n",
       "<table border=\"1\" class=\"dataframe\">\n",
       "  <thead>\n",
       "    <tr style=\"text-align: right;\">\n",
       "      <th></th>\n",
       "      <th>simulation</th>\n",
       "      <th>subset</th>\n",
       "      <th>run</th>\n",
       "      <th>substep</th>\n",
       "      <th>timestep</th>\n",
       "      <th>agent_label</th>\n",
       "      <th>q</th>\n",
       "      <th>s-0</th>\n",
       "      <th>s-1</th>\n",
       "      <th>r-0</th>\n",
       "      <th>r-1</th>\n",
       "      <th>p-0</th>\n",
       "      <th>p-1</th>\n",
       "    </tr>\n",
       "  </thead>\n",
       "  <tbody>\n",
       "    <tr>\n",
       "      <th>7</th>\n",
       "      <td>0</td>\n",
       "      <td>0</td>\n",
       "      <td>1</td>\n",
       "      <td>3</td>\n",
       "      <td>1</td>\n",
       "      <td>LP1</td>\n",
       "      <td>0.00</td>\n",
       "      <td>50</td>\n",
       "      <td>0</td>\n",
       "      <td>0.00</td>\n",
       "      <td>0.00</td>\n",
       "      <td>2.00</td>\n",
       "      <td>0</td>\n",
       "    </tr>\n",
       "    <tr>\n",
       "      <th>13</th>\n",
       "      <td>0</td>\n",
       "      <td>0</td>\n",
       "      <td>1</td>\n",
       "      <td>3</td>\n",
       "      <td>2</td>\n",
       "      <td>LP1</td>\n",
       "      <td>0.00</td>\n",
       "      <td>50</td>\n",
       "      <td>0</td>\n",
       "      <td>0.00</td>\n",
       "      <td>0.00</td>\n",
       "      <td>2.00</td>\n",
       "      <td>0</td>\n",
       "    </tr>\n",
       "    <tr>\n",
       "      <th>19</th>\n",
       "      <td>0</td>\n",
       "      <td>0</td>\n",
       "      <td>1</td>\n",
       "      <td>3</td>\n",
       "      <td>3</td>\n",
       "      <td>LP1</td>\n",
       "      <td>0.00</td>\n",
       "      <td>50</td>\n",
       "      <td>0</td>\n",
       "      <td>0.00</td>\n",
       "      <td>0.00</td>\n",
       "      <td>2.00</td>\n",
       "      <td>0</td>\n",
       "    </tr>\n",
       "    <tr>\n",
       "      <th>25</th>\n",
       "      <td>0</td>\n",
       "      <td>0</td>\n",
       "      <td>1</td>\n",
       "      <td>3</td>\n",
       "      <td>4</td>\n",
       "      <td>LP1</td>\n",
       "      <td>0.00</td>\n",
       "      <td>50</td>\n",
       "      <td>0</td>\n",
       "      <td>0.00</td>\n",
       "      <td>0.00</td>\n",
       "      <td>2.00</td>\n",
       "      <td>0</td>\n",
       "    </tr>\n",
       "    <tr>\n",
       "      <th>31</th>\n",
       "      <td>0</td>\n",
       "      <td>0</td>\n",
       "      <td>1</td>\n",
       "      <td>3</td>\n",
       "      <td>5</td>\n",
       "      <td>LP1</td>\n",
       "      <td>0.00</td>\n",
       "      <td>50</td>\n",
       "      <td>0</td>\n",
       "      <td>0.00</td>\n",
       "      <td>0.00</td>\n",
       "      <td>2.00</td>\n",
       "      <td>0</td>\n",
       "    </tr>\n",
       "    <tr>\n",
       "      <th>...</th>\n",
       "      <td>...</td>\n",
       "      <td>...</td>\n",
       "      <td>...</td>\n",
       "      <td>...</td>\n",
       "      <td>...</td>\n",
       "      <td>...</td>\n",
       "      <td>...</td>\n",
       "      <td>...</td>\n",
       "      <td>...</td>\n",
       "      <td>...</td>\n",
       "      <td>...</td>\n",
       "      <td>...</td>\n",
       "      <td>...</td>\n",
       "    </tr>\n",
       "    <tr>\n",
       "      <th>23983</th>\n",
       "      <td>3</td>\n",
       "      <td>0</td>\n",
       "      <td>1</td>\n",
       "      <td>3</td>\n",
       "      <td>996</td>\n",
       "      <td>LP1</td>\n",
       "      <td>0.00</td>\n",
       "      <td>100</td>\n",
       "      <td>0</td>\n",
       "      <td>0.00</td>\n",
       "      <td>0.00</td>\n",
       "      <td>2.00</td>\n",
       "      <td>0</td>\n",
       "    </tr>\n",
       "    <tr>\n",
       "      <th>23989</th>\n",
       "      <td>3</td>\n",
       "      <td>0</td>\n",
       "      <td>1</td>\n",
       "      <td>3</td>\n",
       "      <td>997</td>\n",
       "      <td>LP1</td>\n",
       "      <td>0.00</td>\n",
       "      <td>100</td>\n",
       "      <td>0</td>\n",
       "      <td>0.00</td>\n",
       "      <td>0.00</td>\n",
       "      <td>2.00</td>\n",
       "      <td>0</td>\n",
       "    </tr>\n",
       "    <tr>\n",
       "      <th>23995</th>\n",
       "      <td>3</td>\n",
       "      <td>0</td>\n",
       "      <td>1</td>\n",
       "      <td>3</td>\n",
       "      <td>998</td>\n",
       "      <td>LP1</td>\n",
       "      <td>0.00</td>\n",
       "      <td>100</td>\n",
       "      <td>0</td>\n",
       "      <td>0.00</td>\n",
       "      <td>0.00</td>\n",
       "      <td>2.00</td>\n",
       "      <td>0</td>\n",
       "    </tr>\n",
       "    <tr>\n",
       "      <th>24001</th>\n",
       "      <td>3</td>\n",
       "      <td>0</td>\n",
       "      <td>1</td>\n",
       "      <td>3</td>\n",
       "      <td>999</td>\n",
       "      <td>LP1</td>\n",
       "      <td>0.00</td>\n",
       "      <td>100</td>\n",
       "      <td>0</td>\n",
       "      <td>0.00</td>\n",
       "      <td>0.00</td>\n",
       "      <td>2.00</td>\n",
       "      <td>0</td>\n",
       "    </tr>\n",
       "    <tr>\n",
       "      <th>24007</th>\n",
       "      <td>3</td>\n",
       "      <td>0</td>\n",
       "      <td>1</td>\n",
       "      <td>3</td>\n",
       "      <td>1000</td>\n",
       "      <td>LP1</td>\n",
       "      <td>0.00</td>\n",
       "      <td>100</td>\n",
       "      <td>0</td>\n",
       "      <td>0.00</td>\n",
       "      <td>0.00</td>\n",
       "      <td>2.00</td>\n",
       "      <td>0</td>\n",
       "    </tr>\n",
       "  </tbody>\n",
       "</table>\n",
       "<p>4000 rows × 13 columns</p>\n",
       "</div>"
      ],
      "text/plain": [
       "       simulation  subset  run  substep  timestep agent_label    q  s-0  s-1  \\\n",
       "7               0       0    1        3         1         LP1 0.00   50    0   \n",
       "13              0       0    1        3         2         LP1 0.00   50    0   \n",
       "19              0       0    1        3         3         LP1 0.00   50    0   \n",
       "25              0       0    1        3         4         LP1 0.00   50    0   \n",
       "31              0       0    1        3         5         LP1 0.00   50    0   \n",
       "...           ...     ...  ...      ...       ...         ...  ...  ...  ...   \n",
       "23983           3       0    1        3       996         LP1 0.00  100    0   \n",
       "23989           3       0    1        3       997         LP1 0.00  100    0   \n",
       "23995           3       0    1        3       998         LP1 0.00  100    0   \n",
       "24001           3       0    1        3       999         LP1 0.00  100    0   \n",
       "24007           3       0    1        3      1000         LP1 0.00  100    0   \n",
       "\n",
       "       r-0  r-1  p-0  p-1  \n",
       "7     0.00 0.00 2.00    0  \n",
       "13    0.00 0.00 2.00    0  \n",
       "19    0.00 0.00 2.00    0  \n",
       "25    0.00 0.00 2.00    0  \n",
       "31    0.00 0.00 2.00    0  \n",
       "...    ...  ...  ...  ...  \n",
       "23983 0.00 0.00 2.00    0  \n",
       "23989 0.00 0.00 2.00    0  \n",
       "23995 0.00 0.00 2.00    0  \n",
       "24001 0.00 0.00 2.00    0  \n",
       "24007 0.00 0.00 2.00    0  \n",
       "\n",
       "[4000 rows x 13 columns]"
      ]
     },
     "execution_count": 8,
     "metadata": {},
     "output_type": "execute_result"
    }
   ],
   "source": [
    "agent_df.query('agent_label==\"LP1\"')"
   ]
  },
  {
   "cell_type": "markdown",
   "id": "regional-input",
   "metadata": {},
   "source": [
    "## How to metric"
   ]
  },
  {
   "cell_type": "code",
   "execution_count": 9,
   "id": "boring-canal",
   "metadata": {},
   "outputs": [
    {
     "data": {
      "text/plain": [
       "3000   1466016.73\n",
       "Name: R-1, dtype: float64"
      ]
     },
     "execution_count": 9,
     "metadata": {},
     "output_type": "execute_result"
    }
   ],
   "source": [
    "rdf.loc[(rdf['simulation'] == 0) & (rdf['timestep'] == 1000)]['R-1']"
   ]
  },
  {
   "cell_type": "code",
   "execution_count": 10,
   "id": "tropical-foundation",
   "metadata": {},
   "outputs": [
    {
     "data": {
      "text/plain": [
       "117399.73346950552"
      ]
     },
     "execution_count": 10,
     "metadata": {},
     "output_type": "execute_result"
    }
   ],
   "source": [
    "#import pandas as pd\n",
    "#rdf.get_value('simulation' == 0 )]\n",
    "rdf1 = rdf[rdf[\"simulation\"] == 0]\n",
    "rdf2 = rdf1[rdf1[\"timestep\"] == 1000]\n",
    "x_0 = rdf2['R-0'].iloc[0]\n",
    "x_0\n"
   ]
  },
  {
   "cell_type": "code",
   "execution_count": 11,
   "id": "aging-regard",
   "metadata": {},
   "outputs": [
    {
     "data": {
      "text/plain": [
       "6001   1446979.03\n",
       "Name: R-1, dtype: float64"
      ]
     },
     "execution_count": 11,
     "metadata": {},
     "output_type": "execute_result"
    }
   ],
   "source": [
    "rdf.loc[(rdf['simulation'] == 1) & (rdf['timestep'] == 1000)]['R-1']"
   ]
  },
  {
   "cell_type": "code",
   "execution_count": 12,
   "id": "running-exercise",
   "metadata": {},
   "outputs": [
    {
     "data": {
      "text/plain": [
       "9002   1461729.47\n",
       "Name: R-1, dtype: float64"
      ]
     },
     "execution_count": 12,
     "metadata": {},
     "output_type": "execute_result"
    }
   ],
   "source": [
    "rdf.loc[(rdf['simulation'] == 2) & (rdf['timestep'] == 1000)]['R-1']"
   ]
  },
  {
   "cell_type": "code",
   "execution_count": 13,
   "id": "independent-warehouse",
   "metadata": {},
   "outputs": [
    {
     "data": {
      "text/plain": [
       "12003   1434610.78\n",
       "Name: R-1, dtype: float64"
      ]
     },
     "execution_count": 13,
     "metadata": {},
     "output_type": "execute_result"
    }
   ],
   "source": [
    "rdf.loc[(rdf['simulation'] == 3) & (rdf['timestep'] == 1000)]['R-1']"
   ]
  },
  {
   "cell_type": "code",
   "execution_count": 14,
   "id": "durable-choir",
   "metadata": {},
   "outputs": [
    {
     "data": {
      "text/plain": [
       "3   1499866.16\n",
       "Name: R-1, dtype: float64"
      ]
     },
     "execution_count": 14,
     "metadata": {},
     "output_type": "execute_result"
    }
   ],
   "source": [
    "rdf.loc[(rdf['simulation'] == 0) & (rdf['timestep'] == 1)]['R-1']"
   ]
  },
  {
   "cell_type": "code",
   "execution_count": 15,
   "id": "german-jumping",
   "metadata": {},
   "outputs": [
    {
     "data": {
      "text/plain": [
       "3004   1499732.48\n",
       "Name: R-1, dtype: float64"
      ]
     },
     "execution_count": 15,
     "metadata": {},
     "output_type": "execute_result"
    }
   ],
   "source": [
    "rdf.loc[(rdf['simulation'] == 1) & (rdf['timestep'] == 1)]['R-1']"
   ]
  },
  {
   "cell_type": "code",
   "execution_count": 16,
   "id": "vulnerable-republic",
   "metadata": {},
   "outputs": [
    {
     "data": {
      "text/plain": [
       "6005   1499866.13\n",
       "Name: R-1, dtype: float64"
      ]
     },
     "execution_count": 16,
     "metadata": {},
     "output_type": "execute_result"
    }
   ],
   "source": [
    "rdf.loc[(rdf['simulation'] == 2) & (rdf['timestep'] == 1)]['R-1']"
   ]
  },
  {
   "cell_type": "code",
   "execution_count": 17,
   "id": "adjusted-delicious",
   "metadata": {
    "scrolled": true
   },
   "outputs": [
    {
     "data": {
      "text/plain": [
       "9006   1499732.34\n",
       "Name: R-1, dtype: float64"
      ]
     },
     "execution_count": 17,
     "metadata": {},
     "output_type": "execute_result"
    }
   ],
   "source": [
    "rdf.loc[(rdf['simulation'] == 3) & (rdf['timestep'] == 1)]['R-1']"
   ]
  },
  {
   "cell_type": "markdown",
   "id": "approximate-boston",
   "metadata": {},
   "source": [
    "### Calculate change in pool value"
   ]
  },
  {
   "cell_type": "markdown",
   "id": "absent-floating",
   "metadata": {},
   "source": [
    "#### R-0"
   ]
  },
  {
   "cell_type": "code",
   "execution_count": 18,
   "id": "editorial-strap",
   "metadata": {},
   "outputs": [
    {
     "data": {
      "text/plain": [
       "117399.73346950552"
      ]
     },
     "execution_count": 18,
     "metadata": {},
     "output_type": "execute_result"
    }
   ],
   "source": [
    "rdf1 = rdf[rdf[\"simulation\"] == 0]\n",
    "rdf2 = rdf1[rdf1[\"timestep\"] == 1000]\n",
    "r0_1 = rdf2['R-0'].iloc[0]\n",
    "r0_1"
   ]
  },
  {
   "cell_type": "code",
   "execution_count": 19,
   "id": "forty-arbitration",
   "metadata": {},
   "outputs": [
    {
     "data": {
      "text/plain": [
       "100050.0"
      ]
     },
     "execution_count": 19,
     "metadata": {},
     "output_type": "execute_result"
    }
   ],
   "source": [
    "rdf1 = rdf[rdf[\"simulation\"] == 0]\n",
    "rdf2 = rdf1[rdf1[\"timestep\"] == 1]\n",
    "r0_0 = rdf2['R-0'].iloc[0]\n",
    "r0_0"
   ]
  },
  {
   "cell_type": "code",
   "execution_count": 20,
   "id": "fixed-radical",
   "metadata": {
    "scrolled": true
   },
   "outputs": [
    {
     "data": {
      "text/plain": [
       "17349.733469505518"
      ]
     },
     "execution_count": 20,
     "metadata": {},
     "output_type": "execute_result"
    }
   ],
   "source": [
    "profit_sim0_r0 = r0_1 - r0_0\n",
    "profit_sim0_r0"
   ]
  },
  {
   "cell_type": "markdown",
   "id": "comprehensive-incidence",
   "metadata": {},
   "source": [
    "#### R-1"
   ]
  },
  {
   "cell_type": "code",
   "execution_count": 21,
   "id": "significant-security",
   "metadata": {},
   "outputs": [
    {
     "data": {
      "text/plain": [
       "1466016.7310875203"
      ]
     },
     "execution_count": 21,
     "metadata": {},
     "output_type": "execute_result"
    }
   ],
   "source": [
    "rdf1 = rdf[rdf[\"simulation\"] == 0]\n",
    "rdf2 = rdf1[rdf1[\"timestep\"] == 1000]\n",
    "r1_1 = rdf2['R-1'].iloc[0]\n",
    "r1_1"
   ]
  },
  {
   "cell_type": "code",
   "execution_count": 22,
   "id": "leading-province",
   "metadata": {},
   "outputs": [
    {
     "data": {
      "text/plain": [
       "1499866.1593674952"
      ]
     },
     "execution_count": 22,
     "metadata": {},
     "output_type": "execute_result"
    }
   ],
   "source": [
    "rdf1 = rdf[rdf[\"simulation\"] == 0]\n",
    "rdf2 = rdf1[rdf1[\"timestep\"] == 1]\n",
    "r1_0 = rdf2['R-1'].iloc[0]\n",
    "r1_0"
   ]
  },
  {
   "cell_type": "code",
   "execution_count": 23,
   "id": "sharp-hands",
   "metadata": {},
   "outputs": [
    {
     "data": {
      "text/plain": [
       "-33849.42827997496"
      ]
     },
     "execution_count": 23,
     "metadata": {},
     "output_type": "execute_result"
    }
   ],
   "source": [
    "profit_sim0_r1 = r1_1 - r1_0\n",
    "profit_sim0_r1"
   ]
  },
  {
   "cell_type": "markdown",
   "id": "alone-whale",
   "metadata": {},
   "source": [
    "#### Total pool value"
   ]
  },
  {
   "cell_type": "code",
   "execution_count": 24,
   "id": "embedded-techno",
   "metadata": {},
   "outputs": [
    {
     "data": {
      "text/plain": [
       "-16499.694810469446"
      ]
     },
     "execution_count": 24,
     "metadata": {},
     "output_type": "execute_result"
    }
   ],
   "source": [
    "profit_sim0_r1 + profit_sim0_r0"
   ]
  },
  {
   "cell_type": "markdown",
   "id": "mysterious-paris",
   "metadata": {},
   "source": [
    "## How to heatmap"
   ]
  },
  {
   "cell_type": "code",
   "execution_count": 25,
   "id": "favorite-warning",
   "metadata": {
    "scrolled": true
   },
   "outputs": [
    {
     "data": {
      "image/png": "[encoded data removed]",
      "text/plain": [
       "<Figure size 432x288 with 2 Axes>"
      ]
     },
     "metadata": {
      "needs_background": "light"
     },
     "output_type": "display_data"
    }
   ],
   "source": [
    "import numpy as np\n",
    "import seaborn as sns\n",
    "import matplotlib.pylab as plt\n",
    "\n",
    "# set variables & parameters\n",
    "\n",
    "fee_level = 0.03\n",
    "# uniform_data = np.random.rand(10, 12)\n",
    "#trade_volume = {'10': 0.5, '20': 0.6}\n",
    "#liquidity = {'1000': 0.5, '2000': 0.6}\n",
    "trade_volume = (50, 100, 200, 500, 1000, 2000, 5000, 10000, 20000)\n",
    "liquidity = (100000, 200000, 300000, 400000, 500000, 600000, 700000, 800000)\n",
    "\n",
    "#create matrix for comparison\n",
    "m=len(trade_volume)\n",
    "n=len(liquidity)\n",
    "matrix = np.ndarray(shape = (m,n), dtype = int)\n",
    "\n",
    "# index matrix\n",
    "#better_index = [\"X1\", \"X2\", \"Y1\", \"Y2\", \"Y3\"]\n",
    "#matrix.index = better_index\n",
    "\n",
    "# fill in matrix with calculation results\n",
    "for i in range(len(liquidity)):\n",
    "    for j in range(len(trade_volume)):\n",
    "        matrix[j][i] = np.random.randint(1, 100 + 1)\n",
    "\n",
    "\n",
    "\n",
    "\n",
    "#ax = sns.heatmap(uniform_data, linewidth=0.5)\n",
    "ax = sns.heatmap(matrix, linewidth=0.5, annot=True, fmt=\"d\")\n",
    "ax.set_title(\"LP Profits\")\n",
    "#ax.set_title(\"LP Profits for fee level:\" % fee_level)\n",
    "ax.set_xlabel('Liquidity')\n",
    "ax.set_ylabel('Trade Volume')\n",
    "plt.show()"
   ]
  },
  {
   "cell_type": "code",
   "execution_count": 26,
   "id": "convertible-plasma",
   "metadata": {},
   "outputs": [
    {
     "data": {
      "text/plain": [
       "array([[33,  6, 72,  5, 79, 77, 68, 33],\n",
       "       [23, 22, 58, 42, 66, 65, 21, 88],\n",
       "       [51, 53, 29,  8,  6,  5, 21, 35],\n",
       "       [26, 83, 80, 73, 82, 34, 20, 87],\n",
       "       [39, 89, 80, 22, 44, 98, 94,  9],\n",
       "       [38, 35, 75, 45, 92, 26,  8, 42],\n",
       "       [49,  1,  6, 12, 70, 24, 67, 97],\n",
       "       [57, 50, 82, 69, 48, 25, 50, 82],\n",
       "       [62, 33, 90, 30, 94, 15, 82,  9]])"
      ]
     },
     "execution_count": 26,
     "metadata": {},
     "output_type": "execute_result"
    }
   ],
   "source": [
    "matrix"
   ]
  },
  {
   "cell_type": "code",
   "execution_count": 27,
   "id": "engaged-logging",
   "metadata": {},
   "outputs": [
    {
     "data": {
      "image/png": "[encoded data removed]",
      "text/plain": [
       "<Figure size 432x288 with 2 Axes>"
      ]
     },
     "metadata": {},
     "output_type": "display_data"
    }
   ],
   "source": [
    "corr = np.corrcoef(np.random.randn(10, 200))\n",
    "mask = np.zeros_like(corr)\n",
    "mask[np.triu_indices_from(mask)] = True\n",
    "with sns.axes_style(\"white\"):\n",
    "    ax = sns.heatmap(corr, mask=mask, vmax=.3, square=True,  cmap=\"YlGnBu\")\n",
    "    plt.show()"
   ]
  },
  {
   "cell_type": "code",
   "execution_count": 28,
   "id": "stopped-tokyo",
   "metadata": {},
   "outputs": [
    {
     "data": {
      "image/png": "[encoded data removed]",
      "text/plain": [
       "<Figure size 432x288 with 2 Axes>"
      ]
     },
     "metadata": {
      "needs_background": "light"
     },
     "output_type": "display_data"
    }
   ],
   "source": [
    "import matplotlib.pyplot as plt\n",
    "import numpy as np\n",
    "\n",
    "# generate 2 2d grids for the x & y bounds\n",
    "y, x = np.meshgrid(np.linspace(-3, 3, 100), np.linspace(-3, 3, 100))\n",
    "\n",
    "z = (1 - x / 2. + x ** 5 + y ** 3) * np.exp(-x ** 2 - y ** 2)\n",
    "# x and y are bounds, so z should be the value *inside* those bounds.\n",
    "# Therefore, remove the last value from the z array.\n",
    "z = z[:-1, :-1]\n",
    "z_min, z_max = -np.abs(z).max(), np.abs(z).max()\n",
    "\n",
    "fig, ax = plt.subplots()\n",
    "\n",
    "c = ax.pcolormesh(x, y, z, cmap='RdBu', vmin=z_min, vmax=z_max)\n",
    "ax.set_title('pcolormesh')\n",
    "# set the limits of the plot to the limits of the data\n",
    "ax.axis([x.min(), x.max(), y.min(), y.max()])\n",
    "fig.colorbar(c, ax=ax)\n",
    "\n",
    "plt.show()"
   ]
  },
  {
   "cell_type": "code",
   "execution_count": 29,
   "id": "answering-peter",
   "metadata": {
    "scrolled": true
   },
   "outputs": [
    {
     "data": {
      "image/png": "[encoded data removed]",
      "text/plain": [
       "<Figure size 432x288 with 2 Axes>"
      ]
     },
     "metadata": {
      "needs_background": "light"
     },
     "output_type": "display_data"
    }
   ],
   "source": [
    "import matplotlib.pyplot as plt\n",
    "import numpy as np\n",
    "\n",
    "\n",
    "def heatmap2d(arr: np.ndarray):\n",
    "    plt.imshow(arr, cmap='viridis')\n",
    "    plt.colorbar()\n",
    "    plt.show()\n",
    "\n",
    "\n",
    "test_array = np.arange(100 * 100).reshape(100, 100)\n",
    "heatmap2d(test_array)"
   ]
  },
  {
   "cell_type": "code",
   "execution_count": 30,
   "id": "prescribed-class",
   "metadata": {},
   "outputs": [
    {
     "data": {
      "text/plain": [
       "(50, 100, 200, 500, 1000, 2000, 5000, 10000, 20000)"
      ]
     },
     "execution_count": 30,
     "metadata": {},
     "output_type": "execute_result"
    }
   ],
   "source": [
    "trade_volume"
   ]
  }
 ],
 "metadata": {
  "kernelspec": {
   "display_name": "Python 3",
   "language": "python",
   "name": "python3"
  },
  "language_info": {
   "codemirror_mode": {
    "name": "ipython",
    "version": 3
   },
   "file_extension": ".py",
   "mimetype": "text/x-python",
   "name": "python",
   "nbconvert_exporter": "python",
   "pygments_lexer": "ipython3",
   "version": "3.8.5"
  }
 },
 "nbformat": 4,
 "nbformat_minor": 5
}
