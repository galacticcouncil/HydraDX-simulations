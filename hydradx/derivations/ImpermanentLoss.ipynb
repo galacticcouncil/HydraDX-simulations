{
 "cells": [
  {
   "cell_type": "markdown",
   "id": "eb74ffba-acf3-4147-9e39-f82aa2ae0707",
   "metadata": {},
   "source": [
    "We consider the IL of an LP who contributes $\\Delta r_\\alpha$ of liquidity in asset $i$ to Omnipool through a price of of $p_\\alpha \\to p_i^Q$."
   ]
  },
  {
   "cell_type": "markdown",
   "id": "b8c84649-0540-4461-b505-fd7ddefe700e",
   "metadata": {},
   "source": [
    "Per the spec, when the LP contributed $\\Delta r_\\alpha (< 0)$ shares, they received\n",
    "$$\n",
    "s_i = \\Delta s_\\alpha = S_{i0} \\frac{-\\Delta r_\\alpha}{R_{i0}}\\\\\n",
    "$$\n",
    "\n",
    "(Note that the sign of $\\Delta$ variables will indicate flow to the agent or AMM depending on the variable. When they agent contributes liquidity to the AMM, $\\Delta r_\\alpha < 0$, since it is an agent variable.)"
   ]
  },
  {
   "cell_type": "markdown",
   "id": "1a0f88d9-1e8f-4634-9d8a-1a7301a6c500",
   "metadata": {},
   "source": [
    "We now consider what the LP is entitled to withdraw.\n",
    "\n",
    "Per the spec, the LP receives $\\Delta r_i$ of asset $i$ and $\\Delta q_i$ of LHDX, with\n",
    "$$\n",
    "\\begin{align}\n",
    "\\Delta B_i &= max\\left(\\frac{p_\\alpha - p_i^Q}{p_i^Q + p_\\alpha}s_i, -B_i\\right)\\\\\n",
    "\\Delta r_i &= \\frac{R_i}{S_i} (s_i - \\Delta B_i) \\\\\\\\\n",
    "\\Delta q_i &= p_i^Q\\left(\\frac{2p_i^Q}{p_i^Q + p_\\alpha} \\frac{s_i}{S_i}R_i - \\Delta r_i\\right)\n",
    "\\end{align}\n",
    "$$\n",
    "\n",
    "We consider 2 cases."
   ]
  },
  {
   "cell_type": "markdown",
   "id": "2ff496b8-0991-48e6-a12f-62474c390daa",
   "metadata": {},
   "source": [
    "### $\\frac{p_\\alpha - p_i^Q}{p_i^Q + p_\\alpha}s_i > -B_i$"
   ]
  },
  {
   "cell_type": "markdown",
   "id": "b2b0ceb3-a0d8-4264-873a-f81743a77c1c",
   "metadata": {},
   "source": [
    "$$\n",
    "\\Delta B_i = \\frac{p_\\alpha - p_i^Q}{p_i^Q + p_\\alpha}s_i\\\\\n",
    "\\Delta r_i = \\frac{R_i}{S_i} (s_i - \\frac{p_\\alpha - p_i^Q}{p_i^Q + p_\\alpha}s_i) = \\frac{R_i}{S_i}\\frac{2p_i^Q}{p_i^Q + p_\\alpha}s_i\\\\\n",
    "\\Delta q_i = 0\n",
    "$$"
   ]
  },
  {
   "cell_type": "markdown",
   "id": "fcbbf476-8746-4206-b4d3-d4c11818acd9",
   "metadata": {},
   "source": [
    "### $\\frac{p_\\alpha - p_i^Q}{p_i^Q + p_\\alpha}s_i < -B_i$"
   ]
  },
  {
   "cell_type": "markdown",
   "id": "f977387b-70ba-4728-99e9-8ce0d9a3fec1",
   "metadata": {},
   "source": [
    "$$\n",
    "\\begin{align}\n",
    "\\Delta B_i &= -B_i\\\\\n",
    "\\Delta r_i &= \\frac{R_i}{S_i} (s_i + B_i)\\\\\n",
    "\\Delta q_i &= p_i^Q\\left(\\frac{2p_i^Q}{p_i^Q + p_\\alpha} \\frac{s_i}{S_i}R_i - \\frac{R_i}{S_i} (s_i + B_i)\\right)\\\\\n",
    "\\end{align}\n",
    "$$"
   ]
  },
  {
   "cell_type": "markdown",
   "id": "edcfed89-4691-4d74-b177-9158330a5618",
   "metadata": {},
   "source": [
    "Note that in either of these cases, the payout has value\n",
    "$$\n",
    "p_i^Q\\Delta r_i + \\Delta q_i = p_i^Q \\frac{R_i}{S_i}\\frac{2p_i^Q}{p_i^Q + p_\\alpha}s_i\n",
    "$$"
   ]
  },
  {
   "cell_type": "markdown",
   "id": "8dfbed7d-4153-47a1-ba55-1f546f8f91ae",
   "metadata": {},
   "source": [
    "We next examine $\\frac{R_i}{S_i}$. Note that when liquidity is added or removed, $\\frac{R_i}{S_i}$ does not change. When a swap occurs, $S_i$ does not change but $R_i$ does, according to\n",
    "$$\n",
    "R_i^+ Q_i^+ = R_i Q_i\n",
    "$$\n",
    "Since $p = \\frac{Q_i}{R_i}$, this means\n",
    "$$\n",
    "\\begin{align}\n",
    "p^+ (R_i^+)^2 &= p (R_i)^2\\\\\n",
    "\\frac{R_i^+}{R_i} &= \\sqrt{\\frac{p}{p^+}}\n",
    "\\end{align}\n",
    "$$\n",
    "Since $S_i^+ = S_i$, we have\n",
    "$$\n",
    "\\begin{align}\n",
    "\\frac{R_i^+}{R_i}\\frac{S_i}{S_i^+} &= \\sqrt{\\frac{p}{p^+}}\\\\\n",
    "\\frac{R_i^+}{S_i^+} &= \\sqrt{\\frac{p}{p^+}}\\frac{R_i}{S_i}\\\\\n",
    "\\end{align}\n",
    "$$"
   ]
  },
  {
   "cell_type": "markdown",
   "id": "b7956662-858c-44a2-b403-2a562b6d5f62",
   "metadata": {},
   "source": [
    "Thus for a sequence of swaps, the change in $\\frac{R_i}{S_i}$ can be computed solely from the change in spot price. Since neither spot price nor $\\frac{R_i}{S_i}$ changes during a liquidity add or withdrawal, this formula will hold for any combination of swaps, liquidity adds and withdrawals."
   ]
  },
  {
   "cell_type": "markdown",
   "id": "d285439a-d007-453b-ae2e-dc11e27f3884",
   "metadata": {},
   "source": [
    "Translating this back to our notation from the rest of the derivation, we get\n",
    "$$\n",
    "\\frac{R_i}{S_i} = \\sqrt{\\frac{p_\\alpha}{p_i^Q}}\\frac{R_{i0}}{S_{i0}}\\\\\n",
    "$$"
   ]
  },
  {
   "cell_type": "markdown",
   "id": "39057d57-79bc-4c11-880c-8ee260b0980c",
   "metadata": {},
   "source": [
    "For the IL calculation, this is $val_{pool}$, while $val_{hold} = -p_i^Q\\Delta r_\\alpha$."
   ]
  },
  {
   "cell_type": "markdown",
   "id": "c1ef202a-7dcb-43f1-8e10-de1d0f8564cc",
   "metadata": {},
   "source": [
    "Thus\n",
    "$$\n",
    "\\begin{align}\n",
    "IL &= \\frac{val_{pool}}{val_{hold}} - 1\\\\\n",
    "&= p_i^Q \\frac{R_i}{S_i}\\frac{2p_i^Q}{p_i^Q + p_\\alpha}s_i \\frac{1}{-p_i^Q\\Delta r_\\alpha} - 1\\\\\n",
    "&= -\\frac{R_{i0}s_i}{\\Delta r_\\alpha S_{i0}}\\frac{2\\sqrt{p_i^Q p_\\alpha}}{p_i^Q + p_\\alpha} - 1\\\\\n",
    "&= \\frac{2\\sqrt{p_i^Q p_\\alpha}}{p_i^Q + p_\\alpha} - 1\\\\\n",
    "\\end{align}\n",
    "$$\n",
    "\n"
   ]
  },
  {
   "cell_type": "markdown",
   "id": "ef8e42d3-c0a7-437e-bbaf-3f306bbab559",
   "metadata": {},
   "source": [
    "This is identical to the IL of an $xy = k$ pool between the asset $i$ and LHDX."
   ]
  }
 ],
 "metadata": {
  "kernelspec": {
   "display_name": "Python 3",
   "language": "python",
   "name": "python3"
  },
  "language_info": {
   "codemirror_mode": {
    "name": "ipython",
    "version": 3
   },
   "file_extension": ".py",
   "mimetype": "text/x-python",
   "name": "python",
   "nbconvert_exporter": "python",
   "pygments_lexer": "ipython3",
   "version": "3.9.5"
  }
 },
 "nbformat": 4,
 "nbformat_minor": 5
}
