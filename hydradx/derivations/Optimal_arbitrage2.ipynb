{
 "cells": [
  {
   "cell_type": "markdown",
   "metadata": {},
   "source": [
    "# Calculation of optimal arbitrage size in Omnipool for swap between a risk asset $i$ and a stablecoin (which we assume is asset $0$)\n"
   ]
  },
  {
   "cell_type": "markdown",
   "metadata": {},
   "source": [
    "### Variables\n",
    "- $f_A,f_P$: asset fee, protocol fee\n",
    "- $Q_i$: amount of Lerna in $i$ subpool\n",
    "- $R_i$: amount of risk asset $i$ in subpool\n",
    "- $\\rho_i^+ (\\rho_i^-)$: dollar price of buying (selling) risk asset $i$ on external market with infinite liquidity\n",
    "- $p_i$: spot price in dollars of asset $i$, if fees were zero\n",
    "- $p_i^+ (p_i^-)$: spot price in dollars of asset $i$, when selling asset to (buying asset from) pool\n",
    "- $\\Delta R_i$: amount of risk asset $i$ we add or withdraw\n",
    "- $\\Delta Q_i$: amount of Lerna in subpool $i$ we add or withdraw"
   ]
  },
  {
   "cell_type": "markdown",
   "metadata": {},
   "source": [
    "If $\\rho_i^+ < p_i^+$, an arbitrager will sell some quantity $\\Delta R_i > 0$ of asset $i$ to pool such that after the transaction $p_i^+ = \\rho_i^+$.\n",
    "\n",
    "If $\\rho_i^- > p_i^-$, an arbitrager will sell some quantity $\\Delta R_0 > 0$ of asset $0$ (the stablecoin) to pool such that after the transaction $p_i^- = \\rho_i^-$."
   ]
  },
  {
   "cell_type": "markdown",
   "metadata": {},
   "source": [
    "Note that\n",
    "$$\n",
    "\\begin{align}\n",
    "p_i &= \\frac{Q_i}{Q_0}\\frac{R_0}{R_i}\\\\\n",
    "p_i^+ &= \\frac{Q_i}{Q_0}\\frac{R_0}{R_i}(1 - f_P)(1 - f_A)\\\\\n",
    "p_i^- &= \\frac{Q_i}{Q_0}\\frac{R_0}{R_i}\\frac{1}{(1 - f_P)(1 - f_A)}\\\\\n",
    "\\end{align}\n",
    "$$"
   ]
  },
  {
   "cell_type": "markdown",
   "metadata": {},
   "source": [
    "### $\\rho_i^- > p_i^-$"
   ]
  },
  {
   "cell_type": "markdown",
   "metadata": {},
   "source": [
    "The arbitrager will choose $\\Delta R_0$ such that\n",
    "$$\n",
    "\\rho_i^- = \\frac{Q_i + \\Delta Q_i}{Q_0 + \\Delta Q_0}\\frac{R_0 + \\Delta R_0}{R_i + \\Delta R_i}\\frac{1}{(1 - f_P)(1 - f_A)}\n",
    "$$"
   ]
  },
  {
   "cell_type": "markdown",
   "metadata": {},
   "source": [
    "Following the swap equations through, we have\n",
    "$$\n",
    "\\begin{align}\n",
    "\\Delta Q_0 &= Q_0 \\frac{-\\Delta R_0}{R_0^+}\\\\\n",
    "\\Delta Q_i &= - \\Delta Q_0 (1 - f_P)\\\\\n",
    "\\Delta R_i &= R_i \\frac{-\\Delta Q_i}{Q_i^+}\\\\\n",
    "\\Delta r_i &= -\\Delta R_i (1 - f_A)\n",
    "\\end{align}\n",
    "$$\n"
   ]
  },
  {
   "cell_type": "markdown",
   "metadata": {},
   "source": [
    "Substituting, we see\n",
    "$$\n",
    "\\begin{align}\n",
    "\\Delta Q_i &= Q_0 \\frac{\\Delta R_0}{R_0^+} (1 - f_P)\\\\\n",
    "\\Delta R_i &= R_i \\frac{-Q_0 \\Delta R_0 (1 - f_P)}{Q_iR_0^+ + Q_0 \\Delta R_0 (1 - f_P)}\\\\\n",
    "\\end{align}\n",
    "$$"
   ]
  },
  {
   "cell_type": "markdown",
   "metadata": {},
   "source": [
    "$$\n",
    "\\begin{align}\n",
    "\\rho_i^- &= \\frac{Q_i + Q_0 \\frac{\\Delta R_0}{R_0^+} (1 - f_P)}{Q_0 + Q_0 \\frac{-\\Delta R_0}{R_0^+}}\\frac{R_0 + \\Delta R_0}{R_i + R_i \\frac{-Q_0 \\Delta R_0 (1 - f_P)}{Q_iR_0^+ + Q_0 \\Delta R_0 (1 - f_P)}}\\frac{1}{(1 - f_P)(1 - f_A)}\\\\\n",
    "\\rho_i^- &= \\frac{R_0^+Q_i + Q_0 \\Delta R_0 (1 - f_P)}{Q_0R_0}\\frac{R_0 + \\Delta R_0}{R_i \\frac{Q_iR_0^+}{Q_iR_0^+ + Q_0 \\Delta R_0 (1 - f_P)}}\\frac{1}{(1 - f_P)(1 - f_A)}\\\\\n",
    "\\rho_i^- &= \\frac{R_0^+Q_i + Q_0 \\Delta R_0 (1 - f_P)}{Q_0R_0}\\frac{Q_iR_0^+ + Q_0 \\Delta R_0 (1 - f_P)}{Q_iR_i}\\frac{1}{(1 - f_P)(1 - f_A)}\\\\\n",
    "Q_iR_iQ_0R_0\\rho_i^- &= (R_0^+Q_i + Q_0 \\Delta R_0 (1 - f_P))^2\\frac{1}{(1 - f_P)(1 - f_A)}\\\\\n",
    "Q_iR_iQ_0R_0\\rho_i^- &= (R_0Q_i + \\Delta R_0 Q_i + Q_0 \\Delta R_0 (1 - f_P))^2\\frac{1}{(1 - f_P)(1 - f_A)}\\\\\n",
    "\\end{align}\n",
    "$$"
   ]
  },
  {
   "cell_type": "markdown",
   "metadata": {},
   "source": [
    "Solving for $\\Delta R_0$, we see that\n",
    "$$\n",
    "\\Delta R_0 = \\frac{-R_0 Q_i + \\sqrt{Q_i R_i Q_0 R_0(1 - f_P)(1 - f_A)\\rho_i^-}}{Q_i + Q_0 (1 - f_P)}\\\\\n",
    "\\Delta R_0 = R_iQ_0\\frac{-p_i + \\sqrt{p_i\\rho_i^-(1 - f_P)(1 - f_A)}}{Q_i + Q_0(1 - f_P)}\\\\\n",
    "$$"
   ]
  },
  {
   "cell_type": "code",
   "execution_count": null,
   "metadata": {},
   "outputs": [],
   "source": []
  }
 ],
 "metadata": {
  "interpreter": {
   "hash": "b3ba2566441a7c06988d0923437866b63cedc61552a5af99d1f4fb67d367b25f"
  },
  "kernelspec": {
   "display_name": "Python 3",
   "language": "python",
   "name": "python3"
  },
  "language_info": {
   "codemirror_mode": {
    "name": "ipython",
    "version": 3
   },
   "file_extension": ".py",
   "mimetype": "text/x-python",
   "name": "python",
   "nbconvert_exporter": "python",
   "pygments_lexer": "ipython3",
   "version": "3.9.5"
  }
 },
 "nbformat": 4,
 "nbformat_minor": 4
}
