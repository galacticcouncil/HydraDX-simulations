{
 "cells": [
  {
   "cell_type": "markdown",
   "id": "b120494d-3dc5-437c-9d0b-989527458ce1",
   "metadata": {},
   "source": [
    "We assume asset $0$ is USD, and we assume there is infinite external liquidity at prices $m_i$ of each asset $i$ in USD. We do not assume any external liquidity in Lerna.\n",
    "\n",
    "We define\n",
    "$$\n",
    "\\begin{align}\n",
    "a_i &= \\sqrt{m_i\\frac{Q_i R_i}{Q_0 R_0}}\\\\\n",
    "b_i &= Q_0 a_i + Q_i\n",
    "\\end{align}\n",
    "$$\n",
    "\n",
    "Then the arbitrager will bring internal prices into alignment with $m_i$ by executing a sequence of LRNA swaps against each asset $i$, with\n",
    "$$\n",
    "\\Delta Q_i = b_i - a_i \\frac{\\sum_j b_j}{1 + \\sum_j a_j}\n",
    "$$\n",
    "\n",
    "Finally, the net LRNA can be traded against the USD subpool, meaning\n",
    "$$\n",
    "\\Delta Q_0 = -\\sum_j \\Delta Q_j\n",
    "$$"
   ]
  },
  {
   "cell_type": "code",
   "execution_count": null,
   "id": "221679bd-0796-4b65-b857-0819c685bc56",
   "metadata": {},
   "outputs": [],
   "source": []
  }
 ],
 "metadata": {
  "kernelspec": {
   "display_name": "Python 3",
   "language": "python",
   "name": "python3"
  },
  "language_info": {
   "codemirror_mode": {
    "name": "ipython",
    "version": 3
   },
   "file_extension": ".py",
   "mimetype": "text/x-python",
   "name": "python",
   "nbconvert_exporter": "python",
   "pygments_lexer": "ipython3",
   "version": "3.9.5"
  }
 },
 "nbformat": 4,
 "nbformat_minor": 5
}
