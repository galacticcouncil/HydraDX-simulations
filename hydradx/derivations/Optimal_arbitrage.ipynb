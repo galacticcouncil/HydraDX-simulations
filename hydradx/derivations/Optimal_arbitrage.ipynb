{
 "cells": [
  {
   "cell_type": "markdown",
   "metadata": {},
   "source": [
    "# Calculation of optimal arbitrage size in Omnipool for swap between two risk assets\n",
    "\n",
    "All numerical calculations and example provided here: \n",
    "\n",
    "https://en.smath.com/cloud/worksheet/dacWgNcs\n",
    "\n",
    "You can change input values and check result with different initial conditions"
   ]
  },
  {
   "cell_type": "markdown",
   "metadata": {},
   "source": [
    "- $f_A$: level of asset fee\n",
    "- $f_P$: level of protocol fee\n",
    "- $Q_i$: amount of Lerna in $i$ subpool\n",
    "- $R_i$: amount of risk asset $i$ in subpool\n",
    "- $P_i^0$: dollar price of risk asset $i$ on external market with infinite liquidity\n",
    "- $\\Delta R_i$: amount of risk asset $i$ we add or withdraw\n",
    "- $\\Delta Q_i$: amount of Lerna in subpool $i$ we add or withdraw\n",
    "- $P_{Q_i}^0$: dollar price of Lerna in $i$ subpool\n",
    "- $Z_i = R_i Q_i$: invariant for subpool $i$"
   ]
  },
  {
   "cell_type": "markdown",
   "metadata": {
    "tags": []
   },
   "source": [
    "$$\n",
    "\\begin{align}\n",
    "P_{Q_i}^0 &= \\frac{R_i P_i^0}{Q_i}\\\\\n",
    "P_{Q_j}^0 &= \\frac{R_j P_j^0}{Q_j}\\\\\n",
    "\\end{align}\n",
    "$$\n",
    "After arbitrage operation, these should be the same for all $i,j$.\n",
    "\n",
    "$$\n",
    "\\frac{(R_i + \\Delta R_i) P_i^0}{Q_i + \\Delta Q_i} = \\frac{(R_j + \\Delta R_j) P_j^0}{Q_j + \\Delta Q_j}\n",
    "$$\n",
    "\n",
    "$$\n",
    "\\begin{align}\n",
    "R_i + \\Delta R_i &= \\frac{Z_i}{Q_i + \\Delta Q_i}\\\\\n",
    "R_j + \\Delta R_j &= \\frac{Z_j}{Q_j + \\Delta Q_j}\\\\\n",
    "\\Delta Q_j &= -\\Delta Q_i\n",
    "\\end{align}\n",
    "$$\n",
    "\n",
    "$$\n",
    "\\frac{Z_i P_i^0}{(Q_i + \\Delta Q_i)^2} = \\frac{Z_j P_j^0}{(Q_j - \\Delta Q_i)^2}\n",
    "$$\n",
    "\n",
    "We can find $\\Delta Q_i$ such that the price of Lerna in dollars is identical per different pools:\n",
    "$$\n",
    "\\Delta Q_i = \\frac{Q_j \\sqrt{Z_i P_i^0} - Q_i \\sqrt{Z_j P_j^0}}{\\sqrt{Z_i P_i^0} + \\sqrt{Z_j P_j^0}}\n",
    "$$"
   ]
  },
  {
   "cell_type": "markdown",
   "metadata": {},
   "source": [
    "From this one can find $\\Delta R_i$ and $\\Delta R_j$:\n",
    "$$\n",
    "\\begin{align}\n",
    "\\Delta R_i &= \\frac{Z_i}{Q_i + \\Delta Q_i} - R_i\\\\\n",
    "\\Delta R_j &= \\frac{Z_j}{Q_j - \\Delta Q_i} - R_j\\\\\n",
    "\\end{align}\n",
    "$$\n",
    "Finally we can calculate dollar PnL without fee:\n",
    "$$\n",
    "PnL = -(\\Delta R_i P_i^0 + \\Delta R_j P_j^0)\n",
    "$$\n"
   ]
  },
  {
   "cell_type": "markdown",
   "metadata": {},
   "source": [
    "## Fee adjustment"
   ]
  },
  {
   "cell_type": "markdown",
   "metadata": {},
   "source": [
    "We need to adjust $\\Delta Q_j$ for protocol fee:\n",
    "$$\n",
    "\\Delta Q_j = -\\Delta Q_i (1-f_P)\\\\\n",
    "$$\n",
    "$$\n",
    "\\begin{align}\n",
    "\\frac{Z_i P_i^0}{(Q_i + \\Delta Q_i)^2} = \\frac{Z_j P_j^0}{(Q_j - \\Delta Q_i (1-f_P))^2}\\\\\n",
    "\\end{align}\n",
    "$$\n",
    "New $\\Delta Q_i$ formula with protocol fee adjustment:\n",
    "$$\n",
    "\\begin{align}\n",
    "\\Delta Q_i = \\frac{Q_j \\sqrt{Z_i P_i^0} - Q_i \\sqrt{Z_j P_j^0}}{\\sqrt{Z_i P_i^0}(1-f_P) + \\sqrt{Z_j P_j^0}}\\\\\n",
    "\\end{align}\n",
    "\n",
    "$$\n",
    "New $\\Delta R_j$ formula with protocol fee adjustment:\n",
    "\\begin{align}\n",
    "\\Delta R_j &= \\frac{Z_j}{Q_j - \\Delta Q_i (1-f_P)} - R_j\\\\\n",
    "\\end{align}\n",
    "\n"
   ]
  },
  {
   "cell_type": "markdown",
   "metadata": {},
   "source": [
    "PnL with protocol and asset fee adjustments:\n",
    "$$\n",
    "PnL = -(\\Delta R_i P_i^0 + \\Delta R_j P_j^0 (1-f_A))\n",
    "$$"
   ]
  }
 ],
 "metadata": {
  "interpreter": {
   "hash": "b3ba2566441a7c06988d0923437866b63cedc61552a5af99d1f4fb67d367b25f"
  },
  "kernelspec": {
   "display_name": "Python 3",
   "language": "python",
   "name": "python3"
  },
  "language_info": {
   "codemirror_mode": {
    "name": "ipython",
    "version": 3
   },
   "file_extension": ".py",
   "mimetype": "text/x-python",
   "name": "python",
   "nbconvert_exporter": "python",
   "pygments_lexer": "ipython3",
   "version": "3.9.5"
  }
 },
 "nbformat": 4,
 "nbformat_minor": 4
}
