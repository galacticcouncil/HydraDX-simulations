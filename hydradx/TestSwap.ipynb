{
 "cells": [
  {
   "cell_type": "code",
   "execution_count": 1,
   "id": "6b8e2d21-c455-4b2b-a1c4-0c2cce0fb286",
   "metadata": {},
   "outputs": [
    {
     "ename": "IndexError",
     "evalue": "list index out of range",
     "output_type": "error",
     "traceback": [
      "\u001b[1;31m---------------------------------------------------------------------------\u001b[0m",
      "\u001b[1;31mIndexError\u001b[0m                                Traceback (most recent call last)",
      "Input \u001b[1;32mIn [1]\u001b[0m, in \u001b[0;36m<cell line: 59>\u001b[1;34m()\u001b[0m\n\u001b[0;32m     48\u001b[0m \u001b[38;5;66;03m############################################ SETUP ##########################################################\u001b[39;00m\n\u001b[0;32m     50\u001b[0m config_params \u001b[38;5;241m=\u001b[39m {\n\u001b[0;32m     51\u001b[0m     \u001b[38;5;124m'\u001b[39m\u001b[38;5;124mcfmm_type\u001b[39m\u001b[38;5;124m'\u001b[39m: \u001b[38;5;124m\"\u001b[39m\u001b[38;5;124m\"\u001b[39m,\n\u001b[0;32m     52\u001b[0m     \u001b[38;5;124m'\u001b[39m\u001b[38;5;124minitial_values\u001b[39m\u001b[38;5;124m'\u001b[39m: initial_values,\n\u001b[1;32m   (...)\u001b[0m\n\u001b[0;32m     56\u001b[0m     \u001b[38;5;124m'\u001b[39m\u001b[38;5;124maction_dict\u001b[39m\u001b[38;5;124m'\u001b[39m: action_dict,\n\u001b[0;32m     57\u001b[0m }\n\u001b[1;32m---> 59\u001b[0m config_dict, state \u001b[38;5;241m=\u001b[39m \u001b[43minit_utils\u001b[49m\u001b[38;5;241;43m.\u001b[39;49m\u001b[43mget_configuration\u001b[49m\u001b[43m(\u001b[49m\u001b[43mconfig_params\u001b[49m\u001b[43m)\u001b[49m\n\u001b[0;32m     61\u001b[0m pd\u001b[38;5;241m.\u001b[39moptions\u001b[38;5;241m.\u001b[39mmode\u001b[38;5;241m.\u001b[39mchained_assignment \u001b[38;5;241m=\u001b[39m \u001b[38;5;28;01mNone\u001b[39;00m  \u001b[38;5;66;03m# default='warn'\u001b[39;00m\n\u001b[0;32m     62\u001b[0m pd\u001b[38;5;241m.\u001b[39moptions\u001b[38;5;241m.\u001b[39mdisplay\u001b[38;5;241m.\u001b[39mfloat_format \u001b[38;5;241m=\u001b[39m \u001b[38;5;124m'\u001b[39m\u001b[38;5;132;01m{:.2f}\u001b[39;00m\u001b[38;5;124m'\u001b[39m\u001b[38;5;241m.\u001b[39mformat\n",
      "File \u001b[1;32m~\\PycharmProjects\\HydraDX-simulations\\hydradx\\model\\init_utils.py:20\u001b[0m, in \u001b[0;36mget_configuration\u001b[1;34m(config_d)\u001b[0m\n\u001b[0;32m     19\u001b[0m \u001b[38;5;28;01mdef\u001b[39;00m \u001b[38;5;21mget_configuration\u001b[39m(config_d: \u001b[38;5;28mdict\u001b[39m) \u001b[38;5;241m-\u001b[39m\u001b[38;5;241m>\u001b[39m \u001b[38;5;28mtuple\u001b[39m:\n\u001b[1;32m---> 20\u001b[0m     initial_values \u001b[38;5;241m=\u001b[39m \u001b[43mcomplete_initial_values\u001b[49m\u001b[43m(\u001b[49m\u001b[43mconfig_d\u001b[49m\u001b[43m[\u001b[49m\u001b[38;5;124;43m'\u001b[39;49m\u001b[38;5;124;43minitial_values\u001b[39;49m\u001b[38;5;124;43m'\u001b[39;49m\u001b[43m]\u001b[49m\u001b[43m,\u001b[49m\u001b[43m \u001b[49m\u001b[43mconfig_d\u001b[49m\u001b[43m[\u001b[49m\u001b[38;5;124;43m'\u001b[39;49m\u001b[38;5;124;43magent_d\u001b[39;49m\u001b[38;5;124;43m'\u001b[39;49m\u001b[43m]\u001b[49m\u001b[43m)\u001b[49m\n\u001b[0;32m     21\u001b[0m     timesteps \u001b[38;5;241m=\u001b[39m \u001b[38;5;28msum\u001b[39m([x[\u001b[38;5;241m1\u001b[39m] \u001b[38;5;28;01mfor\u001b[39;00m x \u001b[38;5;129;01min\u001b[39;00m config_d[\u001b[38;5;124m'\u001b[39m\u001b[38;5;124maction_ls\u001b[39m\u001b[38;5;124m'\u001b[39m]])\n\u001b[0;32m     22\u001b[0m     action_list \u001b[38;5;241m=\u001b[39m actions\u001b[38;5;241m.\u001b[39mget_action_list(config_d[\u001b[38;5;124m'\u001b[39m\u001b[38;5;124maction_ls\u001b[39m\u001b[38;5;124m'\u001b[39m], config_d[\u001b[38;5;124m'\u001b[39m\u001b[38;5;124mprob_dict\u001b[39m\u001b[38;5;124m'\u001b[39m])\n",
      "File \u001b[1;32m~\\PycharmProjects\\HydraDX-simulations\\hydradx\\model\\init_utils.py:9\u001b[0m, in \u001b[0;36mcomplete_initial_values\u001b[1;34m(values, agent_d)\u001b[0m\n\u001b[0;32m      8\u001b[0m \u001b[38;5;28;01mdef\u001b[39;00m \u001b[38;5;21mcomplete_initial_values\u001b[39m(values: \u001b[38;5;28mdict\u001b[39m, agent_d: \u001b[38;5;28mdict\u001b[39m \u001b[38;5;241m=\u001b[39m \u001b[38;5;28;01mNone\u001b[39;00m) \u001b[38;5;241m-\u001b[39m\u001b[38;5;241m>\u001b[39m \u001b[38;5;28mdict\u001b[39m:\n\u001b[1;32m----> 9\u001b[0m     state \u001b[38;5;241m=\u001b[39m \u001b[43mamm\u001b[49m\u001b[38;5;241;43m.\u001b[39;49m\u001b[43minitialize_state\u001b[49m\u001b[43m(\u001b[49m\u001b[43mvalues\u001b[49m\u001b[43m,\u001b[49m\u001b[43m \u001b[49m\u001b[43mvalues\u001b[49m\u001b[43m[\u001b[49m\u001b[38;5;124;43m'\u001b[39;49m\u001b[38;5;124;43mtoken_list\u001b[39;49m\u001b[38;5;124;43m'\u001b[39;49m\u001b[43m]\u001b[49m\u001b[43m,\u001b[49m\u001b[43m \u001b[49m\u001b[43magent_d\u001b[49m\u001b[43m)\u001b[49m\n\u001b[0;32m     10\u001b[0m     state[\u001b[38;5;124m'\u001b[39m\u001b[38;5;124mtoken_list\u001b[39m\u001b[38;5;124m'\u001b[39m] \u001b[38;5;241m=\u001b[39m values[\u001b[38;5;124m'\u001b[39m\u001b[38;5;124mtoken_list\u001b[39m\u001b[38;5;124m'\u001b[39m]\n\u001b[0;32m     11\u001b[0m     state[\u001b[38;5;124m'\u001b[39m\u001b[38;5;124mL\u001b[39m\u001b[38;5;124m'\u001b[39m] \u001b[38;5;241m=\u001b[39m values[\u001b[38;5;124m'\u001b[39m\u001b[38;5;124mL\u001b[39m\u001b[38;5;124m'\u001b[39m] \u001b[38;5;28;01mif\u001b[39;00m \u001b[38;5;124m'\u001b[39m\u001b[38;5;124mL\u001b[39m\u001b[38;5;124m'\u001b[39m \u001b[38;5;129;01min\u001b[39;00m values \u001b[38;5;28;01melse\u001b[39;00m \u001b[38;5;241m0\u001b[39m\n",
      "File \u001b[1;32m~\\PycharmProjects\\HydraDX-simulations\\hydradx\\model\\amm\\amm.py:21\u001b[0m, in \u001b[0;36minitialize_state\u001b[1;34m(init_d, token_list, agents_d)\u001b[0m\n\u001b[0;32m     19\u001b[0m \u001b[38;5;28;01mdef\u001b[39;00m \u001b[38;5;21minitialize_state\u001b[39m(init_d: \u001b[38;5;28mdict\u001b[39m, token_list: \u001b[38;5;28mlist\u001b[39m, agents_d: \u001b[38;5;28mdict\u001b[39m \u001b[38;5;241m=\u001b[39m \u001b[38;5;28;01mNone\u001b[39;00m) \u001b[38;5;241m-\u001b[39m\u001b[38;5;241m>\u001b[39m \u001b[38;5;28mdict\u001b[39m:\n\u001b[0;32m     20\u001b[0m     \u001b[38;5;66;03m# initialize tokens\u001b[39;00m\n\u001b[1;32m---> 21\u001b[0m     tokens_state \u001b[38;5;241m=\u001b[39m \u001b[43moamm\u001b[49m\u001b[38;5;241;43m.\u001b[39;49m\u001b[43minitialize_token_counts\u001b[49m\u001b[43m(\u001b[49m\u001b[43minit_d\u001b[49m\u001b[43m)\u001b[49m  \u001b[38;5;66;03m# shares will be wrong here, but it doesn't matter\u001b[39;00m\n\u001b[0;32m     22\u001b[0m     \u001b[38;5;66;03m# initialize LPs\u001b[39;00m\n\u001b[0;32m     23\u001b[0m     \u001b[38;5;28;01mif\u001b[39;00m agents_d \u001b[38;5;129;01mis\u001b[39;00m \u001b[38;5;129;01mnot\u001b[39;00m \u001b[38;5;28;01mNone\u001b[39;00m:\n",
      "File \u001b[1;32m~\\PycharmProjects\\HydraDX-simulations\\hydradx\\model\\amm\\omnipool_amm.py:105\u001b[0m, in \u001b[0;36minitialize_token_counts\u001b[1;34m(init_d)\u001b[0m\n\u001b[0;32m    101\u001b[0m \u001b[38;5;28;01mif\u001b[39;00m init_d \u001b[38;5;129;01mis\u001b[39;00m \u001b[38;5;28;01mNone\u001b[39;00m:\n\u001b[0;32m    102\u001b[0m     init_d \u001b[38;5;241m=\u001b[39m {}\n\u001b[0;32m    103\u001b[0m state \u001b[38;5;241m=\u001b[39m {\n\u001b[0;32m    104\u001b[0m     \u001b[38;5;124m'\u001b[39m\u001b[38;5;124mR\u001b[39m\u001b[38;5;124m'\u001b[39m: copy\u001b[38;5;241m.\u001b[39mdeepcopy(init_d[\u001b[38;5;124m'\u001b[39m\u001b[38;5;124mR\u001b[39m\u001b[38;5;124m'\u001b[39m]),\n\u001b[1;32m--> 105\u001b[0m     \u001b[38;5;124m'\u001b[39m\u001b[38;5;124mQ\u001b[39m\u001b[38;5;124m'\u001b[39m: [init_d[\u001b[38;5;124m'\u001b[39m\u001b[38;5;124mP\u001b[39m\u001b[38;5;124m'\u001b[39m][i] \u001b[38;5;241m*\u001b[39m init_d[\u001b[38;5;124m'\u001b[39m\u001b[38;5;124mR\u001b[39m\u001b[38;5;124m'\u001b[39m][i] \u001b[38;5;28;01mfor\u001b[39;00m i \u001b[38;5;129;01min\u001b[39;00m \u001b[38;5;28mrange\u001b[39m(\u001b[38;5;28mlen\u001b[39m(init_d[\u001b[38;5;124m'\u001b[39m\u001b[38;5;124mR\u001b[39m\u001b[38;5;124m'\u001b[39m]))]\n\u001b[0;32m    106\u001b[0m }\n\u001b[0;32m    107\u001b[0m \u001b[38;5;28;01mreturn\u001b[39;00m state\n",
      "File \u001b[1;32m~\\PycharmProjects\\HydraDX-simulations\\hydradx\\model\\amm\\omnipool_amm.py:105\u001b[0m, in \u001b[0;36m<listcomp>\u001b[1;34m(.0)\u001b[0m\n\u001b[0;32m    101\u001b[0m \u001b[38;5;28;01mif\u001b[39;00m init_d \u001b[38;5;129;01mis\u001b[39;00m \u001b[38;5;28;01mNone\u001b[39;00m:\n\u001b[0;32m    102\u001b[0m     init_d \u001b[38;5;241m=\u001b[39m {}\n\u001b[0;32m    103\u001b[0m state \u001b[38;5;241m=\u001b[39m {\n\u001b[0;32m    104\u001b[0m     \u001b[38;5;124m'\u001b[39m\u001b[38;5;124mR\u001b[39m\u001b[38;5;124m'\u001b[39m: copy\u001b[38;5;241m.\u001b[39mdeepcopy(init_d[\u001b[38;5;124m'\u001b[39m\u001b[38;5;124mR\u001b[39m\u001b[38;5;124m'\u001b[39m]),\n\u001b[1;32m--> 105\u001b[0m     \u001b[38;5;124m'\u001b[39m\u001b[38;5;124mQ\u001b[39m\u001b[38;5;124m'\u001b[39m: [\u001b[43minit_d\u001b[49m\u001b[43m[\u001b[49m\u001b[38;5;124;43m'\u001b[39;49m\u001b[38;5;124;43mP\u001b[39;49m\u001b[38;5;124;43m'\u001b[39;49m\u001b[43m]\u001b[49m\u001b[43m[\u001b[49m\u001b[43mi\u001b[49m\u001b[43m]\u001b[49m \u001b[38;5;241m*\u001b[39m init_d[\u001b[38;5;124m'\u001b[39m\u001b[38;5;124mR\u001b[39m\u001b[38;5;124m'\u001b[39m][i] \u001b[38;5;28;01mfor\u001b[39;00m i \u001b[38;5;129;01min\u001b[39;00m \u001b[38;5;28mrange\u001b[39m(\u001b[38;5;28mlen\u001b[39m(init_d[\u001b[38;5;124m'\u001b[39m\u001b[38;5;124mR\u001b[39m\u001b[38;5;124m'\u001b[39m]))]\n\u001b[0;32m    106\u001b[0m }\n\u001b[0;32m    107\u001b[0m \u001b[38;5;28;01mreturn\u001b[39;00m state\n",
      "\u001b[1;31mIndexError\u001b[0m: list index out of range"
     ]
    }
   ],
   "source": [
    "import pandas as pd\n",
    "\n",
    "from model import init_utils\n",
    "from model import processing\n",
    "# Experiments\n",
    "from model import run\n",
    "from model.plot_utils import *\n",
    "\n",
    "########## AGENT CONFIGURATION ##########\n",
    "# key -> token name, value -> token amount owned by agent\n",
    "# note that token name of 'omniABC' is used for omnipool LP shares of token 'ABC'\n",
    "\n",
    "trader = {'LRNA': 1000000, 'R1': 1000000, 'R2': 1000000}\n",
    "\n",
    "# key -> agent_id, value -> agent dict\n",
    "agent_d = {'Trader': trader}\n",
    "\n",
    "########## ACTION CONFIGURATION ##########\n",
    "\n",
    "action_dict = {\n",
    "    'buy_r1_with_r2': {'token_buy': 'R1', 'token_sell': 'R2', 'amount_buy': 1200, 'action_id': 'Trade',\n",
    "                       'agent_id': 'Trader'},\n",
    "    'sell_r1_for_r2': {'token_sell': 'R1', 'token_buy': 'R2', 'amount_sell': 1000, 'action_id': 'Trade',\n",
    "                       'agent_id': 'Trader'}\n",
    "}\n",
    "\n",
    "# list of (action, number of repetitions of action), timesteps = sum of repititions of all actions\n",
    "trade_count = 1000\n",
    "action_ls = [('trade', trade_count)]\n",
    "\n",
    "# maps action_id to action dict, with some probability to enable randomness\n",
    "prob_dict = {\n",
    "    'trade': {'buy_r1_with_r2': 0.5,\n",
    "              'sell_r1_for_r2': 0.5}\n",
    "}\n",
    "\n",
    "########## CFMM INITIALIZATION ##########\n",
    "\n",
    "initial_values = {\n",
    "    'token_list': ['HDX', 'USD', 'R1', 'R2'],\n",
    "    'R': [1000000, 1000000, 500000, 1500000],\n",
    "    'P': [1, 1, 2, 2 / 3],\n",
    "    'fee_assets': 0.0015,\n",
    "    'fee_LRNA': 0.0015,\n",
    "    'preferred_stablecoin': 'USD'\n",
    "}\n",
    "\n",
    "############################################ SETUP ##########################################################\n",
    "\n",
    "config_params = {\n",
    "    'cfmm_type': \"\",\n",
    "    'initial_values': initial_values,\n",
    "    'agent_d': agent_d,\n",
    "    'action_ls': action_ls,\n",
    "    'prob_dict': prob_dict,\n",
    "    'action_dict': action_dict,\n",
    "}\n",
    "\n",
    "config_dict, state = init_utils.get_configuration(config_params)\n",
    "\n",
    "pd.options.mode.chained_assignment = None  # default='warn'\n",
    "pd.options.display.float_format = '{:.2f}'.format\n",
    "\n",
    "run.config(config_dict, state)\n",
    "events = run.run()\n",
    "\n",
    "rdf, agent_df = processing.postprocessing(events)\n",
    "\n",
    "print(agent_df.tail(20))\n",
    "\n"
   ]
  },
  {
   "cell_type": "code",
   "execution_count": null,
   "id": "fbb48ae7-cc78-4709-90ca-a7921c37fa5d",
   "metadata": {},
   "outputs": [],
   "source": [
    "\n",
    "var_list = ['R', 'Q', 'A', 'D']\n",
    "plot_vars(rdf, var_list)"
   ]
  },
  {
   "cell_type": "code",
   "execution_count": null,
   "id": "b7829a3e-d082-4092-9414-efd05f4b87c6",
   "metadata": {},
   "outputs": [],
   "source": []
  }
 ],
 "metadata": {
  "kernelspec": {
   "display_name": "Python 3 (ipykernel)",
   "language": "python",
   "name": "python3"
  },
  "language_info": {
   "codemirror_mode": {
    "name": "ipython",
    "version": 3
   },
   "file_extension": ".py",
   "mimetype": "text/x-python",
   "name": "python",
   "nbconvert_exporter": "python",
   "pygments_lexer": "ipython3",
   "version": "3.9.7"
  }
 },
 "nbformat": 4,
 "nbformat_minor": 5
}
