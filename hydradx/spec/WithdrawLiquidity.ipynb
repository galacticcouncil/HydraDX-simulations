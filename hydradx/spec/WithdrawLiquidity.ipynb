{
 "cells": [
  {
   "cell_type": "markdown",
   "id": "29c47728-4d70-4025-8377-c092c5561e49",
   "metadata": {},
   "source": [
    "# Withdraw Liquidity\n",
    "A position $\\alpha$ with $i_\\alpha = i$ and $\\Delta s_\\alpha$ is withdrawn/destroyed. Recall that by the sign conventions, $\\Delta s_\\alpha < 0$."
   ]
  },
  {
   "cell_type": "code",
   "execution_count": 2,
   "id": "e8be7da5-d165-4b01-a1c9-9861c82597f0",
   "metadata": {},
   "outputs": [],
   "source": [
    "import os\n",
    "import sys\n",
    "sys.path.insert(0, os.path.abspath(os.path.join(os.path.abspath(''), '..')))\n",
    "\n",
    "import inspect\n",
    "from model.amm.omnipool_amm import remove_risk_liquidity"
   ]
  },
  {
   "cell_type": "markdown",
   "id": "58222ba4-47ae-47da-b6f0-4e2a584e3adf",
   "metadata": {},
   "source": [
    "### Constraints\n",
    "Removing liquidity must leave prices $p_j^Q$ unchanged for all assets $j$. It must also leave $\\frac{R_i}{S_i}$ unchanged. We furthermore require that the value of the assets withdrawn ($p_i^Q\\Delta r_\\alpha + \\Delta q_\\alpha$) is $\\frac{2p_i^Q}{p_i^Q + p_\\alpha}\\sqrt{\\frac{p_i^Q}{p_\\alpha}}$ percent of the assets originally contributed to the pool.\n",
    "\n",
    "Note that $\\Delta s_\\alpha$ corresponds to $-\\frac{\\Delta s_\\alpha}{S_i}R_i$ currently. We can calculate the initial $i$ contributed by $\\alpha$ as $R_i^\\alpha = \\sqrt{\\frac{p_i^Q}{p_\\alpha}} \\frac{-\\Delta s_\\alpha}{S_i}R_i$. The value withdrawn by LP should thus be (denominated in $i$) $\\frac{2p_i^Q}{p_i^Q + p_\\alpha}\\frac{p_i^Q}{p_\\alpha} \\frac{-\\Delta s_\\alpha}{S_i}p_\\alpha R_i$."
   ]
  },
  {
   "cell_type": "markdown",
   "id": "d1d846c8-508c-4f8a-99d7-5e6a3b1fd734",
   "metadata": {},
   "source": [
    "### Requirements\n",
    "$$\n",
    "-\\Delta s_\\alpha \\leq s_\\alpha\\\\\n",
    "\\Delta s_\\alpha < 0\n",
    "$$"
   ]
  },
  {
   "cell_type": "markdown",
   "id": "d078b380-98e0-4d25-9613-e077e692fcef",
   "metadata": {},
   "source": [
    "### Updating AMM state\n",
    "\n",
    "$$\n",
    "\\begin{align}\n",
    "\\Delta B_i &= max\\left(\\frac{p_i^Q - p_\\alpha}{p_i^Q + p_\\alpha}\\Delta s_\\alpha, 0\\right)\\\\\n",
    "\\Delta S_i &= \\Delta s_\\alpha + \\Delta B_i\\\\\n",
    "\\Delta R_i &= \\frac{R_i}{S_i} \\Delta S_i \\\\\n",
    "\\Delta Q_i &= Q_i \\frac{\\Delta R_i}{R_i}\\\\\n",
    "\\Delta L &= \\Delta R_i \\frac{Q_i}{R_i} \\frac{L}{Q}\\\\\n",
    "\\Delta T_i &= Q_i^+ \\frac{R_U^+}{Q_U^+} - T_i\\\\\n",
    "\\Delta T &= \\Delta T_i\n",
    "\\end{align}\n",
    "$$\n"
   ]
  },
  {
   "cell_type": "markdown",
   "id": "54dff234-47f6-4853-ba93-ef69cead6492",
   "metadata": {},
   "source": [
    "### Updating agent state"
   ]
  },
  {
   "cell_type": "markdown",
   "id": "f4ae63fd-90c3-447b-8e87-28fd2aa2043c",
   "metadata": {},
   "source": [
    "$$\n",
    "\\begin{align}\n",
    "\\Delta r_\\alpha &= - \\Delta R_i\\\\\n",
    "\\Delta q_\\alpha &= - p_i^Q\\left(\\frac{2p_i^Q}{p_i^Q + p_\\alpha} \\frac{\\Delta s_\\alpha}{S_i}R_i + \\Delta r_\\alpha\\right)\n",
    "\\end{align}\n",
    "$$"
   ]
  },
  {
   "cell_type": "markdown",
   "id": "62341c9e-3462-4098-b820-edcdaa4cd779",
   "metadata": {},
   "source": [
    "### Updating NFT in case of partial withdraw\n",
    "If $s_\\alpha + \\Delta s_\\alpha > 0$, the LP is only partially withdrawing their liquidity.\n",
    "\n",
    "Tracking the quantity of assets initially deposited is not required, but may be desirable for other reasons. Let us denote this quantity $r_\\alpha$.\n",
    "Upon *partial* liquidity withdrawal, we recalculate $r_\\alpha$ as though the position is being split into two positions, and one entire position is being withdrawn.\n",
    "$$\n",
    "\\Delta r_\\alpha = r_\\alpha \\frac{\\Delta s_\\alpha}{s_\\alpha}\n",
    "$$"
   ]
  },
  {
   "cell_type": "code",
   "execution_count": 3,
   "id": "d6482f4d-c498-44ec-a2d9-4cc5d72e79dd",
   "metadata": {},
   "outputs": [
    {
     "name": "stdout",
     "output_type": "stream",
     "text": [
      "def remove_risk_liquidity(\n",
      "        old_state: dict,\n",
      "        old_agents: dict,\n",
      "        LP_id: string,\n",
      "        delta_S: float,\n",
      "        i: int\n",
      ") -> tuple:\n",
      "    \"\"\"Compute new state after liquidity removal\"\"\"\n",
      "    assert delta_S <= 0, \"delta_S cannot be positive: \" + str(delta_S)\n",
      "    assert i >= 0, \"invalid value for i: \" + str(i)\n",
      "\n",
      "    new_state = copy.deepcopy(old_state)\n",
      "    new_agents = copy.deepcopy(old_agents)\n",
      "\n",
      "    if delta_S == 0:\n",
      "        return new_state, new_agents\n",
      "\n",
      "    piq = price_i(old_state, i)\n",
      "    p0 = new_agents[LP_id]['p'][i]\n",
      "    mult = (piq - p0) / (piq + p0)\n",
      "\n",
      "    # Share update\n",
      "    delta_B = max(mult * delta_S, 0)\n",
      "    new_state['B'][i] += delta_B\n",
      "    new_state['S'][i] += delta_S + delta_B\n",
      "    new_agents[LP_id]['s'][i] += delta_S\n",
      "\n",
      "    # Token amounts update\n",
      "    delta_R = old_state['R'][i] * max((delta_S + delta_B) / old_state['S'][i], -1)\n",
      "    new_state['R'][i] += delta_R\n",
      "    new_agents[LP_id]['r'][i] -= delta_R\n",
      "    if piq >= p0:  # prevents rounding errors\n",
      "        new_agents[LP_id]['q'] -= piq * (\n",
      "                2 * piq / (piq + p0) * delta_S / old_state['S'][i] * old_state['R'][i] - delta_R)\n",
      "\n",
      "    # LRNA burn\n",
      "    delta_Q = price_i(old_state, i) * delta_R\n",
      "    new_state['Q'][i] += delta_Q\n",
      "\n",
      "    # L update: LRNA fees to be burned before they will start to accumulate again\n",
      "    delta_L = delta_R * old_state['Q'][i]/old_state['R'][i] * old_state['L']/sum(old_state['Q'])\n",
      "    new_state['L'] += delta_L\n",
      "\n",
      "    return new_state, new_agents\n",
      "\n"
     ]
    }
   ],
   "source": [
    "print(inspect.getsource(remove_risk_liquidity))"
   ]
  },
  {
   "cell_type": "code",
   "execution_count": null,
   "id": "1c4db6e9-ae06-4b40-9f6b-12574cc194c7",
   "metadata": {},
   "outputs": [],
   "source": []
  }
 ],
 "metadata": {
  "kernelspec": {
   "display_name": "Python 3 (ipykernel)",
   "language": "python",
   "name": "python3"
  },
  "language_info": {
   "codemirror_mode": {
    "name": "ipython",
    "version": 3
   },
   "file_extension": ".py",
   "mimetype": "text/x-python",
   "name": "python",
   "nbconvert_exporter": "python",
   "pygments_lexer": "ipython3",
   "version": "3.9.7"
  }
 },
 "nbformat": 4,
 "nbformat_minor": 5
}
