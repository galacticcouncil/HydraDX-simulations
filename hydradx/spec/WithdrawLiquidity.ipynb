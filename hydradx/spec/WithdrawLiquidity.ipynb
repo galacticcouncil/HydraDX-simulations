{
 "cells": [
  {
   "cell_type": "markdown",
   "id": "29c47728-4d70-4025-8377-c092c5561e49",
   "metadata": {
    "pycharm": {
     "name": "#%% md\n"
    }
   },
   "source": [
    "# Withdraw Liquidity\n",
    "A position $\\alpha$ with $i_\\alpha = i$ and $\\Delta s_\\alpha$ is withdrawn/destroyed. Recall that by the sign conventions, $\\Delta s_\\alpha < 0$."
   ]
  },
  {
   "cell_type": "markdown",
   "id": "58222ba4-47ae-47da-b6f0-4e2a584e3adf",
   "metadata": {
    "pycharm": {
     "name": "#%% md\n"
    }
   },
   "source": [
    "### Constraints\n",
    "Removing liquidity must leave prices $p_j^Q$ unchanged for all assets $j$. It must also leave $\\frac{R_i}{S_i}$ unchanged. We furthermore require that the value of the assets withdrawn ($p_i^Q\\Delta r_\\alpha + \\Delta q_\\alpha$) is $\\frac{2p_i^Q}{p_i^Q + p_\\alpha}\\sqrt{\\frac{p_i^Q}{p_\\alpha}}$ percent of the assets originally contributed to the pool.\n",
    "\n",
    "Note that $\\Delta s_\\alpha$ corresponds to $-\\frac{\\Delta s_\\alpha}{S_i}R_i$ currently. We can calculate the initial $i$ contributed by $\\alpha$ as $R_i^\\alpha = \\sqrt{\\frac{p_i^Q}{p_\\alpha}} \\frac{-\\Delta s_\\alpha}{S_i}R_i$. The value withdrawn by LP should thus be (denominated in $i$) $\\frac{2p_i^Q}{p_i^Q + p_\\alpha}\\frac{p_i^Q}{p_\\alpha} \\frac{-\\Delta s_\\alpha}{S_i}p_\\alpha R_i$."
   ]
  },
  {
   "cell_type": "markdown",
   "id": "d1d846c8-508c-4f8a-99d7-5e6a3b1fd734",
   "metadata": {
    "pycharm": {
     "name": "#%% md\n"
    }
   },
   "source": [
    "### Requirements\n",
    "$$\n",
    "-\\Delta s_\\alpha \\leq s_\\alpha\\\\\n",
    "\\Delta s_\\alpha < 0\n",
    "$$"
   ]
  },
  {
   "cell_type": "markdown",
   "id": "d078b380-98e0-4d25-9613-e077e692fcef",
   "metadata": {
    "pycharm": {
     "name": "#%% md\n"
    }
   },
   "source": [
    "### Updating AMM state\n",
    "Let $U$ be the asset index of the selected stablecoin in Omnipool. Note that special care must be taken if $i = U$.\n",
    "$$\n",
    "\\begin{align}\n",
    "\\Delta B_i &= max\\left(\\frac{p_i^Q - p_\\alpha}{p_i^Q + p_\\alpha}\\Delta s_\\alpha, 0\\right)\\\\\n",
    "\\Delta S_i &= \\Delta s_\\alpha + \\Delta B_i\\\\\n",
    "\\Delta R_i &= \\frac{R_i}{S_i} \\Delta S_i \\\\\n",
    "\\Delta Q_i &= Q_i \\frac{\\Delta R_i}{R_i}\\\\\n",
    "\\Delta L &= \\Delta R_i \\frac{Q_i}{R_i} \\frac{L}{Q}\\\\\n",
    "T^+ &= R_U^+ \\frac{Q^+}{Q_U^+}\\\\\n",
    "\\end{align}\n",
    "$$"
   ]
  },
  {
   "cell_type": "markdown",
   "id": "54dff234-47f6-4853-ba93-ef69cead6492",
   "metadata": {
    "pycharm": {
     "name": "#%% md\n"
    }
   },
   "source": [
    "### Updating agent state"
   ]
  },
  {
   "cell_type": "markdown",
   "id": "f4ae63fd-90c3-447b-8e87-28fd2aa2043c",
   "metadata": {
    "pycharm": {
     "name": "#%% md\n"
    }
   },
   "source": [
    "$$\n",
    "\\begin{align}\n",
    "\\Delta r_\\alpha &= - \\Delta R_i\\\\\n",
    "\\Delta q_\\alpha &= - p_i^Q\\left(\\frac{2p_i^Q}{p_i^Q + p_\\alpha} \\frac{\\Delta s_\\alpha}{S_i}R_i + \\Delta r_\\alpha\\right)\n",
    "\\end{align}\n",
    "$$"
   ]
  },
  {
   "cell_type": "markdown",
   "id": "62341c9e-3462-4098-b820-edcdaa4cd779",
   "metadata": {
    "pycharm": {
     "name": "#%% md\n"
    }
   },
   "source": [
    "### Updating NFT in case of partial withdraw\n",
    "If $s_\\alpha + \\Delta s_\\alpha > 0$, the LP is only partially withdrawing their liquidity.\n",
    "\n",
    "Tracking the quantity of assets initially deposited is not required, but may be desirable for other reasons. Let us denote this quantity $r_\\alpha$.\n",
    "Upon *partial* liquidity withdrawal, we recalculate $r_\\alpha$ as though the position is being split into two positions, and one entire position is being withdrawn.\n",
    "$$\n",
    "\\Delta r_\\alpha = r_\\alpha \\frac{\\Delta s_\\alpha}{s_\\alpha}\n",
    "$$"
   ]
  }
 ],
 "metadata": {
  "kernelspec": {
   "display_name": "Python 3 (ipykernel)",
   "language": "python",
   "name": "python3"
  },
  "language_info": {
   "codemirror_mode": {
    "name": "ipython",
    "version": 3
   },
   "file_extension": ".py",
   "mimetype": "text/x-python",
   "name": "python",
   "nbconvert_exporter": "python",
   "pygments_lexer": "ipython3",
   "version": "3.9.7"
  }
 },
 "nbformat": 4,
 "nbformat_minor": 5
}