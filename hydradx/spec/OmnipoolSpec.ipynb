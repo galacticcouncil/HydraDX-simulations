{
 "cells": [
  {
   "cell_type": "markdown",
   "id": "a5c6ec37-7c39-44cf-b76a-d130fbc9d85d",
   "metadata": {},
   "source": [
    "# Omnipool Specification"
   ]
  },
  {
   "cell_type": "markdown",
   "id": "f902e635-cb6a-4421-ae80-96da16c1470e",
   "metadata": {},
   "source": [
    "## State Variables"
   ]
  },
  {
   "cell_type": "markdown",
   "id": "ffa46cc4-9564-4860-88ae-72721c918fc2",
   "metadata": {},
   "source": [
    "| Symbol | Description | Domain |\n",
    "| -------- | ------- | ----- |\n",
    "| $R_i$ | Quantity of asset $i$ in Omnipool | $\\mathbb{R}_{++}$ |\n",
    "| $Q_i$ | Quantity of LRNA matching asset $i$ | $\\mathbb{R}_{++}$ |\n",
    "| $A_i$ | Quantity of asset $i$ in protocol treasury | $\\mathbb{R}_{+}$ |\n",
    "| $D$ | Quantity of LRNA in protocol treasury | $\\mathbb{R}_{+}$ |\n",
    "| $S_i$ | Quantity of LP shares for pool $i$ | $\\mathbb{R}_{++}$ |\n",
    "| $B_i$ | Quantity of LP shares for pool $i$ owned by protocol | $\\mathbb{R}_{+}$ |\n",
    "| $H$ | Current LRNA global supply | $\\mathbb{R}_{++}$ |\n",
    "| $f_P$ | Protocol fee | $[0,1)$\n",
    "| $f_A$ | Asset fee | $[0,1)$\n",
    "| $L$ | LRNA imbalance | $\\mathbb{R}$ |\n",
    "| $\\omega_i$ | Soft caps on asset $i$ weight in Omnipool | $[0,1]$ |\n",
    "| $C$ | Soft cap on TVL in USD in Omnipool | $\\mathbb{R}_{++}$ |\n",
    "| $T$ | Approximate TVL in USD in Omnipool | $\\mathbb{R}_{++}$ |\n",
    "| $T_i$ | Approximate TVL in USD in asset $i$ | $\\mathbb{R}_{++}$ |"
   ]
  },
  {
   "cell_type": "markdown",
   "id": "eda57c9b-7fe6-471e-9932-0ddb6fd160a7",
   "metadata": {},
   "source": [
    "| Symbol | Description | Equation  |\n",
    "| -------- | ------- | ----------------- |\n",
    "| $n$ | Number of Risk Assets  | $\\vert \\vec{R}\\vert$ |\n",
    "| $Q$ | Total LRNA in Omnipool  | $\\sum_i Q_i$ |\n",
    "| $p_i^Q$ | Price of asset $i$ in LRNA | $\\frac{Q_i}{R_i}$ |\n",
    "| $p_i^j$ | Price of asset $i$ denominated in $j$ | $\\frac{Q_i}{Q_j}\\frac{R_j}{R_i}$ |\n",
    "| $W_i$ | Weight of asset $i$ in pool | $\\frac{Q_i}{Q}$ |\n",
    "| $Y_i$ | Swap invariant of asset $i$ in pool | $Q_i R_i$ |"
   ]
  },
  {
   "cell_type": "markdown",
   "id": "a02dcb50-b585-4e1f-9a35-0cccd8309259",
   "metadata": {},
   "source": [
    "## LP Variables"
   ]
  },
  {
   "cell_type": "markdown",
   "id": "10765e58-0f79-4694-98fe-bb496b0df7ec",
   "metadata": {},
   "source": [
    "| Symbol | Description | Domain  |\n",
    "| -------- | ------- | ----------------- |\n",
    "| $i_\\alpha$ | LP $\\alpha$ is providing asset $i_\\alpha$  | $\\{1,\\ldots, n\\}$ |\n",
    "| $r_\\alpha$ | Quantity of asset $i_\\alpha$ that LP $\\alpha$ has outside of pool | $\\mathbb{R}_{+}$ |\n",
    "| $q_\\alpha$ | Quantity of LRNA that LP $\\alpha$ has outside of pool | $\\mathbb{R}_{+}$ |\n",
    "| $s_\\alpha$ | Quantity of LP shares for pool $i_\\alpha$ in position $\\alpha$  | $\\mathbb{R}_{++}$ |\n",
    "| $p_\\alpha$ | Price at which position $\\alpha$ was created | $\\mathbb{R}_{++}$ |"
   ]
  },
  {
   "cell_type": "markdown",
   "id": "259e559f-0f3f-4d03-99a9-abad30e30689",
   "metadata": {},
   "source": [
    "## Identities"
   ]
  },
  {
   "cell_type": "markdown",
   "id": "c9cba591-23bd-452d-aa40-15d5fa8bfc90",
   "metadata": {},
   "source": [
    "$$\n",
    "S_i = B_i + \\sum_\\alpha s_i^\\alpha\\\\\n",
    "$$"
   ]
  },
  {
   "cell_type": "markdown",
   "id": "43597099-a5e3-47d9-b982-970f834c9705",
   "metadata": {},
   "source": [
    "## Notation"
   ]
  },
  {
   "cell_type": "markdown",
   "id": "2bf4593c-70e0-4d7b-8eb6-d923d6dca223",
   "metadata": {},
   "source": [
    "For a variable $A$, we will use the notation $A^+ = A + \\Delta A$ for the variable in a state change. The sign of $\\Delta A$ for a pool variable $A$ will always reflect the change from the perspective of the pool. If $A$ is an agent variable, the sign of $\\Delta A$ will reflect the change fromt he perspective of the agent."
   ]
  },
  {
   "cell_type": "markdown",
   "id": "eede06a3-f78c-40f2-951c-23a9d0f17f13",
   "metadata": {},
   "source": [
    "## Operations\n",
    "- Add new token : AddToken.ipynb\n",
    "- Add Asset Liquidity : AddLiquidity.ipynb\n",
    "- Withdraw Asset Liquidity : WithdrawLiquidity.ipynb\n",
    "- Swap $i$ with HDX : SwapLRNA.ipynb\n",
    "- Swap between two risk assets: Swap.ipynb"
   ]
  },
  {
   "cell_type": "code",
   "execution_count": null,
   "id": "89495607-10cd-4430-9f30-a6607532b8cb",
   "metadata": {},
   "outputs": [],
   "source": []
  }
 ],
 "metadata": {
  "kernelspec": {
   "display_name": "Python 3",
   "language": "python",
   "name": "python3"
  },
  "language_info": {
   "codemirror_mode": {
    "name": "ipython",
    "version": 3
   },
   "file_extension": ".py",
   "mimetype": "text/x-python",
   "name": "python",
   "nbconvert_exporter": "python",
   "pygments_lexer": "ipython3",
   "version": "3.9.5"
  }
 },
 "nbformat": 4,
 "nbformat_minor": 5
}
