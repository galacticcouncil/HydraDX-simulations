{
 "cells": [
  {
   "cell_type": "markdown",
   "id": "29c47728-4d70-4025-8377-c092c5561e49",
   "metadata": {},
   "source": [
    "# Add Liquidity\n",
    "Position $\\alpha$ adds liquidity with $\\Delta r_\\alpha$ of asset $i$."
   ]
  },
  {
   "cell_type": "code",
   "execution_count": 1,
   "id": "b0b9d47b-c5d8-4c65-8d8e-f704556ffda8",
   "metadata": {},
   "outputs": [],
   "source": [
    "import os\n",
    "import sys\n",
    "sys.path.insert(0, os.path.abspath(os.path.join(os.path.abspath(''), '..')))\n",
    "\n",
    "import inspect\n",
    "from model.amm.omnipool_amm import add_risk_liquidity"
   ]
  },
  {
   "cell_type": "markdown",
   "id": "b3403285-4c8f-44bc-bb00-fa58ed7ad792",
   "metadata": {},
   "source": [
    "### Constraints\n",
    "Adding liquidity must leave prices $p_j^Q$ unchanged for all assets $j$. It must also leave $\\frac{R_i}{S_i}$ unchanged."
   ]
  },
  {
   "cell_type": "markdown",
   "id": "c3fd162e-41c7-43f5-81bb-5e49a0f26841",
   "metadata": {},
   "source": [
    "### Requirements\n",
    "$$\n",
    "\\begin{align}\n",
    "s_\\alpha &= 0\\\\\n",
    "r_\\alpha &\\geq -\\Delta r_\\alpha\\\\\n",
    "\\Delta r_\\alpha &< 0\n",
    "\\end{align}\n",
    "$$"
   ]
  },
  {
   "cell_type": "markdown",
   "id": "d078b380-98e0-4d25-9613-e077e692fcef",
   "metadata": {},
   "source": [
    "### Updating AMM state\n",
    "$$\n",
    "\\Delta Q_i = Q_i \\frac{\\Delta R_i}{R_i}\\\\\n",
    "$$\n",
    "If $\\frac{Q_i + \\Delta Q_i}{Q} > \\omega_i$, the transaction fails due to the weight cap on asset $i$.\n",
    "\n",
    "$$\n",
    "\\begin{align}\n",
    "\\Delta S_i &= S_i \\frac{\\Delta R_i}{R_i}\\\\\n",
    "\\Delta R_i &= -\\Delta r_\\alpha\\\\\n",
    "\\end{align}\n",
    "$$\n",
    "\n",
    "$$\n",
    "\\Delta L = \\Delta R_i \\frac{Q_i}{R_i} \\frac{L}{Q}\n",
    "$$\n",
    "\n",
    "Let $U$ be the asset index of the selected stablecoin in Omnipool.\n",
    "$$\n",
    "\\begin{align}\n",
    "\\Delta T_i &= Q_i^+ \\frac{R_U^+}{Q_U^+} - T_i\\\\\n",
    "\\Delta T &= \\Delta T_i\n",
    "\\end{align}\n",
    "$$\n",
    "\n",
    "If $T + \\Delta T > C$, the transaction fails due to violation of the overall TVL cap $C$."
   ]
  },
  {
   "cell_type": "markdown",
   "id": "6d29ea61-8fc9-44fa-be4e-5ec413f29336",
   "metadata": {},
   "source": [
    "### Updating agent state\n",
    "$$\n",
    "\\begin{align}\n",
    "\\Delta s_\\alpha &= \\Delta S_i\\\\\n",
    "p_\\alpha &= p_i^Q\n",
    "\\end{align}\n",
    "$$"
   ]
  },
  {
   "cell_type": "code",
   "execution_count": 2,
   "id": "e5f50b5a-ab5c-457a-b471-1ab8861f0e42",
   "metadata": {},
   "outputs": [
    {
     "name": "stdout",
     "output_type": "stream",
     "text": [
      "def add_risk_liquidity(\n",
      "        old_state: dict,\n",
      "        old_agents: dict,\n",
      "        LP_id: string,\n",
      "        delta_R: float,\n",
      "        i: int\n",
      ") -> tuple:\n",
      "    \"\"\"Compute new state after liquidity addition\"\"\"\n",
      "\n",
      "    assert delta_R > 0, \"delta_R must be positive: \" + str(delta_R)\n",
      "    assert i >= 0, \"invalid value for i: \" + str(i)\n",
      "\n",
      "    new_state = copy.deepcopy(old_state)\n",
      "    new_agents = copy.deepcopy(old_agents)\n",
      "\n",
      "    # Token amounts update\n",
      "    new_state['R'][i] += delta_R\n",
      "    new_agents[LP_id]['r'][i] -= delta_R\n",
      "\n",
      "    # Share update\n",
      "    new_state['S'][i] *= new_state['R'][i] / old_state['R'][i]\n",
      "    new_agents[LP_id]['s'][i] += new_state['S'][i] - old_state['S'][i]\n",
      "\n",
      "    # HDX add\n",
      "    delta_Q = old_state['P'][i] * delta_R\n",
      "    new_state['Q'][i] += delta_Q\n",
      "\n",
      "    # set price at which liquidity was added\n",
      "    new_agents[LP_id]['p'][i] = price_i(new_state, i)\n",
      "\n",
      "    return new_state, new_agents\n",
      "\n"
     ]
    }
   ],
   "source": [
    "print(inspect.getsource(add_risk_liquidity))"
   ]
  },
  {
   "cell_type": "code",
   "execution_count": null,
   "id": "26afa2c4-6f10-412a-aa05-21c1b1d266ab",
   "metadata": {},
   "outputs": [],
   "source": []
  }
 ],
 "metadata": {
  "kernelspec": {
   "display_name": "Python 3",
   "language": "python",
   "name": "python3"
  },
  "language_info": {
   "codemirror_mode": {
    "name": "ipython",
    "version": 3
   },
   "file_extension": ".py",
   "mimetype": "text/x-python",
   "name": "python",
   "nbconvert_exporter": "python",
   "pygments_lexer": "ipython3",
   "version": "3.9.5"
  }
 },
 "nbformat": 4,
 "nbformat_minor": 5
}
