{
 "cells": [
  {
   "cell_type": "markdown",
   "id": "29c47728-4d70-4025-8377-c092c5561e49",
   "metadata": {
    "pycharm": {
     "name": "#%% md\n"
    }
   },
   "source": [
    "# Add Liquidity\n",
    "Position $\\alpha$ adds liquidity with $\\Delta r_\\alpha$ of asset $i$."
   ]
  },
  {
   "cell_type": "markdown",
   "id": "b3403285-4c8f-44bc-bb00-fa58ed7ad792",
   "metadata": {
    "pycharm": {
     "name": "#%% md\n"
    }
   },
   "source": [
    "### Constraints\n",
    "Adding liquidity must leave prices $p_j^Q$ unchanged for all assets $j$. It must also leave $\\frac{R_i}{S_i}$ unchanged."
   ]
  },
  {
   "cell_type": "markdown",
   "id": "c3fd162e-41c7-43f5-81bb-5e49a0f26841",
   "metadata": {
    "pycharm": {
     "name": "#%% md\n"
    }
   },
   "source": [
    "### Requirements\n",
    "$$\n",
    "\\begin{align}\n",
    "s_\\alpha &= 0\\\\\n",
    "r_\\alpha &\\geq -\\Delta r_\\alpha\\\\\n",
    "\\Delta r_\\alpha &< 0\n",
    "\\end{align}\n",
    "$$"
   ]
  },
  {
   "cell_type": "markdown",
   "id": "d078b380-98e0-4d25-9613-e077e692fcef",
   "metadata": {
    "pycharm": {
     "name": "#%% md\n"
    }
   },
   "source": [
    "### Updating AMM state\n",
    "$$\n",
    "\\Delta Q_i = Q_i \\frac{\\Delta R_i}{R_i}\\\\\n",
    "$$\n",
    "If $\\frac{Q_i + \\Delta Q_i}{Q + \\Delta Q_i} > \\omega_i$, the transaction fails due to the weight cap on asset $i$.\n",
    "\n",
    "$$\n",
    "\\begin{align}\n",
    "\\Delta S_i &= S_i \\frac{\\Delta R_i}{R_i}\\\\\n",
    "\\Delta R_i &= -\\Delta r_\\alpha\\\\\n",
    "\\end{align}\n",
    "$$\n",
    "\n",
    "$$\n",
    "\\Delta L = \\Delta R_i \\frac{Q_i}{R_i} \\frac{L}{Q}\n",
    "$$\n",
    "\n",
    "Let $U$ be the asset index of the selected stablecoin in Omnipool. Note that special care must be taken if $i = U$.\n",
    "$$\n",
    "\\begin{align}\n",
    "T^+ = R_U^+ \\frac{Q^+}{Q_U^+}\n",
    "\\end{align}\n",
    "$$\n",
    "\n",
    "If $T^+ > C$, the transaction fails due to violation of the overall TVL cap $C$."
   ]
  },
  {
   "cell_type": "markdown",
   "id": "6d29ea61-8fc9-44fa-be4e-5ec413f29336",
   "metadata": {
    "pycharm": {
     "name": "#%% md\n"
    }
   },
   "source": [
    "### Updating agent state\n",
    "$$\n",
    "\\begin{align}\n",
    "\\Delta s_\\alpha &= \\Delta S_i\\\\\n",
    "p_\\alpha &= p_i^Q\n",
    "\\end{align}\n",
    "$$"
   ]
  }
 ],
 "metadata": {
  "kernelspec": {
   "display_name": "Python 3 (ipykernel)",
   "language": "python",
   "name": "python3"
  },
  "language_info": {
   "codemirror_mode": {
    "name": "ipython",
    "version": 3
   },
   "file_extension": ".py",
   "mimetype": "text/x-python",
   "name": "python",
   "nbconvert_exporter": "python",
   "pygments_lexer": "ipython3",
   "version": "3.9.7"
  }
 },
 "nbformat": 4,
 "nbformat_minor": 5
}