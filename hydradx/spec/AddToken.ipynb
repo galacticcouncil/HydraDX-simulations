{
 "cells": [
  {
   "cell_type": "markdown",
   "id": "29c47728-4d70-4025-8377-c092c5561e49",
   "metadata": {
    "pycharm": {
     "name": "#%% md\n"
    }
   },
   "source": [
    "# Add Liquidity\n",
    "Position $\\alpha$ adds liquidity with $\\Delta r_\\alpha$ of asset $i$."
   ]
  },
  {
   "cell_type": "markdown",
   "id": "b3403285-4c8f-44bc-bb00-fa58ed7ad792",
   "metadata": {
    "pycharm": {
     "name": "#%% md\n"
    }
   },
   "source": [
    "### Constraints\n",
    "A new asset is added to the Omnipool, in quantity $R_{n+1}$ at price $p_{n+1}^Q$."
   ]
  },
  {
   "cell_type": "markdown",
   "id": "c3fd162e-41c7-43f5-81bb-5e49a0f26841",
   "metadata": {
    "pycharm": {
     "name": "#%% md\n"
    }
   },
   "source": [
    "### Requirements\n",
    "$$\n",
    "\\left(p_i^Q\\right)^+ = p_{n+1}^Q\n",
    "$$"
   ]
  },
  {
   "cell_type": "markdown",
   "id": "d078b380-98e0-4d25-9613-e077e692fcef",
   "metadata": {
    "pycharm": {
     "name": "#%% md\n"
    }
   },
   "source": [
    "### Updating AMM state\n",
    "- Append $R_{n+1}$ to $R$\n",
    "- Append $R_{n+1}$ to $S$\n",
    "- Append $R_{n+1}$ to $B$\n",
    "- Append $p_{n+1}^Q R_{n+1}$ to $Q$\n",
    "- Add $\\Delta L = p_{n+1}^Q \\frac{L}{Q} R_{n+1}$ to $L$\n",
    "- Let $U$ be the asset index of the selected stablecoin in Omnipool.\n",
    "- $T = R_U\\frac{Q + p_{n+1}^Q R_{n+1}}{Q_U}$"
   ]
  }
 ],
 "metadata": {
  "kernelspec": {
   "display_name": "Python 3 (ipykernel)",
   "language": "python",
   "name": "python3"
  },
  "language_info": {
   "codemirror_mode": {
    "name": "ipython",
    "version": 3
   },
   "file_extension": ".py",
   "mimetype": "text/x-python",
   "name": "python",
   "nbconvert_exporter": "python",
   "pygments_lexer": "ipython3",
   "version": "3.9.2"
  }
 },
 "nbformat": 4,
 "nbformat_minor": 5
}