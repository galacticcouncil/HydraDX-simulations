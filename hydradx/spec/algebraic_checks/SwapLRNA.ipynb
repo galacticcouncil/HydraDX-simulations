{
 "cells": [
  {
   "cell_type": "markdown",
   "id": "3a019cad-b7a2-4bf9-b81e-5f28141864b5",
   "metadata": {},
   "source": [
    "# Swap LRNA\n",
    "Agent $\\alpha$ swaps asset $i$ with the protocol for LRNA."
   ]
  },
  {
   "cell_type": "markdown",
   "id": "51648369-2057-4905-a247-9c16ae6d58d9",
   "metadata": {},
   "source": [
    "## Constraints"
   ]
  },
  {
   "cell_type": "markdown",
   "id": "c6ee0aad-6886-461e-9f21-b0f42cf1e867",
   "metadata": {},
   "source": [
    "The swap will keep the swap invariant for asset $i$, $R_iQ_i$, constant."
   ]
  },
  {
   "cell_type": "markdown",
   "id": "ab3ff94e-e3e4-4b85-b3ab-053478d26eb2",
   "metadata": {},
   "source": [
    "## Requirements"
   ]
  },
  {
   "cell_type": "markdown",
   "id": "2734124e-af66-4b57-8592-47eccd58af50",
   "metadata": {},
   "source": [
    "#### Case 1: Asset $i$ sold\n",
    "$$\n",
    "\\Delta r^\\alpha \\leq r_i^\\alpha\n",
    "$$\n",
    "#### Case 2: HDX sold\n",
    "$$\n",
    "\\Delta q^\\alpha \\leq q^\\alpha\n",
    "$$"
   ]
  },
  {
   "cell_type": "markdown",
   "id": "ba781d91-49f5-4073-b5ae-511c7d1ce160",
   "metadata": {},
   "source": [
    "## Updating AMM state"
   ]
  },
  {
   "cell_type": "markdown",
   "id": "9731de03-4924-4f6b-a6ce-bdb5fdcf91a4",
   "metadata": {},
   "source": [
    "### Case 1: LRNA sold, $\\Delta q^\\alpha > 0$ specified\n",
    "\n",
    "If $\\Delta q^\\alpha > q^\\alpha$, the user does not have enough LRNA to sell, and the transaction must fail."
   ]
  },
  {
   "cell_type": "markdown",
   "id": "4554c820-71a3-4981-92ea-3442640e4537",
   "metadata": {},
   "source": [
    "$$\n",
    "\\begin{align}\n",
    "\\Delta Q_i &= \\Delta q^\\alpha\\\\\n",
    "\\Delta R_i &= R_i\\frac{- \\Delta Q_i}{Q_i + \\Delta Q_i}(1 - f_A)\\\\\n",
    "\\Delta L &= -\\Delta Q_i\\left(1 + (1 - f_A)\\frac{Q_i}{Q_i + \\Delta Q_i}\\right)\\\\\n",
    "\\Delta r_i^\\alpha &= - \\Delta R_i\\\\\n",
    "\\end{align}\n",
    "$$"
   ]
  },
  {
   "cell_type": "markdown",
   "id": "539fb5d2-6b8d-43ab-b9b2-76290d10d42b",
   "metadata": {},
   "source": [
    "### Case 2: Asset $i$ bought, $\\Delta r_i^\\alpha > 0$ specified"
   ]
  },
  {
   "cell_type": "markdown",
   "id": "e92255ae-ba73-4ad4-b56a-df3ccb741f12",
   "metadata": {},
   "source": [
    "$$\n",
    "\\begin{align}\n",
    "\\Delta R_i &= -\\Delta r_i^\\alpha\\\\\n",
    "\\Delta Q_i &= Q_i\\frac{-\\Delta R_i}{R_i(1 - f_A) + \\Delta R_i}\\\\\n",
    "\\Delta L &= -\\Delta Q_i\\left(1 + (1 - f_A)\\frac{Q_i}{Q_i + \\Delta Q_i}\\right)\\\\\n",
    "\\Delta q^\\alpha &= - \\Delta Q_i\\\\\n",
    "\\end{align}\n",
    "$$\n",
    "\n",
    "If $\\Delta q^\\alpha > q^\\alpha$, the user does not have enough LRNA to sell, and the transaction must fail."
   ]
  },
  {
   "cell_type": "markdown",
   "id": "59710450-280d-45bf-93bd-5d4087b5e7ba",
   "metadata": {},
   "source": [
    "## Checking the algebra"
   ]
  },
  {
   "cell_type": "code",
   "execution_count": 1,
   "id": "454177c7-8c15-42a0-8ca0-8c3cf17e68da",
   "metadata": {},
   "outputs": [],
   "source": [
    "from sympy.solvers import solve\n",
    "from sympy import Symbol\n",
    "from sympy import Max\n"
   ]
  },
  {
   "cell_type": "markdown",
   "id": "2a064dbf-5ebb-4029-9aea-7315e4bb9af9",
   "metadata": {},
   "source": [
    "### Case 1"
   ]
  },
  {
   "cell_type": "markdown",
   "id": "e768c6a9-434e-43ad-bd9d-e086e1a01b1f",
   "metadata": {},
   "source": [
    "We want\n",
    "- $Q_i R_i = (Q_i + \\Delta Q_i)(R_i + \\Delta R_i)$ when fees are zero\n",
    "- $\\frac{Q_i}{R_i} = \\frac{Q_i + \\Delta Q_i + \\Delta L}{R_i + \\Delta R_i}$, long-term price mean reversion"
   ]
  },
  {
   "cell_type": "code",
   "execution_count": 2,
   "id": "07824516-d34b-4b1f-9c86-60440b0317ff",
   "metadata": {},
   "outputs": [
    {
     "name": "stdout",
     "output_type": "stream",
     "text": [
      "Case 1: price mean-reversion\n",
      "True\n",
      "Case 1, feeless: swap invariant\n",
      "True\n"
     ]
    }
   ],
   "source": [
    "R = Symbol('R')\n",
    "Q = Symbol('Q')\n",
    "L = Symbol('L')\n",
    "fA = Symbol('fA')\n",
    "\n",
    "dq = Symbol('dq')\n",
    "dQ = dq\n",
    "dR = R * (-dQ/(Q + dQ))*(1 - fA)\n",
    "dL = -dQ*(1 + (1 - fA)*Q/(Q + dQ))\n",
    "dr = -dR\n",
    "\n",
    "print(\"Case 1: price mean-reversion\")\n",
    "lhs = Q/R\n",
    "rhs = (Q + dQ + dL)/(R + dR)\n",
    "print(lhs.equals(rhs))\n",
    "\n",
    "print(\"Case 1, feeless: swap invariant\")\n",
    "lhs = Q * R\n",
    "rhs_fee = (Q + dQ)*(R + dR)\n",
    "rhs_feeless = rhs_fee.subs(fA, 0)\n",
    "print(lhs.equals(rhs_feeless))"
   ]
  },
  {
   "cell_type": "markdown",
   "id": "eb9d75e1-6841-488e-92a7-df5b2d7da973",
   "metadata": {},
   "source": [
    "### Case 2"
   ]
  },
  {
   "cell_type": "markdown",
   "id": "2188689c-e6fc-4c9f-9450-c8ada1a07e8a",
   "metadata": {},
   "source": [
    "As in case 2, we want\n",
    "- $Q_i R_i = (Q_i + \\Delta Q_i)(R_i + \\Delta R_i)$ when fees are zero\n",
    "- $\\frac{Q_i}{R_i} = \\frac{Q_i + \\Delta Q_i + \\Delta L}{R_i + \\Delta R_i}$, long-term price mean reversion"
   ]
  },
  {
   "cell_type": "code",
   "execution_count": 3,
   "id": "371f2f21-40b7-4074-be03-9f21e2aa3d01",
   "metadata": {},
   "outputs": [
    {
     "name": "stdout",
     "output_type": "stream",
     "text": [
      "Case 2: price mean-reversion\n",
      "True\n",
      "Case 2, feeless: swap invariant\n",
      "True\n"
     ]
    }
   ],
   "source": [
    "R = Symbol('R')\n",
    "Q = Symbol('Q')\n",
    "L = Symbol('L')\n",
    "fA = Symbol('fA')\n",
    "\n",
    "dr = Symbol('dr')\n",
    "dR = -dr\n",
    "dQ = Q * -dR/(R*(1 - fA) + dR)\n",
    "dL = -dQ*(1 + (1 - fA)*Q/(Q + dQ))\n",
    "dq = -dQ\n",
    "\n",
    "print(\"Case 2: price mean-reversion\")\n",
    "lhs = Q/R\n",
    "rhs = (Q + dQ + dL)/(R + dR)\n",
    "print(lhs.equals(rhs))\n",
    "\n",
    "print(\"Case 2, feeless: swap invariant\")\n",
    "lhs = Q * R\n",
    "rhs_fee = (Q + dQ)*(R + dR)\n",
    "rhs_feeless = rhs_fee.subs(fA, 0)\n",
    "print(lhs.equals(rhs_feeless))"
   ]
  },
  {
   "cell_type": "markdown",
   "id": "049e9cc6-1b8a-4bb2-b9fd-87f5be3bf774",
   "metadata": {},
   "source": [
    "We furthermore wish to check that given the amount of LRNA coming into the pool ($\\Delta Q_i$), the fee is $f_Q \\Delta R_i^*$ where $\\Delta R_i^*$ is the amount of asset $i$ sold for $\\Delta Q_i$ if fees were zero.\n",
    "In other words,\n",
    "- $\\Delta R_i = R_i\\frac{-\\Delta Q_i}{Q + \\Delta Q_i}(1 - f_A)$"
   ]
  },
  {
   "cell_type": "code",
   "execution_count": 4,
   "id": "2e127d02-d839-41bb-acdb-137284473fb0",
   "metadata": {},
   "outputs": [
    {
     "name": "stdout",
     "output_type": "stream",
     "text": [
      "Case 2: Fee calculation\n",
      "True\n"
     ]
    }
   ],
   "source": [
    "print(\"Case 2: Fee calculation\")\n",
    "lhs = dR\n",
    "rhs = R * (-dQ/(Q + dQ))*(1 - fA)\n",
    "print(lhs.equals(rhs))"
   ]
  },
  {
   "cell_type": "code",
   "execution_count": null,
   "id": "a8821393-6352-487d-a4f7-3aa78449e355",
   "metadata": {},
   "outputs": [],
   "source": []
  }
 ],
 "metadata": {
  "kernelspec": {
   "display_name": "Python 3",
   "language": "python",
   "name": "python3"
  },
  "language_info": {
   "codemirror_mode": {
    "name": "ipython",
    "version": 3
   },
   "file_extension": ".py",
   "mimetype": "text/x-python",
   "name": "python",
   "nbconvert_exporter": "python",
   "pygments_lexer": "ipython3",
   "version": "3.9.5"
  }
 },
 "nbformat": 4,
 "nbformat_minor": 5
}
