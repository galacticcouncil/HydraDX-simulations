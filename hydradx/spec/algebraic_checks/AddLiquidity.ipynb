{
 "cells": [
  {
   "cell_type": "markdown",
   "id": "29c47728-4d70-4025-8377-c092c5561e49",
   "metadata": {},
   "source": [
    "# Add Liquidity\n",
    "Position $\\alpha$ adds liquidity with $\\Delta r_\\alpha$ of asset $i$."
   ]
  },
  {
   "cell_type": "markdown",
   "id": "b3403285-4c8f-44bc-bb00-fa58ed7ad792",
   "metadata": {},
   "source": [
    "### Constraints\n",
    "Adding liquidity must leave prices $p_j^Q$ unchanged for all assets $j$. It must also leave $\\frac{R_i}{S_i}$ unchanged."
   ]
  },
  {
   "cell_type": "markdown",
   "id": "c3fd162e-41c7-43f5-81bb-5e49a0f26841",
   "metadata": {},
   "source": [
    "### Requirements\n",
    "$$\n",
    "\\begin{align}\n",
    "s_\\alpha &= 0\\\\\n",
    "r_\\alpha &\\geq -\\Delta r_\\alpha\\\\\n",
    "\\Delta r_\\alpha &< 0\n",
    "\\end{align}\n",
    "$$"
   ]
  },
  {
   "cell_type": "markdown",
   "id": "d078b380-98e0-4d25-9613-e077e692fcef",
   "metadata": {},
   "source": [
    "### Updating AMM state\n",
    "$$\n",
    "\\Delta Q_i = Q_i \\frac{\\Delta R_i}{R_i}\\\\\n",
    "$$\n",
    "If $\\frac{Q_i + \\Delta Q_i}{Q} > \\omega_i$, the transaction fails due to the weight cap on asset $i$.\n",
    "\n",
    "$$\n",
    "\\begin{align}\n",
    "\\Delta S_i &= S_i \\frac{\\Delta R_i}{R_i}\\\\\n",
    "\\Delta R_i &= -\\Delta r_\\alpha\\\\\n",
    "\\Delta L &= \\Delta R_i \\frac{Q_i}{R_i} \\frac{L}{Q}\n",
    "\\end{align}\n",
    "$$\n",
    "\n",
    "Let $U$ be the asset index of the selected stablecoin in Omnipool.\n",
    "$$\n",
    "\\begin{align}\n",
    "\\Delta T_i &= Q_i^+ \\frac{R_U^+}{Q_U^+} - T_i\\\\\n",
    "\\Delta T &= \\Delta T_i\n",
    "\\end{align}\n",
    "$$\n",
    "\n",
    "If $T + \\Delta T > C$, the transaction fails due to violation of the overall TVL cap $C$."
   ]
  },
  {
   "cell_type": "markdown",
   "id": "6d29ea61-8fc9-44fa-be4e-5ec413f29336",
   "metadata": {},
   "source": [
    "### Updating agent state\n",
    "$$\n",
    "\\begin{align}\n",
    "\\Delta s_\\alpha &= \\Delta S_i\\\\\n",
    "p_\\alpha &= p_i^Q\n",
    "\\end{align}\n",
    "$$"
   ]
  },
  {
   "cell_type": "markdown",
   "id": "ca2963b2-8274-4521-bfe6-a7262c9cfe20",
   "metadata": {},
   "source": [
    "## Checking the algebra\n"
   ]
  },
  {
   "cell_type": "code",
   "execution_count": 1,
   "id": "67f56fa6-0bc5-471e-bade-7edfa358cf16",
   "metadata": {},
   "outputs": [],
   "source": [
    "from sympy.solvers import solve\n",
    "from sympy import Symbol\n",
    "R = Symbol('R')\n",
    "Q = Symbol('Q')\n",
    "S = Symbol('S')\n",
    "Qall = Symbol('Qall')\n",
    "L = Symbol('L')\n",
    "\n",
    "dR = Symbol('dR')\n",
    "\n",
    "dQ = Q * dR/R\n",
    "dS = S * dR/R\n",
    "dL = dR * Q/R * L/Qall"
   ]
  },
  {
   "cell_type": "markdown",
   "id": "cde078e1-8c2f-49b9-9c7c-1e378740ea58",
   "metadata": {},
   "source": [
    "Our claims are that\n",
    "- $\\frac{R_i}{S_i} = \\frac{R_i + \\Delta R_i}{S_i + \\Delta S_i}$\n",
    "- $\\frac{Q_i}{R_i} = \\frac{Q_i + \\Delta Q_i}{R_i + \\Delta R_i}$, i.e. price is unchanged\n",
    "- $\\frac{Q_i}{R_i}\\frac{Q + L}{Q} = \\frac{Q_i + \\Delta Q_i}{R_i + \\Delta R_i}\\frac{Q + \\Delta Q_i + L + \\Delta L}{Q + \\Delta Q_i}$, i.e. target price is unchanged"
   ]
  },
  {
   "cell_type": "code",
   "execution_count": 2,
   "id": "26afa2c4-6f10-412a-aa05-21c1b1d266ab",
   "metadata": {},
   "outputs": [
    {
     "name": "stdout",
     "output_type": "stream",
     "text": [
      "dS_i\n",
      "[S*dR/R]\n",
      "dQ_i\n",
      "[Q*dR/R]\n",
      "Q/R\n",
      "True\n"
     ]
    }
   ],
   "source": [
    "# We are given dR by user\n",
    "# S, Q and R are starting state of AMM\n",
    "\n",
    "print(\"dS_i\")\n",
    "print(solve(R / S - (R + dR)/(S + dS), dS))\n",
    "print(\"dQ_i\")\n",
    "print(solve(Q / R - (Q + dQ)/(R + dR), dQ))\n",
    "\n",
    "print(\"target price\")\n",
    "lhs = Q/R * (Qall + L)/Qall\n",
    "rhs = (Q + dQ)/(R + dR) * (Qall + dQ + L + dL)/(Qall + dQ)\n",
    "print(lhs.equals(rhs))"
   ]
  },
  {
   "cell_type": "code",
   "execution_count": null,
   "id": "e98f09fa-ff95-47b7-a5a6-ef9fac763761",
   "metadata": {},
   "outputs": [],
   "source": []
  }
 ],
 "metadata": {
  "kernelspec": {
   "display_name": "Python 3",
   "language": "python",
   "name": "python3"
  },
  "language_info": {
   "codemirror_mode": {
    "name": "ipython",
    "version": 3
   },
   "file_extension": ".py",
   "mimetype": "text/x-python",
   "name": "python",
   "nbconvert_exporter": "python",
   "pygments_lexer": "ipython3",
   "version": "3.9.5"
  }
 },
 "nbformat": 4,
 "nbformat_minor": 5
}
