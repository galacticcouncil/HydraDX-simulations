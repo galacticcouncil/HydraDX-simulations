{
 "cells": [
  {
   "cell_type": "markdown",
   "id": "29c47728-4d70-4025-8377-c092c5561e49",
   "metadata": {},
   "source": [
    "# Add Liquidity\n",
    "Position $\\alpha$ adds liquidity with $\\Delta r_\\alpha$ of asset $i$."
   ]
  },
  {
   "cell_type": "code",
   "execution_count": 1,
   "id": "b0b9d47b-c5d8-4c65-8d8e-f704556ffda8",
   "metadata": {},
   "outputs": [],
   "source": [
    "import os\n",
    "import sys\n",
    "sys.path.insert(0, os.path.abspath(os.path.join(os.path.abspath(''), '..')))\n",
    "\n",
    "import inspect\n",
    "from model.amm.omnipool_amm import add_asset"
   ]
  },
  {
   "cell_type": "markdown",
   "id": "b3403285-4c8f-44bc-bb00-fa58ed7ad792",
   "metadata": {},
   "source": [
    "### Constraints\n",
    "A new asset is added to the Omnipool, in quantity $R_{n+1}$ at price $p_{n+1}^Q$."
   ]
  },
  {
   "cell_type": "markdown",
   "id": "c3fd162e-41c7-43f5-81bb-5e49a0f26841",
   "metadata": {},
   "source": [
    "### Requirements\n",
    "$$\n",
    "\\left(p_i^Q\\right)^+ = p_{n+1}^Q\n",
    "$$"
   ]
  },
  {
   "cell_type": "markdown",
   "id": "d078b380-98e0-4d25-9613-e077e692fcef",
   "metadata": {},
   "source": [
    "### Updating AMM state\n",
    "- Append $R_{n+1}$ to $R$\n",
    "- Append $R_{n+1}$ to $S$\n",
    "- Append $R_{n+1}$ to $B$\n",
    "- Append $p_{n+1}^Q R_{n+1}$ to $Q$\n",
    "- Add $\\Delta T = p_{n+1}^Q \\frac{R_U}{Q_U} R_{n+1}$ to $T$"
   ]
  },
  {
   "cell_type": "code",
   "execution_count": 2,
   "id": "e5f50b5a-ab5c-457a-b471-1ab8861f0e42",
   "metadata": {},
   "outputs": [
    {
     "name": "stdout",
     "output_type": "stream",
     "text": [
      "def add_asset(old_state: dict, init_R: float, price: float) -> dict:\n",
      "    new_state = copy.deepcopy(old_state)\n",
      "    new_state['R'].append(init_R)\n",
      "    new_state['Q'].append(price * init_R)\n",
      "    new_state['S'].append(init_R)\n",
      "    new_state['B'].append(init_R)\n",
      "    return new_state\n",
      "\n"
     ]
    }
   ],
   "source": [
    "print(inspect.getsource(add_asset))"
   ]
  },
  {
   "cell_type": "code",
   "execution_count": null,
   "id": "26afa2c4-6f10-412a-aa05-21c1b1d266ab",
   "metadata": {},
   "outputs": [],
   "source": []
  }
 ],
 "metadata": {
  "kernelspec": {
   "display_name": "Python 3",
   "language": "python",
   "name": "python3"
  },
  "language_info": {
   "codemirror_mode": {
    "name": "ipython",
    "version": 3
   },
   "file_extension": ".py",
   "mimetype": "text/x-python",
   "name": "python",
   "nbconvert_exporter": "python",
   "pygments_lexer": "ipython3",
   "version": "3.9.5"
  }
 },
 "nbformat": 4,
 "nbformat_minor": 5
}
