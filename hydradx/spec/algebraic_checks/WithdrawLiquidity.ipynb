{
 "cells": [
  {
   "cell_type": "markdown",
   "id": "29c47728-4d70-4025-8377-c092c5561e49",
   "metadata": {},
   "source": [
    "# Withdraw Liquidity\n",
    "A position $\\alpha$ with $i_\\alpha = i$ and $\\Delta s_\\alpha$ is withdrawn/destroyed. Recall that by the sign conventions, $\\Delta s_\\alpha < 0$."
   ]
  },
  {
   "cell_type": "markdown",
   "id": "58222ba4-47ae-47da-b6f0-4e2a584e3adf",
   "metadata": {},
   "source": [
    "### Constraints\n",
    "Removing liquidity must leave prices $p_j^Q$ unchanged for all assets $j$. It must also leave $\\frac{R_i}{S_i}$ unchanged. We furthermore require that the value of the assets withdrawn ($p_i^Q\\Delta r_\\alpha + \\Delta q_\\alpha$) is $\\frac{2p_i^Q}{p_i^Q + p_\\alpha}\\sqrt{\\frac{p_i^Q}{p_\\alpha}}$ percent of the assets originally contributed to the pool.\n",
    "\n",
    "Note that $\\Delta s_\\alpha$ corresponds to $-\\frac{\\Delta s_\\alpha}{S_i}R_i$ currently. We can calculate the initial $i$ contributed by $\\alpha$ as $R_i^\\alpha = \\sqrt{\\frac{p_i^Q}{p_\\alpha}} \\frac{-\\Delta s_\\alpha}{S_i}R_i$. The value withdrawn by LP should thus be (denominated in $i$) $\\frac{2p_i^Q}{p_i^Q + p_\\alpha}\\frac{p_i^Q}{p_\\alpha} \\frac{-\\Delta s_\\alpha}{S_i}p_\\alpha R_i$."
   ]
  },
  {
   "cell_type": "markdown",
   "id": "d1d846c8-508c-4f8a-99d7-5e6a3b1fd734",
   "metadata": {},
   "source": [
    "### Requirements\n",
    "$$\n",
    "-\\Delta s_\\alpha \\leq s_\\alpha\\\\\n",
    "\\Delta s_\\alpha < 0\n",
    "$$"
   ]
  },
  {
   "cell_type": "markdown",
   "id": "d078b380-98e0-4d25-9613-e077e692fcef",
   "metadata": {},
   "source": [
    "### Updating AMM state\n",
    "\n",
    "$$\n",
    "\\begin{align}\n",
    "\\Delta B_i &= max\\left(\\frac{p_i^Q - p_\\alpha}{p_i^Q + p_\\alpha}\\Delta s_\\alpha, 0\\right)\\\\\n",
    "\\Delta S_i &= \\Delta s_\\alpha + \\Delta B_i\\\\\n",
    "\\Delta R_i &= \\frac{R_i}{S_i} \\Delta S_i \\\\\n",
    "\\Delta Q_i &= Q_i \\frac{\\Delta R_i}{R_i}\\\\\n",
    "\\Delta L &= \\Delta R_i \\frac{Q_i}{R_i} \\frac{L}{Q}\\\\\n",
    "\\Delta T_i &= Q_i^+ \\frac{R_U^+}{Q_U^+} - T_i\\\\\n",
    "\\Delta T &= \\Delta T_i\n",
    "\\end{align}\n",
    "$$\n"
   ]
  },
  {
   "cell_type": "markdown",
   "id": "54dff234-47f6-4853-ba93-ef69cead6492",
   "metadata": {},
   "source": [
    "### Updating agent state"
   ]
  },
  {
   "cell_type": "markdown",
   "id": "f4ae63fd-90c3-447b-8e87-28fd2aa2043c",
   "metadata": {},
   "source": [
    "$$\n",
    "\\begin{align}\n",
    "\\Delta r_\\alpha &= - \\Delta R_i\\\\\n",
    "\\Delta q_\\alpha &= - p_i^Q\\left(\\frac{2p_i^Q}{p_i^Q + p_\\alpha} \\frac{\\Delta s_\\alpha}{S_i}R_i + \\Delta r_\\alpha\\right)\n",
    "\\end{align}\n",
    "$$"
   ]
  },
  {
   "cell_type": "markdown",
   "id": "67db2d15-8691-41d0-955b-4b594fce1759",
   "metadata": {},
   "source": [
    "### Updating NFT in case of partial withdraw\n",
    "If $s_\\alpha + \\Delta s_\\alpha > 0$, the LP is only partially withdrawing their liquidity.\n",
    "\n",
    "Tracking the quantity of assets initially deposited is not required, but may be desirable for other reasons. Let us denote this quantity $r_\\alpha$.\n",
    "Upon *partial* liquidity withdrawal, we recalculate $r_\\alpha$ as though the position is being split into two positions, and one entire position is being withdrawn.\n",
    "$$\n",
    "\\Delta r_\\alpha = r_\\alpha \\frac{\\Delta s_\\alpha}{s_\\alpha}\n",
    "$$"
   ]
  },
  {
   "cell_type": "markdown",
   "id": "0acc16b5-d2da-446d-aac9-56e8aae6a0e6",
   "metadata": {},
   "source": [
    "## Checking the algebra"
   ]
  },
  {
   "cell_type": "code",
   "execution_count": 1,
   "id": "1c4db6e9-ae06-4b40-9f6b-12574cc194c7",
   "metadata": {},
   "outputs": [],
   "source": [
    "from sympy.solvers import solve\n",
    "from sympy import Symbol\n",
    "from sympy import Max\n",
    "R = Symbol('R')\n",
    "Q = Symbol('Q')\n",
    "S = Symbol('S')\n",
    "B = Symbol('B')\n",
    "pi = Symbol('pi')\n",
    "p = Symbol('p')\n",
    "ds = Symbol('ds')\n",
    "L = Symbol('L')\n",
    "Qall = Symbol('Qall')\n",
    "\n",
    "dB = Max((pi - p)/(pi + p)*ds, 0)\n",
    "dS = ds + dB\n",
    "dR = R/S * dS\n",
    "dQ = Q * dR/R\n",
    "dr = -dR\n",
    "dq = -pi*(2*pi/(pi + p)*ds/S*R + dr)\n",
    "dL = dR * Q/R * L/Qall"
   ]
  },
  {
   "cell_type": "markdown",
   "id": "7c247248-8c27-4500-a748-87bc52290793",
   "metadata": {},
   "source": [
    "We want\n",
    "- $\\frac{R_i}{S_i} = \\frac{R_i + \\Delta R_i}{S_i + \\Delta S_i}$\n",
    "- $\\frac{Q_i}{R_i} = \\frac{Q_i + \\Delta Q_i}{R_i + \\Delta R_i}$, i.e. price is unchanged\n",
    "- $\\frac{Q_i}{R_i}\\frac{Q + L}{Q} = \\frac{Q_i + \\Delta Q_i}{R_i + \\Delta R_i}\\frac{Q + \\Delta Q_i + L + \\Delta L}{Q + \\Delta Q_i}$, i.e. target price is unchanged\n",
    "- $p_i^Q \\Delta r_\\alpha + \\Delta q_\\alpha = \\frac{2 p_i^Q}{p_i^Q + p_\\alpha}\\frac{-\\Delta s_\\alpha}{S_i}p_i^Q R_i$"
   ]
  },
  {
   "cell_type": "code",
   "execution_count": 2,
   "id": "b855a813-07dc-48d4-9420-d7e2775d7d71",
   "metadata": {},
   "outputs": [
    {
     "name": "stdout",
     "output_type": "stream",
     "text": [
      "R/S\n",
      "True\n",
      "Q/R\n",
      "True\n",
      "LP Returns\n",
      "True\n",
      "target price\n",
      "True\n"
     ]
    }
   ],
   "source": [
    "print(\"R/S\")\n",
    "lhs = R/S\n",
    "rhs = (R + dR)/(S + dS)\n",
    "print(lhs.equals(rhs))\n",
    "\n",
    "print(\"Q/R\")\n",
    "lhs = Q/R\n",
    "rhs = (Q + dQ)/(R + dR)\n",
    "print(lhs.equals(rhs))\n",
    "\n",
    "print(\"LP Returns\")\n",
    "lhs = pi * dr + dq\n",
    "rhs = 2* pi/(pi + p) * (-ds/S) * pi * R\n",
    "print(lhs.equals(rhs))\n",
    "\n",
    "print(\"target price\")\n",
    "lhs = Q/R * (Qall + L)/Qall\n",
    "rhs = (Q + dQ)/(R + dR) * (Qall + dQ + L + dL)/(Qall + dQ)\n",
    "print(lhs.equals(rhs))"
   ]
  },
  {
   "cell_type": "code",
   "execution_count": null,
   "id": "0286cdd5-0788-409e-aa5c-27acc1766c14",
   "metadata": {},
   "outputs": [],
   "source": []
  }
 ],
 "metadata": {
  "kernelspec": {
   "display_name": "Python 3",
   "language": "python",
   "name": "python3"
  },
  "language_info": {
   "codemirror_mode": {
    "name": "ipython",
    "version": 3
   },
   "file_extension": ".py",
   "mimetype": "text/x-python",
   "name": "python",
   "nbconvert_exporter": "python",
   "pygments_lexer": "ipython3",
   "version": "3.9.5"
  }
 },
 "nbformat": 4,
 "nbformat_minor": 5
}
