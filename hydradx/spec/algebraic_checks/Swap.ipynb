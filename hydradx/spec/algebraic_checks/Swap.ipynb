{
 "cells": [
  {
   "cell_type": "markdown",
   "id": "3a019cad-b7a2-4bf9-b81e-5f28141864b5",
   "metadata": {},
   "source": [
    "# Swap\n",
    "Agent $\\alpha$ swaps asset $i$ with the protocol for asset $j$."
   ]
  },
  {
   "cell_type": "markdown",
   "id": "cbd1fc94-6088-4675-8c62-888cba86554f",
   "metadata": {},
   "source": [
    "## Sell\n",
    "Agent $\\alpha$ sells asset $i$ in quantity $\\Delta R_i$ for asset $j$."
   ]
  },
  {
   "cell_type": "markdown",
   "id": "51648369-2057-4905-a247-9c16ae6d58d9",
   "metadata": {},
   "source": [
    "### Constraints"
   ]
  },
  {
   "cell_type": "markdown",
   "id": "c6ee0aad-6886-461e-9f21-b0f42cf1e867",
   "metadata": {},
   "source": [
    "The swap will keep the swap invariant for assets $i$ and $j$, $R_iQ_i$ and $R_jQ_j$, constant, in the case that fees are set to $0$."
   ]
  },
  {
   "cell_type": "markdown",
   "id": "ba781d91-49f5-4073-b5ae-511c7d1ce160",
   "metadata": {},
   "source": [
    "## Updating AMM state"
   ]
  },
  {
   "cell_type": "markdown",
   "id": "9aa49408-fdd1-4bec-9022-5f052152cfaf",
   "metadata": {},
   "source": [
    "### Calculating swaps"
   ]
  },
  {
   "cell_type": "markdown",
   "id": "9731de03-4924-4f6b-a6ce-bdb5fdcf91a4",
   "metadata": {},
   "source": [
    "#### Case 1: Asset $j$ bought in quantity $-\\Delta R_j$ with asset $i$"
   ]
  },
  {
   "cell_type": "markdown",
   "id": "4554c820-71a3-4981-92ea-3442640e4537",
   "metadata": {},
   "source": [
    "$$\n",
    "\\begin{align}\n",
    "\\tilde{\\Delta Q_j} &= Q_j\\frac{- \\Delta R_j}{R_j(1 - f_A) + \\Delta R_j}\\\\\n",
    "\\tilde{\\Delta Q_i} &= -\\frac{\\tilde{\\Delta Q_j}}{1 - f_P}\\\\\n",
    "\\Delta R_i &= R_i\\frac{- \\tilde{\\Delta Q_i}}{Q_i + \\tilde{\\Delta Q_i}}\n",
    "\\end{align}\n",
    "$$\n",
    "\n",
    "Now that the correct $\\Delta R_i$ is computed, we can treat this trade as a \"sell\" trade of asset $i$ in quantity $\\Delta R_i$."
   ]
  },
  {
   "cell_type": "markdown",
   "id": "e804ecc1-eec1-47c5-8ced-66a0dbf9bd51",
   "metadata": {},
   "source": [
    "#### Case 2: Asset $i$ sold in quantity $\\Delta R_i$ for asset $j$"
   ]
  },
  {
   "cell_type": "markdown",
   "id": "18d8bacc-8771-4746-b4c7-251223447d2f",
   "metadata": {},
   "source": [
    "Asset $i$ is sold for asset $j$ in a series of trades, with \n",
    "$$\n",
    "\\begin{align}\n",
    "\\Delta Q_i &= Q_i\\frac{- \\Delta R_i}{R_i + \\Delta R_i}\\\\\n",
    "\\Delta Q_j' &= -\\Delta Q_i (1 - f_P)\\\\\n",
    "\\Delta R_j' &= R_j\\frac{- \\Delta Q_j'}{Q_j + \\Delta Q_j'}\\\\\n",
    "\\Delta R_j &= \\Delta R_j'(1 - f_A)\n",
    "\\end{align}\n",
    "$$"
   ]
  },
  {
   "cell_type": "markdown",
   "id": "788f40f3-75e0-4adf-a473-17d9f5f03bc7",
   "metadata": {},
   "source": [
    "### Fee accounting"
   ]
  },
  {
   "cell_type": "markdown",
   "id": "826aedb1-dcd5-4b35-8f81-7cc5ca6faad2",
   "metadata": {},
   "source": [
    "The LRNA fee amount is $-\\Delta Q_i f_P$, and it is burned until $L$ is brought up to $0$, at which point fees are moved to the LRNA side of the HDX sub-pool in Omnipool.\n",
    "$$\n",
    "\\begin{align}\n",
    "\\Delta L &= min(-\\Delta Q_i f_P, -L)\\\\\n",
    "\\Delta Q_H &= -\\Delta Q_i f_P - \\Delta L\n",
    "\\end{align}\n",
    "$$\n",
    "where $Q_H$ is the LRNA side of the HDX sub-pool.\n",
    "\n"
   ]
  },
  {
   "cell_type": "markdown",
   "id": "e4ce191c-569b-424f-b494-1ffefd0b2116",
   "metadata": {},
   "source": [
    "## Direct calculation (updating pool state)\n",
    "### $\\Delta R_i > 0$ provided\n",
    "$$\n",
    "\\begin{align}\n",
    "\\Delta Q_i &= Q_i \\frac{-\\Delta R_i}{R_i + \\Delta R_i}\\\\\n",
    "\\Delta Q_j &= -\\Delta Q_i(1 - f_P)\\\\\n",
    "\\Delta R_j &= R_j \\frac{-\\Delta Q_j}{Q_j + \\Delta Q_j}(1 - f_A)\\\\\n",
    "\\Delta L &= min(-\\Delta Q_i f_P, -L)\\\\\n",
    "\\Delta Q_H &= -\\Delta Q_i f_P - \\Delta L\n",
    "\\end{align}\n",
    "$$"
   ]
  },
  {
   "cell_type": "markdown",
   "id": "549adee6-8c99-4801-be86-10c77b584467",
   "metadata": {},
   "source": [
    "### $\\Delta R_j < 0$ provided\n",
    "$$\n",
    "\\begin{align}\n",
    "\\Delta Q_j &= Q_j\\frac{-\\Delta R_j}{R_j(1 - f_A) + \\Delta R_j}\\\\\n",
    "\\Delta Q_i &= -\\frac{\\Delta Q_j}{1 - f_P}\\\\\n",
    "\\Delta R_i &= R_i\\frac{-\\Delta Q_i}{Q_i + \\Delta Q_i}\\\\\n",
    "\\Delta L &= min(-\\Delta Q_i f_P, -L)\\\\\n",
    "\\Delta Q_H &= -\\Delta Q_i f_P - \\Delta L\n",
    "\\end{align}\n",
    "$$"
   ]
  },
  {
   "cell_type": "markdown",
   "id": "7ac04084-09e9-4e27-bdea-d4deed673ce3",
   "metadata": {},
   "source": [
    "## Updating agent state"
   ]
  },
  {
   "cell_type": "markdown",
   "id": "d7fa9187-309b-4fec-babe-7a101b56e4f2",
   "metadata": {},
   "source": [
    "We have\n",
    "$$\n",
    "\\Delta r^\\alpha_i = -\\Delta R_i\\\\\n",
    "\\Delta r^\\alpha_j = -\\Delta R_j\n",
    "$$"
   ]
  },
  {
   "cell_type": "markdown",
   "id": "2e2e66b2-bc10-41f8-ac98-feb23237d26a",
   "metadata": {},
   "source": [
    "## Checking the algebra\n",
    "### Case 1, $\\Delta R_i > 0$ provided"
   ]
  },
  {
   "cell_type": "code",
   "execution_count": 1,
   "id": "bc46bfb4-3229-4195-adbd-f7f385ad4809",
   "metadata": {},
   "outputs": [],
   "source": [
    "from sympy.solvers import solve\n",
    "from sympy import Symbol\n",
    "from sympy import Min"
   ]
  },
  {
   "cell_type": "markdown",
   "id": "bc227c86-2622-4909-9b64-205a4d2e5a04",
   "metadata": {},
   "source": [
    "We want\n",
    "- $Q_i R_i = (Q_i + \\Delta Q_i)(R_i + \\Delta R_i)$\n",
    "- $Q_j R_j = (Q_j + \\Delta Q_j)(R_j + \\Delta R_j)$ when asset fee is zero\n",
    "- $\\Delta Q_i + \\Delta Q_j + \\Delta Q_H + \\Delta L = 0$, i.e. LRNA is entirely accounted for"
   ]
  },
  {
   "cell_type": "code",
   "execution_count": 6,
   "id": "ce297881-6227-441e-81ac-ef31ebae859c",
   "metadata": {},
   "outputs": [
    {
     "name": "stdout",
     "output_type": "stream",
     "text": [
      "LRNA accounting\n",
      "True\n",
      "Swap invariant i\n",
      "True\n",
      "Swap invariant j\n",
      "True\n"
     ]
    }
   ],
   "source": [
    "Qi = Symbol('Qi')\n",
    "Ri = Symbol('Ri')\n",
    "Qj = Symbol('Qj')\n",
    "Rj = Symbol('Rj')\n",
    "fA = Symbol('fA')\n",
    "fP = Symbol('fP')\n",
    "L = Symbol('L')\n",
    "\n",
    "dRi = Symbol('dRi')\n",
    "dQi = Qi * (-dRi/(Ri + dRi))\n",
    "dQj = -dQi * (1 - fP)\n",
    "dRj = Rj * (-dQj)/(Qj + dQj) * (1 - fA)\n",
    "dL = Min(-dQi*fP, -L)\n",
    "dQH = -dQi*fP - dL\n",
    "\n",
    "print(\"LRNA accounting\")\n",
    "lhs = dQi + dQj + dQH + dL\n",
    "rhs = 0\n",
    "print(lhs.equals(rhs))\n",
    "\n",
    "print(\"Swap invariant i\")\n",
    "lhs = Qi * Ri\n",
    "rhs_fee = (Qi + dQi)*(Ri + dRi)\n",
    "print(lhs.equals(rhs_fee))\n",
    "\n",
    "print(\"Swap invariant j\")\n",
    "lhs = Qj * Rj\n",
    "rhs_fee = (Qj + dQj)*(Rj + dRj)\n",
    "rhs_feeless = rhs_fee.subs(fA, 0)\n",
    "print(lhs.equals(rhs_feeless))"
   ]
  },
  {
   "cell_type": "markdown",
   "id": "2e1a26d5-4708-473b-a374-d809c8a5a317",
   "metadata": {},
   "source": [
    "### Case 2, $\\Delta R_j < 0$ provided"
   ]
  },
  {
   "cell_type": "markdown",
   "id": "663465bd-cf30-454b-be4a-368301e171f2",
   "metadata": {},
   "source": [
    "As before, we want\n",
    "- $Q_i R_i = (Q_i + \\Delta Q_i)(R_i + \\Delta R_i)$\n",
    "- $Q_j R_j = (Q_j + \\Delta Q_j)(R_j + \\Delta R_j)$ when asset fee is zero\n",
    "- $\\Delta Q_i + \\Delta Q_j + \\Delta Q_H + \\Delta L = 0$, i.e. LRNA is entirely accounted for\n",
    "\n",
    "We would furthermore like to checkt the fee calculations, namely\n",
    "- $\\Delta Q_j = -\\Delta Q_i(1 - f_P)$\n",
    "- $\\Delta R_j = R_j \\frac{-\\Delta Q_j}{Q_j + \\Delta Q_j}(1 - f_A)$"
   ]
  },
  {
   "cell_type": "markdown",
   "id": "fa64b32d-ffcb-4a8c-9514-6dc5c2040ee6",
   "metadata": {},
   "source": [
    "$$\n",
    "\\begin{align}\n",
    "\\Delta Q_j &= Q_j\\frac{-\\Delta R_j}{R_j(1 - f_A) + \\Delta R_j}\\\\\n",
    "\\Delta Q_i &= -\\frac{\\Delta Q_j}{1 - f_P}\\\\\n",
    "\\Delta R_i &= R_i\\frac{-\\Delta Q_i}{Q_i + \\Delta Q_i}\\\\\n",
    "\\Delta L &= min(-\\Delta Q_i f_P, -L)\\\\\n",
    "\\Delta Q_H &= -\\Delta Q_i f_P - \\Delta L\n",
    "\\end{align}\n",
    "$$"
   ]
  },
  {
   "cell_type": "code",
   "execution_count": 8,
   "id": "41d6c3bc-5390-441e-adc5-0f51a071ed1b",
   "metadata": {},
   "outputs": [
    {
     "name": "stdout",
     "output_type": "stream",
     "text": [
      "LRNA accounting\n",
      "True\n",
      "Swap invariant i\n",
      "True\n",
      "Swap invariant j\n",
      "True\n",
      "protocol fee\n",
      "True\n",
      "asset fee\n",
      "True\n"
     ]
    }
   ],
   "source": [
    "Qi = Symbol('Qi')\n",
    "Ri = Symbol('Ri')\n",
    "Qj = Symbol('Qj')\n",
    "Rj = Symbol('Rj')\n",
    "fA = Symbol('fA')\n",
    "fP = Symbol('fP')\n",
    "L = Symbol('L')\n",
    "\n",
    "dRj = Symbol('dRj')\n",
    "\n",
    "dQj = Qj * (-dRj)/(Rj * (1-fA) + dRj)\n",
    "dQi = -dQj/(1 - fP)\n",
    "dRi = Ri *(-dQi)/(Qi + dQi)\n",
    "dL = Min(-dQi * fP, -L)\n",
    "dQH = -dQi * fP - dL\n",
    "\n",
    "print(\"LRNA accounting\")\n",
    "lhs = dQi + dQj + dQH + dL\n",
    "rhs = 0\n",
    "print(lhs.equals(rhs))\n",
    "\n",
    "print(\"Swap invariant i\")\n",
    "lhs = Qi * Ri\n",
    "rhs = (Qi + dQi)*(Ri + dRi)\n",
    "print(lhs.equals(rhs))\n",
    "\n",
    "print(\"Swap invariant j\")\n",
    "lhs = Qj * Rj\n",
    "rhs_fee = (Qj + dQj)*(Rj + dRj)\n",
    "rhs_feeless = rhs_fee.subs(fA, 0)\n",
    "print(lhs.equals(rhs_feeless))\n",
    "\n",
    "print(\"protocol fee\")\n",
    "lhs = dQj\n",
    "rhs = -dQi * (1 - fP)\n",
    "print(lhs.equals(rhs))\n",
    "\n",
    "print(\"asset fee\")\n",
    "lhs = dRj\n",
    "rhs = Rj * (-dQj)/(Qj + dQj) * (1 - fA)\n",
    "print(lhs.equals(rhs))\n"
   ]
  },
  {
   "cell_type": "code",
   "execution_count": null,
   "id": "60e2902f-e2d1-45e3-8176-9d2f1557feab",
   "metadata": {},
   "outputs": [],
   "source": []
  }
 ],
 "metadata": {
  "kernelspec": {
   "display_name": "Python 3",
   "language": "python",
   "name": "python3"
  },
  "language_info": {
   "codemirror_mode": {
    "name": "ipython",
    "version": 3
   },
   "file_extension": ".py",
   "mimetype": "text/x-python",
   "name": "python",
   "nbconvert_exporter": "python",
   "pygments_lexer": "ipython3",
   "version": "3.9.5"
  }
 },
 "nbformat": 4,
 "nbformat_minor": 5
}
