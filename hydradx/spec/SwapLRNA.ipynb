{
 "cells": [
  {
   "cell_type": "markdown",
   "id": "3a019cad-b7a2-4bf9-b81e-5f28141864b5",
   "metadata": {},
   "source": [
    "# Swap LRNA\n",
    "Agent $\\alpha$ swaps asset $i$ with the protocol for LRNA."
   ]
  },
  {
   "cell_type": "markdown",
   "id": "51648369-2057-4905-a247-9c16ae6d58d9",
   "metadata": {},
   "source": [
    "## Constraints"
   ]
  },
  {
   "cell_type": "markdown",
   "id": "c6ee0aad-6886-461e-9f21-b0f42cf1e867",
   "metadata": {},
   "source": [
    "The swap will keep the swap invariant for asset $i$, $R_iQ_i$, constant."
   ]
  },
  {
   "cell_type": "markdown",
   "id": "ab3ff94e-e3e4-4b85-b3ab-053478d26eb2",
   "metadata": {},
   "source": [
    "## Requirements"
   ]
  },
  {
   "cell_type": "markdown",
   "id": "2734124e-af66-4b57-8592-47eccd58af50",
   "metadata": {},
   "source": [
    "#### Case 1: Asset $i$ sold\n",
    "$$\n",
    "\\Delta r^\\alpha \\leq r_i^\\alpha\n",
    "$$\n",
    "#### Case 2: LRNA sold\n",
    "$$\n",
    "-\\Delta q^\\alpha \\leq q^\\alpha\n",
    "$$"
   ]
  },
  {
   "cell_type": "markdown",
   "id": "ba781d91-49f5-4073-b5ae-511c7d1ce160",
   "metadata": {},
   "source": [
    "## Updating AMM state"
   ]
  },
  {
   "cell_type": "markdown",
   "id": "9731de03-4924-4f6b-a6ce-bdb5fdcf91a4",
   "metadata": {},
   "source": [
    "### Case 1: LRNA sold, $\\Delta q^\\alpha < 0$ specified\n",
    "\n",
    "If $-\\Delta q^\\alpha > q^\\alpha$, the user does not have enough LRNA to sell, and the transaction must fail.\n",
    "We first calculate the feeless amount $\\Delta R_i'$. We next calculate the amount of LRNA we will mint to match the asset fee $\\Delta Q_m$.\n",
    "The total amount of asset $i$ coming out is $\\Delta R_i$, while the total change in LRNA in the pool (incorporating both the LRNA sold to the pool and the LRNA minted) is $\\Delta Q_i$."
   ]
  },
  {
   "cell_type": "markdown",
   "id": "4554c820-71a3-4981-92ea-3442640e4537",
   "metadata": {},
   "source": [
    "$$\n",
    "\\begin{align}\n",
    "\\Delta R_i' &= R_i\\frac{\\Delta q^\\alpha}{Q_i -\\Delta q^\\alpha}\\\\\n",
    "\\Delta Q_m &= -\\frac{f_A \\Delta q^\\alpha(Q_i -\\Delta q^\\alpha)}{Q_i}\\\\\n",
    "\\Delta r_i^\\alpha &= -\\Delta R_i'(1-f_A)\\\\\n",
    "\\Delta R_i &= \\Delta R_i'(1-f_A(1-m_A))\\\\\n",
    "\\Delta Q_i &= -\\Delta q^\\alpha + \\Delta Q_m\\\\\n",
    "\\end{align}\n",
    "$$"
   ]
  },
  {
   "cell_type": "markdown",
   "id": "539fb5d2-6b8d-43ab-b9b2-76290d10d42b",
   "metadata": {},
   "source": [
    "### Case 2: Asset $i$ bought, $\\Delta r_i^\\alpha > 0$ specified"
   ]
  },
  {
   "cell_type": "markdown",
   "id": "e92255ae-ba73-4ad4-b56a-df3ccb741f12",
   "metadata": {},
   "source": [
    "$$\n",
    "\\begin{align}\n",
    "\\Delta R_i &= -\\Delta r_i^\\alpha\\left(1+\\frac{f_Am_A}{1-f_A}\\right)\\\\\n",
    "\\Delta q^\\alpha &= Q_i\\frac{-\\Delta r_i^\\alpha}{R_i(1 - f_A) - \\Delta r_i^\\alpha}\\\\\n",
    "\\Delta Q_m &= \\frac{f_A(Q_i -\\Delta q^\\alpha)\\Delta r_i^\\alpha}{R_i(1 - f_A) - \\Delta r_i^\\alpha}\\\\\n",
    "\\Delta Q_i &= -\\Delta q^\\alpha + \\Delta Q_m\\\\\n",
    "\\end{align}\n",
    "$$\n",
    "\n",
    "If $-\\Delta q^\\alpha > q^\\alpha$, the user does not have enough LRNA to sell, and the transaction must fail."
   ]
  }
 ],
 "metadata": {
  "kernelspec": {
   "display_name": "Python 3 (ipykernel)",
   "language": "python",
   "name": "python3"
  },
  "language_info": {
   "codemirror_mode": {
    "name": "ipython",
    "version": 3
   },
   "file_extension": ".py",
   "mimetype": "text/x-python",
   "name": "python",
   "nbconvert_exporter": "python",
   "pygments_lexer": "ipython3",
   "version": "3.9.7"
  }
 },
 "nbformat": 4,
 "nbformat_minor": 5
}
