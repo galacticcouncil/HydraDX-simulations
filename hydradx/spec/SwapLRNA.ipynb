{
 "cells": [
  {
   "cell_type": "markdown",
   "id": "3a019cad-b7a2-4bf9-b81e-5f28141864b5",
   "metadata": {
    "pycharm": {
     "name": "#%% md\n"
    }
   },
   "source": [
    "# Swap LRNA\n",
    "Agent $\\alpha$ swaps asset $i$ with the protocol for LRNA."
   ]
  },
  {
   "cell_type": "code",
   "execution_count": 1,
   "id": "74c2097f-82ff-45a3-90d5-37dcea976d40",
   "metadata": {
    "pycharm": {
     "name": "#%%\n"
    }
   },
   "outputs": [],
   "source": [
    "import os\n",
    "import sys\n",
    "sys.path.insert(0, os.path.abspath(os.path.join(os.path.abspath(''), '..')))\n",
    "\n",
    "import inspect\n",
    "from model.amm.omnipool_amm import swap_lrna, swap_lrna_delta_Qi, swap_lrna_delta_Ri"
   ]
  },
  {
   "cell_type": "markdown",
   "id": "51648369-2057-4905-a247-9c16ae6d58d9",
   "metadata": {
    "pycharm": {
     "name": "#%% md\n"
    }
   },
   "source": [
    "## Constraints"
   ]
  },
  {
   "cell_type": "markdown",
   "id": "c6ee0aad-6886-461e-9f21-b0f42cf1e867",
   "metadata": {
    "pycharm": {
     "name": "#%% md\n"
    }
   },
   "source": [
    "The swap will keep the swap invariant for asset $i$, $R_iQ_i$, constant."
   ]
  },
  {
   "cell_type": "markdown",
   "id": "ab3ff94e-e3e4-4b85-b3ab-053478d26eb2",
   "metadata": {
    "pycharm": {
     "name": "#%% md\n"
    }
   },
   "source": [
    "## Requirements"
   ]
  },
  {
   "cell_type": "markdown",
   "id": "2734124e-af66-4b57-8592-47eccd58af50",
   "metadata": {
    "pycharm": {
     "name": "#%% md\n"
    }
   },
   "source": [
    "#### Case 1: Asset $i$ sold\n",
    "$$\n",
    "\\Delta r^\\alpha \\leq r_i^\\alpha\n",
    "$$\n",
    "#### Case 2: LRNA sold\n",
    "$$\n",
    "-\\Delta q^\\alpha \\leq q^\\alpha\n",
    "$$"
   ]
  },
  {
   "cell_type": "markdown",
   "id": "ba781d91-49f5-4073-b5ae-511c7d1ce160",
   "metadata": {
    "pycharm": {
     "name": "#%% md\n"
    }
   },
   "source": [
    "## Updating AMM state"
   ]
  },
  {
   "cell_type": "markdown",
   "id": "9731de03-4924-4f6b-a6ce-bdb5fdcf91a4",
   "metadata": {
    "pycharm": {
     "name": "#%% md\n"
    }
   },
   "source": [
    "### Case 1: LRNA sold, $\\Delta q^\\alpha < 0$ specified\n",
    "\n",
    "If $-\\Delta q^\\alpha > q^\\alpha$, the user does not have enough LRNA to sell, and the transaction must fail."
   ]
  },
  {
   "cell_type": "markdown",
   "id": "4554c820-71a3-4981-92ea-3442640e4537",
   "metadata": {
    "pycharm": {
     "name": "#%% md\n"
    }
   },
   "source": [
    "$$\n",
    "\\begin{align}\n",
    "\\Delta Q_i &= -\\Delta q^\\alpha\\\\\n",
    "\\Delta R_i &= R_i\\frac{- \\Delta Q_i}{Q_i + \\Delta Q_i}(1 - f_A)\\\\\n",
    "L^+ &= Q^+\\frac{R_i^+}{Q_i^+}\\frac{Q_i}{R_i}\\left(1 + \\frac{L}{Q}\\right) - Q^+\\\\\n",
    "\\Delta r_i^\\alpha &= - \\Delta R_i\\\\\n",
    "\\end{align}\n",
    "$$"
   ]
  },
  {
   "cell_type": "code",
   "execution_count": 2,
   "id": "f33e16b1-0277-4288-be82-6c289631c224",
   "metadata": {
    "pycharm": {
     "name": "#%%\n"
    }
   },
   "outputs": [
    {
     "name": "stdout",
     "output_type": "stream",
     "text": [
      "def swap_lrna_delta_Ri(state: OmnipoolState, delta_qi: float, i: str) -> float:\n",
      "    return state.liquidity[i] * (- delta_qi / (state.lrna[i] + delta_qi))\n",
      "\n"
     ]
    }
   ],
   "source": [
    "print(inspect.getsource(swap_lrna_delta_Ri))"
   ]
  },
  {
   "cell_type": "markdown",
   "id": "539fb5d2-6b8d-43ab-b9b2-76290d10d42b",
   "metadata": {
    "pycharm": {
     "name": "#%% md\n"
    }
   },
   "source": [
    "### Case 2: Asset $i$ bought, $\\Delta r_i^\\alpha > 0$ specified"
   ]
  },
  {
   "cell_type": "markdown",
   "id": "e92255ae-ba73-4ad4-b56a-df3ccb741f12",
   "metadata": {
    "pycharm": {
     "name": "#%% md\n"
    }
   },
   "source": [
    "$$\n",
    "\\begin{align}\n",
    "\\Delta R_i &= -\\Delta r_i^\\alpha\\\\\n",
    "\\Delta Q_i &= Q_i\\frac{-\\Delta R_i}{R_i(1 - f_A) + \\Delta R_i}\\\\\n",
    "L^+ &= Q^+\\frac{R_i^+}{Q_i^+}\\frac{Q_i}{R_i}\\left(1 + \\frac{L}{Q}\\right) - Q^+\\\\\n",
    "\\Delta q^\\alpha &= - \\Delta Q_i\\\\\n",
    "\\end{align}\n",
    "$$\n",
    "\n",
    "If $-\\Delta q^\\alpha > q^\\alpha$, the user does not have enough LRNA to sell, and the transaction must fail."
   ]
  },
  {
   "cell_type": "code",
   "execution_count": 3,
   "id": "6f056d9c-4982-4d82-9748-8d2e6cb5b2a2",
   "metadata": {
    "pycharm": {
     "name": "#%%\n"
    }
   },
   "outputs": [
    {
     "name": "stdout",
     "output_type": "stream",
     "text": [
      "def swap_lrna_delta_Qi(state: OmnipoolState, delta_ri: float, i: str) -> float:\n",
      "    return state.lrna[i] * (- delta_ri / (state.liquidity[i] + delta_ri))\n",
      "\n"
     ]
    }
   ],
   "source": [
    "print(inspect.getsource(swap_lrna_delta_Qi))"
   ]
  },
  {
   "cell_type": "code",
   "execution_count": 4,
   "id": "bd16beca-63b8-4864-bc1d-3decce681cb8",
   "metadata": {
    "pycharm": {
     "name": "#%%\n"
    }
   },
   "outputs": [
    {
     "name": "stdout",
     "output_type": "stream",
     "text": [
      "def swap_lrna(\n",
      "        old_state: OmnipoolState,\n",
      "        old_agent: Agent,\n",
      "        delta_ra: float = 0,\n",
      "        delta_qa: float = 0,\n",
      "        tkn: str = ''\n",
      ") -> tuple[OmnipoolState, Agent]:\n",
      "    \"\"\"Compute new state after LRNA swap\"\"\"\n",
      "\n",
      "    new_state = old_state.copy()\n",
      "    new_agent = old_agent.copy()\n",
      "\n",
      "    if delta_qa < 0:\n",
      "        delta_Q = -delta_qa\n",
      "        delta_R = old_state.liquidity[tkn] * -delta_Q / (delta_Q + old_state.lrna[tkn]) * (1 - old_state.asset_fee)\n",
      "        delta_ra = -delta_R\n",
      "    elif delta_ra > 0:\n",
      "        delta_R = -delta_ra\n",
      "        delta_Q = old_state.lrna[tkn] * -delta_R / (old_state.liquidity[tkn] * (1 - old_state.asset_fee) + delta_R)\n",
      "        delta_qa = -delta_Q\n",
      "    else:\n",
      "        return old_state.fail_transaction('Buying LRNA not implemented.'), old_agent\n",
      "\n",
      "    delta_L = (-delta_Q * (1 + (1 - old_state.asset_fee)\n",
      "                           * (old_state.lrna[tkn] + old_state.lrna_imbalance)\n",
      "                           / (old_state.lrna[tkn] + delta_Q)))\n",
      "\n",
      "    if delta_qa + old_agent.holdings['LRNA'] < 0:\n",
      "        return old_state.fail_transaction(\"agent doesn't have enough lrna\"), old_agent\n",
      "    elif delta_ra + old_agent.holdings[tkn] < 0:\n",
      "        return old_state.fail_transaction(f\"agent doesn't have enough {tkn} holdings\"), old_agent\n",
      "    elif delta_R + old_state.liquidity[tkn] <= 0:\n",
      "        return old_state.fail_transaction('insufficient assets in pool'), old_agent\n",
      "    elif delta_Q + old_state.lrna[tkn] <= 0:\n",
      "        return old_state.fail_transaction('insufficient lrna in pool'), old_agent\n",
      "\n",
      "    new_agent.holdings['LRNA'] += delta_qa\n",
      "    new_agent.holdings[tkn] += delta_ra\n",
      "    new_state.lrna[tkn] += delta_Q\n",
      "    new_state.liquidity[tkn] += delta_R\n",
      "    new_state.lrna_imbalance += delta_L\n",
      "\n",
      "    return new_state, new_agent\n",
      "\n"
     ]
    }
   ],
   "source": [
    "print(inspect.getsource(swap_lrna))"
   ]
  },
  {
   "cell_type": "markdown",
   "source": [
    "### Property test for Imbalance update\n",
    "Note that we use $\\gtrapprox$ and $\\lessapprox$ as shorthand to indicate that the equality must *approximately* hold up to some tolerance, while the inequality must *exactly* hold.\n",
    "\n",
    "As always, it is preferable upon implementation of these property tests to rearrange so that no division is necessary, to avoid rounding errors *in the tests themselves*.\n",
    "\n",
    "We require that\n",
    "$$\n",
    "\\frac{Q_i + L\\frac{Q_i}{Q}}{R_i} \\gtrapprox \\frac{Q_i^+ + L^+\\frac{Q_i^+}{Q^+}}{R_i^+}\n",
    "$$\n",
    "Rewriting so as to avoid introducing rounding errors in tests, we get to\n",
    "$$\n",
    "R_i^+Q_iQ^+(Q + L) \\gtrapprox R_iQQ_i^+(Q^+ + L^+)\n",
    "$$"
   ],
   "metadata": {
    "collapsed": false,
    "pycharm": {
     "name": "#%% md\n"
    }
   }
  },
  {
   "cell_type": "code",
   "execution_count": 4,
   "outputs": [],
   "source": [],
   "metadata": {
    "collapsed": false,
    "pycharm": {
     "name": "#%%\n"
    }
   }
  }
 ],
 "metadata": {
  "kernelspec": {
   "display_name": "Python 3 (ipykernel)",
   "language": "python",
   "name": "python3"
  },
  "language_info": {
   "codemirror_mode": {
    "name": "ipython",
    "version": 3
   },
   "file_extension": ".py",
   "mimetype": "text/x-python",
   "name": "python",
   "nbconvert_exporter": "python",
   "pygments_lexer": "ipython3",
   "version": "3.9.7"
  }
 },
 "nbformat": 4,
 "nbformat_minor": 5
}