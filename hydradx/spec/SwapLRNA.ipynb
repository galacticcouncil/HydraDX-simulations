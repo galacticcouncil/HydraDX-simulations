{
 "cells": [
  {
   "cell_type": "markdown",
   "id": "3a019cad-b7a2-4bf9-b81e-5f28141864b5",
   "metadata": {},
   "source": [
    "# Swap LRNA\n",
    "Agent $\\alpha$ swaps asset $i$ with the protocol for LRNA."
   ]
  },
  {
   "cell_type": "code",
   "execution_count": 5,
   "id": "74c2097f-82ff-45a3-90d5-37dcea976d40",
   "metadata": {
    "ExecuteTime": {
     "end_time": "2023-06-16T17:38:58.073637337Z",
     "start_time": "2023-06-16T17:38:58.044598411Z"
    }
   },
   "outputs": [],
   "source": [
    "import os\n",
    "import sys\n",
    "sys.path.insert(0, os.path.abspath(os.path.join(os.path.abspath(''), '..')))\n",
    "\n",
    "import inspect\n",
    "from model.amm.omnipool_amm import swap_lrna, swap_lrna_delta_Qi, swap_lrna_delta_Ri"
   ]
  },
  {
   "cell_type": "markdown",
   "id": "51648369-2057-4905-a247-9c16ae6d58d9",
   "metadata": {},
   "source": [
    "## Constraints"
   ]
  },
  {
   "cell_type": "markdown",
   "id": "c6ee0aad-6886-461e-9f21-b0f42cf1e867",
   "metadata": {},
   "source": [
    "The swap will keep the swap invariant for asset $i$, $R_iQ_i$, constant."
   ]
  },
  {
   "cell_type": "markdown",
   "id": "ab3ff94e-e3e4-4b85-b3ab-053478d26eb2",
   "metadata": {},
   "source": [
    "## Requirements"
   ]
  },
  {
   "cell_type": "markdown",
   "id": "2734124e-af66-4b57-8592-47eccd58af50",
   "metadata": {},
   "source": [
    "#### Case 1: Asset $i$ sold\n",
    "$$\n",
    "\\Delta r^\\alpha \\leq r_i^\\alpha\n",
    "$$\n",
    "#### Case 2: LRNA sold\n",
    "$$\n",
    "-\\Delta q^\\alpha \\leq q^\\alpha\n",
    "$$"
   ]
  },
  {
   "cell_type": "markdown",
   "id": "ba781d91-49f5-4073-b5ae-511c7d1ce160",
   "metadata": {},
   "source": [
    "## Updating AMM state"
   ]
  },
  {
   "cell_type": "markdown",
   "id": "9731de03-4924-4f6b-a6ce-bdb5fdcf91a4",
   "metadata": {},
   "source": [
    "### Case 1: LRNA sold, $\\Delta q^\\alpha < 0$ specified\n",
    "\n",
    "If $-\\Delta q^\\alpha > q^\\alpha$, the user does not have enough LRNA to sell, and the transaction must fail."
   ]
  },
  {
   "cell_type": "markdown",
   "id": "4554c820-71a3-4981-92ea-3442640e4537",
   "metadata": {},
   "source": [
    "$$\n",
    "\\begin{align}\n",
    "\\Delta Q_i^t &= -\\Delta q^\\alpha\\\\\n",
    "\\Delta Q_i^m &= f_A \\left(Q + \\Delta Q_i^t\\right)\\frac{\\Delta Q_i^t}{Q}\\\\\n",
    "\\Delta Q_i &= \\Delta Q_i^t + \\Delta Q_i^m\\\\\n",
    "\\Delta R_i &= R_i\\frac{- \\Delta Q_i^t}{Q_i + \\Delta Q_i^t}(1 - f_A)\\\\\n",
    "\\Delta L &= -\\frac{\\Delta Q_i (Q + L)}{Q + \\Delta Q_i} - \\Delta Q_i\\\\\n",
    "\\Delta r_i^\\alpha &= - \\Delta R_i\\\\\n",
    "\\end{align}\n",
    "$$"
   ]
  },
  {
   "cell_type": "code",
   "execution_count": 6,
   "id": "f33e16b1-0277-4288-be82-6c289631c224",
   "metadata": {
    "ExecuteTime": {
     "end_time": "2023-06-16T17:38:58.096588049Z",
     "start_time": "2023-06-16T17:38:58.068489841Z"
    }
   },
   "outputs": [
    {
     "name": "stdout",
     "output_type": "stream",
     "text": [
      "def swap_lrna_delta_Qi(state: OmnipoolState, delta_ri: float, i: str) -> float:\n",
      "    return state.lrna[i] * (- delta_ri / (state.liquidity[i] + delta_ri))\n",
      "\n"
     ]
    }
   ],
   "source": [
    "print(inspect.getsource(swap_lrna_delta_Ri))"
   ]
  },
  {
   "cell_type": "markdown",
   "id": "539fb5d2-6b8d-43ab-b9b2-76290d10d42b",
   "metadata": {},
   "source": [
    "### Case 2: Asset $i$ bought, $\\Delta r_i^\\alpha > 0$ specified"
   ]
  },
  {
   "cell_type": "markdown",
   "id": "e92255ae-ba73-4ad4-b56a-df3ccb741f12",
   "metadata": {},
   "source": [
    "$$\n",
    "\\begin{align}\n",
    "\\Delta R_i &= -\\Delta r_i^\\alpha\\\\\n",
    "\\Delta Q_i^t &= Q_i\\frac{-\\Delta R_i}{R_i(1 - f_A) + \\Delta R_i}\\\\\n",
    "\\Delta Q_i^m &= \\frac{f_A (1 - f_A) R_i}{R_i(1 - f_A) + \\Delta R_i} \\Delta Q_i^t\\\\\n",
    "\\Delta Q_i &= \\Delta Q_i^t + \\Delta Q_i^m\\\\\n",
    "\\Delta L &= -\\frac{\\Delta Q_i (Q + L)}{Q + \\Delta Q_i} - \\Delta Q_i\\\\\n",
    "\\Delta q^\\alpha &= - \\Delta Q_i^t\\\\\n",
    "\\end{align}\n",
    "$$\n",
    "\n",
    "If $-\\Delta q^\\alpha > q^\\alpha$, the user does not have enough LRNA to sell, and the transaction must fail."
   ]
  },
  {
   "cell_type": "code",
   "execution_count": 7,
   "id": "6f056d9c-4982-4d82-9748-8d2e6cb5b2a2",
   "metadata": {
    "ExecuteTime": {
     "end_time": "2023-06-16T17:38:58.143398075Z",
     "start_time": "2023-06-16T17:38:58.074524296Z"
    }
   },
   "outputs": [
    {
     "name": "stdout",
     "output_type": "stream",
     "text": [
      "def asset_invariant(state: OmnipoolState, i: str) -> float:\n",
      "    \"\"\"Invariant for specific asset\"\"\"\n",
      "    return state.liquidity[i] * state.lrna[i]\n",
      "\n"
     ]
    }
   ],
   "source": [
    "print(inspect.getsource(swap_lrna_delta_Qi))"
   ]
  },
  {
   "cell_type": "code",
   "execution_count": 8,
   "id": "bd16beca-63b8-4864-bc1d-3decce681cb8",
   "metadata": {
    "ExecuteTime": {
     "end_time": "2023-06-16T17:38:58.144059900Z",
     "start_time": "2023-06-16T17:38:58.116900980Z"
    }
   },
   "outputs": [
    {
     "name": "stdout",
     "output_type": "stream",
     "text": [
      "def weight_i(state: OmnipoolState, i: str) -> float:\n",
      "    return state.lrna[i] / state.lrna_total\n",
      "\n"
     ]
    }
   ],
   "source": [
    "print(inspect.getsource(swap_lrna))"
   ]
  },
  {
   "cell_type": "code",
   "execution_count": 8,
   "outputs": [],
   "source": [],
   "metadata": {
    "collapsed": false,
    "ExecuteTime": {
     "end_time": "2023-06-16T17:38:58.144273343Z",
     "start_time": "2023-06-16T17:38:58.117260530Z"
    }
   }
  }
 ],
 "metadata": {
  "kernelspec": {
   "display_name": "Python 3 (ipykernel)",
   "language": "python",
   "name": "python3"
  },
  "language_info": {
   "codemirror_mode": {
    "name": "ipython",
    "version": 3
   },
   "file_extension": ".py",
   "mimetype": "text/x-python",
   "name": "python",
   "nbconvert_exporter": "python",
   "pygments_lexer": "ipython3",
   "version": "3.9.7"
  }
 },
 "nbformat": 4,
 "nbformat_minor": 5
}
