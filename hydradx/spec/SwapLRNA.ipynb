{
 "cells": [
  {
   "cell_type": "markdown",
   "id": "3a019cad-b7a2-4bf9-b81e-5f28141864b5",
   "metadata": {},
   "source": [
    "# Swap LRNA\n",
    "Agent $\\alpha$ swaps asset $i$ with the protocol for LRNA."
   ]
  },
  {
   "cell_type": "code",
   "execution_count": 1,
   "id": "74c2097f-82ff-45a3-90d5-37dcea976d40",
   "metadata": {},
   "outputs": [],
   "source": [
    "import os\n",
    "import sys\n",
    "sys.path.insert(0, os.path.abspath(os.path.join(os.path.abspath(''), '..')))\n",
    "\n",
    "import inspect\n",
    "from model.amm.omnipool_amm import swap_lrna, swap_lrna_delta_Qi, swap_lrna_delta_Ri"

   ]
  },
  {
   "cell_type": "markdown",
   "id": "51648369-2057-4905-a247-9c16ae6d58d9",
   "metadata": {},
   "source": [
    "## Constraints"
   ]
  },
  {
   "cell_type": "markdown",
   "id": "c6ee0aad-6886-461e-9f21-b0f42cf1e867",
   "metadata": {},
   "source": [
    "The swap will keep the swap invariant for asset $i$, $R_iQ_i$, constant."
   ]
  },
  {
   "cell_type": "markdown",
   "id": "ab3ff94e-e3e4-4b85-b3ab-053478d26eb2",
   "metadata": {},
   "source": [
    "## Requirements"
   ]
  },
  {
   "cell_type": "markdown",
   "id": "2734124e-af66-4b57-8592-47eccd58af50",
   "metadata": {},
   "source": [
    "#### Case 1: Asset $i$ sold\n",
    "$$\n",
    "\\Delta r^\\alpha \\leq r_i^\\alpha\n",
    "$$\n",
    "#### Case 2: LRNA sold\n",
    "$$\n",
    "-\\Delta q^\\alpha \\leq q^\\alpha\n",
    "$$"
   ]
  },
  {
   "cell_type": "markdown",
   "id": "ba781d91-49f5-4073-b5ae-511c7d1ce160",
   "metadata": {},
   "source": [
    "## Updating AMM state"
   ]
  },
  {
   "cell_type": "markdown",
   "id": "9731de03-4924-4f6b-a6ce-bdb5fdcf91a4",
   "metadata": {},
   "source": [
    "### Case 1: LRNA sold, $\\Delta q^\\alpha < 0$ specified\n",
    "\n",
    "If $-\\Delta q^\\alpha > q^\\alpha$, the user does not have enough LRNA to sell, and the transaction must fail."
   ]
  },
  {
   "cell_type": "markdown",
   "id": "4554c820-71a3-4981-92ea-3442640e4537",
   "metadata": {},
   "source": [
    "$$\n",
    "\\begin{align}\n",
    "\\Delta Q_i &= -\\Delta q^\\alpha\\\\\n",
    "\\Delta R_i &= R_i\\frac{- \\Delta Q_i}{Q_i + \\Delta Q_i}(1 - f_A)\\\\\n",
    "\\Delta L &= -\\Delta Q_i\\left(1 + (1 - f_A)\\frac{Q_i}{Q_i + \\Delta Q_i}\\right)\\\\\n",
    "\\Delta r_i^\\alpha &= - \\Delta R_i\\\\\n",
    "\\end{align}\n",
    "$$"
   ]
  },
  {
   "cell_type": "code",
   "execution_count": 2,
   "id": "f33e16b1-0277-4288-be82-6c289631c224",
   "metadata": {},
   "outputs": [
    {
     "name": "stdout",
     "output_type": "stream",
     "text": [
      "def swap_lrna_delta_Ri(old_state: dict, delta_Qi: float, i: int) -> float:\n",
      "    return old_state['R'][i] * (- delta_Qi / (old_state['Q'][i] + delta_Qi))\n",
      "\n"
     ]
    }
   ],
   "source": [
    "print(inspect.getsource(swap_lrna_delta_Ri))"
   ]
  },
  {
   "cell_type": "markdown",
   "id": "539fb5d2-6b8d-43ab-b9b2-76290d10d42b",
   "metadata": {},
   "source": [
    "### Case 2: Asset $i$ bought, $\\Delta r_i^\\alpha > 0$ specified"
   ]
  },
  {
   "cell_type": "markdown",
   "id": "e92255ae-ba73-4ad4-b56a-df3ccb741f12",
   "metadata": {},
   "source": [
    "$$\n",
    "\\begin{align}\n",
    "\\Delta R_i &= -\\Delta r_i^\\alpha\\\\\n",
    "\\Delta Q_i &= Q_i\\frac{-\\Delta R_i}{R_i(1 - f_A) + \\Delta R_i}\\\\\n",
    "\\Delta L &= -\\Delta Q_i\\left(1 + (1 - f_A)\\frac{Q_i}{Q_i + \\Delta Q_i}\\right)\\\\\n",
    "\\Delta q^\\alpha &= - \\Delta Q_i\\\\\n",
    "\\end{align}\n",
    "$$\n",
    "\n",
    "If $-\\Delta q^\\alpha > q^\\alpha$, the user does not have enough LRNA to sell, and the transaction must fail."
   ]
  },
  {
   "cell_type": "code",
   "execution_count": 3,
   "id": "6f056d9c-4982-4d82-9748-8d2e6cb5b2a2",
   "metadata": {},
   "outputs": [
    {
     "name": "stdout",
     "output_type": "stream",
     "text": [
      "def swap_lrna_delta_Qi(old_state: dict, delta_Ri: float, i: int) -> float:\n",
      "    return old_state['Q'][i] * (- delta_Ri / (old_state['R'][i] + delta_Ri))\n",
      "\n"
     ]
    }
   ],
   "source": [
    "print(inspect.getsource(swap_lrna_delta_Qi))"
   ]
  },
  {
   "cell_type": "code",
   "execution_count": 4,
   "id": "bd16beca-63b8-4864-bc1d-3decce681cb8",
   "metadata": {},
   "outputs": [
    {
     "name": "stdout",
     "output_type": "stream",
     "text": [
      "def swap_lrna(\n",
      "        old_state: dict,\n",
      "        old_agents: dict,\n",
      "        trader_id: string,\n",
      "        delta_Ra: float,\n",
      "        delta_Qa: float,\n",
      "        i: int,\n",
      "        fee_assets: float = 0,\n",
      "        fee_lrna: float = 0\n",
      ") -> tuple:\n",
      "    \"\"\"Compute new state after LRNA swap\"\"\"\n",
      "\n",
      "    if delta_Ra >= old_state['R'][i] * (1 - fee_assets):\n",
      "        # insufficient assets in pool, transaction fails\n",
      "        return old_state, old_agents\n",
      "\n",
      "    if -delta_Qa > old_agents['q']:\n",
      "        # agent doesn't have enough lrna\n",
      "        return old_state, old_agents\n",
      "\n",
      "    new_state = copy.deepcopy(old_state)\n",
      "    new_agents = copy.deepcopy(old_agents)\n",
      "\n",
      "    if delta_Qa < 0:\n",
      "        delta_Q = -delta_Qa\n",
      "        delta_R = old_state['R'][i] * -delta_Q / (delta_Q + old_state['Q'][i]) * (1 - fee_assets)\n",
      "        delta_L = -delta_Q * (1 + (1 - fee_assets) * old_state['Q'][i] / (old_state['Q'][i] + delta_Q))\n",
      "        delta_Ra = -delta_R\n",
      "    elif delta_Ra > 0:\n",
      "        delta_R = -delta_Ra\n",
      "        delta_Q = old_state['Q'][i] * -delta_R / (old_state['R'][i] * (1 - fee_assets) + delta_R)\n",
      "        delta_L = -delta_Q * (1 + (1 - fee_assets) * old_state['Q'][i] / (old_state['Q'][i] + delta_Q))\n",
      "        delta_Qa = -delta_Q\n",
      "    else:\n",
      "        # print(f'Invalid swap (delta_Qa {delta_Qa}, delta_Ra {delta_Ra}')\n",
      "        return old_state, old_agents\n",
      "\n",
      "    new_agents[trader_id]['q'] += delta_Qa\n",
      "    new_agents[trader_id]['r'][i] += delta_Ra\n",
      "    new_state['Q'][i] += delta_Q\n",
      "    new_state['R'][i] += delta_R\n",
      "    new_state['L'] += delta_L\n",
      "\n",
      "    return new_state, new_agents\n",
      "\n",
      "    # if delta_Q == 0 and delta_R != 0:\n",
      "    #     delta_Q = swap_lrna_delta_Qi(old_state, delta_R, i)\n",
      "    # elif delta_R == 0 and delta_Q != 0:\n",
      "    #     delta_R = swap_lrna_delta_Ri(old_state, delta_Q, i)\n",
      "    # else:\n",
      "    #     return new_state, new_agents\n",
      "    #\n",
      "    # # Token amounts update\n",
      "    # if delta_Q < 0:\n",
      "    #     new_state['R'][i] += delta_R\n",
      "    #     new_state['Q'][i] += delta_Q\n",
      "    #     new_agents[trader_id]['r'][i] -= delta_R\n",
      "    #     new_agents[trader_id]['q'] -= delta_Q\n",
      "    #\n",
      "    # else:\n",
      "    #     new_state['R'][i] += delta_R\n",
      "    #     new_state['Q'][i] = (old_state['Q'][i] + delta_Q) / (old_state['R'][i] + delta_R) * new_state['R'][i]\n",
      "    #     new_agents[trader_id]['r'][i] -= delta_R\n",
      "    #     new_agents[trader_id]['q'] -= delta_Q\n",
      "\n"
     ]
    }
   ],
   "source": [
    "print(inspect.getsource(swap_lrna))"
   ]
  },
  {
   "cell_type": "code",
   "execution_count": null,
   "id": "b2e739d5-22a0-4a72-a479-1337339b5d04",
   "metadata": {},
   "outputs": [],
   "source": []
  }
 ],
 "metadata": {
  "kernelspec": {
   "display_name": "Python 3 (ipykernel)",
   "language": "python",
   "name": "python3"
  },
  "language_info": {
   "codemirror_mode": {
    "name": "ipython",
    "version": 3
   },
   "file_extension": ".py",
   "mimetype": "text/x-python",
   "name": "python",
   "nbconvert_exporter": "python",
   "pygments_lexer": "ipython3",
   "version": "3.9.7"
  }
 },
 "nbformat": 4,
 "nbformat_minor": 5
}
